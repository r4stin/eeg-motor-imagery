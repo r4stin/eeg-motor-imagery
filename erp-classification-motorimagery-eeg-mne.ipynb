{
 "metadata": {
  "kernelspec": {
   "language": "python",
   "display_name": "Python 3",
   "name": "python3"
  },
  "language_info": {
   "name": "python",
   "version": "3.11.13",
   "mimetype": "text/x-python",
   "codemirror_mode": {
    "name": "ipython",
    "version": 3
   },
   "pygments_lexer": "ipython3",
   "nbconvert_exporter": "python",
   "file_extension": ".py"
  },
  "kaggle": {
   "accelerator": "gpu",
   "dataSources": [
    {
     "sourceId": 3411639,
     "sourceType": "datasetVersion",
     "datasetId": 2056438
    }
   ],
   "dockerImageVersionId": 31089,
   "isInternetEnabled": true,
   "language": "python",
   "sourceType": "notebook",
   "isGpuEnabled": true
  }
 },
 "nbformat_minor": 4,
 "nbformat": 4,
 "cells": [
  {
   "cell_type": "code",
   "source": [
    "# Install MNE in Kaggle\n",
    "!pip install -q mne"
   ],
   "metadata": {
    "_uuid": "8f2839f25d086af736a60e9eeb907d3b93b6e0e5",
    "_cell_guid": "b1076dfc-b9ad-4769-8c92-a6c4dae69d19",
    "trusted": true,
    "execution": {
     "iopub.status.busy": "2025-07-17T14:36:02.766320Z",
     "iopub.execute_input": "2025-07-17T14:36:02.766895Z",
     "iopub.status.idle": "2025-07-17T14:36:05.953235Z",
     "shell.execute_reply.started": "2025-07-17T14:36:02.766872Z",
     "shell.execute_reply": "2025-07-17T14:36:05.952182Z"
    }
   },
   "outputs": [],
   "execution_count": 46
  },
  {
   "cell_type": "code",
   "source": [
    "import os\n",
    "import mne\n",
    "import numpy as np\n",
    "\n",
    "# Root directory\n",
    "root_dir = \"/kaggle/input/eeg-motor-movementimagery-dataset/files\"\n",
    "\n",
    "# Subjects and runs to include\n",
    "subjects = [f\"S{str(i).zfill(3)}\" for i in range(1, 110)]\n",
    "valid_runs = [\"R03\", \"R04\", \"R07\", \"R08\", \"R11\", \"R12\"]\n",
    "\n",
    "# Event mapping\n",
    "event_dict = {'T1': 1, 'T2': 2}\n"
   ],
   "metadata": {
    "trusted": true,
    "execution": {
     "iopub.status.busy": "2025-07-17T14:36:46.385116Z",
     "iopub.execute_input": "2025-07-17T14:36:46.385376Z",
     "iopub.status.idle": "2025-07-17T14:36:46.390253Z",
     "shell.execute_reply.started": "2025-07-17T14:36:46.385360Z",
     "shell.execute_reply": "2025-07-17T14:36:46.389505Z"
    }
   },
   "outputs": [],
   "execution_count": 50
  },
  {
   "cell_type": "code",
   "source": [
    "all_X = []\n",
    "all_y = []\n",
    "\n",
    "motor_chs = [\n",
    "    'Fc1.', 'Fc3.', 'Fcz.', 'Fc2.', 'Fc4.',\n",
    "    'C1..', 'C3..', 'Cz..', 'C2..', 'C4..',\n",
    "    'Cp1.', 'Cp3.', 'Cpz.', 'Cp2.', 'Cp4.'\n",
    "]\n",
    "\n",
    "for subj in subjects:\n",
    "    for run in valid_runs:\n",
    "        fname = f\"{subj}{run}.edf\"\n",
    "        path = os.path.join(root_dir, subj, fname)\n",
    "        \n",
    "        if not os.path.exists(path):\n",
    "            continue\n",
    "\n",
    "        try:\n",
    "            raw = mne.io.read_raw_edf(path, preload=True, verbose=False)\n",
    "            raw.filter(1., 40., fir_design='firwin')\n",
    "\n",
    "            events, _ = mne.events_from_annotations(raw, event_id=event_dict)\n",
    "\n",
    "            if len(events) < 2:\n",
    "                continue\n",
    "\n",
    "            # Dynamic pick based on available channels\n",
    "            available_chs = raw.ch_names\n",
    "            used_chs = [ch for ch in motor_chs if ch in available_chs]\n",
    "            if len(used_chs) < 3:\n",
    "                continue  # skip if too few channels\n",
    "\n",
    "            picks = mne.pick_channels(raw.info['ch_names'], include=used_chs)\n",
    "\n",
    "            epochs = mne.Epochs(raw, events, event_id=event_dict,\n",
    "                                tmin=-0.2, tmax=0.8, picks=picks,\n",
    "                                baseline=(None, 0), preload=True, verbose=False)\n",
    "\n",
    "            # X = epochs.get_data()  # shape: (n_epochs, n_channels, time)\n",
    "            # y = epochs.events[:, 2]\n",
    "            X = epochs.get_data()  # shape: (n_epochs, n_channels, n_times)\n",
    "            y = epochs.events[:, 2]\n",
    "            \n",
    "            # Filter out epochs with mismatched time points (e.g., not 161)\n",
    "            if X.shape[2] != 161:\n",
    "                continue\n",
    "\n",
    "\n",
    "            all_X.append(X)\n",
    "            all_y.append(y)\n",
    "\n",
    "        except Exception as e:\n",
    "            print(f\"Failed on {subj}/{run}: {e}\")\n"
   ],
   "metadata": {
    "trusted": true,
    "execution": {
     "iopub.status.busy": "2025-07-17T14:36:48.634503Z",
     "iopub.execute_input": "2025-07-17T14:36:48.635368Z",
     "iopub.status.idle": "2025-07-17T14:37:57.285946Z",
     "shell.execute_reply.started": "2025-07-17T14:36:48.635341Z",
     "shell.execute_reply": "2025-07-17T14:37:57.284979Z"
    }
   },
   "outputs": [
    {
     "name": "stdout",
     "text": "Filtering raw data in 1 contiguous segment\nSetting up band-pass filter from 1 - 40 Hz\n\nFIR filter parameters\n---------------------\nDesigning a one-pass, zero-phase, non-causal bandpass filter:\n- Windowed time-domain design (firwin) method\n- Hamming window with 0.0194 passband ripple and 53 dB stopband attenuation\n- Lower passband edge: 1.00\n- Lower transition bandwidth: 1.00 Hz (-6 dB cutoff frequency: 0.50 Hz)\n- Upper passband edge: 40.00 Hz\n- Upper transition bandwidth: 10.00 Hz (-6 dB cutoff frequency: 45.00 Hz)\n- Filter length: 529 samples (3.306 s)\n\nUsed Annotations descriptions: ['T1', 'T2']\nFiltering raw data in 1 contiguous segment\nSetting up band-pass filter from 1 - 40 Hz\n\nFIR filter parameters\n---------------------\nDesigning a one-pass, zero-phase, non-causal bandpass filter:\n- Windowed time-domain design (firwin) method\n- Hamming window with 0.0194 passband ripple and 53 dB stopband attenuation\n- Lower passband edge: 1.00\n- Lower transition bandwidth: 1.00 Hz (-6 dB cutoff frequency: 0.50 Hz)\n- Upper passband edge: 40.00 Hz\n- Upper transition bandwidth: 10.00 Hz (-6 dB cutoff frequency: 45.00 Hz)\n- Filter length: 529 samples (3.306 s)\n\nUsed Annotations descriptions: ['T1', 'T2']\nFiltering raw data in 1 contiguous segment\nSetting up band-pass filter from 1 - 40 Hz\n\nFIR filter parameters\n---------------------\nDesigning a one-pass, zero-phase, non-causal bandpass filter:\n- Windowed time-domain design (firwin) method\n- Hamming window with 0.0194 passband ripple and 53 dB stopband attenuation\n- Lower passband edge: 1.00\n- Lower transition bandwidth: 1.00 Hz (-6 dB cutoff frequency: 0.50 Hz)\n- Upper passband edge: 40.00 Hz\n- Upper transition bandwidth: 10.00 Hz (-6 dB cutoff frequency: 45.00 Hz)\n- Filter length: 529 samples (3.306 s)\n\n",
     "output_type": "stream"
    },
    {
     "name": "stderr",
     "text": "[Parallel(n_jobs=1)]: Done  17 tasks      | elapsed:    0.0s\n[Parallel(n_jobs=1)]: Done  64 out of  64 | elapsed:    0.0s finished\n[Parallel(n_jobs=1)]: Done  17 tasks      | elapsed:    0.0s\n[Parallel(n_jobs=1)]: Done  64 out of  64 | elapsed:    0.0s finished\n",
     "output_type": "stream"
    },
    {
     "name": "stdout",
     "text": "Used Annotations descriptions: ['T1', 'T2']\nFiltering raw data in 1 contiguous segment\nSetting up band-pass filter from 1 - 40 Hz\n\nFIR filter parameters\n---------------------\nDesigning a one-pass, zero-phase, non-causal bandpass filter:\n- Windowed time-domain design (firwin) method\n- Hamming window with 0.0194 passband ripple and 53 dB stopband attenuation\n- Lower passband edge: 1.00\n- Lower transition bandwidth: 1.00 Hz (-6 dB cutoff frequency: 0.50 Hz)\n- Upper passband edge: 40.00 Hz\n- Upper transition bandwidth: 10.00 Hz (-6 dB cutoff frequency: 45.00 Hz)\n- Filter length: 529 samples (3.306 s)\n\nUsed Annotations descriptions: ['T1', 'T2']\nFiltering raw data in 1 contiguous segment\nSetting up band-pass filter from 1 - 40 Hz\n\nFIR filter parameters\n---------------------\nDesigning a one-pass, zero-phase, non-causal bandpass filter:\n- Windowed time-domain design (firwin) method\n- Hamming window with 0.0194 passband ripple and 53 dB stopband attenuation\n- Lower passband edge: 1.00\n- Lower transition bandwidth: 1.00 Hz (-6 dB cutoff frequency: 0.50 Hz)\n- Upper passband edge: 40.00 Hz\n- Upper transition bandwidth: 10.00 Hz (-6 dB cutoff frequency: 45.00 Hz)\n- Filter length: 529 samples (3.306 s)\n\n",
     "output_type": "stream"
    },
    {
     "name": "stderr",
     "text": "[Parallel(n_jobs=1)]: Done  17 tasks      | elapsed:    0.0s\n[Parallel(n_jobs=1)]: Done  64 out of  64 | elapsed:    0.0s finished\n[Parallel(n_jobs=1)]: Done  17 tasks      | elapsed:    0.0s\n[Parallel(n_jobs=1)]: Done  64 out of  64 | elapsed:    0.0s finished\n[Parallel(n_jobs=1)]: Done  17 tasks      | elapsed:    0.0s\n",
     "output_type": "stream"
    },
    {
     "name": "stdout",
     "text": "Used Annotations descriptions: ['T1', 'T2']\nFiltering raw data in 1 contiguous segment\nSetting up band-pass filter from 1 - 40 Hz\n\nFIR filter parameters\n---------------------\nDesigning a one-pass, zero-phase, non-causal bandpass filter:\n- Windowed time-domain design (firwin) method\n- Hamming window with 0.0194 passband ripple and 53 dB stopband attenuation\n- Lower passband edge: 1.00\n- Lower transition bandwidth: 1.00 Hz (-6 dB cutoff frequency: 0.50 Hz)\n- Upper passband edge: 40.00 Hz\n- Upper transition bandwidth: 10.00 Hz (-6 dB cutoff frequency: 45.00 Hz)\n- Filter length: 529 samples (3.306 s)\n\nUsed Annotations descriptions: ['T1', 'T2']\nFiltering raw data in 1 contiguous segment\nSetting up band-pass filter from 1 - 40 Hz\n\nFIR filter parameters\n---------------------\nDesigning a one-pass, zero-phase, non-causal bandpass filter:\n- Windowed time-domain design (firwin) method\n- Hamming window with 0.0194 passband ripple and 53 dB stopband attenuation\n- Lower passband edge: 1.00\n- Lower transition bandwidth: 1.00 Hz (-6 dB cutoff frequency: 0.50 Hz)\n- Upper passband edge: 40.00 Hz\n- Upper transition bandwidth: 10.00 Hz (-6 dB cutoff frequency: 45.00 Hz)\n- Filter length: 529 samples (3.306 s)\n\nUsed Annotations descriptions: ['T1', 'T2']\n",
     "output_type": "stream"
    },
    {
     "name": "stderr",
     "text": "[Parallel(n_jobs=1)]: Done  64 out of  64 | elapsed:    0.0s finished\n[Parallel(n_jobs=1)]: Done  17 tasks      | elapsed:    0.0s\n[Parallel(n_jobs=1)]: Done  64 out of  64 | elapsed:    0.0s finished\n[Parallel(n_jobs=1)]: Done  17 tasks      | elapsed:    0.0s\n[Parallel(n_jobs=1)]: Done  64 out of  64 | elapsed:    0.0s finished\n",
     "output_type": "stream"
    },
    {
     "name": "stdout",
     "text": "Filtering raw data in 1 contiguous segment\nSetting up band-pass filter from 1 - 40 Hz\n\nFIR filter parameters\n---------------------\nDesigning a one-pass, zero-phase, non-causal bandpass filter:\n- Windowed time-domain design (firwin) method\n- Hamming window with 0.0194 passband ripple and 53 dB stopband attenuation\n- Lower passband edge: 1.00\n- Lower transition bandwidth: 1.00 Hz (-6 dB cutoff frequency: 0.50 Hz)\n- Upper passband edge: 40.00 Hz\n- Upper transition bandwidth: 10.00 Hz (-6 dB cutoff frequency: 45.00 Hz)\n- Filter length: 529 samples (3.306 s)\n\nUsed Annotations descriptions: ['T1', 'T2']\nFiltering raw data in 1 contiguous segment\nSetting up band-pass filter from 1 - 40 Hz\n\nFIR filter parameters\n---------------------\nDesigning a one-pass, zero-phase, non-causal bandpass filter:\n- Windowed time-domain design (firwin) method\n- Hamming window with 0.0194 passband ripple and 53 dB stopband attenuation\n- Lower passband edge: 1.00\n- Lower transition bandwidth: 1.00 Hz (-6 dB cutoff frequency: 0.50 Hz)\n- Upper passband edge: 40.00 Hz\n- Upper transition bandwidth: 10.00 Hz (-6 dB cutoff frequency: 45.00 Hz)\n- Filter length: 529 samples (3.306 s)\n\nUsed Annotations descriptions: ['T1', 'T2']\nFiltering raw data in 1 contiguous segment\nSetting up band-pass filter from 1 - 40 Hz\n\nFIR filter parameters\n---------------------\nDesigning a one-pass, zero-phase, non-causal bandpass filter:\n- Windowed time-domain design (firwin) method\n- Hamming window with 0.0194 passband ripple and 53 dB stopband attenuation\n- Lower passband edge: 1.00\n- Lower transition bandwidth: 1.00 Hz (-6 dB cutoff frequency: 0.50 Hz)\n- Upper passband edge: 40.00 Hz\n- Upper transition bandwidth: 10.00 Hz (-6 dB cutoff frequency: 45.00 Hz)\n- Filter length: 529 samples (3.306 s)\n\n",
     "output_type": "stream"
    },
    {
     "name": "stderr",
     "text": "[Parallel(n_jobs=1)]: Done  17 tasks      | elapsed:    0.0s\n[Parallel(n_jobs=1)]: Done  64 out of  64 | elapsed:    0.0s finished\n[Parallel(n_jobs=1)]: Done  17 tasks      | elapsed:    0.0s\n[Parallel(n_jobs=1)]: Done  64 out of  64 | elapsed:    0.0s finished\n[Parallel(n_jobs=1)]: Done  17 tasks      | elapsed:    0.0s\n",
     "output_type": "stream"
    },
    {
     "name": "stdout",
     "text": "Used Annotations descriptions: ['T1', 'T2']\nFiltering raw data in 1 contiguous segment\nSetting up band-pass filter from 1 - 40 Hz\n\nFIR filter parameters\n---------------------\nDesigning a one-pass, zero-phase, non-causal bandpass filter:\n- Windowed time-domain design (firwin) method\n- Hamming window with 0.0194 passband ripple and 53 dB stopband attenuation\n- Lower passband edge: 1.00\n- Lower transition bandwidth: 1.00 Hz (-6 dB cutoff frequency: 0.50 Hz)\n- Upper passband edge: 40.00 Hz\n- Upper transition bandwidth: 10.00 Hz (-6 dB cutoff frequency: 45.00 Hz)\n- Filter length: 529 samples (3.306 s)\n\nUsed Annotations descriptions: ['T1', 'T2']\nFiltering raw data in 1 contiguous segment\nSetting up band-pass filter from 1 - 40 Hz\n\nFIR filter parameters\n---------------------\nDesigning a one-pass, zero-phase, non-causal bandpass filter:\n- Windowed time-domain design (firwin) method\n- Hamming window with 0.0194 passband ripple and 53 dB stopband attenuation\n- Lower passband edge: 1.00\n- Lower transition bandwidth: 1.00 Hz (-6 dB cutoff frequency: 0.50 Hz)\n- Upper passband edge: 40.00 Hz\n- Upper transition bandwidth: 10.00 Hz (-6 dB cutoff frequency: 45.00 Hz)\n- Filter length: 529 samples (3.306 s)\n\nUsed Annotations descriptions: ['T1', 'T2']\n",
     "output_type": "stream"
    },
    {
     "name": "stderr",
     "text": "[Parallel(n_jobs=1)]: Done  64 out of  64 | elapsed:    0.0s finished\n[Parallel(n_jobs=1)]: Done  17 tasks      | elapsed:    0.0s\n[Parallel(n_jobs=1)]: Done  64 out of  64 | elapsed:    0.0s finished\n[Parallel(n_jobs=1)]: Done  17 tasks      | elapsed:    0.0s\n[Parallel(n_jobs=1)]: Done  64 out of  64 | elapsed:    0.0s finished\n",
     "output_type": "stream"
    },
    {
     "name": "stdout",
     "text": "Filtering raw data in 1 contiguous segment\nSetting up band-pass filter from 1 - 40 Hz\n\nFIR filter parameters\n---------------------\nDesigning a one-pass, zero-phase, non-causal bandpass filter:\n- Windowed time-domain design (firwin) method\n- Hamming window with 0.0194 passband ripple and 53 dB stopband attenuation\n- Lower passband edge: 1.00\n- Lower transition bandwidth: 1.00 Hz (-6 dB cutoff frequency: 0.50 Hz)\n- Upper passband edge: 40.00 Hz\n- Upper transition bandwidth: 10.00 Hz (-6 dB cutoff frequency: 45.00 Hz)\n- Filter length: 529 samples (3.306 s)\n\nUsed Annotations descriptions: ['T1', 'T2']\nFiltering raw data in 1 contiguous segment\nSetting up band-pass filter from 1 - 40 Hz\n\nFIR filter parameters\n---------------------\nDesigning a one-pass, zero-phase, non-causal bandpass filter:\n- Windowed time-domain design (firwin) method\n- Hamming window with 0.0194 passband ripple and 53 dB stopband attenuation\n- Lower passband edge: 1.00\n- Lower transition bandwidth: 1.00 Hz (-6 dB cutoff frequency: 0.50 Hz)\n- Upper passband edge: 40.00 Hz\n- Upper transition bandwidth: 10.00 Hz (-6 dB cutoff frequency: 45.00 Hz)\n- Filter length: 529 samples (3.306 s)\n\nUsed Annotations descriptions: ['T1', 'T2']\nFiltering raw data in 1 contiguous segment\nSetting up band-pass filter from 1 - 40 Hz\n\nFIR filter parameters\n---------------------\nDesigning a one-pass, zero-phase, non-causal bandpass filter:\n- Windowed time-domain design (firwin) method\n- Hamming window with 0.0194 passband ripple and 53 dB stopband attenuation\n- Lower passband edge: 1.00\n- Lower transition bandwidth: 1.00 Hz (-6 dB cutoff frequency: 0.50 Hz)\n- Upper passband edge: 40.00 Hz\n- Upper transition bandwidth: 10.00 Hz (-6 dB cutoff frequency: 45.00 Hz)\n- Filter length: 529 samples (3.306 s)\n\n",
     "output_type": "stream"
    },
    {
     "name": "stderr",
     "text": "[Parallel(n_jobs=1)]: Done  17 tasks      | elapsed:    0.0s\n[Parallel(n_jobs=1)]: Done  64 out of  64 | elapsed:    0.0s finished\n[Parallel(n_jobs=1)]: Done  17 tasks      | elapsed:    0.0s\n[Parallel(n_jobs=1)]: Done  64 out of  64 | elapsed:    0.0s finished\n[Parallel(n_jobs=1)]: Done  17 tasks      | elapsed:    0.0s\n",
     "output_type": "stream"
    },
    {
     "name": "stdout",
     "text": "Used Annotations descriptions: ['T1', 'T2']\nFiltering raw data in 1 contiguous segment\nSetting up band-pass filter from 1 - 40 Hz\n\nFIR filter parameters\n---------------------\nDesigning a one-pass, zero-phase, non-causal bandpass filter:\n- Windowed time-domain design (firwin) method\n- Hamming window with 0.0194 passband ripple and 53 dB stopband attenuation\n- Lower passband edge: 1.00\n- Lower transition bandwidth: 1.00 Hz (-6 dB cutoff frequency: 0.50 Hz)\n- Upper passband edge: 40.00 Hz\n- Upper transition bandwidth: 10.00 Hz (-6 dB cutoff frequency: 45.00 Hz)\n- Filter length: 529 samples (3.306 s)\n\nUsed Annotations descriptions: ['T1', 'T2']\nFiltering raw data in 1 contiguous segment\nSetting up band-pass filter from 1 - 40 Hz\n\nFIR filter parameters\n---------------------\nDesigning a one-pass, zero-phase, non-causal bandpass filter:\n- Windowed time-domain design (firwin) method\n- Hamming window with 0.0194 passband ripple and 53 dB stopband attenuation\n- Lower passband edge: 1.00\n- Lower transition bandwidth: 1.00 Hz (-6 dB cutoff frequency: 0.50 Hz)\n- Upper passband edge: 40.00 Hz\n- Upper transition bandwidth: 10.00 Hz (-6 dB cutoff frequency: 45.00 Hz)\n- Filter length: 529 samples (3.306 s)\n\nUsed Annotations descriptions: ['T1', 'T2']\n",
     "output_type": "stream"
    },
    {
     "name": "stderr",
     "text": "[Parallel(n_jobs=1)]: Done  64 out of  64 | elapsed:    0.0s finished\n[Parallel(n_jobs=1)]: Done  17 tasks      | elapsed:    0.0s\n[Parallel(n_jobs=1)]: Done  64 out of  64 | elapsed:    0.0s finished\n[Parallel(n_jobs=1)]: Done  17 tasks      | elapsed:    0.0s\n[Parallel(n_jobs=1)]: Done  64 out of  64 | elapsed:    0.0s finished\n",
     "output_type": "stream"
    },
    {
     "name": "stdout",
     "text": "Filtering raw data in 1 contiguous segment\nSetting up band-pass filter from 1 - 40 Hz\n\nFIR filter parameters\n---------------------\nDesigning a one-pass, zero-phase, non-causal bandpass filter:\n- Windowed time-domain design (firwin) method\n- Hamming window with 0.0194 passband ripple and 53 dB stopband attenuation\n- Lower passband edge: 1.00\n- Lower transition bandwidth: 1.00 Hz (-6 dB cutoff frequency: 0.50 Hz)\n- Upper passband edge: 40.00 Hz\n- Upper transition bandwidth: 10.00 Hz (-6 dB cutoff frequency: 45.00 Hz)\n- Filter length: 529 samples (3.306 s)\n\nUsed Annotations descriptions: ['T1', 'T2']\nFiltering raw data in 1 contiguous segment\nSetting up band-pass filter from 1 - 40 Hz\n\nFIR filter parameters\n---------------------\nDesigning a one-pass, zero-phase, non-causal bandpass filter:\n- Windowed time-domain design (firwin) method\n- Hamming window with 0.0194 passband ripple and 53 dB stopband attenuation\n- Lower passband edge: 1.00\n- Lower transition bandwidth: 1.00 Hz (-6 dB cutoff frequency: 0.50 Hz)\n- Upper passband edge: 40.00 Hz\n- Upper transition bandwidth: 10.00 Hz (-6 dB cutoff frequency: 45.00 Hz)\n- Filter length: 529 samples (3.306 s)\n\nUsed Annotations descriptions: ['T1', 'T2']\nFiltering raw data in 1 contiguous segment\nSetting up band-pass filter from 1 - 40 Hz\n\nFIR filter parameters\n---------------------\nDesigning a one-pass, zero-phase, non-causal bandpass filter:\n- Windowed time-domain design (firwin) method\n- Hamming window with 0.0194 passband ripple and 53 dB stopband attenuation\n- Lower passband edge: 1.00\n- Lower transition bandwidth: 1.00 Hz (-6 dB cutoff frequency: 0.50 Hz)\n- Upper passband edge: 40.00 Hz\n- Upper transition bandwidth: 10.00 Hz (-6 dB cutoff frequency: 45.00 Hz)\n- Filter length: 529 samples (3.306 s)\n\n",
     "output_type": "stream"
    },
    {
     "name": "stderr",
     "text": "[Parallel(n_jobs=1)]: Done  17 tasks      | elapsed:    0.0s\n[Parallel(n_jobs=1)]: Done  64 out of  64 | elapsed:    0.0s finished\n[Parallel(n_jobs=1)]: Done  17 tasks      | elapsed:    0.0s\n[Parallel(n_jobs=1)]: Done  64 out of  64 | elapsed:    0.0s finished\n[Parallel(n_jobs=1)]: Done  17 tasks      | elapsed:    0.0s\n",
     "output_type": "stream"
    },
    {
     "name": "stdout",
     "text": "Used Annotations descriptions: ['T1', 'T2']\nFiltering raw data in 1 contiguous segment\nSetting up band-pass filter from 1 - 40 Hz\n\nFIR filter parameters\n---------------------\nDesigning a one-pass, zero-phase, non-causal bandpass filter:\n- Windowed time-domain design (firwin) method\n- Hamming window with 0.0194 passband ripple and 53 dB stopband attenuation\n- Lower passband edge: 1.00\n- Lower transition bandwidth: 1.00 Hz (-6 dB cutoff frequency: 0.50 Hz)\n- Upper passband edge: 40.00 Hz\n- Upper transition bandwidth: 10.00 Hz (-6 dB cutoff frequency: 45.00 Hz)\n- Filter length: 529 samples (3.306 s)\n\nUsed Annotations descriptions: ['T1', 'T2']\nFiltering raw data in 1 contiguous segment\nSetting up band-pass filter from 1 - 40 Hz\n\nFIR filter parameters\n---------------------\nDesigning a one-pass, zero-phase, non-causal bandpass filter:\n- Windowed time-domain design (firwin) method\n- Hamming window with 0.0194 passband ripple and 53 dB stopband attenuation\n- Lower passband edge: 1.00\n- Lower transition bandwidth: 1.00 Hz (-6 dB cutoff frequency: 0.50 Hz)\n- Upper passband edge: 40.00 Hz\n- Upper transition bandwidth: 10.00 Hz (-6 dB cutoff frequency: 45.00 Hz)\n- Filter length: 529 samples (3.306 s)\n\nUsed Annotations descriptions: ['T1', 'T2']\n",
     "output_type": "stream"
    },
    {
     "name": "stderr",
     "text": "[Parallel(n_jobs=1)]: Done  64 out of  64 | elapsed:    0.0s finished\n[Parallel(n_jobs=1)]: Done  17 tasks      | elapsed:    0.0s\n[Parallel(n_jobs=1)]: Done  64 out of  64 | elapsed:    0.0s finished\n[Parallel(n_jobs=1)]: Done  17 tasks      | elapsed:    0.0s\n[Parallel(n_jobs=1)]: Done  64 out of  64 | elapsed:    0.0s finished\n",
     "output_type": "stream"
    },
    {
     "name": "stdout",
     "text": "Filtering raw data in 1 contiguous segment\nSetting up band-pass filter from 1 - 40 Hz\n\nFIR filter parameters\n---------------------\nDesigning a one-pass, zero-phase, non-causal bandpass filter:\n- Windowed time-domain design (firwin) method\n- Hamming window with 0.0194 passband ripple and 53 dB stopband attenuation\n- Lower passband edge: 1.00\n- Lower transition bandwidth: 1.00 Hz (-6 dB cutoff frequency: 0.50 Hz)\n- Upper passband edge: 40.00 Hz\n- Upper transition bandwidth: 10.00 Hz (-6 dB cutoff frequency: 45.00 Hz)\n- Filter length: 529 samples (3.306 s)\n\nUsed Annotations descriptions: ['T1', 'T2']\nFiltering raw data in 1 contiguous segment\nSetting up band-pass filter from 1 - 40 Hz\n\nFIR filter parameters\n---------------------\nDesigning a one-pass, zero-phase, non-causal bandpass filter:\n- Windowed time-domain design (firwin) method\n- Hamming window with 0.0194 passband ripple and 53 dB stopband attenuation\n- Lower passband edge: 1.00\n- Lower transition bandwidth: 1.00 Hz (-6 dB cutoff frequency: 0.50 Hz)\n- Upper passband edge: 40.00 Hz\n- Upper transition bandwidth: 10.00 Hz (-6 dB cutoff frequency: 45.00 Hz)\n- Filter length: 529 samples (3.306 s)\n\nUsed Annotations descriptions: ['T1', 'T2']\nFiltering raw data in 1 contiguous segment\nSetting up band-pass filter from 1 - 40 Hz\n\nFIR filter parameters\n---------------------\nDesigning a one-pass, zero-phase, non-causal bandpass filter:\n- Windowed time-domain design (firwin) method\n- Hamming window with 0.0194 passband ripple and 53 dB stopband attenuation\n- Lower passband edge: 1.00\n- Lower transition bandwidth: 1.00 Hz (-6 dB cutoff frequency: 0.50 Hz)\n- Upper passband edge: 40.00 Hz\n- Upper transition bandwidth: 10.00 Hz (-6 dB cutoff frequency: 45.00 Hz)\n- Filter length: 529 samples (3.306 s)\n\n",
     "output_type": "stream"
    },
    {
     "name": "stderr",
     "text": "[Parallel(n_jobs=1)]: Done  17 tasks      | elapsed:    0.0s\n[Parallel(n_jobs=1)]: Done  64 out of  64 | elapsed:    0.0s finished\n[Parallel(n_jobs=1)]: Done  17 tasks      | elapsed:    0.0s\n[Parallel(n_jobs=1)]: Done  64 out of  64 | elapsed:    0.0s finished\n[Parallel(n_jobs=1)]: Done  17 tasks      | elapsed:    0.0s\n",
     "output_type": "stream"
    },
    {
     "name": "stdout",
     "text": "Used Annotations descriptions: ['T1', 'T2']\nFiltering raw data in 1 contiguous segment\nSetting up band-pass filter from 1 - 40 Hz\n\nFIR filter parameters\n---------------------\nDesigning a one-pass, zero-phase, non-causal bandpass filter:\n- Windowed time-domain design (firwin) method\n- Hamming window with 0.0194 passband ripple and 53 dB stopband attenuation\n- Lower passband edge: 1.00\n- Lower transition bandwidth: 1.00 Hz (-6 dB cutoff frequency: 0.50 Hz)\n- Upper passband edge: 40.00 Hz\n- Upper transition bandwidth: 10.00 Hz (-6 dB cutoff frequency: 45.00 Hz)\n- Filter length: 529 samples (3.306 s)\n\nUsed Annotations descriptions: ['T1', 'T2']\nFiltering raw data in 1 contiguous segment\nSetting up band-pass filter from 1 - 40 Hz\n\nFIR filter parameters\n---------------------\nDesigning a one-pass, zero-phase, non-causal bandpass filter:\n- Windowed time-domain design (firwin) method\n- Hamming window with 0.0194 passband ripple and 53 dB stopband attenuation\n- Lower passband edge: 1.00\n- Lower transition bandwidth: 1.00 Hz (-6 dB cutoff frequency: 0.50 Hz)\n- Upper passband edge: 40.00 Hz\n- Upper transition bandwidth: 10.00 Hz (-6 dB cutoff frequency: 45.00 Hz)\n- Filter length: 529 samples (3.306 s)\n\n",
     "output_type": "stream"
    },
    {
     "name": "stderr",
     "text": "[Parallel(n_jobs=1)]: Done  64 out of  64 | elapsed:    0.0s finished\n[Parallel(n_jobs=1)]: Done  17 tasks      | elapsed:    0.0s\n[Parallel(n_jobs=1)]: Done  64 out of  64 | elapsed:    0.0s finished\n[Parallel(n_jobs=1)]: Done  17 tasks      | elapsed:    0.0s\n[Parallel(n_jobs=1)]: Done  64 out of  64 | elapsed:    0.0s finished\n",
     "output_type": "stream"
    },
    {
     "name": "stdout",
     "text": "Used Annotations descriptions: ['T1', 'T2']\nFiltering raw data in 1 contiguous segment\nSetting up band-pass filter from 1 - 40 Hz\n\nFIR filter parameters\n---------------------\nDesigning a one-pass, zero-phase, non-causal bandpass filter:\n- Windowed time-domain design (firwin) method\n- Hamming window with 0.0194 passband ripple and 53 dB stopband attenuation\n- Lower passband edge: 1.00\n- Lower transition bandwidth: 1.00 Hz (-6 dB cutoff frequency: 0.50 Hz)\n- Upper passband edge: 40.00 Hz\n- Upper transition bandwidth: 10.00 Hz (-6 dB cutoff frequency: 45.00 Hz)\n- Filter length: 529 samples (3.306 s)\n\nUsed Annotations descriptions: ['T1', 'T2']\nFiltering raw data in 1 contiguous segment\nSetting up band-pass filter from 1 - 40 Hz\n\nFIR filter parameters\n---------------------\nDesigning a one-pass, zero-phase, non-causal bandpass filter:\n- Windowed time-domain design (firwin) method\n- Hamming window with 0.0194 passband ripple and 53 dB stopband attenuation\n- Lower passband edge: 1.00\n- Lower transition bandwidth: 1.00 Hz (-6 dB cutoff frequency: 0.50 Hz)\n- Upper passband edge: 40.00 Hz\n- Upper transition bandwidth: 10.00 Hz (-6 dB cutoff frequency: 45.00 Hz)\n- Filter length: 529 samples (3.306 s)\n\nUsed Annotations descriptions: ['T1', 'T2']\nFiltering raw data in 1 contiguous segment\nSetting up band-pass filter from 1 - 40 Hz\n\nFIR filter parameters\n---------------------\nDesigning a one-pass, zero-phase, non-causal bandpass filter:\n- Windowed time-domain design (firwin) method\n- Hamming window with 0.0194 passband ripple and 53 dB stopband attenuation\n- Lower passband edge: 1.00\n- Lower transition bandwidth: 1.00 Hz (-6 dB cutoff frequency: 0.50 Hz)\n- Upper passband edge: 40.00 Hz\n- Upper transition bandwidth: 10.00 Hz (-6 dB cutoff frequency: 45.00 Hz)\n- Filter length: 529 samples (3.306 s)\n\n",
     "output_type": "stream"
    },
    {
     "name": "stderr",
     "text": "[Parallel(n_jobs=1)]: Done  17 tasks      | elapsed:    0.0s\n[Parallel(n_jobs=1)]: Done  64 out of  64 | elapsed:    0.0s finished\n[Parallel(n_jobs=1)]: Done  17 tasks      | elapsed:    0.0s\n[Parallel(n_jobs=1)]: Done  64 out of  64 | elapsed:    0.0s finished\n[Parallel(n_jobs=1)]: Done  17 tasks      | elapsed:    0.0s\n",
     "output_type": "stream"
    },
    {
     "name": "stdout",
     "text": "Used Annotations descriptions: ['T1', 'T2']\nFiltering raw data in 1 contiguous segment\nSetting up band-pass filter from 1 - 40 Hz\n\nFIR filter parameters\n---------------------\nDesigning a one-pass, zero-phase, non-causal bandpass filter:\n- Windowed time-domain design (firwin) method\n- Hamming window with 0.0194 passband ripple and 53 dB stopband attenuation\n- Lower passband edge: 1.00\n- Lower transition bandwidth: 1.00 Hz (-6 dB cutoff frequency: 0.50 Hz)\n- Upper passband edge: 40.00 Hz\n- Upper transition bandwidth: 10.00 Hz (-6 dB cutoff frequency: 45.00 Hz)\n- Filter length: 529 samples (3.306 s)\n\nUsed Annotations descriptions: ['T1', 'T2']\nFiltering raw data in 1 contiguous segment\nSetting up band-pass filter from 1 - 40 Hz\n\nFIR filter parameters\n---------------------\nDesigning a one-pass, zero-phase, non-causal bandpass filter:\n- Windowed time-domain design (firwin) method\n- Hamming window with 0.0194 passband ripple and 53 dB stopband attenuation\n- Lower passband edge: 1.00\n- Lower transition bandwidth: 1.00 Hz (-6 dB cutoff frequency: 0.50 Hz)\n- Upper passband edge: 40.00 Hz\n- Upper transition bandwidth: 10.00 Hz (-6 dB cutoff frequency: 45.00 Hz)\n- Filter length: 529 samples (3.306 s)\n\n",
     "output_type": "stream"
    },
    {
     "name": "stderr",
     "text": "[Parallel(n_jobs=1)]: Done  64 out of  64 | elapsed:    0.0s finished\n[Parallel(n_jobs=1)]: Done  17 tasks      | elapsed:    0.0s\n[Parallel(n_jobs=1)]: Done  64 out of  64 | elapsed:    0.0s finished\n[Parallel(n_jobs=1)]: Done  17 tasks      | elapsed:    0.0s\n",
     "output_type": "stream"
    },
    {
     "name": "stdout",
     "text": "Used Annotations descriptions: ['T1', 'T2']\nFiltering raw data in 1 contiguous segment\nSetting up band-pass filter from 1 - 40 Hz\n\nFIR filter parameters\n---------------------\nDesigning a one-pass, zero-phase, non-causal bandpass filter:\n- Windowed time-domain design (firwin) method\n- Hamming window with 0.0194 passband ripple and 53 dB stopband attenuation\n- Lower passband edge: 1.00\n- Lower transition bandwidth: 1.00 Hz (-6 dB cutoff frequency: 0.50 Hz)\n- Upper passband edge: 40.00 Hz\n- Upper transition bandwidth: 10.00 Hz (-6 dB cutoff frequency: 45.00 Hz)\n- Filter length: 529 samples (3.306 s)\n\nUsed Annotations descriptions: ['T1', 'T2']\nFiltering raw data in 1 contiguous segment\nSetting up band-pass filter from 1 - 40 Hz\n\nFIR filter parameters\n---------------------\nDesigning a one-pass, zero-phase, non-causal bandpass filter:\n- Windowed time-domain design (firwin) method\n- Hamming window with 0.0194 passband ripple and 53 dB stopband attenuation\n- Lower passband edge: 1.00\n- Lower transition bandwidth: 1.00 Hz (-6 dB cutoff frequency: 0.50 Hz)\n- Upper passband edge: 40.00 Hz\n- Upper transition bandwidth: 10.00 Hz (-6 dB cutoff frequency: 45.00 Hz)\n- Filter length: 529 samples (3.306 s)\n\nUsed Annotations descriptions: ['T1', 'T2']\n",
     "output_type": "stream"
    },
    {
     "name": "stderr",
     "text": "[Parallel(n_jobs=1)]: Done  64 out of  64 | elapsed:    0.1s finished\n[Parallel(n_jobs=1)]: Done  17 tasks      | elapsed:    0.0s\n[Parallel(n_jobs=1)]: Done  64 out of  64 | elapsed:    0.0s finished\n[Parallel(n_jobs=1)]: Done  17 tasks      | elapsed:    0.0s\n[Parallel(n_jobs=1)]: Done  64 out of  64 | elapsed:    0.0s finished\n",
     "output_type": "stream"
    },
    {
     "name": "stdout",
     "text": "Filtering raw data in 1 contiguous segment\nSetting up band-pass filter from 1 - 40 Hz\n\nFIR filter parameters\n---------------------\nDesigning a one-pass, zero-phase, non-causal bandpass filter:\n- Windowed time-domain design (firwin) method\n- Hamming window with 0.0194 passband ripple and 53 dB stopband attenuation\n- Lower passband edge: 1.00\n- Lower transition bandwidth: 1.00 Hz (-6 dB cutoff frequency: 0.50 Hz)\n- Upper passband edge: 40.00 Hz\n- Upper transition bandwidth: 10.00 Hz (-6 dB cutoff frequency: 45.00 Hz)\n- Filter length: 529 samples (3.306 s)\n\nUsed Annotations descriptions: ['T1', 'T2']\nFiltering raw data in 1 contiguous segment\nSetting up band-pass filter from 1 - 40 Hz\n\nFIR filter parameters\n---------------------\nDesigning a one-pass, zero-phase, non-causal bandpass filter:\n- Windowed time-domain design (firwin) method\n- Hamming window with 0.0194 passband ripple and 53 dB stopband attenuation\n- Lower passband edge: 1.00\n- Lower transition bandwidth: 1.00 Hz (-6 dB cutoff frequency: 0.50 Hz)\n- Upper passband edge: 40.00 Hz\n- Upper transition bandwidth: 10.00 Hz (-6 dB cutoff frequency: 45.00 Hz)\n- Filter length: 529 samples (3.306 s)\n\nUsed Annotations descriptions: ['T1', 'T2']\nFiltering raw data in 1 contiguous segment\nSetting up band-pass filter from 1 - 40 Hz\n\nFIR filter parameters\n---------------------\nDesigning a one-pass, zero-phase, non-causal bandpass filter:\n- Windowed time-domain design (firwin) method\n- Hamming window with 0.0194 passband ripple and 53 dB stopband attenuation\n- Lower passband edge: 1.00\n- Lower transition bandwidth: 1.00 Hz (-6 dB cutoff frequency: 0.50 Hz)\n- Upper passband edge: 40.00 Hz\n- Upper transition bandwidth: 10.00 Hz (-6 dB cutoff frequency: 45.00 Hz)\n- Filter length: 529 samples (3.306 s)\n\n",
     "output_type": "stream"
    },
    {
     "name": "stderr",
     "text": "[Parallel(n_jobs=1)]: Done  17 tasks      | elapsed:    0.0s\n[Parallel(n_jobs=1)]: Done  64 out of  64 | elapsed:    0.0s finished\n[Parallel(n_jobs=1)]: Done  17 tasks      | elapsed:    0.0s\n[Parallel(n_jobs=1)]: Done  64 out of  64 | elapsed:    0.0s finished\n[Parallel(n_jobs=1)]: Done  17 tasks      | elapsed:    0.0s\n",
     "output_type": "stream"
    },
    {
     "name": "stdout",
     "text": "Used Annotations descriptions: ['T1', 'T2']\nFiltering raw data in 1 contiguous segment\nSetting up band-pass filter from 1 - 40 Hz\n\nFIR filter parameters\n---------------------\nDesigning a one-pass, zero-phase, non-causal bandpass filter:\n- Windowed time-domain design (firwin) method\n- Hamming window with 0.0194 passband ripple and 53 dB stopband attenuation\n- Lower passband edge: 1.00\n- Lower transition bandwidth: 1.00 Hz (-6 dB cutoff frequency: 0.50 Hz)\n- Upper passband edge: 40.00 Hz\n- Upper transition bandwidth: 10.00 Hz (-6 dB cutoff frequency: 45.00 Hz)\n- Filter length: 529 samples (3.306 s)\n\nUsed Annotations descriptions: ['T1', 'T2']\nFiltering raw data in 1 contiguous segment\nSetting up band-pass filter from 1 - 40 Hz\n\nFIR filter parameters\n---------------------\nDesigning a one-pass, zero-phase, non-causal bandpass filter:\n- Windowed time-domain design (firwin) method\n- Hamming window with 0.0194 passband ripple and 53 dB stopband attenuation\n- Lower passband edge: 1.00\n- Lower transition bandwidth: 1.00 Hz (-6 dB cutoff frequency: 0.50 Hz)\n- Upper passband edge: 40.00 Hz\n- Upper transition bandwidth: 10.00 Hz (-6 dB cutoff frequency: 45.00 Hz)\n- Filter length: 529 samples (3.306 s)\n\nUsed Annotations descriptions: ['T1', 'T2']\n",
     "output_type": "stream"
    },
    {
     "name": "stderr",
     "text": "[Parallel(n_jobs=1)]: Done  64 out of  64 | elapsed:    0.0s finished\n[Parallel(n_jobs=1)]: Done  17 tasks      | elapsed:    0.0s\n[Parallel(n_jobs=1)]: Done  64 out of  64 | elapsed:    0.0s finished\n[Parallel(n_jobs=1)]: Done  17 tasks      | elapsed:    0.0s\n[Parallel(n_jobs=1)]: Done  64 out of  64 | elapsed:    0.0s finished\n",
     "output_type": "stream"
    },
    {
     "name": "stdout",
     "text": "Filtering raw data in 1 contiguous segment\nSetting up band-pass filter from 1 - 40 Hz\n\nFIR filter parameters\n---------------------\nDesigning a one-pass, zero-phase, non-causal bandpass filter:\n- Windowed time-domain design (firwin) method\n- Hamming window with 0.0194 passband ripple and 53 dB stopband attenuation\n- Lower passband edge: 1.00\n- Lower transition bandwidth: 1.00 Hz (-6 dB cutoff frequency: 0.50 Hz)\n- Upper passband edge: 40.00 Hz\n- Upper transition bandwidth: 10.00 Hz (-6 dB cutoff frequency: 45.00 Hz)\n- Filter length: 529 samples (3.306 s)\n\nUsed Annotations descriptions: ['T1', 'T2']\nFiltering raw data in 1 contiguous segment\nSetting up band-pass filter from 1 - 40 Hz\n\nFIR filter parameters\n---------------------\nDesigning a one-pass, zero-phase, non-causal bandpass filter:\n- Windowed time-domain design (firwin) method\n- Hamming window with 0.0194 passband ripple and 53 dB stopband attenuation\n- Lower passband edge: 1.00\n- Lower transition bandwidth: 1.00 Hz (-6 dB cutoff frequency: 0.50 Hz)\n- Upper passband edge: 40.00 Hz\n- Upper transition bandwidth: 10.00 Hz (-6 dB cutoff frequency: 45.00 Hz)\n- Filter length: 529 samples (3.306 s)\n\nUsed Annotations descriptions: ['T1', 'T2']\nFiltering raw data in 1 contiguous segment\nSetting up band-pass filter from 1 - 40 Hz\n\nFIR filter parameters\n---------------------\nDesigning a one-pass, zero-phase, non-causal bandpass filter:\n- Windowed time-domain design (firwin) method\n- Hamming window with 0.0194 passband ripple and 53 dB stopband attenuation\n- Lower passband edge: 1.00\n- Lower transition bandwidth: 1.00 Hz (-6 dB cutoff frequency: 0.50 Hz)\n- Upper passband edge: 40.00 Hz\n- Upper transition bandwidth: 10.00 Hz (-6 dB cutoff frequency: 45.00 Hz)\n- Filter length: 529 samples (3.306 s)\n\n",
     "output_type": "stream"
    },
    {
     "name": "stderr",
     "text": "[Parallel(n_jobs=1)]: Done  17 tasks      | elapsed:    0.0s\n[Parallel(n_jobs=1)]: Done  64 out of  64 | elapsed:    0.0s finished\n[Parallel(n_jobs=1)]: Done  17 tasks      | elapsed:    0.0s\n[Parallel(n_jobs=1)]: Done  64 out of  64 | elapsed:    0.0s finished\n",
     "output_type": "stream"
    },
    {
     "name": "stdout",
     "text": "Used Annotations descriptions: ['T1', 'T2']\nFiltering raw data in 1 contiguous segment\nSetting up band-pass filter from 1 - 40 Hz\n\nFIR filter parameters\n---------------------\nDesigning a one-pass, zero-phase, non-causal bandpass filter:\n- Windowed time-domain design (firwin) method\n- Hamming window with 0.0194 passband ripple and 53 dB stopband attenuation\n- Lower passband edge: 1.00\n- Lower transition bandwidth: 1.00 Hz (-6 dB cutoff frequency: 0.50 Hz)\n- Upper passband edge: 40.00 Hz\n- Upper transition bandwidth: 10.00 Hz (-6 dB cutoff frequency: 45.00 Hz)\n- Filter length: 529 samples (3.306 s)\n\nUsed Annotations descriptions: ['T1', 'T2']\nFiltering raw data in 1 contiguous segment\nSetting up band-pass filter from 1 - 40 Hz\n\nFIR filter parameters\n---------------------\nDesigning a one-pass, zero-phase, non-causal bandpass filter:\n- Windowed time-domain design (firwin) method\n- Hamming window with 0.0194 passband ripple and 53 dB stopband attenuation\n- Lower passband edge: 1.00\n- Lower transition bandwidth: 1.00 Hz (-6 dB cutoff frequency: 0.50 Hz)\n- Upper passband edge: 40.00 Hz\n- Upper transition bandwidth: 10.00 Hz (-6 dB cutoff frequency: 45.00 Hz)\n- Filter length: 529 samples (3.306 s)\n\n",
     "output_type": "stream"
    },
    {
     "name": "stderr",
     "text": "[Parallel(n_jobs=1)]: Done  17 tasks      | elapsed:    0.0s\n[Parallel(n_jobs=1)]: Done  64 out of  64 | elapsed:    0.1s finished\n[Parallel(n_jobs=1)]: Done  17 tasks      | elapsed:    0.0s\n[Parallel(n_jobs=1)]: Done  64 out of  64 | elapsed:    0.0s finished\n",
     "output_type": "stream"
    },
    {
     "name": "stdout",
     "text": "Used Annotations descriptions: ['T1', 'T2']\nFiltering raw data in 1 contiguous segment\nSetting up band-pass filter from 1 - 40 Hz\n\nFIR filter parameters\n---------------------\nDesigning a one-pass, zero-phase, non-causal bandpass filter:\n- Windowed time-domain design (firwin) method\n- Hamming window with 0.0194 passband ripple and 53 dB stopband attenuation\n- Lower passband edge: 1.00\n- Lower transition bandwidth: 1.00 Hz (-6 dB cutoff frequency: 0.50 Hz)\n- Upper passband edge: 40.00 Hz\n- Upper transition bandwidth: 10.00 Hz (-6 dB cutoff frequency: 45.00 Hz)\n- Filter length: 529 samples (3.306 s)\n\nUsed Annotations descriptions: ['T1', 'T2']\nFiltering raw data in 1 contiguous segment\nSetting up band-pass filter from 1 - 40 Hz\n\nFIR filter parameters\n---------------------\nDesigning a one-pass, zero-phase, non-causal bandpass filter:\n- Windowed time-domain design (firwin) method\n- Hamming window with 0.0194 passband ripple and 53 dB stopband attenuation\n- Lower passband edge: 1.00\n- Lower transition bandwidth: 1.00 Hz (-6 dB cutoff frequency: 0.50 Hz)\n- Upper passband edge: 40.00 Hz\n- Upper transition bandwidth: 10.00 Hz (-6 dB cutoff frequency: 45.00 Hz)\n- Filter length: 529 samples (3.306 s)\n\n",
     "output_type": "stream"
    },
    {
     "name": "stderr",
     "text": "[Parallel(n_jobs=1)]: Done  17 tasks      | elapsed:    0.0s\n[Parallel(n_jobs=1)]: Done  64 out of  64 | elapsed:    0.0s finished\n[Parallel(n_jobs=1)]: Done  17 tasks      | elapsed:    0.0s\n[Parallel(n_jobs=1)]: Done  64 out of  64 | elapsed:    0.0s finished\n",
     "output_type": "stream"
    },
    {
     "name": "stdout",
     "text": "Used Annotations descriptions: ['T1', 'T2']\nFiltering raw data in 1 contiguous segment\nSetting up band-pass filter from 1 - 40 Hz\n\nFIR filter parameters\n---------------------\nDesigning a one-pass, zero-phase, non-causal bandpass filter:\n- Windowed time-domain design (firwin) method\n- Hamming window with 0.0194 passband ripple and 53 dB stopband attenuation\n- Lower passband edge: 1.00\n- Lower transition bandwidth: 1.00 Hz (-6 dB cutoff frequency: 0.50 Hz)\n- Upper passband edge: 40.00 Hz\n- Upper transition bandwidth: 10.00 Hz (-6 dB cutoff frequency: 45.00 Hz)\n- Filter length: 529 samples (3.306 s)\n\nUsed Annotations descriptions: ['T1', 'T2']\nFiltering raw data in 1 contiguous segment\nSetting up band-pass filter from 1 - 40 Hz\n\nFIR filter parameters\n---------------------\nDesigning a one-pass, zero-phase, non-causal bandpass filter:\n- Windowed time-domain design (firwin) method\n- Hamming window with 0.0194 passband ripple and 53 dB stopband attenuation\n- Lower passband edge: 1.00\n- Lower transition bandwidth: 1.00 Hz (-6 dB cutoff frequency: 0.50 Hz)\n- Upper passband edge: 40.00 Hz\n- Upper transition bandwidth: 10.00 Hz (-6 dB cutoff frequency: 45.00 Hz)\n- Filter length: 529 samples (3.306 s)\n\n",
     "output_type": "stream"
    },
    {
     "name": "stderr",
     "text": "[Parallel(n_jobs=1)]: Done  17 tasks      | elapsed:    0.0s\n[Parallel(n_jobs=1)]: Done  64 out of  64 | elapsed:    0.0s finished\n[Parallel(n_jobs=1)]: Done  17 tasks      | elapsed:    0.0s\n[Parallel(n_jobs=1)]: Done  64 out of  64 | elapsed:    0.0s finished\n[Parallel(n_jobs=1)]: Done  17 tasks      | elapsed:    0.0s\n",
     "output_type": "stream"
    },
    {
     "name": "stdout",
     "text": "Used Annotations descriptions: ['T1', 'T2']\nFiltering raw data in 1 contiguous segment\nSetting up band-pass filter from 1 - 40 Hz\n\nFIR filter parameters\n---------------------\nDesigning a one-pass, zero-phase, non-causal bandpass filter:\n- Windowed time-domain design (firwin) method\n- Hamming window with 0.0194 passband ripple and 53 dB stopband attenuation\n- Lower passband edge: 1.00\n- Lower transition bandwidth: 1.00 Hz (-6 dB cutoff frequency: 0.50 Hz)\n- Upper passband edge: 40.00 Hz\n- Upper transition bandwidth: 10.00 Hz (-6 dB cutoff frequency: 45.00 Hz)\n- Filter length: 529 samples (3.306 s)\n\nUsed Annotations descriptions: ['T1', 'T2']\nFiltering raw data in 1 contiguous segment\nSetting up band-pass filter from 1 - 40 Hz\n\nFIR filter parameters\n---------------------\nDesigning a one-pass, zero-phase, non-causal bandpass filter:\n- Windowed time-domain design (firwin) method\n- Hamming window with 0.0194 passband ripple and 53 dB stopband attenuation\n- Lower passband edge: 1.00\n- Lower transition bandwidth: 1.00 Hz (-6 dB cutoff frequency: 0.50 Hz)\n- Upper passband edge: 40.00 Hz\n- Upper transition bandwidth: 10.00 Hz (-6 dB cutoff frequency: 45.00 Hz)\n- Filter length: 529 samples (3.306 s)\n\nUsed Annotations descriptions: ['T1', 'T2']\n",
     "output_type": "stream"
    },
    {
     "name": "stderr",
     "text": "[Parallel(n_jobs=1)]: Done  64 out of  64 | elapsed:    0.0s finished\n[Parallel(n_jobs=1)]: Done  17 tasks      | elapsed:    0.0s\n[Parallel(n_jobs=1)]: Done  64 out of  64 | elapsed:    0.0s finished\n[Parallel(n_jobs=1)]: Done  17 tasks      | elapsed:    0.0s\n[Parallel(n_jobs=1)]: Done  64 out of  64 | elapsed:    0.0s finished\n",
     "output_type": "stream"
    },
    {
     "name": "stdout",
     "text": "Filtering raw data in 1 contiguous segment\nSetting up band-pass filter from 1 - 40 Hz\n\nFIR filter parameters\n---------------------\nDesigning a one-pass, zero-phase, non-causal bandpass filter:\n- Windowed time-domain design (firwin) method\n- Hamming window with 0.0194 passband ripple and 53 dB stopband attenuation\n- Lower passband edge: 1.00\n- Lower transition bandwidth: 1.00 Hz (-6 dB cutoff frequency: 0.50 Hz)\n- Upper passband edge: 40.00 Hz\n- Upper transition bandwidth: 10.00 Hz (-6 dB cutoff frequency: 45.00 Hz)\n- Filter length: 529 samples (3.306 s)\n\nUsed Annotations descriptions: ['T1', 'T2']\nFiltering raw data in 1 contiguous segment\nSetting up band-pass filter from 1 - 40 Hz\n\nFIR filter parameters\n---------------------\nDesigning a one-pass, zero-phase, non-causal bandpass filter:\n- Windowed time-domain design (firwin) method\n- Hamming window with 0.0194 passband ripple and 53 dB stopband attenuation\n- Lower passband edge: 1.00\n- Lower transition bandwidth: 1.00 Hz (-6 dB cutoff frequency: 0.50 Hz)\n- Upper passband edge: 40.00 Hz\n- Upper transition bandwidth: 10.00 Hz (-6 dB cutoff frequency: 45.00 Hz)\n- Filter length: 529 samples (3.306 s)\n\nUsed Annotations descriptions: ['T1', 'T2']\nFiltering raw data in 1 contiguous segment\nSetting up band-pass filter from 1 - 40 Hz\n\nFIR filter parameters\n---------------------\nDesigning a one-pass, zero-phase, non-causal bandpass filter:\n- Windowed time-domain design (firwin) method\n- Hamming window with 0.0194 passband ripple and 53 dB stopband attenuation\n- Lower passband edge: 1.00\n- Lower transition bandwidth: 1.00 Hz (-6 dB cutoff frequency: 0.50 Hz)\n- Upper passband edge: 40.00 Hz\n- Upper transition bandwidth: 10.00 Hz (-6 dB cutoff frequency: 45.00 Hz)\n- Filter length: 529 samples (3.306 s)\n\n",
     "output_type": "stream"
    },
    {
     "name": "stderr",
     "text": "[Parallel(n_jobs=1)]: Done  17 tasks      | elapsed:    0.0s\n[Parallel(n_jobs=1)]: Done  64 out of  64 | elapsed:    0.0s finished\n[Parallel(n_jobs=1)]: Done  17 tasks      | elapsed:    0.0s\n[Parallel(n_jobs=1)]: Done  64 out of  64 | elapsed:    0.0s finished\n[Parallel(n_jobs=1)]: Done  17 tasks      | elapsed:    0.0s\n",
     "output_type": "stream"
    },
    {
     "name": "stdout",
     "text": "Used Annotations descriptions: ['T1', 'T2']\nFiltering raw data in 1 contiguous segment\nSetting up band-pass filter from 1 - 40 Hz\n\nFIR filter parameters\n---------------------\nDesigning a one-pass, zero-phase, non-causal bandpass filter:\n- Windowed time-domain design (firwin) method\n- Hamming window with 0.0194 passband ripple and 53 dB stopband attenuation\n- Lower passband edge: 1.00\n- Lower transition bandwidth: 1.00 Hz (-6 dB cutoff frequency: 0.50 Hz)\n- Upper passband edge: 40.00 Hz\n- Upper transition bandwidth: 10.00 Hz (-6 dB cutoff frequency: 45.00 Hz)\n- Filter length: 529 samples (3.306 s)\n\nUsed Annotations descriptions: ['T1', 'T2']\nFiltering raw data in 1 contiguous segment\nSetting up band-pass filter from 1 - 40 Hz\n\nFIR filter parameters\n---------------------\nDesigning a one-pass, zero-phase, non-causal bandpass filter:\n- Windowed time-domain design (firwin) method\n- Hamming window with 0.0194 passband ripple and 53 dB stopband attenuation\n- Lower passband edge: 1.00\n- Lower transition bandwidth: 1.00 Hz (-6 dB cutoff frequency: 0.50 Hz)\n- Upper passband edge: 40.00 Hz\n- Upper transition bandwidth: 10.00 Hz (-6 dB cutoff frequency: 45.00 Hz)\n- Filter length: 529 samples (3.306 s)\n\nUsed Annotations descriptions: ['T1', 'T2']\n",
     "output_type": "stream"
    },
    {
     "name": "stderr",
     "text": "[Parallel(n_jobs=1)]: Done  64 out of  64 | elapsed:    0.0s finished\n[Parallel(n_jobs=1)]: Done  17 tasks      | elapsed:    0.0s\n[Parallel(n_jobs=1)]: Done  64 out of  64 | elapsed:    0.0s finished\n[Parallel(n_jobs=1)]: Done  17 tasks      | elapsed:    0.0s\n[Parallel(n_jobs=1)]: Done  64 out of  64 | elapsed:    0.0s finished\n",
     "output_type": "stream"
    },
    {
     "name": "stdout",
     "text": "Filtering raw data in 1 contiguous segment\nSetting up band-pass filter from 1 - 40 Hz\n\nFIR filter parameters\n---------------------\nDesigning a one-pass, zero-phase, non-causal bandpass filter:\n- Windowed time-domain design (firwin) method\n- Hamming window with 0.0194 passband ripple and 53 dB stopband attenuation\n- Lower passband edge: 1.00\n- Lower transition bandwidth: 1.00 Hz (-6 dB cutoff frequency: 0.50 Hz)\n- Upper passband edge: 40.00 Hz\n- Upper transition bandwidth: 10.00 Hz (-6 dB cutoff frequency: 45.00 Hz)\n- Filter length: 529 samples (3.306 s)\n\nUsed Annotations descriptions: ['T1', 'T2']\nFiltering raw data in 1 contiguous segment\nSetting up band-pass filter from 1 - 40 Hz\n\nFIR filter parameters\n---------------------\nDesigning a one-pass, zero-phase, non-causal bandpass filter:\n- Windowed time-domain design (firwin) method\n- Hamming window with 0.0194 passband ripple and 53 dB stopband attenuation\n- Lower passband edge: 1.00\n- Lower transition bandwidth: 1.00 Hz (-6 dB cutoff frequency: 0.50 Hz)\n- Upper passband edge: 40.00 Hz\n- Upper transition bandwidth: 10.00 Hz (-6 dB cutoff frequency: 45.00 Hz)\n- Filter length: 529 samples (3.306 s)\n\nUsed Annotations descriptions: ['T1', 'T2']\nFiltering raw data in 1 contiguous segment\nSetting up band-pass filter from 1 - 40 Hz\n\nFIR filter parameters\n---------------------\nDesigning a one-pass, zero-phase, non-causal bandpass filter:\n- Windowed time-domain design (firwin) method\n- Hamming window with 0.0194 passband ripple and 53 dB stopband attenuation\n- Lower passband edge: 1.00\n- Lower transition bandwidth: 1.00 Hz (-6 dB cutoff frequency: 0.50 Hz)\n- Upper passband edge: 40.00 Hz\n- Upper transition bandwidth: 10.00 Hz (-6 dB cutoff frequency: 45.00 Hz)\n- Filter length: 529 samples (3.306 s)\n\n",
     "output_type": "stream"
    },
    {
     "name": "stderr",
     "text": "[Parallel(n_jobs=1)]: Done  17 tasks      | elapsed:    0.0s\n[Parallel(n_jobs=1)]: Done  64 out of  64 | elapsed:    0.0s finished\n[Parallel(n_jobs=1)]: Done  17 tasks      | elapsed:    0.0s\n[Parallel(n_jobs=1)]: Done  64 out of  64 | elapsed:    0.0s finished\n",
     "output_type": "stream"
    },
    {
     "name": "stdout",
     "text": "Used Annotations descriptions: ['T1', 'T2']\nFiltering raw data in 1 contiguous segment\nSetting up band-pass filter from 1 - 40 Hz\n\nFIR filter parameters\n---------------------\nDesigning a one-pass, zero-phase, non-causal bandpass filter:\n- Windowed time-domain design (firwin) method\n- Hamming window with 0.0194 passband ripple and 53 dB stopband attenuation\n- Lower passband edge: 1.00\n- Lower transition bandwidth: 1.00 Hz (-6 dB cutoff frequency: 0.50 Hz)\n- Upper passband edge: 40.00 Hz\n- Upper transition bandwidth: 10.00 Hz (-6 dB cutoff frequency: 45.00 Hz)\n- Filter length: 529 samples (3.306 s)\n\nUsed Annotations descriptions: ['T1', 'T2']\nFiltering raw data in 1 contiguous segment\nSetting up band-pass filter from 1 - 40 Hz\n\nFIR filter parameters\n---------------------\nDesigning a one-pass, zero-phase, non-causal bandpass filter:\n- Windowed time-domain design (firwin) method\n- Hamming window with 0.0194 passband ripple and 53 dB stopband attenuation\n- Lower passband edge: 1.00\n- Lower transition bandwidth: 1.00 Hz (-6 dB cutoff frequency: 0.50 Hz)\n- Upper passband edge: 40.00 Hz\n- Upper transition bandwidth: 10.00 Hz (-6 dB cutoff frequency: 45.00 Hz)\n- Filter length: 529 samples (3.306 s)\n\n",
     "output_type": "stream"
    },
    {
     "name": "stderr",
     "text": "[Parallel(n_jobs=1)]: Done  17 tasks      | elapsed:    0.0s\n[Parallel(n_jobs=1)]: Done  64 out of  64 | elapsed:    0.0s finished\n[Parallel(n_jobs=1)]: Done  17 tasks      | elapsed:    0.0s\n[Parallel(n_jobs=1)]: Done  64 out of  64 | elapsed:    0.0s finished\n[Parallel(n_jobs=1)]: Done  17 tasks      | elapsed:    0.0s\n",
     "output_type": "stream"
    },
    {
     "name": "stdout",
     "text": "Used Annotations descriptions: ['T1', 'T2']\nFiltering raw data in 1 contiguous segment\nSetting up band-pass filter from 1 - 40 Hz\n\nFIR filter parameters\n---------------------\nDesigning a one-pass, zero-phase, non-causal bandpass filter:\n- Windowed time-domain design (firwin) method\n- Hamming window with 0.0194 passband ripple and 53 dB stopband attenuation\n- Lower passband edge: 1.00\n- Lower transition bandwidth: 1.00 Hz (-6 dB cutoff frequency: 0.50 Hz)\n- Upper passband edge: 40.00 Hz\n- Upper transition bandwidth: 10.00 Hz (-6 dB cutoff frequency: 45.00 Hz)\n- Filter length: 529 samples (3.306 s)\n\nUsed Annotations descriptions: ['T1', 'T2']\nFiltering raw data in 1 contiguous segment\nSetting up band-pass filter from 1 - 40 Hz\n\nFIR filter parameters\n---------------------\nDesigning a one-pass, zero-phase, non-causal bandpass filter:\n- Windowed time-domain design (firwin) method\n- Hamming window with 0.0194 passband ripple and 53 dB stopband attenuation\n- Lower passband edge: 1.00\n- Lower transition bandwidth: 1.00 Hz (-6 dB cutoff frequency: 0.50 Hz)\n- Upper passband edge: 40.00 Hz\n- Upper transition bandwidth: 10.00 Hz (-6 dB cutoff frequency: 45.00 Hz)\n- Filter length: 529 samples (3.306 s)\n\n",
     "output_type": "stream"
    },
    {
     "name": "stderr",
     "text": "[Parallel(n_jobs=1)]: Done  64 out of  64 | elapsed:    0.0s finished\n[Parallel(n_jobs=1)]: Done  17 tasks      | elapsed:    0.0s\n[Parallel(n_jobs=1)]: Done  64 out of  64 | elapsed:    0.0s finished\n[Parallel(n_jobs=1)]: Done  17 tasks      | elapsed:    0.0s\n",
     "output_type": "stream"
    },
    {
     "name": "stdout",
     "text": "Used Annotations descriptions: ['T1', 'T2']\nFiltering raw data in 1 contiguous segment\nSetting up band-pass filter from 1 - 40 Hz\n\nFIR filter parameters\n---------------------\nDesigning a one-pass, zero-phase, non-causal bandpass filter:\n- Windowed time-domain design (firwin) method\n- Hamming window with 0.0194 passband ripple and 53 dB stopband attenuation\n- Lower passband edge: 1.00\n- Lower transition bandwidth: 1.00 Hz (-6 dB cutoff frequency: 0.50 Hz)\n- Upper passband edge: 40.00 Hz\n- Upper transition bandwidth: 10.00 Hz (-6 dB cutoff frequency: 45.00 Hz)\n- Filter length: 529 samples (3.306 s)\n\nUsed Annotations descriptions: ['T1', 'T2']\nFiltering raw data in 1 contiguous segment\nSetting up band-pass filter from 1 - 40 Hz\n\nFIR filter parameters\n---------------------\nDesigning a one-pass, zero-phase, non-causal bandpass filter:\n- Windowed time-domain design (firwin) method\n- Hamming window with 0.0194 passband ripple and 53 dB stopband attenuation\n- Lower passband edge: 1.00\n- Lower transition bandwidth: 1.00 Hz (-6 dB cutoff frequency: 0.50 Hz)\n- Upper passband edge: 40.00 Hz\n- Upper transition bandwidth: 10.00 Hz (-6 dB cutoff frequency: 45.00 Hz)\n- Filter length: 529 samples (3.306 s)\n\nUsed Annotations descriptions: ['T1', 'T2']\n",
     "output_type": "stream"
    },
    {
     "name": "stderr",
     "text": "[Parallel(n_jobs=1)]: Done  64 out of  64 | elapsed:    0.0s finished\n[Parallel(n_jobs=1)]: Done  17 tasks      | elapsed:    0.0s\n[Parallel(n_jobs=1)]: Done  64 out of  64 | elapsed:    0.0s finished\n[Parallel(n_jobs=1)]: Done  17 tasks      | elapsed:    0.0s\n[Parallel(n_jobs=1)]: Done  64 out of  64 | elapsed:    0.0s finished\n",
     "output_type": "stream"
    },
    {
     "name": "stdout",
     "text": "Filtering raw data in 1 contiguous segment\nSetting up band-pass filter from 1 - 40 Hz\n\nFIR filter parameters\n---------------------\nDesigning a one-pass, zero-phase, non-causal bandpass filter:\n- Windowed time-domain design (firwin) method\n- Hamming window with 0.0194 passband ripple and 53 dB stopband attenuation\n- Lower passband edge: 1.00\n- Lower transition bandwidth: 1.00 Hz (-6 dB cutoff frequency: 0.50 Hz)\n- Upper passband edge: 40.00 Hz\n- Upper transition bandwidth: 10.00 Hz (-6 dB cutoff frequency: 45.00 Hz)\n- Filter length: 529 samples (3.306 s)\n\nUsed Annotations descriptions: ['T1', 'T2']\nFiltering raw data in 1 contiguous segment\nSetting up band-pass filter from 1 - 40 Hz\n\nFIR filter parameters\n---------------------\nDesigning a one-pass, zero-phase, non-causal bandpass filter:\n- Windowed time-domain design (firwin) method\n- Hamming window with 0.0194 passband ripple and 53 dB stopband attenuation\n- Lower passband edge: 1.00\n- Lower transition bandwidth: 1.00 Hz (-6 dB cutoff frequency: 0.50 Hz)\n- Upper passband edge: 40.00 Hz\n- Upper transition bandwidth: 10.00 Hz (-6 dB cutoff frequency: 45.00 Hz)\n- Filter length: 529 samples (3.306 s)\n\nUsed Annotations descriptions: ['T1', 'T2']\nFiltering raw data in 1 contiguous segment\nSetting up band-pass filter from 1 - 40 Hz\n\nFIR filter parameters\n---------------------\nDesigning a one-pass, zero-phase, non-causal bandpass filter:\n- Windowed time-domain design (firwin) method\n- Hamming window with 0.0194 passband ripple and 53 dB stopband attenuation\n- Lower passband edge: 1.00\n- Lower transition bandwidth: 1.00 Hz (-6 dB cutoff frequency: 0.50 Hz)\n- Upper passband edge: 40.00 Hz\n- Upper transition bandwidth: 10.00 Hz (-6 dB cutoff frequency: 45.00 Hz)\n- Filter length: 529 samples (3.306 s)\n\n",
     "output_type": "stream"
    },
    {
     "name": "stderr",
     "text": "[Parallel(n_jobs=1)]: Done  17 tasks      | elapsed:    0.0s\n[Parallel(n_jobs=1)]: Done  64 out of  64 | elapsed:    0.0s finished\n[Parallel(n_jobs=1)]: Done  17 tasks      | elapsed:    0.0s\n[Parallel(n_jobs=1)]: Done  64 out of  64 | elapsed:    0.0s finished\n[Parallel(n_jobs=1)]: Done  17 tasks      | elapsed:    0.0s\n",
     "output_type": "stream"
    },
    {
     "name": "stdout",
     "text": "Used Annotations descriptions: ['T1', 'T2']\nFiltering raw data in 1 contiguous segment\nSetting up band-pass filter from 1 - 40 Hz\n\nFIR filter parameters\n---------------------\nDesigning a one-pass, zero-phase, non-causal bandpass filter:\n- Windowed time-domain design (firwin) method\n- Hamming window with 0.0194 passband ripple and 53 dB stopband attenuation\n- Lower passband edge: 1.00\n- Lower transition bandwidth: 1.00 Hz (-6 dB cutoff frequency: 0.50 Hz)\n- Upper passband edge: 40.00 Hz\n- Upper transition bandwidth: 10.00 Hz (-6 dB cutoff frequency: 45.00 Hz)\n- Filter length: 529 samples (3.306 s)\n\nUsed Annotations descriptions: ['T1', 'T2']\nFiltering raw data in 1 contiguous segment\nSetting up band-pass filter from 1 - 40 Hz\n\nFIR filter parameters\n---------------------\nDesigning a one-pass, zero-phase, non-causal bandpass filter:\n- Windowed time-domain design (firwin) method\n- Hamming window with 0.0194 passband ripple and 53 dB stopband attenuation\n- Lower passband edge: 1.00\n- Lower transition bandwidth: 1.00 Hz (-6 dB cutoff frequency: 0.50 Hz)\n- Upper passband edge: 40.00 Hz\n- Upper transition bandwidth: 10.00 Hz (-6 dB cutoff frequency: 45.00 Hz)\n- Filter length: 529 samples (3.306 s)\n\n",
     "output_type": "stream"
    },
    {
     "name": "stderr",
     "text": "[Parallel(n_jobs=1)]: Done  64 out of  64 | elapsed:    0.0s finished\n[Parallel(n_jobs=1)]: Done  17 tasks      | elapsed:    0.0s\n[Parallel(n_jobs=1)]: Done  64 out of  64 | elapsed:    0.0s finished\n[Parallel(n_jobs=1)]: Done  17 tasks      | elapsed:    0.0s\n",
     "output_type": "stream"
    },
    {
     "name": "stdout",
     "text": "Used Annotations descriptions: ['T1', 'T2']\nFiltering raw data in 1 contiguous segment\nSetting up band-pass filter from 1 - 40 Hz\n\nFIR filter parameters\n---------------------\nDesigning a one-pass, zero-phase, non-causal bandpass filter:\n- Windowed time-domain design (firwin) method\n- Hamming window with 0.0194 passband ripple and 53 dB stopband attenuation\n- Lower passband edge: 1.00\n- Lower transition bandwidth: 1.00 Hz (-6 dB cutoff frequency: 0.50 Hz)\n- Upper passband edge: 40.00 Hz\n- Upper transition bandwidth: 10.00 Hz (-6 dB cutoff frequency: 45.00 Hz)\n- Filter length: 529 samples (3.306 s)\n\nUsed Annotations descriptions: ['T1', 'T2']\nFiltering raw data in 1 contiguous segment\nSetting up band-pass filter from 1 - 40 Hz\n\nFIR filter parameters\n---------------------\nDesigning a one-pass, zero-phase, non-causal bandpass filter:\n- Windowed time-domain design (firwin) method\n- Hamming window with 0.0194 passband ripple and 53 dB stopband attenuation\n- Lower passband edge: 1.00\n- Lower transition bandwidth: 1.00 Hz (-6 dB cutoff frequency: 0.50 Hz)\n- Upper passband edge: 40.00 Hz\n- Upper transition bandwidth: 10.00 Hz (-6 dB cutoff frequency: 45.00 Hz)\n- Filter length: 529 samples (3.306 s)\n\n",
     "output_type": "stream"
    },
    {
     "name": "stderr",
     "text": "[Parallel(n_jobs=1)]: Done  64 out of  64 | elapsed:    0.0s finished\n[Parallel(n_jobs=1)]: Done  17 tasks      | elapsed:    0.0s\n[Parallel(n_jobs=1)]: Done  64 out of  64 | elapsed:    0.0s finished\n[Parallel(n_jobs=1)]: Done  17 tasks      | elapsed:    0.0s\n[Parallel(n_jobs=1)]: Done  64 out of  64 | elapsed:    0.0s finished\n",
     "output_type": "stream"
    },
    {
     "name": "stdout",
     "text": "Used Annotations descriptions: ['T1', 'T2']\nFiltering raw data in 1 contiguous segment\nSetting up band-pass filter from 1 - 40 Hz\n\nFIR filter parameters\n---------------------\nDesigning a one-pass, zero-phase, non-causal bandpass filter:\n- Windowed time-domain design (firwin) method\n- Hamming window with 0.0194 passband ripple and 53 dB stopband attenuation\n- Lower passband edge: 1.00\n- Lower transition bandwidth: 1.00 Hz (-6 dB cutoff frequency: 0.50 Hz)\n- Upper passband edge: 40.00 Hz\n- Upper transition bandwidth: 10.00 Hz (-6 dB cutoff frequency: 45.00 Hz)\n- Filter length: 529 samples (3.306 s)\n\nUsed Annotations descriptions: ['T1', 'T2']\nFiltering raw data in 1 contiguous segment\nSetting up band-pass filter from 1 - 40 Hz\n\nFIR filter parameters\n---------------------\nDesigning a one-pass, zero-phase, non-causal bandpass filter:\n- Windowed time-domain design (firwin) method\n- Hamming window with 0.0194 passband ripple and 53 dB stopband attenuation\n- Lower passband edge: 1.00\n- Lower transition bandwidth: 1.00 Hz (-6 dB cutoff frequency: 0.50 Hz)\n- Upper passband edge: 40.00 Hz\n- Upper transition bandwidth: 10.00 Hz (-6 dB cutoff frequency: 45.00 Hz)\n- Filter length: 529 samples (3.306 s)\n\nUsed Annotations descriptions: ['T1', 'T2']\nFiltering raw data in 1 contiguous segment\nSetting up band-pass filter from 1 - 40 Hz\n\nFIR filter parameters\n---------------------\nDesigning a one-pass, zero-phase, non-causal bandpass filter:\n- Windowed time-domain design (firwin) method\n- Hamming window with 0.0194 passband ripple and 53 dB stopband attenuation\n- Lower passband edge: 1.00\n- Lower transition bandwidth: 1.00 Hz (-6 dB cutoff frequency: 0.50 Hz)\n- Upper passband edge: 40.00 Hz\n- Upper transition bandwidth: 10.00 Hz (-6 dB cutoff frequency: 45.00 Hz)\n- Filter length: 529 samples (3.306 s)\n\n",
     "output_type": "stream"
    },
    {
     "name": "stderr",
     "text": "[Parallel(n_jobs=1)]: Done  17 tasks      | elapsed:    0.0s\n[Parallel(n_jobs=1)]: Done  64 out of  64 | elapsed:    0.0s finished\n[Parallel(n_jobs=1)]: Done  17 tasks      | elapsed:    0.0s\n[Parallel(n_jobs=1)]: Done  64 out of  64 | elapsed:    0.0s finished\n",
     "output_type": "stream"
    },
    {
     "name": "stdout",
     "text": "Used Annotations descriptions: ['T1', 'T2']\nFiltering raw data in 1 contiguous segment\nSetting up band-pass filter from 1 - 40 Hz\n\nFIR filter parameters\n---------------------\nDesigning a one-pass, zero-phase, non-causal bandpass filter:\n- Windowed time-domain design (firwin) method\n- Hamming window with 0.0194 passband ripple and 53 dB stopband attenuation\n- Lower passband edge: 1.00\n- Lower transition bandwidth: 1.00 Hz (-6 dB cutoff frequency: 0.50 Hz)\n- Upper passband edge: 40.00 Hz\n- Upper transition bandwidth: 10.00 Hz (-6 dB cutoff frequency: 45.00 Hz)\n- Filter length: 529 samples (3.306 s)\n\nUsed Annotations descriptions: ['T1', 'T2']\nFiltering raw data in 1 contiguous segment\nSetting up band-pass filter from 1 - 40 Hz\n\nFIR filter parameters\n---------------------\nDesigning a one-pass, zero-phase, non-causal bandpass filter:\n- Windowed time-domain design (firwin) method\n- Hamming window with 0.0194 passband ripple and 53 dB stopband attenuation\n- Lower passband edge: 1.00\n- Lower transition bandwidth: 1.00 Hz (-6 dB cutoff frequency: 0.50 Hz)\n- Upper passband edge: 40.00 Hz\n- Upper transition bandwidth: 10.00 Hz (-6 dB cutoff frequency: 45.00 Hz)\n- Filter length: 529 samples (3.306 s)\n\n",
     "output_type": "stream"
    },
    {
     "name": "stderr",
     "text": "[Parallel(n_jobs=1)]: Done  17 tasks      | elapsed:    0.0s\n[Parallel(n_jobs=1)]: Done  64 out of  64 | elapsed:    0.0s finished\n[Parallel(n_jobs=1)]: Done  17 tasks      | elapsed:    0.0s\n[Parallel(n_jobs=1)]: Done  64 out of  64 | elapsed:    0.0s finished\n",
     "output_type": "stream"
    },
    {
     "name": "stdout",
     "text": "Used Annotations descriptions: ['T1', 'T2']\nFiltering raw data in 1 contiguous segment\nSetting up band-pass filter from 1 - 40 Hz\n\nFIR filter parameters\n---------------------\nDesigning a one-pass, zero-phase, non-causal bandpass filter:\n- Windowed time-domain design (firwin) method\n- Hamming window with 0.0194 passband ripple and 53 dB stopband attenuation\n- Lower passband edge: 1.00\n- Lower transition bandwidth: 1.00 Hz (-6 dB cutoff frequency: 0.50 Hz)\n- Upper passband edge: 40.00 Hz\n- Upper transition bandwidth: 10.00 Hz (-6 dB cutoff frequency: 45.00 Hz)\n- Filter length: 529 samples (3.306 s)\n\nUsed Annotations descriptions: ['T1', 'T2']\nFiltering raw data in 1 contiguous segment\nSetting up band-pass filter from 1 - 40 Hz\n\nFIR filter parameters\n---------------------\nDesigning a one-pass, zero-phase, non-causal bandpass filter:\n- Windowed time-domain design (firwin) method\n- Hamming window with 0.0194 passband ripple and 53 dB stopband attenuation\n- Lower passband edge: 1.00\n- Lower transition bandwidth: 1.00 Hz (-6 dB cutoff frequency: 0.50 Hz)\n- Upper passband edge: 40.00 Hz\n- Upper transition bandwidth: 10.00 Hz (-6 dB cutoff frequency: 45.00 Hz)\n- Filter length: 529 samples (3.306 s)\n\n",
     "output_type": "stream"
    },
    {
     "name": "stderr",
     "text": "[Parallel(n_jobs=1)]: Done  17 tasks      | elapsed:    0.0s\n[Parallel(n_jobs=1)]: Done  64 out of  64 | elapsed:    0.1s finished\n[Parallel(n_jobs=1)]: Done  17 tasks      | elapsed:    0.0s\n[Parallel(n_jobs=1)]: Done  64 out of  64 | elapsed:    0.0s finished\n[Parallel(n_jobs=1)]: Done  17 tasks      | elapsed:    0.0s\n",
     "output_type": "stream"
    },
    {
     "name": "stdout",
     "text": "Used Annotations descriptions: ['T1', 'T2']\nFiltering raw data in 1 contiguous segment\nSetting up band-pass filter from 1 - 40 Hz\n\nFIR filter parameters\n---------------------\nDesigning a one-pass, zero-phase, non-causal bandpass filter:\n- Windowed time-domain design (firwin) method\n- Hamming window with 0.0194 passband ripple and 53 dB stopband attenuation\n- Lower passband edge: 1.00\n- Lower transition bandwidth: 1.00 Hz (-6 dB cutoff frequency: 0.50 Hz)\n- Upper passband edge: 40.00 Hz\n- Upper transition bandwidth: 10.00 Hz (-6 dB cutoff frequency: 45.00 Hz)\n- Filter length: 529 samples (3.306 s)\n\nUsed Annotations descriptions: ['T1', 'T2']\nFiltering raw data in 1 contiguous segment\nSetting up band-pass filter from 1 - 40 Hz\n\nFIR filter parameters\n---------------------\nDesigning a one-pass, zero-phase, non-causal bandpass filter:\n- Windowed time-domain design (firwin) method\n- Hamming window with 0.0194 passband ripple and 53 dB stopband attenuation\n- Lower passband edge: 1.00\n- Lower transition bandwidth: 1.00 Hz (-6 dB cutoff frequency: 0.50 Hz)\n- Upper passband edge: 40.00 Hz\n- Upper transition bandwidth: 10.00 Hz (-6 dB cutoff frequency: 45.00 Hz)\n- Filter length: 529 samples (3.306 s)\n\nUsed Annotations descriptions: ['T1', 'T2']\n",
     "output_type": "stream"
    },
    {
     "name": "stderr",
     "text": "[Parallel(n_jobs=1)]: Done  64 out of  64 | elapsed:    0.0s finished\n[Parallel(n_jobs=1)]: Done  17 tasks      | elapsed:    0.0s\n[Parallel(n_jobs=1)]: Done  64 out of  64 | elapsed:    0.0s finished\n[Parallel(n_jobs=1)]: Done  17 tasks      | elapsed:    0.0s\n[Parallel(n_jobs=1)]: Done  64 out of  64 | elapsed:    0.0s finished\n",
     "output_type": "stream"
    },
    {
     "name": "stdout",
     "text": "Filtering raw data in 1 contiguous segment\nSetting up band-pass filter from 1 - 40 Hz\n\nFIR filter parameters\n---------------------\nDesigning a one-pass, zero-phase, non-causal bandpass filter:\n- Windowed time-domain design (firwin) method\n- Hamming window with 0.0194 passband ripple and 53 dB stopband attenuation\n- Lower passband edge: 1.00\n- Lower transition bandwidth: 1.00 Hz (-6 dB cutoff frequency: 0.50 Hz)\n- Upper passband edge: 40.00 Hz\n- Upper transition bandwidth: 10.00 Hz (-6 dB cutoff frequency: 45.00 Hz)\n- Filter length: 529 samples (3.306 s)\n\nUsed Annotations descriptions: ['T1', 'T2']\nFiltering raw data in 1 contiguous segment\nSetting up band-pass filter from 1 - 40 Hz\n\nFIR filter parameters\n---------------------\nDesigning a one-pass, zero-phase, non-causal bandpass filter:\n- Windowed time-domain design (firwin) method\n- Hamming window with 0.0194 passband ripple and 53 dB stopband attenuation\n- Lower passband edge: 1.00\n- Lower transition bandwidth: 1.00 Hz (-6 dB cutoff frequency: 0.50 Hz)\n- Upper passband edge: 40.00 Hz\n- Upper transition bandwidth: 10.00 Hz (-6 dB cutoff frequency: 45.00 Hz)\n- Filter length: 529 samples (3.306 s)\n\nUsed Annotations descriptions: ['T1', 'T2']\nFiltering raw data in 1 contiguous segment\nSetting up band-pass filter from 1 - 40 Hz\n\nFIR filter parameters\n---------------------\nDesigning a one-pass, zero-phase, non-causal bandpass filter:\n- Windowed time-domain design (firwin) method\n- Hamming window with 0.0194 passband ripple and 53 dB stopband attenuation\n- Lower passband edge: 1.00\n- Lower transition bandwidth: 1.00 Hz (-6 dB cutoff frequency: 0.50 Hz)\n- Upper passband edge: 40.00 Hz\n- Upper transition bandwidth: 10.00 Hz (-6 dB cutoff frequency: 45.00 Hz)\n- Filter length: 529 samples (3.306 s)\n\n",
     "output_type": "stream"
    },
    {
     "name": "stderr",
     "text": "[Parallel(n_jobs=1)]: Done  17 tasks      | elapsed:    0.0s\n[Parallel(n_jobs=1)]: Done  64 out of  64 | elapsed:    0.0s finished\n[Parallel(n_jobs=1)]: Done  17 tasks      | elapsed:    0.0s\n[Parallel(n_jobs=1)]: Done  64 out of  64 | elapsed:    0.0s finished\n[Parallel(n_jobs=1)]: Done  17 tasks      | elapsed:    0.0s\n",
     "output_type": "stream"
    },
    {
     "name": "stdout",
     "text": "Used Annotations descriptions: ['T1', 'T2']\nFiltering raw data in 1 contiguous segment\nSetting up band-pass filter from 1 - 40 Hz\n\nFIR filter parameters\n---------------------\nDesigning a one-pass, zero-phase, non-causal bandpass filter:\n- Windowed time-domain design (firwin) method\n- Hamming window with 0.0194 passband ripple and 53 dB stopband attenuation\n- Lower passband edge: 1.00\n- Lower transition bandwidth: 1.00 Hz (-6 dB cutoff frequency: 0.50 Hz)\n- Upper passband edge: 40.00 Hz\n- Upper transition bandwidth: 10.00 Hz (-6 dB cutoff frequency: 45.00 Hz)\n- Filter length: 529 samples (3.306 s)\n\nUsed Annotations descriptions: ['T1', 'T2']\nFiltering raw data in 1 contiguous segment\nSetting up band-pass filter from 1 - 40 Hz\n\nFIR filter parameters\n---------------------\nDesigning a one-pass, zero-phase, non-causal bandpass filter:\n- Windowed time-domain design (firwin) method\n- Hamming window with 0.0194 passband ripple and 53 dB stopband attenuation\n- Lower passband edge: 1.00\n- Lower transition bandwidth: 1.00 Hz (-6 dB cutoff frequency: 0.50 Hz)\n- Upper passband edge: 40.00 Hz\n- Upper transition bandwidth: 10.00 Hz (-6 dB cutoff frequency: 45.00 Hz)\n- Filter length: 529 samples (3.306 s)\n\n",
     "output_type": "stream"
    },
    {
     "name": "stderr",
     "text": "[Parallel(n_jobs=1)]: Done  64 out of  64 | elapsed:    0.0s finished\n[Parallel(n_jobs=1)]: Done  17 tasks      | elapsed:    0.0s\n[Parallel(n_jobs=1)]: Done  64 out of  64 | elapsed:    0.0s finished\n[Parallel(n_jobs=1)]: Done  17 tasks      | elapsed:    0.0s\n",
     "output_type": "stream"
    },
    {
     "name": "stdout",
     "text": "Used Annotations descriptions: ['T1', 'T2']\nFiltering raw data in 1 contiguous segment\nSetting up band-pass filter from 1 - 40 Hz\n\nFIR filter parameters\n---------------------\nDesigning a one-pass, zero-phase, non-causal bandpass filter:\n- Windowed time-domain design (firwin) method\n- Hamming window with 0.0194 passband ripple and 53 dB stopband attenuation\n- Lower passband edge: 1.00\n- Lower transition bandwidth: 1.00 Hz (-6 dB cutoff frequency: 0.50 Hz)\n- Upper passband edge: 40.00 Hz\n- Upper transition bandwidth: 10.00 Hz (-6 dB cutoff frequency: 45.00 Hz)\n- Filter length: 529 samples (3.306 s)\n\nUsed Annotations descriptions: ['T1', 'T2']\nFiltering raw data in 1 contiguous segment\nSetting up band-pass filter from 1 - 40 Hz\n\nFIR filter parameters\n---------------------\nDesigning a one-pass, zero-phase, non-causal bandpass filter:\n- Windowed time-domain design (firwin) method\n- Hamming window with 0.0194 passband ripple and 53 dB stopband attenuation\n- Lower passband edge: 1.00\n- Lower transition bandwidth: 1.00 Hz (-6 dB cutoff frequency: 0.50 Hz)\n- Upper passband edge: 40.00 Hz\n- Upper transition bandwidth: 10.00 Hz (-6 dB cutoff frequency: 45.00 Hz)\n- Filter length: 529 samples (3.306 s)\n\n",
     "output_type": "stream"
    },
    {
     "name": "stderr",
     "text": "[Parallel(n_jobs=1)]: Done  64 out of  64 | elapsed:    0.0s finished\n[Parallel(n_jobs=1)]: Done  17 tasks      | elapsed:    0.0s\n[Parallel(n_jobs=1)]: Done  64 out of  64 | elapsed:    0.0s finished\n[Parallel(n_jobs=1)]: Done  17 tasks      | elapsed:    0.0s\n",
     "output_type": "stream"
    },
    {
     "name": "stdout",
     "text": "Used Annotations descriptions: ['T1', 'T2']\nFiltering raw data in 1 contiguous segment\nSetting up band-pass filter from 1 - 40 Hz\n\nFIR filter parameters\n---------------------\nDesigning a one-pass, zero-phase, non-causal bandpass filter:\n- Windowed time-domain design (firwin) method\n- Hamming window with 0.0194 passband ripple and 53 dB stopband attenuation\n- Lower passband edge: 1.00\n- Lower transition bandwidth: 1.00 Hz (-6 dB cutoff frequency: 0.50 Hz)\n- Upper passband edge: 40.00 Hz\n- Upper transition bandwidth: 10.00 Hz (-6 dB cutoff frequency: 45.00 Hz)\n- Filter length: 529 samples (3.306 s)\n\nUsed Annotations descriptions: ['T1', 'T2']\nFiltering raw data in 1 contiguous segment\nSetting up band-pass filter from 1 - 40 Hz\n\nFIR filter parameters\n---------------------\nDesigning a one-pass, zero-phase, non-causal bandpass filter:\n- Windowed time-domain design (firwin) method\n- Hamming window with 0.0194 passband ripple and 53 dB stopband attenuation\n- Lower passband edge: 1.00\n- Lower transition bandwidth: 1.00 Hz (-6 dB cutoff frequency: 0.50 Hz)\n- Upper passband edge: 40.00 Hz\n- Upper transition bandwidth: 10.00 Hz (-6 dB cutoff frequency: 45.00 Hz)\n- Filter length: 529 samples (3.306 s)\n\nUsed Annotations descriptions: ['T1', 'T2']\n",
     "output_type": "stream"
    },
    {
     "name": "stderr",
     "text": "[Parallel(n_jobs=1)]: Done  64 out of  64 | elapsed:    0.0s finished\n[Parallel(n_jobs=1)]: Done  17 tasks      | elapsed:    0.0s\n[Parallel(n_jobs=1)]: Done  64 out of  64 | elapsed:    0.0s finished\n[Parallel(n_jobs=1)]: Done  17 tasks      | elapsed:    0.0s\n[Parallel(n_jobs=1)]: Done  64 out of  64 | elapsed:    0.0s finished\n",
     "output_type": "stream"
    },
    {
     "name": "stdout",
     "text": "Filtering raw data in 1 contiguous segment\nSetting up band-pass filter from 1 - 40 Hz\n\nFIR filter parameters\n---------------------\nDesigning a one-pass, zero-phase, non-causal bandpass filter:\n- Windowed time-domain design (firwin) method\n- Hamming window with 0.0194 passband ripple and 53 dB stopband attenuation\n- Lower passband edge: 1.00\n- Lower transition bandwidth: 1.00 Hz (-6 dB cutoff frequency: 0.50 Hz)\n- Upper passband edge: 40.00 Hz\n- Upper transition bandwidth: 10.00 Hz (-6 dB cutoff frequency: 45.00 Hz)\n- Filter length: 529 samples (3.306 s)\n\nUsed Annotations descriptions: ['T1', 'T2']\nFiltering raw data in 1 contiguous segment\nSetting up band-pass filter from 1 - 40 Hz\n\nFIR filter parameters\n---------------------\nDesigning a one-pass, zero-phase, non-causal bandpass filter:\n- Windowed time-domain design (firwin) method\n- Hamming window with 0.0194 passband ripple and 53 dB stopband attenuation\n- Lower passband edge: 1.00\n- Lower transition bandwidth: 1.00 Hz (-6 dB cutoff frequency: 0.50 Hz)\n- Upper passband edge: 40.00 Hz\n- Upper transition bandwidth: 10.00 Hz (-6 dB cutoff frequency: 45.00 Hz)\n- Filter length: 529 samples (3.306 s)\n\nUsed Annotations descriptions: ['T1', 'T2']\nFiltering raw data in 1 contiguous segment\nSetting up band-pass filter from 1 - 40 Hz\n\nFIR filter parameters\n---------------------\nDesigning a one-pass, zero-phase, non-causal bandpass filter:\n- Windowed time-domain design (firwin) method\n- Hamming window with 0.0194 passband ripple and 53 dB stopband attenuation\n- Lower passband edge: 1.00\n- Lower transition bandwidth: 1.00 Hz (-6 dB cutoff frequency: 0.50 Hz)\n- Upper passband edge: 40.00 Hz\n- Upper transition bandwidth: 10.00 Hz (-6 dB cutoff frequency: 45.00 Hz)\n- Filter length: 529 samples (3.306 s)\n\n",
     "output_type": "stream"
    },
    {
     "name": "stderr",
     "text": "[Parallel(n_jobs=1)]: Done  17 tasks      | elapsed:    0.0s\n[Parallel(n_jobs=1)]: Done  64 out of  64 | elapsed:    0.0s finished\n[Parallel(n_jobs=1)]: Done  17 tasks      | elapsed:    0.0s\n[Parallel(n_jobs=1)]: Done  64 out of  64 | elapsed:    0.0s finished\n",
     "output_type": "stream"
    },
    {
     "name": "stdout",
     "text": "Used Annotations descriptions: ['T1', 'T2']\nFiltering raw data in 1 contiguous segment\nSetting up band-pass filter from 1 - 40 Hz\n\nFIR filter parameters\n---------------------\nDesigning a one-pass, zero-phase, non-causal bandpass filter:\n- Windowed time-domain design (firwin) method\n- Hamming window with 0.0194 passband ripple and 53 dB stopband attenuation\n- Lower passband edge: 1.00\n- Lower transition bandwidth: 1.00 Hz (-6 dB cutoff frequency: 0.50 Hz)\n- Upper passband edge: 40.00 Hz\n- Upper transition bandwidth: 10.00 Hz (-6 dB cutoff frequency: 45.00 Hz)\n- Filter length: 529 samples (3.306 s)\n\nUsed Annotations descriptions: ['T1', 'T2']\nFiltering raw data in 1 contiguous segment\nSetting up band-pass filter from 1 - 40 Hz\n\nFIR filter parameters\n---------------------\nDesigning a one-pass, zero-phase, non-causal bandpass filter:\n- Windowed time-domain design (firwin) method\n- Hamming window with 0.0194 passband ripple and 53 dB stopband attenuation\n- Lower passband edge: 1.00\n- Lower transition bandwidth: 1.00 Hz (-6 dB cutoff frequency: 0.50 Hz)\n- Upper passband edge: 40.00 Hz\n- Upper transition bandwidth: 10.00 Hz (-6 dB cutoff frequency: 45.00 Hz)\n- Filter length: 529 samples (3.306 s)\n\n",
     "output_type": "stream"
    },
    {
     "name": "stderr",
     "text": "[Parallel(n_jobs=1)]: Done  17 tasks      | elapsed:    0.0s\n[Parallel(n_jobs=1)]: Done  64 out of  64 | elapsed:    0.0s finished\n[Parallel(n_jobs=1)]: Done  17 tasks      | elapsed:    0.0s\n[Parallel(n_jobs=1)]: Done  64 out of  64 | elapsed:    0.0s finished\n[Parallel(n_jobs=1)]: Done  17 tasks      | elapsed:    0.0s\n",
     "output_type": "stream"
    },
    {
     "name": "stdout",
     "text": "Used Annotations descriptions: ['T1', 'T2']\nFiltering raw data in 1 contiguous segment\nSetting up band-pass filter from 1 - 40 Hz\n\nFIR filter parameters\n---------------------\nDesigning a one-pass, zero-phase, non-causal bandpass filter:\n- Windowed time-domain design (firwin) method\n- Hamming window with 0.0194 passband ripple and 53 dB stopband attenuation\n- Lower passband edge: 1.00\n- Lower transition bandwidth: 1.00 Hz (-6 dB cutoff frequency: 0.50 Hz)\n- Upper passband edge: 40.00 Hz\n- Upper transition bandwidth: 10.00 Hz (-6 dB cutoff frequency: 45.00 Hz)\n- Filter length: 529 samples (3.306 s)\n\nUsed Annotations descriptions: ['T1', 'T2']\nFiltering raw data in 1 contiguous segment\nSetting up band-pass filter from 1 - 40 Hz\n\nFIR filter parameters\n---------------------\nDesigning a one-pass, zero-phase, non-causal bandpass filter:\n- Windowed time-domain design (firwin) method\n- Hamming window with 0.0194 passband ripple and 53 dB stopband attenuation\n- Lower passband edge: 1.00\n- Lower transition bandwidth: 1.00 Hz (-6 dB cutoff frequency: 0.50 Hz)\n- Upper passband edge: 40.00 Hz\n- Upper transition bandwidth: 10.00 Hz (-6 dB cutoff frequency: 45.00 Hz)\n- Filter length: 529 samples (3.306 s)\n\n",
     "output_type": "stream"
    },
    {
     "name": "stderr",
     "text": "[Parallel(n_jobs=1)]: Done  64 out of  64 | elapsed:    0.1s finished\n[Parallel(n_jobs=1)]: Done  17 tasks      | elapsed:    0.0s\n[Parallel(n_jobs=1)]: Done  64 out of  64 | elapsed:    0.0s finished\n[Parallel(n_jobs=1)]: Done  17 tasks      | elapsed:    0.0s\n",
     "output_type": "stream"
    },
    {
     "name": "stdout",
     "text": "Used Annotations descriptions: ['T1', 'T2']\nFiltering raw data in 1 contiguous segment\nSetting up band-pass filter from 1 - 40 Hz\n\nFIR filter parameters\n---------------------\nDesigning a one-pass, zero-phase, non-causal bandpass filter:\n- Windowed time-domain design (firwin) method\n- Hamming window with 0.0194 passband ripple and 53 dB stopband attenuation\n- Lower passband edge: 1.00\n- Lower transition bandwidth: 1.00 Hz (-6 dB cutoff frequency: 0.50 Hz)\n- Upper passband edge: 40.00 Hz\n- Upper transition bandwidth: 10.00 Hz (-6 dB cutoff frequency: 45.00 Hz)\n- Filter length: 529 samples (3.306 s)\n\nUsed Annotations descriptions: ['T1', 'T2']\nFiltering raw data in 1 contiguous segment\nSetting up band-pass filter from 1 - 40 Hz\n\nFIR filter parameters\n---------------------\nDesigning a one-pass, zero-phase, non-causal bandpass filter:\n- Windowed time-domain design (firwin) method\n- Hamming window with 0.0194 passband ripple and 53 dB stopband attenuation\n- Lower passband edge: 1.00\n- Lower transition bandwidth: 1.00 Hz (-6 dB cutoff frequency: 0.50 Hz)\n- Upper passband edge: 40.00 Hz\n- Upper transition bandwidth: 10.00 Hz (-6 dB cutoff frequency: 45.00 Hz)\n- Filter length: 529 samples (3.306 s)\n\n",
     "output_type": "stream"
    },
    {
     "name": "stderr",
     "text": "[Parallel(n_jobs=1)]: Done  64 out of  64 | elapsed:    0.0s finished\n[Parallel(n_jobs=1)]: Done  17 tasks      | elapsed:    0.0s\n[Parallel(n_jobs=1)]: Done  64 out of  64 | elapsed:    0.0s finished\n[Parallel(n_jobs=1)]: Done  17 tasks      | elapsed:    0.0s\n",
     "output_type": "stream"
    },
    {
     "name": "stdout",
     "text": "Used Annotations descriptions: ['T1', 'T2']\nFiltering raw data in 1 contiguous segment\nSetting up band-pass filter from 1 - 40 Hz\n\nFIR filter parameters\n---------------------\nDesigning a one-pass, zero-phase, non-causal bandpass filter:\n- Windowed time-domain design (firwin) method\n- Hamming window with 0.0194 passband ripple and 53 dB stopband attenuation\n- Lower passband edge: 1.00\n- Lower transition bandwidth: 1.00 Hz (-6 dB cutoff frequency: 0.50 Hz)\n- Upper passband edge: 40.00 Hz\n- Upper transition bandwidth: 10.00 Hz (-6 dB cutoff frequency: 45.00 Hz)\n- Filter length: 529 samples (3.306 s)\n\nUsed Annotations descriptions: ['T1', 'T2']\nFiltering raw data in 1 contiguous segment\nSetting up band-pass filter from 1 - 40 Hz\n\nFIR filter parameters\n---------------------\nDesigning a one-pass, zero-phase, non-causal bandpass filter:\n- Windowed time-domain design (firwin) method\n- Hamming window with 0.0194 passband ripple and 53 dB stopband attenuation\n- Lower passband edge: 1.00\n- Lower transition bandwidth: 1.00 Hz (-6 dB cutoff frequency: 0.50 Hz)\n- Upper passband edge: 40.00 Hz\n- Upper transition bandwidth: 10.00 Hz (-6 dB cutoff frequency: 45.00 Hz)\n- Filter length: 529 samples (3.306 s)\n\n",
     "output_type": "stream"
    },
    {
     "name": "stderr",
     "text": "[Parallel(n_jobs=1)]: Done  64 out of  64 | elapsed:    0.0s finished\n[Parallel(n_jobs=1)]: Done  17 tasks      | elapsed:    0.0s\n[Parallel(n_jobs=1)]: Done  64 out of  64 | elapsed:    0.0s finished\n[Parallel(n_jobs=1)]: Done  17 tasks      | elapsed:    0.0s\n",
     "output_type": "stream"
    },
    {
     "name": "stdout",
     "text": "Used Annotations descriptions: ['T1', 'T2']\nFiltering raw data in 1 contiguous segment\nSetting up band-pass filter from 1 - 40 Hz\n\nFIR filter parameters\n---------------------\nDesigning a one-pass, zero-phase, non-causal bandpass filter:\n- Windowed time-domain design (firwin) method\n- Hamming window with 0.0194 passband ripple and 53 dB stopband attenuation\n- Lower passband edge: 1.00\n- Lower transition bandwidth: 1.00 Hz (-6 dB cutoff frequency: 0.50 Hz)\n- Upper passband edge: 40.00 Hz\n- Upper transition bandwidth: 10.00 Hz (-6 dB cutoff frequency: 45.00 Hz)\n- Filter length: 529 samples (3.306 s)\n\nUsed Annotations descriptions: ['T1', 'T2']\nFiltering raw data in 1 contiguous segment\nSetting up band-pass filter from 1 - 40 Hz\n\nFIR filter parameters\n---------------------\nDesigning a one-pass, zero-phase, non-causal bandpass filter:\n- Windowed time-domain design (firwin) method\n- Hamming window with 0.0194 passband ripple and 53 dB stopband attenuation\n- Lower passband edge: 1.00\n- Lower transition bandwidth: 1.00 Hz (-6 dB cutoff frequency: 0.50 Hz)\n- Upper passband edge: 40.00 Hz\n- Upper transition bandwidth: 10.00 Hz (-6 dB cutoff frequency: 45.00 Hz)\n- Filter length: 529 samples (3.306 s)\n\n",
     "output_type": "stream"
    },
    {
     "name": "stderr",
     "text": "[Parallel(n_jobs=1)]: Done  64 out of  64 | elapsed:    0.0s finished\n[Parallel(n_jobs=1)]: Done  17 tasks      | elapsed:    0.0s\n[Parallel(n_jobs=1)]: Done  64 out of  64 | elapsed:    0.0s finished\n[Parallel(n_jobs=1)]: Done  17 tasks      | elapsed:    0.0s\n",
     "output_type": "stream"
    },
    {
     "name": "stdout",
     "text": "Used Annotations descriptions: ['T1', 'T2']\nFiltering raw data in 1 contiguous segment\nSetting up band-pass filter from 1 - 40 Hz\n\nFIR filter parameters\n---------------------\nDesigning a one-pass, zero-phase, non-causal bandpass filter:\n- Windowed time-domain design (firwin) method\n- Hamming window with 0.0194 passband ripple and 53 dB stopband attenuation\n- Lower passband edge: 1.00\n- Lower transition bandwidth: 1.00 Hz (-6 dB cutoff frequency: 0.50 Hz)\n- Upper passband edge: 40.00 Hz\n- Upper transition bandwidth: 10.00 Hz (-6 dB cutoff frequency: 45.00 Hz)\n- Filter length: 529 samples (3.306 s)\n\nUsed Annotations descriptions: ['T1', 'T2']\nFiltering raw data in 1 contiguous segment\nSetting up band-pass filter from 1 - 40 Hz\n\nFIR filter parameters\n---------------------\nDesigning a one-pass, zero-phase, non-causal bandpass filter:\n- Windowed time-domain design (firwin) method\n- Hamming window with 0.0194 passband ripple and 53 dB stopband attenuation\n- Lower passband edge: 1.00\n- Lower transition bandwidth: 1.00 Hz (-6 dB cutoff frequency: 0.50 Hz)\n- Upper passband edge: 40.00 Hz\n- Upper transition bandwidth: 10.00 Hz (-6 dB cutoff frequency: 45.00 Hz)\n- Filter length: 529 samples (3.306 s)\n\nUsed Annotations descriptions: ['T1', 'T2']\n",
     "output_type": "stream"
    },
    {
     "name": "stderr",
     "text": "[Parallel(n_jobs=1)]: Done  64 out of  64 | elapsed:    0.0s finished\n[Parallel(n_jobs=1)]: Done  17 tasks      | elapsed:    0.0s\n[Parallel(n_jobs=1)]: Done  64 out of  64 | elapsed:    0.0s finished\n[Parallel(n_jobs=1)]: Done  17 tasks      | elapsed:    0.0s\n[Parallel(n_jobs=1)]: Done  64 out of  64 | elapsed:    0.0s finished\n",
     "output_type": "stream"
    },
    {
     "name": "stdout",
     "text": "Filtering raw data in 1 contiguous segment\nSetting up band-pass filter from 1 - 40 Hz\n\nFIR filter parameters\n---------------------\nDesigning a one-pass, zero-phase, non-causal bandpass filter:\n- Windowed time-domain design (firwin) method\n- Hamming window with 0.0194 passband ripple and 53 dB stopband attenuation\n- Lower passband edge: 1.00\n- Lower transition bandwidth: 1.00 Hz (-6 dB cutoff frequency: 0.50 Hz)\n- Upper passband edge: 40.00 Hz\n- Upper transition bandwidth: 10.00 Hz (-6 dB cutoff frequency: 45.00 Hz)\n- Filter length: 529 samples (3.306 s)\n\nUsed Annotations descriptions: ['T1', 'T2']\nFiltering raw data in 1 contiguous segment\nSetting up band-pass filter from 1 - 40 Hz\n\nFIR filter parameters\n---------------------\nDesigning a one-pass, zero-phase, non-causal bandpass filter:\n- Windowed time-domain design (firwin) method\n- Hamming window with 0.0194 passband ripple and 53 dB stopband attenuation\n- Lower passband edge: 1.00\n- Lower transition bandwidth: 1.00 Hz (-6 dB cutoff frequency: 0.50 Hz)\n- Upper passband edge: 40.00 Hz\n- Upper transition bandwidth: 10.00 Hz (-6 dB cutoff frequency: 45.00 Hz)\n- Filter length: 529 samples (3.306 s)\n\nUsed Annotations descriptions: ['T1', 'T2']\nFiltering raw data in 1 contiguous segment\nSetting up band-pass filter from 1 - 40 Hz\n\nFIR filter parameters\n---------------------\nDesigning a one-pass, zero-phase, non-causal bandpass filter:\n- Windowed time-domain design (firwin) method\n- Hamming window with 0.0194 passband ripple and 53 dB stopband attenuation\n- Lower passband edge: 1.00\n- Lower transition bandwidth: 1.00 Hz (-6 dB cutoff frequency: 0.50 Hz)\n- Upper passband edge: 40.00 Hz\n- Upper transition bandwidth: 10.00 Hz (-6 dB cutoff frequency: 45.00 Hz)\n- Filter length: 529 samples (3.306 s)\n\n",
     "output_type": "stream"
    },
    {
     "name": "stderr",
     "text": "[Parallel(n_jobs=1)]: Done  17 tasks      | elapsed:    0.0s\n[Parallel(n_jobs=1)]: Done  64 out of  64 | elapsed:    0.0s finished\n[Parallel(n_jobs=1)]: Done  17 tasks      | elapsed:    0.0s\n[Parallel(n_jobs=1)]: Done  64 out of  64 | elapsed:    0.0s finished\n",
     "output_type": "stream"
    },
    {
     "name": "stdout",
     "text": "Used Annotations descriptions: ['T1', 'T2']\nFiltering raw data in 1 contiguous segment\nSetting up band-pass filter from 1 - 40 Hz\n\nFIR filter parameters\n---------------------\nDesigning a one-pass, zero-phase, non-causal bandpass filter:\n- Windowed time-domain design (firwin) method\n- Hamming window with 0.0194 passband ripple and 53 dB stopband attenuation\n- Lower passband edge: 1.00\n- Lower transition bandwidth: 1.00 Hz (-6 dB cutoff frequency: 0.50 Hz)\n- Upper passband edge: 40.00 Hz\n- Upper transition bandwidth: 10.00 Hz (-6 dB cutoff frequency: 45.00 Hz)\n- Filter length: 529 samples (3.306 s)\n\nUsed Annotations descriptions: ['T1', 'T2']\nFiltering raw data in 1 contiguous segment\nSetting up band-pass filter from 1 - 40 Hz\n\nFIR filter parameters\n---------------------\nDesigning a one-pass, zero-phase, non-causal bandpass filter:\n- Windowed time-domain design (firwin) method\n- Hamming window with 0.0194 passband ripple and 53 dB stopband attenuation\n- Lower passband edge: 1.00\n- Lower transition bandwidth: 1.00 Hz (-6 dB cutoff frequency: 0.50 Hz)\n- Upper passband edge: 40.00 Hz\n- Upper transition bandwidth: 10.00 Hz (-6 dB cutoff frequency: 45.00 Hz)\n- Filter length: 529 samples (3.306 s)\n\n",
     "output_type": "stream"
    },
    {
     "name": "stderr",
     "text": "[Parallel(n_jobs=1)]: Done  17 tasks      | elapsed:    0.0s\n[Parallel(n_jobs=1)]: Done  64 out of  64 | elapsed:    0.0s finished\n[Parallel(n_jobs=1)]: Done  17 tasks      | elapsed:    0.0s\n[Parallel(n_jobs=1)]: Done  64 out of  64 | elapsed:    0.0s finished\n[Parallel(n_jobs=1)]: Done  17 tasks      | elapsed:    0.0s\n",
     "output_type": "stream"
    },
    {
     "name": "stdout",
     "text": "Used Annotations descriptions: ['T1', 'T2']\nFiltering raw data in 1 contiguous segment\nSetting up band-pass filter from 1 - 40 Hz\n\nFIR filter parameters\n---------------------\nDesigning a one-pass, zero-phase, non-causal bandpass filter:\n- Windowed time-domain design (firwin) method\n- Hamming window with 0.0194 passband ripple and 53 dB stopband attenuation\n- Lower passband edge: 1.00\n- Lower transition bandwidth: 1.00 Hz (-6 dB cutoff frequency: 0.50 Hz)\n- Upper passband edge: 40.00 Hz\n- Upper transition bandwidth: 10.00 Hz (-6 dB cutoff frequency: 45.00 Hz)\n- Filter length: 529 samples (3.306 s)\n\nUsed Annotations descriptions: ['T1', 'T2']\nFiltering raw data in 1 contiguous segment\nSetting up band-pass filter from 1 - 40 Hz\n\nFIR filter parameters\n---------------------\nDesigning a one-pass, zero-phase, non-causal bandpass filter:\n- Windowed time-domain design (firwin) method\n- Hamming window with 0.0194 passband ripple and 53 dB stopband attenuation\n- Lower passband edge: 1.00\n- Lower transition bandwidth: 1.00 Hz (-6 dB cutoff frequency: 0.50 Hz)\n- Upper passband edge: 40.00 Hz\n- Upper transition bandwidth: 10.00 Hz (-6 dB cutoff frequency: 45.00 Hz)\n- Filter length: 529 samples (3.306 s)\n\nUsed Annotations descriptions: ['T1', 'T2']\n",
     "output_type": "stream"
    },
    {
     "name": "stderr",
     "text": "[Parallel(n_jobs=1)]: Done  64 out of  64 | elapsed:    0.0s finished\n[Parallel(n_jobs=1)]: Done  17 tasks      | elapsed:    0.0s\n[Parallel(n_jobs=1)]: Done  64 out of  64 | elapsed:    0.0s finished\n[Parallel(n_jobs=1)]: Done  17 tasks      | elapsed:    0.0s\n[Parallel(n_jobs=1)]: Done  64 out of  64 | elapsed:    0.0s finished\n",
     "output_type": "stream"
    },
    {
     "name": "stdout",
     "text": "Filtering raw data in 1 contiguous segment\nSetting up band-pass filter from 1 - 40 Hz\n\nFIR filter parameters\n---------------------\nDesigning a one-pass, zero-phase, non-causal bandpass filter:\n- Windowed time-domain design (firwin) method\n- Hamming window with 0.0194 passband ripple and 53 dB stopband attenuation\n- Lower passband edge: 1.00\n- Lower transition bandwidth: 1.00 Hz (-6 dB cutoff frequency: 0.50 Hz)\n- Upper passband edge: 40.00 Hz\n- Upper transition bandwidth: 10.00 Hz (-6 dB cutoff frequency: 45.00 Hz)\n- Filter length: 529 samples (3.306 s)\n\nUsed Annotations descriptions: ['T1', 'T2']\nFiltering raw data in 1 contiguous segment\nSetting up band-pass filter from 1 - 40 Hz\n\nFIR filter parameters\n---------------------\nDesigning a one-pass, zero-phase, non-causal bandpass filter:\n- Windowed time-domain design (firwin) method\n- Hamming window with 0.0194 passband ripple and 53 dB stopband attenuation\n- Lower passband edge: 1.00\n- Lower transition bandwidth: 1.00 Hz (-6 dB cutoff frequency: 0.50 Hz)\n- Upper passband edge: 40.00 Hz\n- Upper transition bandwidth: 10.00 Hz (-6 dB cutoff frequency: 45.00 Hz)\n- Filter length: 529 samples (3.306 s)\n\nUsed Annotations descriptions: ['T1', 'T2']\nFiltering raw data in 1 contiguous segment\nSetting up band-pass filter from 1 - 40 Hz\n\nFIR filter parameters\n---------------------\nDesigning a one-pass, zero-phase, non-causal bandpass filter:\n- Windowed time-domain design (firwin) method\n- Hamming window with 0.0194 passband ripple and 53 dB stopband attenuation\n- Lower passband edge: 1.00\n- Lower transition bandwidth: 1.00 Hz (-6 dB cutoff frequency: 0.50 Hz)\n- Upper passband edge: 40.00 Hz\n- Upper transition bandwidth: 10.00 Hz (-6 dB cutoff frequency: 45.00 Hz)\n- Filter length: 529 samples (3.306 s)\n\n",
     "output_type": "stream"
    },
    {
     "name": "stderr",
     "text": "[Parallel(n_jobs=1)]: Done  17 tasks      | elapsed:    0.0s\n[Parallel(n_jobs=1)]: Done  64 out of  64 | elapsed:    0.1s finished\n[Parallel(n_jobs=1)]: Done  17 tasks      | elapsed:    0.0s\n[Parallel(n_jobs=1)]: Done  64 out of  64 | elapsed:    0.1s finished\n",
     "output_type": "stream"
    },
    {
     "name": "stdout",
     "text": "Used Annotations descriptions: ['T1', 'T2']\nFiltering raw data in 1 contiguous segment\nSetting up band-pass filter from 1 - 40 Hz\n\nFIR filter parameters\n---------------------\nDesigning a one-pass, zero-phase, non-causal bandpass filter:\n- Windowed time-domain design (firwin) method\n- Hamming window with 0.0194 passband ripple and 53 dB stopband attenuation\n- Lower passband edge: 1.00\n- Lower transition bandwidth: 1.00 Hz (-6 dB cutoff frequency: 0.50 Hz)\n- Upper passband edge: 40.00 Hz\n- Upper transition bandwidth: 10.00 Hz (-6 dB cutoff frequency: 45.00 Hz)\n- Filter length: 529 samples (3.306 s)\n\nUsed Annotations descriptions: ['T1', 'T2']\nFiltering raw data in 1 contiguous segment\nSetting up band-pass filter from 1 - 40 Hz\n\nFIR filter parameters\n---------------------\nDesigning a one-pass, zero-phase, non-causal bandpass filter:\n- Windowed time-domain design (firwin) method\n- Hamming window with 0.0194 passband ripple and 53 dB stopband attenuation\n- Lower passband edge: 1.00\n- Lower transition bandwidth: 1.00 Hz (-6 dB cutoff frequency: 0.50 Hz)\n- Upper passband edge: 40.00 Hz\n- Upper transition bandwidth: 10.00 Hz (-6 dB cutoff frequency: 45.00 Hz)\n- Filter length: 529 samples (3.306 s)\n\n",
     "output_type": "stream"
    },
    {
     "name": "stderr",
     "text": "[Parallel(n_jobs=1)]: Done  17 tasks      | elapsed:    0.0s\n[Parallel(n_jobs=1)]: Done  64 out of  64 | elapsed:    0.0s finished\n[Parallel(n_jobs=1)]: Done  17 tasks      | elapsed:    0.0s\n[Parallel(n_jobs=1)]: Done  64 out of  64 | elapsed:    0.0s finished\n",
     "output_type": "stream"
    },
    {
     "name": "stdout",
     "text": "Used Annotations descriptions: ['T1', 'T2']\nFiltering raw data in 1 contiguous segment\nSetting up band-pass filter from 1 - 40 Hz\n\nFIR filter parameters\n---------------------\nDesigning a one-pass, zero-phase, non-causal bandpass filter:\n- Windowed time-domain design (firwin) method\n- Hamming window with 0.0194 passband ripple and 53 dB stopband attenuation\n- Lower passband edge: 1.00\n- Lower transition bandwidth: 1.00 Hz (-6 dB cutoff frequency: 0.50 Hz)\n- Upper passband edge: 40.00 Hz\n- Upper transition bandwidth: 10.00 Hz (-6 dB cutoff frequency: 45.00 Hz)\n- Filter length: 529 samples (3.306 s)\n\nUsed Annotations descriptions: ['T1', 'T2']\nFiltering raw data in 1 contiguous segment\nSetting up band-pass filter from 1 - 40 Hz\n\nFIR filter parameters\n---------------------\nDesigning a one-pass, zero-phase, non-causal bandpass filter:\n- Windowed time-domain design (firwin) method\n- Hamming window with 0.0194 passband ripple and 53 dB stopband attenuation\n- Lower passband edge: 1.00\n- Lower transition bandwidth: 1.00 Hz (-6 dB cutoff frequency: 0.50 Hz)\n- Upper passband edge: 40.00 Hz\n- Upper transition bandwidth: 10.00 Hz (-6 dB cutoff frequency: 45.00 Hz)\n- Filter length: 529 samples (3.306 s)\n\n",
     "output_type": "stream"
    },
    {
     "name": "stderr",
     "text": "[Parallel(n_jobs=1)]: Done  17 tasks      | elapsed:    0.0s\n[Parallel(n_jobs=1)]: Done  64 out of  64 | elapsed:    0.1s finished\n[Parallel(n_jobs=1)]: Done  17 tasks      | elapsed:    0.0s\n[Parallel(n_jobs=1)]: Done  64 out of  64 | elapsed:    0.0s finished\n",
     "output_type": "stream"
    },
    {
     "name": "stdout",
     "text": "Used Annotations descriptions: ['T1', 'T2']\nFiltering raw data in 1 contiguous segment\nSetting up band-pass filter from 1 - 40 Hz\n\nFIR filter parameters\n---------------------\nDesigning a one-pass, zero-phase, non-causal bandpass filter:\n- Windowed time-domain design (firwin) method\n- Hamming window with 0.0194 passband ripple and 53 dB stopband attenuation\n- Lower passband edge: 1.00\n- Lower transition bandwidth: 1.00 Hz (-6 dB cutoff frequency: 0.50 Hz)\n- Upper passband edge: 40.00 Hz\n- Upper transition bandwidth: 10.00 Hz (-6 dB cutoff frequency: 45.00 Hz)\n- Filter length: 529 samples (3.306 s)\n\nUsed Annotations descriptions: ['T1', 'T2']\n",
     "output_type": "stream"
    },
    {
     "name": "stderr",
     "text": "[Parallel(n_jobs=1)]: Done  17 tasks      | elapsed:    0.0s\n[Parallel(n_jobs=1)]: Done  64 out of  64 | elapsed:    0.1s finished\n[Parallel(n_jobs=1)]: Done  17 tasks      | elapsed:    0.0s\n[Parallel(n_jobs=1)]: Done  64 out of  64 | elapsed:    0.1s finished\n",
     "output_type": "stream"
    },
    {
     "name": "stdout",
     "text": "Filtering raw data in 1 contiguous segment\nSetting up band-pass filter from 1 - 40 Hz\n\nFIR filter parameters\n---------------------\nDesigning a one-pass, zero-phase, non-causal bandpass filter:\n- Windowed time-domain design (firwin) method\n- Hamming window with 0.0194 passband ripple and 53 dB stopband attenuation\n- Lower passband edge: 1.00\n- Lower transition bandwidth: 1.00 Hz (-6 dB cutoff frequency: 0.50 Hz)\n- Upper passband edge: 40.00 Hz\n- Upper transition bandwidth: 10.00 Hz (-6 dB cutoff frequency: 45.00 Hz)\n- Filter length: 529 samples (3.306 s)\n\nUsed Annotations descriptions: ['T1', 'T2']\nFiltering raw data in 1 contiguous segment\nSetting up band-pass filter from 1 - 40 Hz\n\nFIR filter parameters\n---------------------\nDesigning a one-pass, zero-phase, non-causal bandpass filter:\n- Windowed time-domain design (firwin) method\n- Hamming window with 0.0194 passband ripple and 53 dB stopband attenuation\n- Lower passband edge: 1.00\n- Lower transition bandwidth: 1.00 Hz (-6 dB cutoff frequency: 0.50 Hz)\n- Upper passband edge: 40.00 Hz\n- Upper transition bandwidth: 10.00 Hz (-6 dB cutoff frequency: 45.00 Hz)\n- Filter length: 529 samples (3.306 s)\n\nUsed Annotations descriptions: ['T1', 'T2']\nFiltering raw data in 1 contiguous segment\nSetting up band-pass filter from 1 - 40 Hz\n",
     "output_type": "stream"
    },
    {
     "name": "stderr",
     "text": "[Parallel(n_jobs=1)]: Done  17 tasks      | elapsed:    0.0s\n[Parallel(n_jobs=1)]: Done  64 out of  64 | elapsed:    0.1s finished\n[Parallel(n_jobs=1)]: Done  17 tasks      | elapsed:    0.0s\n[Parallel(n_jobs=1)]: Done  64 out of  64 | elapsed:    0.1s finished\n",
     "output_type": "stream"
    },
    {
     "name": "stdout",
     "text": "\nFIR filter parameters\n---------------------\nDesigning a one-pass, zero-phase, non-causal bandpass filter:\n- Windowed time-domain design (firwin) method\n- Hamming window with 0.0194 passband ripple and 53 dB stopband attenuation\n- Lower passband edge: 1.00\n- Lower transition bandwidth: 1.00 Hz (-6 dB cutoff frequency: 0.50 Hz)\n- Upper passband edge: 40.00 Hz\n- Upper transition bandwidth: 10.00 Hz (-6 dB cutoff frequency: 45.00 Hz)\n- Filter length: 529 samples (3.306 s)\n\nUsed Annotations descriptions: ['T1', 'T2']\nFiltering raw data in 1 contiguous segment\nSetting up band-pass filter from 1 - 40 Hz\n\nFIR filter parameters\n---------------------\nDesigning a one-pass, zero-phase, non-causal bandpass filter:\n- Windowed time-domain design (firwin) method\n- Hamming window with 0.0194 passband ripple and 53 dB stopband attenuation\n- Lower passband edge: 1.00\n- Lower transition bandwidth: 1.00 Hz (-6 dB cutoff frequency: 0.50 Hz)\n- Upper passband edge: 40.00 Hz\n- Upper transition bandwidth: 10.00 Hz (-6 dB cutoff frequency: 45.00 Hz)\n- Filter length: 529 samples (3.306 s)\n\nUsed Annotations descriptions: ['T1', 'T2']\nFiltering raw data in 1 contiguous segment\nSetting up band-pass filter from 1 - 40 Hz\n\nFIR filter parameters\n---------------------\nDesigning a one-pass, zero-phase, non-causal bandpass filter:\n- Windowed time-domain design (firwin) method\n- Hamming window with 0.0194 passband ripple and 53 dB stopband attenuation\n- Lower passband edge: 1.00\n- Lower transition bandwidth: 1.00 Hz (-6 dB cutoff frequency: 0.50 Hz)\n- Upper passband edge: 40.00 Hz\n- Upper transition bandwidth: 10.00 Hz (-6 dB cutoff frequency: 45.00 Hz)\n- Filter length: 529 samples (3.306 s)\n\n",
     "output_type": "stream"
    },
    {
     "name": "stderr",
     "text": "[Parallel(n_jobs=1)]: Done  17 tasks      | elapsed:    0.0s\n[Parallel(n_jobs=1)]: Done  64 out of  64 | elapsed:    0.1s finished\n[Parallel(n_jobs=1)]: Done  17 tasks      | elapsed:    0.0s\n[Parallel(n_jobs=1)]: Done  64 out of  64 | elapsed:    0.1s finished\n",
     "output_type": "stream"
    },
    {
     "name": "stdout",
     "text": "Used Annotations descriptions: ['T1', 'T2']\nFiltering raw data in 1 contiguous segment\nSetting up band-pass filter from 1 - 40 Hz\n\nFIR filter parameters\n---------------------\nDesigning a one-pass, zero-phase, non-causal bandpass filter:\n- Windowed time-domain design (firwin) method\n- Hamming window with 0.0194 passband ripple and 53 dB stopband attenuation\n- Lower passband edge: 1.00\n- Lower transition bandwidth: 1.00 Hz (-6 dB cutoff frequency: 0.50 Hz)\n- Upper passband edge: 40.00 Hz\n- Upper transition bandwidth: 10.00 Hz (-6 dB cutoff frequency: 45.00 Hz)\n- Filter length: 529 samples (3.306 s)\n\nUsed Annotations descriptions: ['T1', 'T2']\nFiltering raw data in 1 contiguous segment\nSetting up band-pass filter from 1 - 40 Hz\n\nFIR filter parameters\n---------------------\nDesigning a one-pass, zero-phase, non-causal bandpass filter:\n- Windowed time-domain design (firwin) method\n- Hamming window with 0.0194 passband ripple and 53 dB stopband attenuation\n- Lower passband edge: 1.00\n- Lower transition bandwidth: 1.00 Hz (-6 dB cutoff frequency: 0.50 Hz)\n- Upper passband edge: 40.00 Hz\n- Upper transition bandwidth: 10.00 Hz (-6 dB cutoff frequency: 45.00 Hz)\n- Filter length: 529 samples (3.306 s)\n\n",
     "output_type": "stream"
    },
    {
     "name": "stderr",
     "text": "[Parallel(n_jobs=1)]: Done  17 tasks      | elapsed:    0.0s\n[Parallel(n_jobs=1)]: Done  64 out of  64 | elapsed:    0.0s finished\n[Parallel(n_jobs=1)]: Done  17 tasks      | elapsed:    0.0s\n[Parallel(n_jobs=1)]: Done  64 out of  64 | elapsed:    0.0s finished\n",
     "output_type": "stream"
    },
    {
     "name": "stdout",
     "text": "Used Annotations descriptions: ['T1', 'T2']\nFiltering raw data in 1 contiguous segment\nSetting up band-pass filter from 1 - 40 Hz\n\nFIR filter parameters\n---------------------\nDesigning a one-pass, zero-phase, non-causal bandpass filter:\n- Windowed time-domain design (firwin) method\n- Hamming window with 0.0194 passband ripple and 53 dB stopband attenuation\n- Lower passband edge: 1.00\n- Lower transition bandwidth: 1.00 Hz (-6 dB cutoff frequency: 0.50 Hz)\n- Upper passband edge: 40.00 Hz\n- Upper transition bandwidth: 10.00 Hz (-6 dB cutoff frequency: 45.00 Hz)\n- Filter length: 529 samples (3.306 s)\n\nUsed Annotations descriptions: ['T1', 'T2']\nFiltering raw data in 1 contiguous segment\nSetting up band-pass filter from 1 - 40 Hz\n\nFIR filter parameters\n---------------------\nDesigning a one-pass, zero-phase, non-causal bandpass filter:\n- Windowed time-domain design (firwin) method\n- Hamming window with 0.0194 passband ripple and 53 dB stopband attenuation\n- Lower passband edge: 1.00\n- Lower transition bandwidth: 1.00 Hz (-6 dB cutoff frequency: 0.50 Hz)\n- Upper passband edge: 40.00 Hz\n- Upper transition bandwidth: 10.00 Hz (-6 dB cutoff frequency: 45.00 Hz)\n- Filter length: 529 samples (3.306 s)\n\n",
     "output_type": "stream"
    },
    {
     "name": "stderr",
     "text": "[Parallel(n_jobs=1)]: Done  17 tasks      | elapsed:    0.0s\n[Parallel(n_jobs=1)]: Done  64 out of  64 | elapsed:    0.0s finished\n[Parallel(n_jobs=1)]: Done  17 tasks      | elapsed:    0.0s\n[Parallel(n_jobs=1)]: Done  64 out of  64 | elapsed:    0.0s finished\n",
     "output_type": "stream"
    },
    {
     "name": "stdout",
     "text": "Used Annotations descriptions: ['T1', 'T2']\nFiltering raw data in 1 contiguous segment\nSetting up band-pass filter from 1 - 40 Hz\n\nFIR filter parameters\n---------------------\nDesigning a one-pass, zero-phase, non-causal bandpass filter:\n- Windowed time-domain design (firwin) method\n- Hamming window with 0.0194 passband ripple and 53 dB stopband attenuation\n- Lower passband edge: 1.00\n- Lower transition bandwidth: 1.00 Hz (-6 dB cutoff frequency: 0.50 Hz)\n- Upper passband edge: 40.00 Hz\n- Upper transition bandwidth: 10.00 Hz (-6 dB cutoff frequency: 45.00 Hz)\n- Filter length: 529 samples (3.306 s)\n\nUsed Annotations descriptions: ['T1', 'T2']\nFiltering raw data in 1 contiguous segment\nSetting up band-pass filter from 1 - 40 Hz\n\nFIR filter parameters\n---------------------\nDesigning a one-pass, zero-phase, non-causal bandpass filter:\n- Windowed time-domain design (firwin) method\n- Hamming window with 0.0194 passband ripple and 53 dB stopband attenuation\n- Lower passband edge: 1.00\n- Lower transition bandwidth: 1.00 Hz (-6 dB cutoff frequency: 0.50 Hz)\n- Upper passband edge: 40.00 Hz\n- Upper transition bandwidth: 10.00 Hz (-6 dB cutoff frequency: 45.00 Hz)\n- Filter length: 529 samples (3.306 s)\n\n",
     "output_type": "stream"
    },
    {
     "name": "stderr",
     "text": "[Parallel(n_jobs=1)]: Done  17 tasks      | elapsed:    0.0s\n[Parallel(n_jobs=1)]: Done  64 out of  64 | elapsed:    0.1s finished\n[Parallel(n_jobs=1)]: Done  17 tasks      | elapsed:    0.0s\n[Parallel(n_jobs=1)]: Done  64 out of  64 | elapsed:    0.0s finished\n",
     "output_type": "stream"
    },
    {
     "name": "stdout",
     "text": "Used Annotations descriptions: ['T1', 'T2']\nFiltering raw data in 1 contiguous segment\nSetting up band-pass filter from 1 - 40 Hz\n\nFIR filter parameters\n---------------------\nDesigning a one-pass, zero-phase, non-causal bandpass filter:\n- Windowed time-domain design (firwin) method\n- Hamming window with 0.0194 passband ripple and 53 dB stopband attenuation\n- Lower passband edge: 1.00\n- Lower transition bandwidth: 1.00 Hz (-6 dB cutoff frequency: 0.50 Hz)\n- Upper passband edge: 40.00 Hz\n- Upper transition bandwidth: 10.00 Hz (-6 dB cutoff frequency: 45.00 Hz)\n- Filter length: 529 samples (3.306 s)\n\nUsed Annotations descriptions: ['T1', 'T2']\nFiltering raw data in 1 contiguous segment\nSetting up band-pass filter from 1 - 40 Hz\n\nFIR filter parameters\n---------------------\nDesigning a one-pass, zero-phase, non-causal bandpass filter:\n- Windowed time-domain design (firwin) method\n- Hamming window with 0.0194 passband ripple and 53 dB stopband attenuation\n- Lower passband edge: 1.00\n- Lower transition bandwidth: 1.00 Hz (-6 dB cutoff frequency: 0.50 Hz)\n- Upper passband edge: 40.00 Hz\n- Upper transition bandwidth: 10.00 Hz (-6 dB cutoff frequency: 45.00 Hz)\n- Filter length: 529 samples (3.306 s)\n\n",
     "output_type": "stream"
    },
    {
     "name": "stderr",
     "text": "[Parallel(n_jobs=1)]: Done  17 tasks      | elapsed:    0.0s\n[Parallel(n_jobs=1)]: Done  64 out of  64 | elapsed:    0.0s finished\n[Parallel(n_jobs=1)]: Done  17 tasks      | elapsed:    0.0s\n[Parallel(n_jobs=1)]: Done  64 out of  64 | elapsed:    0.0s finished\n",
     "output_type": "stream"
    },
    {
     "name": "stdout",
     "text": "Used Annotations descriptions: ['T1', 'T2']\nFiltering raw data in 1 contiguous segment\nSetting up band-pass filter from 1 - 40 Hz\n\nFIR filter parameters\n---------------------\nDesigning a one-pass, zero-phase, non-causal bandpass filter:\n- Windowed time-domain design (firwin) method\n- Hamming window with 0.0194 passband ripple and 53 dB stopband attenuation\n- Lower passband edge: 1.00\n- Lower transition bandwidth: 1.00 Hz (-6 dB cutoff frequency: 0.50 Hz)\n- Upper passband edge: 40.00 Hz\n- Upper transition bandwidth: 10.00 Hz (-6 dB cutoff frequency: 45.00 Hz)\n- Filter length: 529 samples (3.306 s)\n\nUsed Annotations descriptions: ['T1', 'T2']\nFiltering raw data in 1 contiguous segment\nSetting up band-pass filter from 1 - 40 Hz\n\nFIR filter parameters\n---------------------\nDesigning a one-pass, zero-phase, non-causal bandpass filter:\n- Windowed time-domain design (firwin) method\n- Hamming window with 0.0194 passband ripple and 53 dB stopband attenuation\n- Lower passband edge: 1.00\n- Lower transition bandwidth: 1.00 Hz (-6 dB cutoff frequency: 0.50 Hz)\n- Upper passband edge: 40.00 Hz\n- Upper transition bandwidth: 10.00 Hz (-6 dB cutoff frequency: 45.00 Hz)\n- Filter length: 529 samples (3.306 s)\n\n",
     "output_type": "stream"
    },
    {
     "name": "stderr",
     "text": "[Parallel(n_jobs=1)]: Done  17 tasks      | elapsed:    0.0s\n[Parallel(n_jobs=1)]: Done  64 out of  64 | elapsed:    0.1s finished\n[Parallel(n_jobs=1)]: Done  17 tasks      | elapsed:    0.0s\n[Parallel(n_jobs=1)]: Done  64 out of  64 | elapsed:    0.1s finished\n",
     "output_type": "stream"
    },
    {
     "name": "stdout",
     "text": "Used Annotations descriptions: ['T1', 'T2']\nFiltering raw data in 1 contiguous segment\nSetting up band-pass filter from 1 - 40 Hz\n\nFIR filter parameters\n---------------------\nDesigning a one-pass, zero-phase, non-causal bandpass filter:\n- Windowed time-domain design (firwin) method\n- Hamming window with 0.0194 passband ripple and 53 dB stopband attenuation\n- Lower passband edge: 1.00\n- Lower transition bandwidth: 1.00 Hz (-6 dB cutoff frequency: 0.50 Hz)\n- Upper passband edge: 40.00 Hz\n- Upper transition bandwidth: 10.00 Hz (-6 dB cutoff frequency: 45.00 Hz)\n- Filter length: 529 samples (3.306 s)\n\nUsed Annotations descriptions: ['T1', 'T2']\nFiltering raw data in 1 contiguous segment\nSetting up band-pass filter from 1 - 40 Hz\n\nFIR filter parameters\n---------------------\nDesigning a one-pass, zero-phase, non-causal bandpass filter:\n- Windowed time-domain design (firwin) method\n- Hamming window with 0.0194 passband ripple and 53 dB stopband attenuation\n- Lower passband edge: 1.00\n- Lower transition bandwidth: 1.00 Hz (-6 dB cutoff frequency: 0.50 Hz)\n- Upper passband edge: 40.00 Hz\n- Upper transition bandwidth: 10.00 Hz (-6 dB cutoff frequency: 45.00 Hz)\n- Filter length: 529 samples (3.306 s)\n\n",
     "output_type": "stream"
    },
    {
     "name": "stderr",
     "text": "[Parallel(n_jobs=1)]: Done  17 tasks      | elapsed:    0.0s\n[Parallel(n_jobs=1)]: Done  64 out of  64 | elapsed:    0.0s finished\n[Parallel(n_jobs=1)]: Done  17 tasks      | elapsed:    0.0s\n[Parallel(n_jobs=1)]: Done  64 out of  64 | elapsed:    0.0s finished\n",
     "output_type": "stream"
    },
    {
     "name": "stdout",
     "text": "Used Annotations descriptions: ['T1', 'T2']\nFiltering raw data in 1 contiguous segment\nSetting up band-pass filter from 1 - 40 Hz\n\nFIR filter parameters\n---------------------\nDesigning a one-pass, zero-phase, non-causal bandpass filter:\n- Windowed time-domain design (firwin) method\n- Hamming window with 0.0194 passband ripple and 53 dB stopband attenuation\n- Lower passband edge: 1.00\n- Lower transition bandwidth: 1.00 Hz (-6 dB cutoff frequency: 0.50 Hz)\n- Upper passband edge: 40.00 Hz\n- Upper transition bandwidth: 10.00 Hz (-6 dB cutoff frequency: 45.00 Hz)\n- Filter length: 529 samples (3.306 s)\n\nUsed Annotations descriptions: ['T1', 'T2']\nFiltering raw data in 1 contiguous segment\nSetting up band-pass filter from 1 - 40 Hz\n\nFIR filter parameters\n---------------------\nDesigning a one-pass, zero-phase, non-causal bandpass filter:\n- Windowed time-domain design (firwin) method\n- Hamming window with 0.0194 passband ripple and 53 dB stopband attenuation\n- Lower passband edge: 1.00\n- Lower transition bandwidth: 1.00 Hz (-6 dB cutoff frequency: 0.50 Hz)\n- Upper passband edge: 40.00 Hz\n- Upper transition bandwidth: 10.00 Hz (-6 dB cutoff frequency: 45.00 Hz)\n- Filter length: 529 samples (3.306 s)\n\n",
     "output_type": "stream"
    },
    {
     "name": "stderr",
     "text": "[Parallel(n_jobs=1)]: Done  17 tasks      | elapsed:    0.0s\n[Parallel(n_jobs=1)]: Done  64 out of  64 | elapsed:    0.0s finished\n[Parallel(n_jobs=1)]: Done  17 tasks      | elapsed:    0.0s\n[Parallel(n_jobs=1)]: Done  64 out of  64 | elapsed:    0.0s finished\n[Parallel(n_jobs=1)]: Done  17 tasks      | elapsed:    0.0s\n",
     "output_type": "stream"
    },
    {
     "name": "stdout",
     "text": "Used Annotations descriptions: ['T1', 'T2']\nFiltering raw data in 1 contiguous segment\nSetting up band-pass filter from 1 - 40 Hz\n\nFIR filter parameters\n---------------------\nDesigning a one-pass, zero-phase, non-causal bandpass filter:\n- Windowed time-domain design (firwin) method\n- Hamming window with 0.0194 passband ripple and 53 dB stopband attenuation\n- Lower passband edge: 1.00\n- Lower transition bandwidth: 1.00 Hz (-6 dB cutoff frequency: 0.50 Hz)\n- Upper passband edge: 40.00 Hz\n- Upper transition bandwidth: 10.00 Hz (-6 dB cutoff frequency: 45.00 Hz)\n- Filter length: 529 samples (3.306 s)\n\nUsed Annotations descriptions: ['T1', 'T2']\nFiltering raw data in 1 contiguous segment\nSetting up band-pass filter from 1 - 40 Hz\n\nFIR filter parameters\n---------------------\nDesigning a one-pass, zero-phase, non-causal bandpass filter:\n- Windowed time-domain design (firwin) method\n- Hamming window with 0.0194 passband ripple and 53 dB stopband attenuation\n- Lower passband edge: 1.00\n- Lower transition bandwidth: 1.00 Hz (-6 dB cutoff frequency: 0.50 Hz)\n- Upper passband edge: 40.00 Hz\n- Upper transition bandwidth: 10.00 Hz (-6 dB cutoff frequency: 45.00 Hz)\n- Filter length: 529 samples (3.306 s)\n\n",
     "output_type": "stream"
    },
    {
     "name": "stderr",
     "text": "[Parallel(n_jobs=1)]: Done  64 out of  64 | elapsed:    0.0s finished\n[Parallel(n_jobs=1)]: Done  17 tasks      | elapsed:    0.0s\n[Parallel(n_jobs=1)]: Done  64 out of  64 | elapsed:    0.0s finished\n[Parallel(n_jobs=1)]: Done  17 tasks      | elapsed:    0.0s\n",
     "output_type": "stream"
    },
    {
     "name": "stdout",
     "text": "Used Annotations descriptions: ['T1', 'T2']\nFiltering raw data in 1 contiguous segment\nSetting up band-pass filter from 1 - 40 Hz\n\nFIR filter parameters\n---------------------\nDesigning a one-pass, zero-phase, non-causal bandpass filter:\n- Windowed time-domain design (firwin) method\n- Hamming window with 0.0194 passband ripple and 53 dB stopband attenuation\n- Lower passband edge: 1.00\n- Lower transition bandwidth: 1.00 Hz (-6 dB cutoff frequency: 0.50 Hz)\n- Upper passband edge: 40.00 Hz\n- Upper transition bandwidth: 10.00 Hz (-6 dB cutoff frequency: 45.00 Hz)\n- Filter length: 529 samples (3.306 s)\n\nUsed Annotations descriptions: ['T1', 'T2']\nFiltering raw data in 1 contiguous segment\nSetting up band-pass filter from 1 - 40 Hz\n\nFIR filter parameters\n---------------------\nDesigning a one-pass, zero-phase, non-causal bandpass filter:\n- Windowed time-domain design (firwin) method\n- Hamming window with 0.0194 passband ripple and 53 dB stopband attenuation\n- Lower passband edge: 1.00\n- Lower transition bandwidth: 1.00 Hz (-6 dB cutoff frequency: 0.50 Hz)\n- Upper passband edge: 40.00 Hz\n- Upper transition bandwidth: 10.00 Hz (-6 dB cutoff frequency: 45.00 Hz)\n- Filter length: 529 samples (3.306 s)\n\n",
     "output_type": "stream"
    },
    {
     "name": "stderr",
     "text": "[Parallel(n_jobs=1)]: Done  64 out of  64 | elapsed:    0.0s finished\n[Parallel(n_jobs=1)]: Done  17 tasks      | elapsed:    0.0s\n[Parallel(n_jobs=1)]: Done  64 out of  64 | elapsed:    0.0s finished\n[Parallel(n_jobs=1)]: Done  17 tasks      | elapsed:    0.0s\n[Parallel(n_jobs=1)]: Done  64 out of  64 | elapsed:    0.0s finished\n",
     "output_type": "stream"
    },
    {
     "name": "stdout",
     "text": "Used Annotations descriptions: ['T1', 'T2']\nFiltering raw data in 1 contiguous segment\nSetting up band-pass filter from 1 - 40 Hz\n\nFIR filter parameters\n---------------------\nDesigning a one-pass, zero-phase, non-causal bandpass filter:\n- Windowed time-domain design (firwin) method\n- Hamming window with 0.0194 passband ripple and 53 dB stopband attenuation\n- Lower passband edge: 1.00\n- Lower transition bandwidth: 1.00 Hz (-6 dB cutoff frequency: 0.50 Hz)\n- Upper passband edge: 40.00 Hz\n- Upper transition bandwidth: 10.00 Hz (-6 dB cutoff frequency: 45.00 Hz)\n- Filter length: 529 samples (3.306 s)\n\nUsed Annotations descriptions: ['T1', 'T2']\nFiltering raw data in 1 contiguous segment\nSetting up band-pass filter from 1 - 40 Hz\n\nFIR filter parameters\n---------------------\nDesigning a one-pass, zero-phase, non-causal bandpass filter:\n- Windowed time-domain design (firwin) method\n- Hamming window with 0.0194 passband ripple and 53 dB stopband attenuation\n- Lower passband edge: 1.00\n- Lower transition bandwidth: 1.00 Hz (-6 dB cutoff frequency: 0.50 Hz)\n- Upper passband edge: 40.00 Hz\n- Upper transition bandwidth: 10.00 Hz (-6 dB cutoff frequency: 45.00 Hz)\n- Filter length: 529 samples (3.306 s)\n\nUsed Annotations descriptions: ['T1', 'T2']\nFiltering raw data in 1 contiguous segment\nSetting up band-pass filter from 1 - 40 Hz\n\nFIR filter parameters\n---------------------\nDesigning a one-pass, zero-phase, non-causal bandpass filter:\n- Windowed time-domain design (firwin) method\n- Hamming window with 0.0194 passband ripple and 53 dB stopband attenuation\n- Lower passband edge: 1.00\n- Lower transition bandwidth: 1.00 Hz (-6 dB cutoff frequency: 0.50 Hz)\n- Upper passband edge: 40.00 Hz\n- Upper transition bandwidth: 10.00 Hz (-6 dB cutoff frequency: 45.00 Hz)\n- Filter length: 529 samples (3.306 s)\n\n",
     "output_type": "stream"
    },
    {
     "name": "stderr",
     "text": "[Parallel(n_jobs=1)]: Done  17 tasks      | elapsed:    0.0s\n[Parallel(n_jobs=1)]: Done  64 out of  64 | elapsed:    0.0s finished\n[Parallel(n_jobs=1)]: Done  17 tasks      | elapsed:    0.0s\n[Parallel(n_jobs=1)]: Done  64 out of  64 | elapsed:    0.0s finished\n[Parallel(n_jobs=1)]: Done  17 tasks      | elapsed:    0.0s\n",
     "output_type": "stream"
    },
    {
     "name": "stdout",
     "text": "Used Annotations descriptions: ['T1', 'T2']\nFiltering raw data in 1 contiguous segment\nSetting up band-pass filter from 1 - 40 Hz\n\nFIR filter parameters\n---------------------\nDesigning a one-pass, zero-phase, non-causal bandpass filter:\n- Windowed time-domain design (firwin) method\n- Hamming window with 0.0194 passband ripple and 53 dB stopband attenuation\n- Lower passband edge: 1.00\n- Lower transition bandwidth: 1.00 Hz (-6 dB cutoff frequency: 0.50 Hz)\n- Upper passband edge: 40.00 Hz\n- Upper transition bandwidth: 10.00 Hz (-6 dB cutoff frequency: 45.00 Hz)\n- Filter length: 529 samples (3.306 s)\n\nUsed Annotations descriptions: ['T1', 'T2']\nFiltering raw data in 1 contiguous segment\nSetting up band-pass filter from 1 - 40 Hz\n\nFIR filter parameters\n---------------------\nDesigning a one-pass, zero-phase, non-causal bandpass filter:\n- Windowed time-domain design (firwin) method\n- Hamming window with 0.0194 passband ripple and 53 dB stopband attenuation\n- Lower passband edge: 1.00\n- Lower transition bandwidth: 1.00 Hz (-6 dB cutoff frequency: 0.50 Hz)\n- Upper passband edge: 40.00 Hz\n- Upper transition bandwidth: 10.00 Hz (-6 dB cutoff frequency: 45.00 Hz)\n- Filter length: 529 samples (3.306 s)\n\nUsed Annotations descriptions: ['T1', 'T2']\n",
     "output_type": "stream"
    },
    {
     "name": "stderr",
     "text": "[Parallel(n_jobs=1)]: Done  64 out of  64 | elapsed:    0.0s finished\n[Parallel(n_jobs=1)]: Done  17 tasks      | elapsed:    0.0s\n[Parallel(n_jobs=1)]: Done  64 out of  64 | elapsed:    0.0s finished\n[Parallel(n_jobs=1)]: Done  17 tasks      | elapsed:    0.0s\n[Parallel(n_jobs=1)]: Done  64 out of  64 | elapsed:    0.0s finished\n",
     "output_type": "stream"
    },
    {
     "name": "stdout",
     "text": "Filtering raw data in 1 contiguous segment\nSetting up band-pass filter from 1 - 40 Hz\n\nFIR filter parameters\n---------------------\nDesigning a one-pass, zero-phase, non-causal bandpass filter:\n- Windowed time-domain design (firwin) method\n- Hamming window with 0.0194 passband ripple and 53 dB stopband attenuation\n- Lower passband edge: 1.00\n- Lower transition bandwidth: 1.00 Hz (-6 dB cutoff frequency: 0.50 Hz)\n- Upper passband edge: 40.00 Hz\n- Upper transition bandwidth: 10.00 Hz (-6 dB cutoff frequency: 45.00 Hz)\n- Filter length: 529 samples (3.306 s)\n\nUsed Annotations descriptions: ['T1', 'T2']\nFiltering raw data in 1 contiguous segment\nSetting up band-pass filter from 1 - 40 Hz\n\nFIR filter parameters\n---------------------\nDesigning a one-pass, zero-phase, non-causal bandpass filter:\n- Windowed time-domain design (firwin) method\n- Hamming window with 0.0194 passband ripple and 53 dB stopband attenuation\n- Lower passband edge: 1.00\n- Lower transition bandwidth: 1.00 Hz (-6 dB cutoff frequency: 0.50 Hz)\n- Upper passband edge: 40.00 Hz\n- Upper transition bandwidth: 10.00 Hz (-6 dB cutoff frequency: 45.00 Hz)\n- Filter length: 529 samples (3.306 s)\n\nUsed Annotations descriptions: ['T1', 'T2']\nFiltering raw data in 1 contiguous segment\nSetting up band-pass filter from 1 - 40 Hz\n\nFIR filter parameters\n---------------------\nDesigning a one-pass, zero-phase, non-causal bandpass filter:\n- Windowed time-domain design (firwin) method\n- Hamming window with 0.0194 passband ripple and 53 dB stopband attenuation\n- Lower passband edge: 1.00\n- Lower transition bandwidth: 1.00 Hz (-6 dB cutoff frequency: 0.50 Hz)\n- Upper passband edge: 40.00 Hz\n- Upper transition bandwidth: 10.00 Hz (-6 dB cutoff frequency: 45.00 Hz)\n- Filter length: 529 samples (3.306 s)\n\n",
     "output_type": "stream"
    },
    {
     "name": "stderr",
     "text": "[Parallel(n_jobs=1)]: Done  17 tasks      | elapsed:    0.0s\n[Parallel(n_jobs=1)]: Done  64 out of  64 | elapsed:    0.0s finished\n[Parallel(n_jobs=1)]: Done  17 tasks      | elapsed:    0.0s\n[Parallel(n_jobs=1)]: Done  64 out of  64 | elapsed:    0.0s finished\n",
     "output_type": "stream"
    },
    {
     "name": "stdout",
     "text": "Used Annotations descriptions: ['T1', 'T2']\nFiltering raw data in 1 contiguous segment\nSetting up band-pass filter from 1 - 40 Hz\n\nFIR filter parameters\n---------------------\nDesigning a one-pass, zero-phase, non-causal bandpass filter:\n- Windowed time-domain design (firwin) method\n- Hamming window with 0.0194 passband ripple and 53 dB stopband attenuation\n- Lower passband edge: 1.00\n- Lower transition bandwidth: 1.00 Hz (-6 dB cutoff frequency: 0.50 Hz)\n- Upper passband edge: 40.00 Hz\n- Upper transition bandwidth: 10.00 Hz (-6 dB cutoff frequency: 45.00 Hz)\n- Filter length: 529 samples (3.306 s)\n\nUsed Annotations descriptions: ['T1', 'T2']\nFiltering raw data in 1 contiguous segment\nSetting up band-pass filter from 1 - 40 Hz\n\nFIR filter parameters\n---------------------\nDesigning a one-pass, zero-phase, non-causal bandpass filter:\n- Windowed time-domain design (firwin) method\n- Hamming window with 0.0194 passband ripple and 53 dB stopband attenuation\n- Lower passband edge: 1.00\n- Lower transition bandwidth: 1.00 Hz (-6 dB cutoff frequency: 0.50 Hz)\n- Upper passband edge: 40.00 Hz\n- Upper transition bandwidth: 10.00 Hz (-6 dB cutoff frequency: 45.00 Hz)\n- Filter length: 529 samples (3.306 s)\n\n",
     "output_type": "stream"
    },
    {
     "name": "stderr",
     "text": "[Parallel(n_jobs=1)]: Done  17 tasks      | elapsed:    0.0s\n[Parallel(n_jobs=1)]: Done  64 out of  64 | elapsed:    0.0s finished\n[Parallel(n_jobs=1)]: Done  17 tasks      | elapsed:    0.0s\n[Parallel(n_jobs=1)]: Done  64 out of  64 | elapsed:    0.0s finished\n[Parallel(n_jobs=1)]: Done  17 tasks      | elapsed:    0.0s\n",
     "output_type": "stream"
    },
    {
     "name": "stdout",
     "text": "Used Annotations descriptions: ['T1', 'T2']\nFiltering raw data in 1 contiguous segment\nSetting up band-pass filter from 1 - 40 Hz\n\nFIR filter parameters\n---------------------\nDesigning a one-pass, zero-phase, non-causal bandpass filter:\n- Windowed time-domain design (firwin) method\n- Hamming window with 0.0194 passband ripple and 53 dB stopband attenuation\n- Lower passband edge: 1.00\n- Lower transition bandwidth: 1.00 Hz (-6 dB cutoff frequency: 0.50 Hz)\n- Upper passband edge: 40.00 Hz\n- Upper transition bandwidth: 10.00 Hz (-6 dB cutoff frequency: 45.00 Hz)\n- Filter length: 529 samples (3.306 s)\n\nUsed Annotations descriptions: ['T1', 'T2']\nFiltering raw data in 1 contiguous segment\nSetting up band-pass filter from 1 - 40 Hz\n\nFIR filter parameters\n---------------------\nDesigning a one-pass, zero-phase, non-causal bandpass filter:\n- Windowed time-domain design (firwin) method\n- Hamming window with 0.0194 passband ripple and 53 dB stopband attenuation\n- Lower passband edge: 1.00\n- Lower transition bandwidth: 1.00 Hz (-6 dB cutoff frequency: 0.50 Hz)\n- Upper passband edge: 40.00 Hz\n- Upper transition bandwidth: 10.00 Hz (-6 dB cutoff frequency: 45.00 Hz)\n- Filter length: 529 samples (3.306 s)\n\n",
     "output_type": "stream"
    },
    {
     "name": "stderr",
     "text": "[Parallel(n_jobs=1)]: Done  64 out of  64 | elapsed:    0.0s finished\n[Parallel(n_jobs=1)]: Done  17 tasks      | elapsed:    0.0s\n[Parallel(n_jobs=1)]: Done  64 out of  64 | elapsed:    0.0s finished\n[Parallel(n_jobs=1)]: Done  17 tasks      | elapsed:    0.0s\n",
     "output_type": "stream"
    },
    {
     "name": "stdout",
     "text": "Used Annotations descriptions: ['T1', 'T2']\nFiltering raw data in 1 contiguous segment\nSetting up band-pass filter from 1 - 40 Hz\n\nFIR filter parameters\n---------------------\nDesigning a one-pass, zero-phase, non-causal bandpass filter:\n- Windowed time-domain design (firwin) method\n- Hamming window with 0.0194 passband ripple and 53 dB stopband attenuation\n- Lower passband edge: 1.00\n- Lower transition bandwidth: 1.00 Hz (-6 dB cutoff frequency: 0.50 Hz)\n- Upper passband edge: 40.00 Hz\n- Upper transition bandwidth: 10.00 Hz (-6 dB cutoff frequency: 45.00 Hz)\n- Filter length: 529 samples (3.306 s)\n\nUsed Annotations descriptions: ['T1', 'T2']\nFiltering raw data in 1 contiguous segment\nSetting up band-pass filter from 1 - 40 Hz\n\nFIR filter parameters\n---------------------\nDesigning a one-pass, zero-phase, non-causal bandpass filter:\n- Windowed time-domain design (firwin) method\n- Hamming window with 0.0194 passband ripple and 53 dB stopband attenuation\n- Lower passband edge: 1.00\n- Lower transition bandwidth: 1.00 Hz (-6 dB cutoff frequency: 0.50 Hz)\n- Upper passband edge: 40.00 Hz\n- Upper transition bandwidth: 10.00 Hz (-6 dB cutoff frequency: 45.00 Hz)\n- Filter length: 529 samples (3.306 s)\n\n",
     "output_type": "stream"
    },
    {
     "name": "stderr",
     "text": "[Parallel(n_jobs=1)]: Done  64 out of  64 | elapsed:    0.1s finished\n[Parallel(n_jobs=1)]: Done  17 tasks      | elapsed:    0.0s\n[Parallel(n_jobs=1)]: Done  64 out of  64 | elapsed:    0.0s finished\n[Parallel(n_jobs=1)]: Done  17 tasks      | elapsed:    0.0s\n",
     "output_type": "stream"
    },
    {
     "name": "stdout",
     "text": "Used Annotations descriptions: ['T1', 'T2']\nFiltering raw data in 1 contiguous segment\nSetting up band-pass filter from 1 - 40 Hz\n\nFIR filter parameters\n---------------------\nDesigning a one-pass, zero-phase, non-causal bandpass filter:\n- Windowed time-domain design (firwin) method\n- Hamming window with 0.0194 passband ripple and 53 dB stopband attenuation\n- Lower passband edge: 1.00\n- Lower transition bandwidth: 1.00 Hz (-6 dB cutoff frequency: 0.50 Hz)\n- Upper passband edge: 40.00 Hz\n- Upper transition bandwidth: 10.00 Hz (-6 dB cutoff frequency: 45.00 Hz)\n- Filter length: 529 samples (3.306 s)\n\nUsed Annotations descriptions: ['T1', 'T2']\nFiltering raw data in 1 contiguous segment\nSetting up band-pass filter from 1 - 40 Hz\n\nFIR filter parameters\n---------------------\nDesigning a one-pass, zero-phase, non-causal bandpass filter:\n- Windowed time-domain design (firwin) method\n- Hamming window with 0.0194 passband ripple and 53 dB stopband attenuation\n- Lower passband edge: 1.00\n- Lower transition bandwidth: 1.00 Hz (-6 dB cutoff frequency: 0.50 Hz)\n- Upper passband edge: 40.00 Hz\n- Upper transition bandwidth: 10.00 Hz (-6 dB cutoff frequency: 45.00 Hz)\n- Filter length: 529 samples (3.306 s)\n\n",
     "output_type": "stream"
    },
    {
     "name": "stderr",
     "text": "[Parallel(n_jobs=1)]: Done  64 out of  64 | elapsed:    0.1s finished\n[Parallel(n_jobs=1)]: Done  17 tasks      | elapsed:    0.0s\n[Parallel(n_jobs=1)]: Done  64 out of  64 | elapsed:    0.1s finished\n[Parallel(n_jobs=1)]: Done  17 tasks      | elapsed:    0.0s\n",
     "output_type": "stream"
    },
    {
     "name": "stdout",
     "text": "Used Annotations descriptions: ['T1', 'T2']\nFiltering raw data in 1 contiguous segment\nSetting up band-pass filter from 1 - 40 Hz\n\nFIR filter parameters\n---------------------\nDesigning a one-pass, zero-phase, non-causal bandpass filter:\n- Windowed time-domain design (firwin) method\n- Hamming window with 0.0194 passband ripple and 53 dB stopband attenuation\n- Lower passband edge: 1.00\n- Lower transition bandwidth: 1.00 Hz (-6 dB cutoff frequency: 0.50 Hz)\n- Upper passband edge: 40.00 Hz\n- Upper transition bandwidth: 10.00 Hz (-6 dB cutoff frequency: 45.00 Hz)\n- Filter length: 529 samples (3.306 s)\n\nUsed Annotations descriptions: ['T1', 'T2']\nFiltering raw data in 1 contiguous segment\nSetting up band-pass filter from 1 - 40 Hz\n\nFIR filter parameters\n---------------------\nDesigning a one-pass, zero-phase, non-causal bandpass filter:\n- Windowed time-domain design (firwin) method\n- Hamming window with 0.0194 passband ripple and 53 dB stopband attenuation\n- Lower passband edge: 1.00\n- Lower transition bandwidth: 1.00 Hz (-6 dB cutoff frequency: 0.50 Hz)\n- Upper passband edge: 40.00 Hz\n- Upper transition bandwidth: 10.00 Hz (-6 dB cutoff frequency: 45.00 Hz)\n- Filter length: 529 samples (3.306 s)\n\n",
     "output_type": "stream"
    },
    {
     "name": "stderr",
     "text": "[Parallel(n_jobs=1)]: Done  64 out of  64 | elapsed:    0.0s finished\n[Parallel(n_jobs=1)]: Done  17 tasks      | elapsed:    0.0s\n[Parallel(n_jobs=1)]: Done  64 out of  64 | elapsed:    0.0s finished\n[Parallel(n_jobs=1)]: Done  17 tasks      | elapsed:    0.0s\n",
     "output_type": "stream"
    },
    {
     "name": "stdout",
     "text": "Used Annotations descriptions: ['T1', 'T2']\nFiltering raw data in 1 contiguous segment\nSetting up band-pass filter from 1 - 40 Hz\n\nFIR filter parameters\n---------------------\nDesigning a one-pass, zero-phase, non-causal bandpass filter:\n- Windowed time-domain design (firwin) method\n- Hamming window with 0.0194 passband ripple and 53 dB stopband attenuation\n- Lower passband edge: 1.00\n- Lower transition bandwidth: 1.00 Hz (-6 dB cutoff frequency: 0.50 Hz)\n- Upper passband edge: 40.00 Hz\n- Upper transition bandwidth: 10.00 Hz (-6 dB cutoff frequency: 45.00 Hz)\n- Filter length: 529 samples (3.306 s)\n\nUsed Annotations descriptions: ['T1', 'T2']\nFiltering raw data in 1 contiguous segment\nSetting up band-pass filter from 1 - 40 Hz\n\nFIR filter parameters\n---------------------\nDesigning a one-pass, zero-phase, non-causal bandpass filter:\n- Windowed time-domain design (firwin) method\n- Hamming window with 0.0194 passband ripple and 53 dB stopband attenuation\n- Lower passband edge: 1.00\n- Lower transition bandwidth: 1.00 Hz (-6 dB cutoff frequency: 0.50 Hz)\n- Upper passband edge: 40.00 Hz\n- Upper transition bandwidth: 10.00 Hz (-6 dB cutoff frequency: 45.00 Hz)\n- Filter length: 529 samples (3.306 s)\n\n",
     "output_type": "stream"
    },
    {
     "name": "stderr",
     "text": "[Parallel(n_jobs=1)]: Done  64 out of  64 | elapsed:    0.1s finished\n[Parallel(n_jobs=1)]: Done  17 tasks      | elapsed:    0.0s\n[Parallel(n_jobs=1)]: Done  64 out of  64 | elapsed:    0.0s finished\n[Parallel(n_jobs=1)]: Done  17 tasks      | elapsed:    0.0s\n",
     "output_type": "stream"
    },
    {
     "name": "stdout",
     "text": "Used Annotations descriptions: ['T1', 'T2']\nFiltering raw data in 1 contiguous segment\nSetting up band-pass filter from 1 - 40 Hz\n\nFIR filter parameters\n---------------------\nDesigning a one-pass, zero-phase, non-causal bandpass filter:\n- Windowed time-domain design (firwin) method\n- Hamming window with 0.0194 passband ripple and 53 dB stopband attenuation\n- Lower passband edge: 1.00\n- Lower transition bandwidth: 1.00 Hz (-6 dB cutoff frequency: 0.50 Hz)\n- Upper passband edge: 40.00 Hz\n- Upper transition bandwidth: 10.00 Hz (-6 dB cutoff frequency: 45.00 Hz)\n- Filter length: 529 samples (3.306 s)\n\nUsed Annotations descriptions: ['T1', 'T2']\nFiltering raw data in 1 contiguous segment\nSetting up band-pass filter from 1 - 40 Hz\n\nFIR filter parameters\n---------------------\nDesigning a one-pass, zero-phase, non-causal bandpass filter:\n- Windowed time-domain design (firwin) method\n- Hamming window with 0.0194 passband ripple and 53 dB stopband attenuation\n- Lower passband edge: 1.00\n- Lower transition bandwidth: 1.00 Hz (-6 dB cutoff frequency: 0.50 Hz)\n- Upper passband edge: 40.00 Hz\n- Upper transition bandwidth: 10.00 Hz (-6 dB cutoff frequency: 45.00 Hz)\n- Filter length: 529 samples (3.306 s)\n\n",
     "output_type": "stream"
    },
    {
     "name": "stderr",
     "text": "[Parallel(n_jobs=1)]: Done  64 out of  64 | elapsed:    0.0s finished\n[Parallel(n_jobs=1)]: Done  17 tasks      | elapsed:    0.0s\n[Parallel(n_jobs=1)]: Done  64 out of  64 | elapsed:    0.0s finished\n[Parallel(n_jobs=1)]: Done  17 tasks      | elapsed:    0.0s\n",
     "output_type": "stream"
    },
    {
     "name": "stdout",
     "text": "Used Annotations descriptions: ['T1', 'T2']\nFiltering raw data in 1 contiguous segment\nSetting up band-pass filter from 1 - 40 Hz\n\nFIR filter parameters\n---------------------\nDesigning a one-pass, zero-phase, non-causal bandpass filter:\n- Windowed time-domain design (firwin) method\n- Hamming window with 0.0194 passband ripple and 53 dB stopband attenuation\n- Lower passband edge: 1.00\n- Lower transition bandwidth: 1.00 Hz (-6 dB cutoff frequency: 0.50 Hz)\n- Upper passband edge: 40.00 Hz\n- Upper transition bandwidth: 10.00 Hz (-6 dB cutoff frequency: 45.00 Hz)\n- Filter length: 529 samples (3.306 s)\n\nUsed Annotations descriptions: ['T1', 'T2']\nFiltering raw data in 1 contiguous segment\nSetting up band-pass filter from 1 - 40 Hz\n\nFIR filter parameters\n---------------------\nDesigning a one-pass, zero-phase, non-causal bandpass filter:\n- Windowed time-domain design (firwin) method\n- Hamming window with 0.0194 passband ripple and 53 dB stopband attenuation\n- Lower passband edge: 1.00\n- Lower transition bandwidth: 1.00 Hz (-6 dB cutoff frequency: 0.50 Hz)\n- Upper passband edge: 40.00 Hz\n- Upper transition bandwidth: 10.00 Hz (-6 dB cutoff frequency: 45.00 Hz)\n- Filter length: 529 samples (3.306 s)\n\n",
     "output_type": "stream"
    },
    {
     "name": "stderr",
     "text": "[Parallel(n_jobs=1)]: Done  64 out of  64 | elapsed:    0.1s finished\n[Parallel(n_jobs=1)]: Done  17 tasks      | elapsed:    0.0s\n[Parallel(n_jobs=1)]: Done  64 out of  64 | elapsed:    0.0s finished\n[Parallel(n_jobs=1)]: Done  17 tasks      | elapsed:    0.0s\n",
     "output_type": "stream"
    },
    {
     "name": "stdout",
     "text": "Used Annotations descriptions: ['T1', 'T2']\nFiltering raw data in 1 contiguous segment\nSetting up band-pass filter from 1 - 40 Hz\n\nFIR filter parameters\n---------------------\nDesigning a one-pass, zero-phase, non-causal bandpass filter:\n- Windowed time-domain design (firwin) method\n- Hamming window with 0.0194 passband ripple and 53 dB stopband attenuation\n- Lower passband edge: 1.00\n- Lower transition bandwidth: 1.00 Hz (-6 dB cutoff frequency: 0.50 Hz)\n- Upper passband edge: 40.00 Hz\n- Upper transition bandwidth: 10.00 Hz (-6 dB cutoff frequency: 45.00 Hz)\n- Filter length: 529 samples (3.306 s)\n\nUsed Annotations descriptions: ['T1', 'T2']\nFiltering raw data in 1 contiguous segment\nSetting up band-pass filter from 1 - 40 Hz\n\nFIR filter parameters\n---------------------\nDesigning a one-pass, zero-phase, non-causal bandpass filter:\n- Windowed time-domain design (firwin) method\n- Hamming window with 0.0194 passband ripple and 53 dB stopband attenuation\n- Lower passband edge: 1.00\n- Lower transition bandwidth: 1.00 Hz (-6 dB cutoff frequency: 0.50 Hz)\n- Upper passband edge: 40.00 Hz\n- Upper transition bandwidth: 10.00 Hz (-6 dB cutoff frequency: 45.00 Hz)\n- Filter length: 529 samples (3.306 s)\n\n",
     "output_type": "stream"
    },
    {
     "name": "stderr",
     "text": "[Parallel(n_jobs=1)]: Done  64 out of  64 | elapsed:    0.0s finished\n[Parallel(n_jobs=1)]: Done  17 tasks      | elapsed:    0.0s\n[Parallel(n_jobs=1)]: Done  64 out of  64 | elapsed:    0.0s finished\n[Parallel(n_jobs=1)]: Done  17 tasks      | elapsed:    0.0s\n",
     "output_type": "stream"
    },
    {
     "name": "stdout",
     "text": "Used Annotations descriptions: ['T1', 'T2']\nFiltering raw data in 1 contiguous segment\nSetting up band-pass filter from 1 - 40 Hz\n\nFIR filter parameters\n---------------------\nDesigning a one-pass, zero-phase, non-causal bandpass filter:\n- Windowed time-domain design (firwin) method\n- Hamming window with 0.0194 passband ripple and 53 dB stopband attenuation\n- Lower passband edge: 1.00\n- Lower transition bandwidth: 1.00 Hz (-6 dB cutoff frequency: 0.50 Hz)\n- Upper passband edge: 40.00 Hz\n- Upper transition bandwidth: 10.00 Hz (-6 dB cutoff frequency: 45.00 Hz)\n- Filter length: 529 samples (3.306 s)\n\nUsed Annotations descriptions: ['T1', 'T2']\nFiltering raw data in 1 contiguous segment\nSetting up band-pass filter from 1 - 40 Hz\n\nFIR filter parameters\n---------------------\nDesigning a one-pass, zero-phase, non-causal bandpass filter:\n- Windowed time-domain design (firwin) method\n- Hamming window with 0.0194 passband ripple and 53 dB stopband attenuation\n- Lower passband edge: 1.00\n- Lower transition bandwidth: 1.00 Hz (-6 dB cutoff frequency: 0.50 Hz)\n- Upper passband edge: 40.00 Hz\n- Upper transition bandwidth: 10.00 Hz (-6 dB cutoff frequency: 45.00 Hz)\n- Filter length: 529 samples (3.306 s)\n\n",
     "output_type": "stream"
    },
    {
     "name": "stderr",
     "text": "[Parallel(n_jobs=1)]: Done  64 out of  64 | elapsed:    0.0s finished\n[Parallel(n_jobs=1)]: Done  17 tasks      | elapsed:    0.0s\n[Parallel(n_jobs=1)]: Done  64 out of  64 | elapsed:    0.1s finished\n[Parallel(n_jobs=1)]: Done  17 tasks      | elapsed:    0.0s\n",
     "output_type": "stream"
    },
    {
     "name": "stdout",
     "text": "Used Annotations descriptions: ['T1', 'T2']\nFiltering raw data in 1 contiguous segment\nSetting up band-pass filter from 1 - 40 Hz\n\nFIR filter parameters\n---------------------\nDesigning a one-pass, zero-phase, non-causal bandpass filter:\n- Windowed time-domain design (firwin) method\n- Hamming window with 0.0194 passband ripple and 53 dB stopband attenuation\n- Lower passband edge: 1.00\n- Lower transition bandwidth: 1.00 Hz (-6 dB cutoff frequency: 0.50 Hz)\n- Upper passband edge: 40.00 Hz\n- Upper transition bandwidth: 10.00 Hz (-6 dB cutoff frequency: 45.00 Hz)\n- Filter length: 529 samples (3.306 s)\n\nUsed Annotations descriptions: ['T1', 'T2']\nFiltering raw data in 1 contiguous segment\nSetting up band-pass filter from 1 - 40 Hz\n\nFIR filter parameters\n---------------------\nDesigning a one-pass, zero-phase, non-causal bandpass filter:\n- Windowed time-domain design (firwin) method\n- Hamming window with 0.0194 passband ripple and 53 dB stopband attenuation\n- Lower passband edge: 1.00\n- Lower transition bandwidth: 1.00 Hz (-6 dB cutoff frequency: 0.50 Hz)\n- Upper passband edge: 40.00 Hz\n- Upper transition bandwidth: 10.00 Hz (-6 dB cutoff frequency: 45.00 Hz)\n- Filter length: 529 samples (3.306 s)\n\n",
     "output_type": "stream"
    },
    {
     "name": "stderr",
     "text": "[Parallel(n_jobs=1)]: Done  64 out of  64 | elapsed:    0.0s finished\n[Parallel(n_jobs=1)]: Done  17 tasks      | elapsed:    0.0s\n[Parallel(n_jobs=1)]: Done  64 out of  64 | elapsed:    0.0s finished\n[Parallel(n_jobs=1)]: Done  17 tasks      | elapsed:    0.0s\n",
     "output_type": "stream"
    },
    {
     "name": "stdout",
     "text": "Used Annotations descriptions: ['T1', 'T2']\nFiltering raw data in 1 contiguous segment\nSetting up band-pass filter from 1 - 40 Hz\n\nFIR filter parameters\n---------------------\nDesigning a one-pass, zero-phase, non-causal bandpass filter:\n- Windowed time-domain design (firwin) method\n- Hamming window with 0.0194 passband ripple and 53 dB stopband attenuation\n- Lower passband edge: 1.00\n- Lower transition bandwidth: 1.00 Hz (-6 dB cutoff frequency: 0.50 Hz)\n- Upper passband edge: 40.00 Hz\n- Upper transition bandwidth: 10.00 Hz (-6 dB cutoff frequency: 45.00 Hz)\n- Filter length: 529 samples (3.306 s)\n\nUsed Annotations descriptions: ['T1', 'T2']\nFiltering raw data in 1 contiguous segment\nSetting up band-pass filter from 1 - 40 Hz\n\nFIR filter parameters\n---------------------\nDesigning a one-pass, zero-phase, non-causal bandpass filter:\n- Windowed time-domain design (firwin) method\n- Hamming window with 0.0194 passband ripple and 53 dB stopband attenuation\n- Lower passband edge: 1.00\n- Lower transition bandwidth: 1.00 Hz (-6 dB cutoff frequency: 0.50 Hz)\n- Upper passband edge: 40.00 Hz\n- Upper transition bandwidth: 10.00 Hz (-6 dB cutoff frequency: 45.00 Hz)\n- Filter length: 529 samples (3.306 s)\n\n",
     "output_type": "stream"
    },
    {
     "name": "stderr",
     "text": "[Parallel(n_jobs=1)]: Done  64 out of  64 | elapsed:    0.0s finished\n[Parallel(n_jobs=1)]: Done  17 tasks      | elapsed:    0.0s\n[Parallel(n_jobs=1)]: Done  64 out of  64 | elapsed:    0.1s finished\n[Parallel(n_jobs=1)]: Done  17 tasks      | elapsed:    0.0s\n",
     "output_type": "stream"
    },
    {
     "name": "stdout",
     "text": "Used Annotations descriptions: ['T1', 'T2']\nFiltering raw data in 1 contiguous segment\nSetting up band-pass filter from 1 - 40 Hz\n\nFIR filter parameters\n---------------------\nDesigning a one-pass, zero-phase, non-causal bandpass filter:\n- Windowed time-domain design (firwin) method\n- Hamming window with 0.0194 passband ripple and 53 dB stopband attenuation\n- Lower passband edge: 1.00\n- Lower transition bandwidth: 1.00 Hz (-6 dB cutoff frequency: 0.50 Hz)\n- Upper passband edge: 40.00 Hz\n- Upper transition bandwidth: 10.00 Hz (-6 dB cutoff frequency: 45.00 Hz)\n- Filter length: 529 samples (3.306 s)\n\nUsed Annotations descriptions: ['T1', 'T2']\nFiltering raw data in 1 contiguous segment\nSetting up band-pass filter from 1 - 40 Hz\n\nFIR filter parameters\n---------------------\nDesigning a one-pass, zero-phase, non-causal bandpass filter:\n- Windowed time-domain design (firwin) method\n- Hamming window with 0.0194 passband ripple and 53 dB stopband attenuation\n- Lower passband edge: 1.00\n- Lower transition bandwidth: 1.00 Hz (-6 dB cutoff frequency: 0.50 Hz)\n- Upper passband edge: 40.00 Hz\n- Upper transition bandwidth: 10.00 Hz (-6 dB cutoff frequency: 45.00 Hz)\n- Filter length: 529 samples (3.306 s)\n\n",
     "output_type": "stream"
    },
    {
     "name": "stderr",
     "text": "[Parallel(n_jobs=1)]: Done  64 out of  64 | elapsed:    0.1s finished\n[Parallel(n_jobs=1)]: Done  17 tasks      | elapsed:    0.0s\n[Parallel(n_jobs=1)]: Done  64 out of  64 | elapsed:    0.1s finished\n[Parallel(n_jobs=1)]: Done  17 tasks      | elapsed:    0.0s\n",
     "output_type": "stream"
    },
    {
     "name": "stdout",
     "text": "Used Annotations descriptions: ['T1', 'T2']\nFiltering raw data in 1 contiguous segment\nSetting up band-pass filter from 1 - 40 Hz\n\nFIR filter parameters\n---------------------\nDesigning a one-pass, zero-phase, non-causal bandpass filter:\n- Windowed time-domain design (firwin) method\n- Hamming window with 0.0194 passband ripple and 53 dB stopband attenuation\n- Lower passband edge: 1.00\n- Lower transition bandwidth: 1.00 Hz (-6 dB cutoff frequency: 0.50 Hz)\n- Upper passband edge: 40.00 Hz\n- Upper transition bandwidth: 10.00 Hz (-6 dB cutoff frequency: 45.00 Hz)\n- Filter length: 529 samples (3.306 s)\n\nUsed Annotations descriptions: ['T1', 'T2']\nFiltering raw data in 1 contiguous segment\nSetting up band-pass filter from 1 - 40 Hz\n\nFIR filter parameters\n---------------------\nDesigning a one-pass, zero-phase, non-causal bandpass filter:\n- Windowed time-domain design (firwin) method\n- Hamming window with 0.0194 passband ripple and 53 dB stopband attenuation\n- Lower passband edge: 1.00\n- Lower transition bandwidth: 1.00 Hz (-6 dB cutoff frequency: 0.50 Hz)\n- Upper passband edge: 40.00 Hz\n- Upper transition bandwidth: 10.00 Hz (-6 dB cutoff frequency: 45.00 Hz)\n- Filter length: 529 samples (3.306 s)\n\n",
     "output_type": "stream"
    },
    {
     "name": "stderr",
     "text": "[Parallel(n_jobs=1)]: Done  64 out of  64 | elapsed:    0.1s finished\n[Parallel(n_jobs=1)]: Done  17 tasks      | elapsed:    0.0s\n[Parallel(n_jobs=1)]: Done  64 out of  64 | elapsed:    0.1s finished\n[Parallel(n_jobs=1)]: Done  17 tasks      | elapsed:    0.0s\n",
     "output_type": "stream"
    },
    {
     "name": "stdout",
     "text": "Used Annotations descriptions: ['T1', 'T2']\nFiltering raw data in 1 contiguous segment\nSetting up band-pass filter from 1 - 40 Hz\n\nFIR filter parameters\n---------------------\nDesigning a one-pass, zero-phase, non-causal bandpass filter:\n- Windowed time-domain design (firwin) method\n- Hamming window with 0.0194 passband ripple and 53 dB stopband attenuation\n- Lower passband edge: 1.00\n- Lower transition bandwidth: 1.00 Hz (-6 dB cutoff frequency: 0.50 Hz)\n- Upper passband edge: 40.00 Hz\n- Upper transition bandwidth: 10.00 Hz (-6 dB cutoff frequency: 45.00 Hz)\n- Filter length: 529 samples (3.306 s)\n\nUsed Annotations descriptions: ['T1', 'T2']\nFiltering raw data in 1 contiguous segment\nSetting up band-pass filter from 1 - 40 Hz\n\nFIR filter parameters\n---------------------\nDesigning a one-pass, zero-phase, non-causal bandpass filter:\n- Windowed time-domain design (firwin) method\n- Hamming window with 0.0194 passband ripple and 53 dB stopband attenuation\n- Lower passband edge: 1.00\n- Lower transition bandwidth: 1.00 Hz (-6 dB cutoff frequency: 0.50 Hz)\n- Upper passband edge: 40.00 Hz\n- Upper transition bandwidth: 10.00 Hz (-6 dB cutoff frequency: 45.00 Hz)\n- Filter length: 529 samples (3.306 s)\n\n",
     "output_type": "stream"
    },
    {
     "name": "stderr",
     "text": "[Parallel(n_jobs=1)]: Done  64 out of  64 | elapsed:    0.0s finished\n[Parallel(n_jobs=1)]: Done  17 tasks      | elapsed:    0.0s\n[Parallel(n_jobs=1)]: Done  64 out of  64 | elapsed:    0.0s finished\n[Parallel(n_jobs=1)]: Done  17 tasks      | elapsed:    0.0s\n",
     "output_type": "stream"
    },
    {
     "name": "stdout",
     "text": "Used Annotations descriptions: ['T1', 'T2']\nFiltering raw data in 1 contiguous segment\nSetting up band-pass filter from 1 - 40 Hz\n\nFIR filter parameters\n---------------------\nDesigning a one-pass, zero-phase, non-causal bandpass filter:\n- Windowed time-domain design (firwin) method\n- Hamming window with 0.0194 passband ripple and 53 dB stopband attenuation\n- Lower passband edge: 1.00\n- Lower transition bandwidth: 1.00 Hz (-6 dB cutoff frequency: 0.50 Hz)\n- Upper passband edge: 40.00 Hz\n- Upper transition bandwidth: 10.00 Hz (-6 dB cutoff frequency: 45.00 Hz)\n- Filter length: 529 samples (3.306 s)\n\nUsed Annotations descriptions: ['T1', 'T2']\nFiltering raw data in 1 contiguous segment\nSetting up band-pass filter from 1 - 40 Hz\n\nFIR filter parameters\n---------------------\nDesigning a one-pass, zero-phase, non-causal bandpass filter:\n- Windowed time-domain design (firwin) method\n- Hamming window with 0.0194 passband ripple and 53 dB stopband attenuation\n- Lower passband edge: 1.00\n- Lower transition bandwidth: 1.00 Hz (-6 dB cutoff frequency: 0.50 Hz)\n- Upper passband edge: 40.00 Hz\n- Upper transition bandwidth: 10.00 Hz (-6 dB cutoff frequency: 45.00 Hz)\n- Filter length: 529 samples (3.306 s)\n\n",
     "output_type": "stream"
    },
    {
     "name": "stderr",
     "text": "[Parallel(n_jobs=1)]: Done  64 out of  64 | elapsed:    0.1s finished\n[Parallel(n_jobs=1)]: Done  17 tasks      | elapsed:    0.0s\n[Parallel(n_jobs=1)]: Done  64 out of  64 | elapsed:    0.0s finished\n[Parallel(n_jobs=1)]: Done  17 tasks      | elapsed:    0.0s\n",
     "output_type": "stream"
    },
    {
     "name": "stdout",
     "text": "Used Annotations descriptions: ['T1', 'T2']\nFiltering raw data in 1 contiguous segment\nSetting up band-pass filter from 1 - 40 Hz\n\nFIR filter parameters\n---------------------\nDesigning a one-pass, zero-phase, non-causal bandpass filter:\n- Windowed time-domain design (firwin) method\n- Hamming window with 0.0194 passband ripple and 53 dB stopband attenuation\n- Lower passband edge: 1.00\n- Lower transition bandwidth: 1.00 Hz (-6 dB cutoff frequency: 0.50 Hz)\n- Upper passband edge: 40.00 Hz\n- Upper transition bandwidth: 10.00 Hz (-6 dB cutoff frequency: 45.00 Hz)\n- Filter length: 529 samples (3.306 s)\n\nUsed Annotations descriptions: ['T1', 'T2']\nFiltering raw data in 1 contiguous segment\nSetting up band-pass filter from 1 - 40 Hz\n\nFIR filter parameters\n---------------------\nDesigning a one-pass, zero-phase, non-causal bandpass filter:\n- Windowed time-domain design (firwin) method\n- Hamming window with 0.0194 passband ripple and 53 dB stopband attenuation\n- Lower passband edge: 1.00\n- Lower transition bandwidth: 1.00 Hz (-6 dB cutoff frequency: 0.50 Hz)\n- Upper passband edge: 40.00 Hz\n- Upper transition bandwidth: 10.00 Hz (-6 dB cutoff frequency: 45.00 Hz)\n- Filter length: 529 samples (3.306 s)\n\n",
     "output_type": "stream"
    },
    {
     "name": "stderr",
     "text": "[Parallel(n_jobs=1)]: Done  64 out of  64 | elapsed:    0.0s finished\n[Parallel(n_jobs=1)]: Done  17 tasks      | elapsed:    0.0s\n[Parallel(n_jobs=1)]: Done  64 out of  64 | elapsed:    0.0s finished\n[Parallel(n_jobs=1)]: Done  17 tasks      | elapsed:    0.0s\n",
     "output_type": "stream"
    },
    {
     "name": "stdout",
     "text": "Used Annotations descriptions: ['T1', 'T2']\nFiltering raw data in 1 contiguous segment\nSetting up band-pass filter from 1 - 40 Hz\n\nFIR filter parameters\n---------------------\nDesigning a one-pass, zero-phase, non-causal bandpass filter:\n- Windowed time-domain design (firwin) method\n- Hamming window with 0.0194 passband ripple and 53 dB stopband attenuation\n- Lower passband edge: 1.00\n- Lower transition bandwidth: 1.00 Hz (-6 dB cutoff frequency: 0.50 Hz)\n- Upper passband edge: 40.00 Hz\n- Upper transition bandwidth: 10.00 Hz (-6 dB cutoff frequency: 45.00 Hz)\n- Filter length: 529 samples (3.306 s)\n\nUsed Annotations descriptions: ['T1', 'T2']\nFiltering raw data in 1 contiguous segment\nSetting up band-pass filter from 1 - 40 Hz\n\nFIR filter parameters\n---------------------\nDesigning a one-pass, zero-phase, non-causal bandpass filter:\n- Windowed time-domain design (firwin) method\n- Hamming window with 0.0194 passband ripple and 53 dB stopband attenuation\n- Lower passband edge: 1.00\n- Lower transition bandwidth: 1.00 Hz (-6 dB cutoff frequency: 0.50 Hz)\n- Upper passband edge: 40.00 Hz\n- Upper transition bandwidth: 10.00 Hz (-6 dB cutoff frequency: 45.00 Hz)\n- Filter length: 529 samples (3.306 s)\n\n",
     "output_type": "stream"
    },
    {
     "name": "stderr",
     "text": "[Parallel(n_jobs=1)]: Done  64 out of  64 | elapsed:    0.0s finished\n[Parallel(n_jobs=1)]: Done  17 tasks      | elapsed:    0.0s\n[Parallel(n_jobs=1)]: Done  64 out of  64 | elapsed:    0.0s finished\n[Parallel(n_jobs=1)]: Done  17 tasks      | elapsed:    0.0s\n",
     "output_type": "stream"
    },
    {
     "name": "stdout",
     "text": "Used Annotations descriptions: ['T1', 'T2']\nFiltering raw data in 1 contiguous segment\nSetting up band-pass filter from 1 - 40 Hz\n\nFIR filter parameters\n---------------------\nDesigning a one-pass, zero-phase, non-causal bandpass filter:\n- Windowed time-domain design (firwin) method\n- Hamming window with 0.0194 passband ripple and 53 dB stopband attenuation\n- Lower passband edge: 1.00\n- Lower transition bandwidth: 1.00 Hz (-6 dB cutoff frequency: 0.50 Hz)\n- Upper passband edge: 40.00 Hz\n- Upper transition bandwidth: 10.00 Hz (-6 dB cutoff frequency: 45.00 Hz)\n- Filter length: 529 samples (3.306 s)\n\nUsed Annotations descriptions: ['T1', 'T2']\nFiltering raw data in 1 contiguous segment\nSetting up band-pass filter from 1 - 40 Hz\n\nFIR filter parameters\n---------------------\nDesigning a one-pass, zero-phase, non-causal bandpass filter:\n- Windowed time-domain design (firwin) method\n- Hamming window with 0.0194 passband ripple and 53 dB stopband attenuation\n- Lower passband edge: 1.00\n- Lower transition bandwidth: 1.00 Hz (-6 dB cutoff frequency: 0.50 Hz)\n- Upper passband edge: 40.00 Hz\n- Upper transition bandwidth: 10.00 Hz (-6 dB cutoff frequency: 45.00 Hz)\n- Filter length: 529 samples (3.306 s)\n\n",
     "output_type": "stream"
    },
    {
     "name": "stderr",
     "text": "[Parallel(n_jobs=1)]: Done  64 out of  64 | elapsed:    0.1s finished\n[Parallel(n_jobs=1)]: Done  17 tasks      | elapsed:    0.0s\n[Parallel(n_jobs=1)]: Done  64 out of  64 | elapsed:    0.0s finished\n[Parallel(n_jobs=1)]: Done  17 tasks      | elapsed:    0.0s\n",
     "output_type": "stream"
    },
    {
     "name": "stdout",
     "text": "Used Annotations descriptions: ['T1', 'T2']\nFiltering raw data in 1 contiguous segment\nSetting up band-pass filter from 1 - 40 Hz\n\nFIR filter parameters\n---------------------\nDesigning a one-pass, zero-phase, non-causal bandpass filter:\n- Windowed time-domain design (firwin) method\n- Hamming window with 0.0194 passband ripple and 53 dB stopband attenuation\n- Lower passband edge: 1.00\n- Lower transition bandwidth: 1.00 Hz (-6 dB cutoff frequency: 0.50 Hz)\n- Upper passband edge: 40.00 Hz\n- Upper transition bandwidth: 10.00 Hz (-6 dB cutoff frequency: 45.00 Hz)\n- Filter length: 529 samples (3.306 s)\n\nUsed Annotations descriptions: ['T1', 'T2']\nFiltering raw data in 1 contiguous segment\nSetting up band-pass filter from 1 - 40 Hz\n\nFIR filter parameters\n---------------------\nDesigning a one-pass, zero-phase, non-causal bandpass filter:\n- Windowed time-domain design (firwin) method\n- Hamming window with 0.0194 passband ripple and 53 dB stopband attenuation\n- Lower passband edge: 1.00\n- Lower transition bandwidth: 1.00 Hz (-6 dB cutoff frequency: 0.50 Hz)\n- Upper passband edge: 40.00 Hz\n- Upper transition bandwidth: 10.00 Hz (-6 dB cutoff frequency: 45.00 Hz)\n- Filter length: 529 samples (3.306 s)\n\n",
     "output_type": "stream"
    },
    {
     "name": "stderr",
     "text": "[Parallel(n_jobs=1)]: Done  64 out of  64 | elapsed:    0.0s finished\n[Parallel(n_jobs=1)]: Done  17 tasks      | elapsed:    0.0s\n[Parallel(n_jobs=1)]: Done  64 out of  64 | elapsed:    0.1s finished\n[Parallel(n_jobs=1)]: Done  17 tasks      | elapsed:    0.0s\n",
     "output_type": "stream"
    },
    {
     "name": "stdout",
     "text": "Used Annotations descriptions: ['T1', 'T2']\nFiltering raw data in 1 contiguous segment\nSetting up band-pass filter from 1 - 40 Hz\n\nFIR filter parameters\n---------------------\nDesigning a one-pass, zero-phase, non-causal bandpass filter:\n- Windowed time-domain design (firwin) method\n- Hamming window with 0.0194 passband ripple and 53 dB stopband attenuation\n- Lower passband edge: 1.00\n- Lower transition bandwidth: 1.00 Hz (-6 dB cutoff frequency: 0.50 Hz)\n- Upper passband edge: 40.00 Hz\n- Upper transition bandwidth: 10.00 Hz (-6 dB cutoff frequency: 45.00 Hz)\n- Filter length: 529 samples (3.306 s)\n\nUsed Annotations descriptions: ['T1', 'T2']\nFiltering raw data in 1 contiguous segment\nSetting up band-pass filter from 1 - 40 Hz\n\nFIR filter parameters\n---------------------\nDesigning a one-pass, zero-phase, non-causal bandpass filter:\n- Windowed time-domain design (firwin) method\n- Hamming window with 0.0194 passband ripple and 53 dB stopband attenuation\n- Lower passband edge: 1.00\n- Lower transition bandwidth: 1.00 Hz (-6 dB cutoff frequency: 0.50 Hz)\n- Upper passband edge: 40.00 Hz\n- Upper transition bandwidth: 10.00 Hz (-6 dB cutoff frequency: 45.00 Hz)\n- Filter length: 529 samples (3.306 s)\n\n",
     "output_type": "stream"
    },
    {
     "name": "stderr",
     "text": "[Parallel(n_jobs=1)]: Done  64 out of  64 | elapsed:    0.0s finished\n[Parallel(n_jobs=1)]: Done  17 tasks      | elapsed:    0.0s\n[Parallel(n_jobs=1)]: Done  64 out of  64 | elapsed:    0.1s finished\n[Parallel(n_jobs=1)]: Done  17 tasks      | elapsed:    0.0s\n",
     "output_type": "stream"
    },
    {
     "name": "stdout",
     "text": "Used Annotations descriptions: ['T1', 'T2']\nFiltering raw data in 1 contiguous segment\nSetting up band-pass filter from 1 - 40 Hz\n\nFIR filter parameters\n---------------------\nDesigning a one-pass, zero-phase, non-causal bandpass filter:\n- Windowed time-domain design (firwin) method\n- Hamming window with 0.0194 passband ripple and 53 dB stopband attenuation\n- Lower passband edge: 1.00\n- Lower transition bandwidth: 1.00 Hz (-6 dB cutoff frequency: 0.50 Hz)\n- Upper passband edge: 40.00 Hz\n- Upper transition bandwidth: 10.00 Hz (-6 dB cutoff frequency: 45.00 Hz)\n- Filter length: 529 samples (3.306 s)\n\nUsed Annotations descriptions: ['T1', 'T2']\nFiltering raw data in 1 contiguous segment\nSetting up band-pass filter from 1 - 40 Hz\n\nFIR filter parameters\n---------------------\nDesigning a one-pass, zero-phase, non-causal bandpass filter:\n- Windowed time-domain design (firwin) method\n- Hamming window with 0.0194 passband ripple and 53 dB stopband attenuation\n- Lower passband edge: 1.00\n- Lower transition bandwidth: 1.00 Hz (-6 dB cutoff frequency: 0.50 Hz)\n- Upper passband edge: 40.00 Hz\n- Upper transition bandwidth: 10.00 Hz (-6 dB cutoff frequency: 45.00 Hz)\n- Filter length: 529 samples (3.306 s)\n\n",
     "output_type": "stream"
    },
    {
     "name": "stderr",
     "text": "[Parallel(n_jobs=1)]: Done  64 out of  64 | elapsed:    0.1s finished\n[Parallel(n_jobs=1)]: Done  17 tasks      | elapsed:    0.0s\n[Parallel(n_jobs=1)]: Done  64 out of  64 | elapsed:    0.1s finished\n[Parallel(n_jobs=1)]: Done  17 tasks      | elapsed:    0.0s\n",
     "output_type": "stream"
    },
    {
     "name": "stdout",
     "text": "Used Annotations descriptions: ['T1', 'T2']\nFiltering raw data in 1 contiguous segment\nSetting up band-pass filter from 1 - 40 Hz\n\nFIR filter parameters\n---------------------\nDesigning a one-pass, zero-phase, non-causal bandpass filter:\n- Windowed time-domain design (firwin) method\n- Hamming window with 0.0194 passband ripple and 53 dB stopband attenuation\n- Lower passband edge: 1.00\n- Lower transition bandwidth: 1.00 Hz (-6 dB cutoff frequency: 0.50 Hz)\n- Upper passband edge: 40.00 Hz\n- Upper transition bandwidth: 10.00 Hz (-6 dB cutoff frequency: 45.00 Hz)\n- Filter length: 529 samples (3.306 s)\n\nUsed Annotations descriptions: ['T1', 'T2']\nFiltering raw data in 1 contiguous segment\nSetting up band-pass filter from 1 - 40 Hz\n\nFIR filter parameters\n---------------------\nDesigning a one-pass, zero-phase, non-causal bandpass filter:\n- Windowed time-domain design (firwin) method\n- Hamming window with 0.0194 passband ripple and 53 dB stopband attenuation\n- Lower passband edge: 1.00\n- Lower transition bandwidth: 1.00 Hz (-6 dB cutoff frequency: 0.50 Hz)\n- Upper passband edge: 40.00 Hz\n- Upper transition bandwidth: 10.00 Hz (-6 dB cutoff frequency: 45.00 Hz)\n- Filter length: 529 samples (3.306 s)\n\n",
     "output_type": "stream"
    },
    {
     "name": "stderr",
     "text": "[Parallel(n_jobs=1)]: Done  64 out of  64 | elapsed:    0.0s finished\n[Parallel(n_jobs=1)]: Done  17 tasks      | elapsed:    0.0s\n[Parallel(n_jobs=1)]: Done  64 out of  64 | elapsed:    0.0s finished\n[Parallel(n_jobs=1)]: Done  17 tasks      | elapsed:    0.0s\n",
     "output_type": "stream"
    },
    {
     "name": "stdout",
     "text": "Used Annotations descriptions: ['T1', 'T2']\nFiltering raw data in 1 contiguous segment\nSetting up band-pass filter from 1 - 40 Hz\n\nFIR filter parameters\n---------------------\nDesigning a one-pass, zero-phase, non-causal bandpass filter:\n- Windowed time-domain design (firwin) method\n- Hamming window with 0.0194 passband ripple and 53 dB stopband attenuation\n- Lower passband edge: 1.00\n- Lower transition bandwidth: 1.00 Hz (-6 dB cutoff frequency: 0.50 Hz)\n- Upper passband edge: 40.00 Hz\n- Upper transition bandwidth: 10.00 Hz (-6 dB cutoff frequency: 45.00 Hz)\n- Filter length: 529 samples (3.306 s)\n\nUsed Annotations descriptions: ['T1', 'T2']\nFiltering raw data in 1 contiguous segment\nSetting up band-pass filter from 1 - 40 Hz\n\nFIR filter parameters\n---------------------\nDesigning a one-pass, zero-phase, non-causal bandpass filter:\n- Windowed time-domain design (firwin) method\n- Hamming window with 0.0194 passband ripple and 53 dB stopband attenuation\n- Lower passband edge: 1.00\n- Lower transition bandwidth: 1.00 Hz (-6 dB cutoff frequency: 0.50 Hz)\n- Upper passband edge: 40.00 Hz\n- Upper transition bandwidth: 10.00 Hz (-6 dB cutoff frequency: 45.00 Hz)\n- Filter length: 529 samples (3.306 s)\n\n",
     "output_type": "stream"
    },
    {
     "name": "stderr",
     "text": "[Parallel(n_jobs=1)]: Done  64 out of  64 | elapsed:    0.1s finished\n[Parallel(n_jobs=1)]: Done  17 tasks      | elapsed:    0.0s\n[Parallel(n_jobs=1)]: Done  64 out of  64 | elapsed:    0.0s finished\n[Parallel(n_jobs=1)]: Done  17 tasks      | elapsed:    0.0s\n",
     "output_type": "stream"
    },
    {
     "name": "stdout",
     "text": "Used Annotations descriptions: ['T1', 'T2']\nFiltering raw data in 1 contiguous segment\nSetting up band-pass filter from 1 - 40 Hz\n\nFIR filter parameters\n---------------------\nDesigning a one-pass, zero-phase, non-causal bandpass filter:\n- Windowed time-domain design (firwin) method\n- Hamming window with 0.0194 passband ripple and 53 dB stopband attenuation\n- Lower passband edge: 1.00\n- Lower transition bandwidth: 1.00 Hz (-6 dB cutoff frequency: 0.50 Hz)\n- Upper passband edge: 40.00 Hz\n- Upper transition bandwidth: 10.00 Hz (-6 dB cutoff frequency: 45.00 Hz)\n- Filter length: 529 samples (3.306 s)\n\nUsed Annotations descriptions: ['T1', 'T2']\nFiltering raw data in 1 contiguous segment\nSetting up band-pass filter from 1 - 40 Hz\n\nFIR filter parameters\n---------------------\nDesigning a one-pass, zero-phase, non-causal bandpass filter:\n- Windowed time-domain design (firwin) method\n- Hamming window with 0.0194 passband ripple and 53 dB stopband attenuation\n- Lower passband edge: 1.00\n- Lower transition bandwidth: 1.00 Hz (-6 dB cutoff frequency: 0.50 Hz)\n- Upper passband edge: 40.00 Hz\n- Upper transition bandwidth: 10.00 Hz (-6 dB cutoff frequency: 45.00 Hz)\n- Filter length: 529 samples (3.306 s)\n\n",
     "output_type": "stream"
    },
    {
     "name": "stderr",
     "text": "[Parallel(n_jobs=1)]: Done  64 out of  64 | elapsed:    0.0s finished\n[Parallel(n_jobs=1)]: Done  17 tasks      | elapsed:    0.0s\n[Parallel(n_jobs=1)]: Done  64 out of  64 | elapsed:    0.0s finished\n[Parallel(n_jobs=1)]: Done  17 tasks      | elapsed:    0.0s\n",
     "output_type": "stream"
    },
    {
     "name": "stdout",
     "text": "Used Annotations descriptions: ['T1', 'T2']\nFiltering raw data in 1 contiguous segment\nSetting up band-pass filter from 1 - 40 Hz\n\nFIR filter parameters\n---------------------\nDesigning a one-pass, zero-phase, non-causal bandpass filter:\n- Windowed time-domain design (firwin) method\n- Hamming window with 0.0194 passband ripple and 53 dB stopband attenuation\n- Lower passband edge: 1.00\n- Lower transition bandwidth: 1.00 Hz (-6 dB cutoff frequency: 0.50 Hz)\n- Upper passband edge: 40.00 Hz\n- Upper transition bandwidth: 10.00 Hz (-6 dB cutoff frequency: 45.00 Hz)\n- Filter length: 529 samples (3.306 s)\n\nUsed Annotations descriptions: ['T1', 'T2']\nFiltering raw data in 1 contiguous segment\nSetting up band-pass filter from 1 - 40 Hz\n\nFIR filter parameters\n---------------------\nDesigning a one-pass, zero-phase, non-causal bandpass filter:\n- Windowed time-domain design (firwin) method\n- Hamming window with 0.0194 passband ripple and 53 dB stopband attenuation\n- Lower passband edge: 1.00\n- Lower transition bandwidth: 1.00 Hz (-6 dB cutoff frequency: 0.50 Hz)\n- Upper passband edge: 40.00 Hz\n- Upper transition bandwidth: 10.00 Hz (-6 dB cutoff frequency: 45.00 Hz)\n- Filter length: 529 samples (3.306 s)\n\n",
     "output_type": "stream"
    },
    {
     "name": "stderr",
     "text": "[Parallel(n_jobs=1)]: Done  64 out of  64 | elapsed:    0.1s finished\n[Parallel(n_jobs=1)]: Done  17 tasks      | elapsed:    0.0s\n[Parallel(n_jobs=1)]: Done  64 out of  64 | elapsed:    0.1s finished\n[Parallel(n_jobs=1)]: Done  17 tasks      | elapsed:    0.0s\n",
     "output_type": "stream"
    },
    {
     "name": "stdout",
     "text": "Used Annotations descriptions: ['T1', 'T2']\nFiltering raw data in 1 contiguous segment\nSetting up band-pass filter from 1 - 40 Hz\n\nFIR filter parameters\n---------------------\nDesigning a one-pass, zero-phase, non-causal bandpass filter:\n- Windowed time-domain design (firwin) method\n- Hamming window with 0.0194 passband ripple and 53 dB stopband attenuation\n- Lower passband edge: 1.00\n- Lower transition bandwidth: 1.00 Hz (-6 dB cutoff frequency: 0.50 Hz)\n- Upper passband edge: 40.00 Hz\n- Upper transition bandwidth: 10.00 Hz (-6 dB cutoff frequency: 45.00 Hz)\n- Filter length: 529 samples (3.306 s)\n\nUsed Annotations descriptions: ['T1', 'T2']\nFiltering raw data in 1 contiguous segment\nSetting up band-pass filter from 1 - 40 Hz\n\nFIR filter parameters\n---------------------\nDesigning a one-pass, zero-phase, non-causal bandpass filter:\n- Windowed time-domain design (firwin) method\n- Hamming window with 0.0194 passband ripple and 53 dB stopband attenuation\n- Lower passband edge: 1.00\n- Lower transition bandwidth: 1.00 Hz (-6 dB cutoff frequency: 0.50 Hz)\n- Upper passband edge: 40.00 Hz\n- Upper transition bandwidth: 10.00 Hz (-6 dB cutoff frequency: 45.00 Hz)\n- Filter length: 529 samples (3.306 s)\n\n",
     "output_type": "stream"
    },
    {
     "name": "stderr",
     "text": "[Parallel(n_jobs=1)]: Done  64 out of  64 | elapsed:    0.1s finished\n[Parallel(n_jobs=1)]: Done  17 tasks      | elapsed:    0.0s\n[Parallel(n_jobs=1)]: Done  64 out of  64 | elapsed:    0.1s finished\n[Parallel(n_jobs=1)]: Done  17 tasks      | elapsed:    0.0s\n",
     "output_type": "stream"
    },
    {
     "name": "stdout",
     "text": "Used Annotations descriptions: ['T1', 'T2']\nFiltering raw data in 1 contiguous segment\nSetting up band-pass filter from 1 - 40 Hz\n\nFIR filter parameters\n---------------------\nDesigning a one-pass, zero-phase, non-causal bandpass filter:\n- Windowed time-domain design (firwin) method\n- Hamming window with 0.0194 passband ripple and 53 dB stopband attenuation\n- Lower passband edge: 1.00\n- Lower transition bandwidth: 1.00 Hz (-6 dB cutoff frequency: 0.50 Hz)\n- Upper passband edge: 40.00 Hz\n- Upper transition bandwidth: 10.00 Hz (-6 dB cutoff frequency: 45.00 Hz)\n- Filter length: 529 samples (3.306 s)\n\nUsed Annotations descriptions: ['T1', 'T2']\nFiltering raw data in 1 contiguous segment\nSetting up band-pass filter from 1 - 40 Hz\n\nFIR filter parameters\n---------------------\nDesigning a one-pass, zero-phase, non-causal bandpass filter:\n- Windowed time-domain design (firwin) method\n- Hamming window with 0.0194 passband ripple and 53 dB stopband attenuation\n- Lower passband edge: 1.00\n- Lower transition bandwidth: 1.00 Hz (-6 dB cutoff frequency: 0.50 Hz)\n- Upper passband edge: 40.00 Hz\n- Upper transition bandwidth: 10.00 Hz (-6 dB cutoff frequency: 45.00 Hz)\n- Filter length: 529 samples (3.306 s)\n\n",
     "output_type": "stream"
    },
    {
     "name": "stderr",
     "text": "[Parallel(n_jobs=1)]: Done  64 out of  64 | elapsed:    0.0s finished\n[Parallel(n_jobs=1)]: Done  17 tasks      | elapsed:    0.0s\n[Parallel(n_jobs=1)]: Done  64 out of  64 | elapsed:    0.1s finished\n[Parallel(n_jobs=1)]: Done  17 tasks      | elapsed:    0.0s\n",
     "output_type": "stream"
    },
    {
     "name": "stdout",
     "text": "Used Annotations descriptions: ['T1', 'T2']\nFiltering raw data in 1 contiguous segment\nSetting up band-pass filter from 1 - 40 Hz\n\nFIR filter parameters\n---------------------\nDesigning a one-pass, zero-phase, non-causal bandpass filter:\n- Windowed time-domain design (firwin) method\n- Hamming window with 0.0194 passband ripple and 53 dB stopband attenuation\n- Lower passband edge: 1.00\n- Lower transition bandwidth: 1.00 Hz (-6 dB cutoff frequency: 0.50 Hz)\n- Upper passband edge: 40.00 Hz\n- Upper transition bandwidth: 10.00 Hz (-6 dB cutoff frequency: 45.00 Hz)\n- Filter length: 529 samples (3.306 s)\n\nUsed Annotations descriptions: ['T1', 'T2']\nFiltering raw data in 1 contiguous segment\nSetting up band-pass filter from 1 - 40 Hz\n\nFIR filter parameters\n---------------------\nDesigning a one-pass, zero-phase, non-causal bandpass filter:\n- Windowed time-domain design (firwin) method\n- Hamming window with 0.0194 passband ripple and 53 dB stopband attenuation\n- Lower passband edge: 1.00\n- Lower transition bandwidth: 1.00 Hz (-6 dB cutoff frequency: 0.50 Hz)\n- Upper passband edge: 40.00 Hz\n- Upper transition bandwidth: 10.00 Hz (-6 dB cutoff frequency: 45.00 Hz)\n- Filter length: 529 samples (3.306 s)\n\n",
     "output_type": "stream"
    },
    {
     "name": "stderr",
     "text": "[Parallel(n_jobs=1)]: Done  64 out of  64 | elapsed:    0.1s finished\n[Parallel(n_jobs=1)]: Done  17 tasks      | elapsed:    0.0s\n[Parallel(n_jobs=1)]: Done  64 out of  64 | elapsed:    0.1s finished\n[Parallel(n_jobs=1)]: Done  17 tasks      | elapsed:    0.0s\n",
     "output_type": "stream"
    },
    {
     "name": "stdout",
     "text": "Used Annotations descriptions: ['T1', 'T2']\nFiltering raw data in 1 contiguous segment\nSetting up band-pass filter from 1 - 40 Hz\n\nFIR filter parameters\n---------------------\nDesigning a one-pass, zero-phase, non-causal bandpass filter:\n- Windowed time-domain design (firwin) method\n- Hamming window with 0.0194 passband ripple and 53 dB stopband attenuation\n- Lower passband edge: 1.00\n- Lower transition bandwidth: 1.00 Hz (-6 dB cutoff frequency: 0.50 Hz)\n- Upper passband edge: 40.00 Hz\n- Upper transition bandwidth: 10.00 Hz (-6 dB cutoff frequency: 45.00 Hz)\n- Filter length: 529 samples (3.306 s)\n\nUsed Annotations descriptions: ['T1', 'T2']\nFiltering raw data in 1 contiguous segment\nSetting up band-pass filter from 1 - 40 Hz\n\nFIR filter parameters\n---------------------\nDesigning a one-pass, zero-phase, non-causal bandpass filter:\n- Windowed time-domain design (firwin) method\n- Hamming window with 0.0194 passband ripple and 53 dB stopband attenuation\n- Lower passband edge: 1.00\n- Lower transition bandwidth: 1.00 Hz (-6 dB cutoff frequency: 0.50 Hz)\n- Upper passband edge: 40.00 Hz\n- Upper transition bandwidth: 10.00 Hz (-6 dB cutoff frequency: 45.00 Hz)\n- Filter length: 529 samples (3.306 s)\n\n",
     "output_type": "stream"
    },
    {
     "name": "stderr",
     "text": "[Parallel(n_jobs=1)]: Done  64 out of  64 | elapsed:    0.0s finished\n[Parallel(n_jobs=1)]: Done  17 tasks      | elapsed:    0.0s\n[Parallel(n_jobs=1)]: Done  64 out of  64 | elapsed:    0.0s finished\n[Parallel(n_jobs=1)]: Done  17 tasks      | elapsed:    0.0s\n",
     "output_type": "stream"
    },
    {
     "name": "stdout",
     "text": "Used Annotations descriptions: ['T1', 'T2']\nFiltering raw data in 1 contiguous segment\nSetting up band-pass filter from 1 - 40 Hz\n\nFIR filter parameters\n---------------------\nDesigning a one-pass, zero-phase, non-causal bandpass filter:\n- Windowed time-domain design (firwin) method\n- Hamming window with 0.0194 passband ripple and 53 dB stopband attenuation\n- Lower passband edge: 1.00\n- Lower transition bandwidth: 1.00 Hz (-6 dB cutoff frequency: 0.50 Hz)\n- Upper passband edge: 40.00 Hz\n- Upper transition bandwidth: 10.00 Hz (-6 dB cutoff frequency: 45.00 Hz)\n- Filter length: 529 samples (3.306 s)\n\nUsed Annotations descriptions: ['T1', 'T2']\nFiltering raw data in 1 contiguous segment\nSetting up band-pass filter from 1 - 40 Hz\n\nFIR filter parameters\n---------------------\nDesigning a one-pass, zero-phase, non-causal bandpass filter:\n- Windowed time-domain design (firwin) method\n- Hamming window with 0.0194 passband ripple and 53 dB stopband attenuation\n- Lower passband edge: 1.00\n- Lower transition bandwidth: 1.00 Hz (-6 dB cutoff frequency: 0.50 Hz)\n- Upper passband edge: 40.00 Hz\n- Upper transition bandwidth: 10.00 Hz (-6 dB cutoff frequency: 45.00 Hz)\n- Filter length: 529 samples (3.306 s)\n\n",
     "output_type": "stream"
    },
    {
     "name": "stderr",
     "text": "[Parallel(n_jobs=1)]: Done  64 out of  64 | elapsed:    0.1s finished\n[Parallel(n_jobs=1)]: Done  17 tasks      | elapsed:    0.0s\n[Parallel(n_jobs=1)]: Done  64 out of  64 | elapsed:    0.0s finished\n[Parallel(n_jobs=1)]: Done  17 tasks      | elapsed:    0.0s\n",
     "output_type": "stream"
    },
    {
     "name": "stdout",
     "text": "Used Annotations descriptions: ['T1', 'T2']\nFiltering raw data in 1 contiguous segment\nSetting up band-pass filter from 1 - 40 Hz\n\nFIR filter parameters\n---------------------\nDesigning a one-pass, zero-phase, non-causal bandpass filter:\n- Windowed time-domain design (firwin) method\n- Hamming window with 0.0194 passband ripple and 53 dB stopband attenuation\n- Lower passband edge: 1.00\n- Lower transition bandwidth: 1.00 Hz (-6 dB cutoff frequency: 0.50 Hz)\n- Upper passband edge: 40.00 Hz\n- Upper transition bandwidth: 10.00 Hz (-6 dB cutoff frequency: 45.00 Hz)\n- Filter length: 529 samples (3.306 s)\n\nUsed Annotations descriptions: ['T1', 'T2']\nFiltering raw data in 1 contiguous segment\nSetting up band-pass filter from 1 - 40 Hz\n\nFIR filter parameters\n---------------------\nDesigning a one-pass, zero-phase, non-causal bandpass filter:\n- Windowed time-domain design (firwin) method\n- Hamming window with 0.0194 passband ripple and 53 dB stopband attenuation\n- Lower passband edge: 1.00\n- Lower transition bandwidth: 1.00 Hz (-6 dB cutoff frequency: 0.50 Hz)\n- Upper passband edge: 40.00 Hz\n- Upper transition bandwidth: 10.00 Hz (-6 dB cutoff frequency: 45.00 Hz)\n- Filter length: 529 samples (3.306 s)\n\n",
     "output_type": "stream"
    },
    {
     "name": "stderr",
     "text": "[Parallel(n_jobs=1)]: Done  64 out of  64 | elapsed:    0.0s finished\n[Parallel(n_jobs=1)]: Done  17 tasks      | elapsed:    0.0s\n[Parallel(n_jobs=1)]: Done  64 out of  64 | elapsed:    0.0s finished\n[Parallel(n_jobs=1)]: Done  17 tasks      | elapsed:    0.0s\n",
     "output_type": "stream"
    },
    {
     "name": "stdout",
     "text": "Used Annotations descriptions: ['T1', 'T2']\nFiltering raw data in 1 contiguous segment\nSetting up band-pass filter from 1 - 40 Hz\n\nFIR filter parameters\n---------------------\nDesigning a one-pass, zero-phase, non-causal bandpass filter:\n- Windowed time-domain design (firwin) method\n- Hamming window with 0.0194 passband ripple and 53 dB stopband attenuation\n- Lower passband edge: 1.00\n- Lower transition bandwidth: 1.00 Hz (-6 dB cutoff frequency: 0.50 Hz)\n- Upper passband edge: 40.00 Hz\n- Upper transition bandwidth: 10.00 Hz (-6 dB cutoff frequency: 45.00 Hz)\n- Filter length: 529 samples (3.306 s)\n\nUsed Annotations descriptions: ['T1', 'T2']\nFiltering raw data in 1 contiguous segment\nSetting up band-pass filter from 1 - 40 Hz\n\nFIR filter parameters\n---------------------\nDesigning a one-pass, zero-phase, non-causal bandpass filter:\n- Windowed time-domain design (firwin) method\n- Hamming window with 0.0194 passband ripple and 53 dB stopband attenuation\n- Lower passband edge: 1.00\n- Lower transition bandwidth: 1.00 Hz (-6 dB cutoff frequency: 0.50 Hz)\n- Upper passband edge: 40.00 Hz\n- Upper transition bandwidth: 10.00 Hz (-6 dB cutoff frequency: 45.00 Hz)\n- Filter length: 529 samples (3.306 s)\n\n",
     "output_type": "stream"
    },
    {
     "name": "stderr",
     "text": "[Parallel(n_jobs=1)]: Done  64 out of  64 | elapsed:    0.0s finished\n[Parallel(n_jobs=1)]: Done  17 tasks      | elapsed:    0.0s\n[Parallel(n_jobs=1)]: Done  64 out of  64 | elapsed:    0.1s finished\n[Parallel(n_jobs=1)]: Done  17 tasks      | elapsed:    0.0s\n",
     "output_type": "stream"
    },
    {
     "name": "stdout",
     "text": "Used Annotations descriptions: ['T1', 'T2']\nFiltering raw data in 1 contiguous segment\nSetting up band-pass filter from 1 - 40 Hz\n\nFIR filter parameters\n---------------------\nDesigning a one-pass, zero-phase, non-causal bandpass filter:\n- Windowed time-domain design (firwin) method\n- Hamming window with 0.0194 passband ripple and 53 dB stopband attenuation\n- Lower passband edge: 1.00\n- Lower transition bandwidth: 1.00 Hz (-6 dB cutoff frequency: 0.50 Hz)\n- Upper passband edge: 40.00 Hz\n- Upper transition bandwidth: 10.00 Hz (-6 dB cutoff frequency: 45.00 Hz)\n- Filter length: 529 samples (3.306 s)\n\nUsed Annotations descriptions: ['T1', 'T2']\nFiltering raw data in 1 contiguous segment\nSetting up band-pass filter from 1 - 40 Hz\n\nFIR filter parameters\n---------------------\nDesigning a one-pass, zero-phase, non-causal bandpass filter:\n- Windowed time-domain design (firwin) method\n- Hamming window with 0.0194 passband ripple and 53 dB stopband attenuation\n- Lower passband edge: 1.00\n- Lower transition bandwidth: 1.00 Hz (-6 dB cutoff frequency: 0.50 Hz)\n- Upper passband edge: 40.00 Hz\n- Upper transition bandwidth: 10.00 Hz (-6 dB cutoff frequency: 45.00 Hz)\n- Filter length: 529 samples (3.306 s)\n\n",
     "output_type": "stream"
    },
    {
     "name": "stderr",
     "text": "[Parallel(n_jobs=1)]: Done  64 out of  64 | elapsed:    0.1s finished\n[Parallel(n_jobs=1)]: Done  17 tasks      | elapsed:    0.0s\n[Parallel(n_jobs=1)]: Done  64 out of  64 | elapsed:    0.0s finished\n[Parallel(n_jobs=1)]: Done  17 tasks      | elapsed:    0.0s\n",
     "output_type": "stream"
    },
    {
     "name": "stdout",
     "text": "Used Annotations descriptions: ['T1', 'T2']\nFiltering raw data in 1 contiguous segment\nSetting up band-pass filter from 1 - 40 Hz\n\nFIR filter parameters\n---------------------\nDesigning a one-pass, zero-phase, non-causal bandpass filter:\n- Windowed time-domain design (firwin) method\n- Hamming window with 0.0194 passband ripple and 53 dB stopband attenuation\n- Lower passband edge: 1.00\n- Lower transition bandwidth: 1.00 Hz (-6 dB cutoff frequency: 0.50 Hz)\n- Upper passband edge: 40.00 Hz\n- Upper transition bandwidth: 10.00 Hz (-6 dB cutoff frequency: 45.00 Hz)\n- Filter length: 529 samples (3.306 s)\n\nUsed Annotations descriptions: ['T1', 'T2']\nFiltering raw data in 1 contiguous segment\nSetting up band-pass filter from 1 - 40 Hz\n\nFIR filter parameters\n---------------------\nDesigning a one-pass, zero-phase, non-causal bandpass filter:\n- Windowed time-domain design (firwin) method\n- Hamming window with 0.0194 passband ripple and 53 dB stopband attenuation\n- Lower passband edge: 1.00\n- Lower transition bandwidth: 1.00 Hz (-6 dB cutoff frequency: 0.50 Hz)\n- Upper passband edge: 40.00 Hz\n- Upper transition bandwidth: 10.00 Hz (-6 dB cutoff frequency: 45.00 Hz)\n- Filter length: 529 samples (3.306 s)\n\n",
     "output_type": "stream"
    },
    {
     "name": "stderr",
     "text": "[Parallel(n_jobs=1)]: Done  64 out of  64 | elapsed:    0.0s finished\n[Parallel(n_jobs=1)]: Done  17 tasks      | elapsed:    0.0s\n[Parallel(n_jobs=1)]: Done  64 out of  64 | elapsed:    0.0s finished\n[Parallel(n_jobs=1)]: Done  17 tasks      | elapsed:    0.0s\n",
     "output_type": "stream"
    },
    {
     "name": "stdout",
     "text": "Used Annotations descriptions: ['T1', 'T2']\nFiltering raw data in 1 contiguous segment\nSetting up band-pass filter from 1 - 40 Hz\n\nFIR filter parameters\n---------------------\nDesigning a one-pass, zero-phase, non-causal bandpass filter:\n- Windowed time-domain design (firwin) method\n- Hamming window with 0.0194 passband ripple and 53 dB stopband attenuation\n- Lower passband edge: 1.00\n- Lower transition bandwidth: 1.00 Hz (-6 dB cutoff frequency: 0.50 Hz)\n- Upper passband edge: 40.00 Hz\n- Upper transition bandwidth: 10.00 Hz (-6 dB cutoff frequency: 45.00 Hz)\n- Filter length: 529 samples (3.306 s)\n\nUsed Annotations descriptions: ['T1', 'T2']\nFiltering raw data in 1 contiguous segment\nSetting up band-pass filter from 1 - 40 Hz\n\nFIR filter parameters\n---------------------\nDesigning a one-pass, zero-phase, non-causal bandpass filter:\n- Windowed time-domain design (firwin) method\n- Hamming window with 0.0194 passband ripple and 53 dB stopband attenuation\n- Lower passband edge: 1.00\n- Lower transition bandwidth: 1.00 Hz (-6 dB cutoff frequency: 0.50 Hz)\n- Upper passband edge: 40.00 Hz\n- Upper transition bandwidth: 10.00 Hz (-6 dB cutoff frequency: 45.00 Hz)\n- Filter length: 529 samples (3.306 s)\n\n",
     "output_type": "stream"
    },
    {
     "name": "stderr",
     "text": "[Parallel(n_jobs=1)]: Done  64 out of  64 | elapsed:    0.1s finished\n[Parallel(n_jobs=1)]: Done  17 tasks      | elapsed:    0.0s\n[Parallel(n_jobs=1)]: Done  64 out of  64 | elapsed:    0.0s finished\n[Parallel(n_jobs=1)]: Done  17 tasks      | elapsed:    0.0s\n",
     "output_type": "stream"
    },
    {
     "name": "stdout",
     "text": "Used Annotations descriptions: ['T1', 'T2']\nFiltering raw data in 1 contiguous segment\nSetting up band-pass filter from 1 - 40 Hz\n\nFIR filter parameters\n---------------------\nDesigning a one-pass, zero-phase, non-causal bandpass filter:\n- Windowed time-domain design (firwin) method\n- Hamming window with 0.0194 passband ripple and 53 dB stopband attenuation\n- Lower passband edge: 1.00\n- Lower transition bandwidth: 1.00 Hz (-6 dB cutoff frequency: 0.50 Hz)\n- Upper passband edge: 40.00 Hz\n- Upper transition bandwidth: 10.00 Hz (-6 dB cutoff frequency: 45.00 Hz)\n- Filter length: 529 samples (3.306 s)\n\nUsed Annotations descriptions: ['T1', 'T2']\nFiltering raw data in 1 contiguous segment\nSetting up band-pass filter from 1 - 40 Hz\n\nFIR filter parameters\n---------------------\nDesigning a one-pass, zero-phase, non-causal bandpass filter:\n- Windowed time-domain design (firwin) method\n- Hamming window with 0.0194 passband ripple and 53 dB stopband attenuation\n- Lower passband edge: 1.00\n- Lower transition bandwidth: 1.00 Hz (-6 dB cutoff frequency: 0.50 Hz)\n- Upper passband edge: 40.00 Hz\n- Upper transition bandwidth: 10.00 Hz (-6 dB cutoff frequency: 45.00 Hz)\n- Filter length: 529 samples (3.306 s)\n\n",
     "output_type": "stream"
    },
    {
     "name": "stderr",
     "text": "[Parallel(n_jobs=1)]: Done  64 out of  64 | elapsed:    0.0s finished\n[Parallel(n_jobs=1)]: Done  17 tasks      | elapsed:    0.0s\n[Parallel(n_jobs=1)]: Done  64 out of  64 | elapsed:    0.0s finished\n[Parallel(n_jobs=1)]: Done  17 tasks      | elapsed:    0.0s\n",
     "output_type": "stream"
    },
    {
     "name": "stdout",
     "text": "Used Annotations descriptions: ['T1', 'T2']\nFiltering raw data in 1 contiguous segment\nSetting up band-pass filter from 1 - 40 Hz\n\nFIR filter parameters\n---------------------\nDesigning a one-pass, zero-phase, non-causal bandpass filter:\n- Windowed time-domain design (firwin) method\n- Hamming window with 0.0194 passband ripple and 53 dB stopband attenuation\n- Lower passband edge: 1.00\n- Lower transition bandwidth: 1.00 Hz (-6 dB cutoff frequency: 0.50 Hz)\n- Upper passband edge: 40.00 Hz\n- Upper transition bandwidth: 10.00 Hz (-6 dB cutoff frequency: 45.00 Hz)\n- Filter length: 529 samples (3.306 s)\n\nUsed Annotations descriptions: ['T1', 'T2']\nFiltering raw data in 1 contiguous segment\nSetting up band-pass filter from 1 - 40 Hz\n\nFIR filter parameters\n---------------------\nDesigning a one-pass, zero-phase, non-causal bandpass filter:\n- Windowed time-domain design (firwin) method\n- Hamming window with 0.0194 passband ripple and 53 dB stopband attenuation\n- Lower passband edge: 1.00\n- Lower transition bandwidth: 1.00 Hz (-6 dB cutoff frequency: 0.50 Hz)\n- Upper passband edge: 40.00 Hz\n- Upper transition bandwidth: 10.00 Hz (-6 dB cutoff frequency: 45.00 Hz)\n- Filter length: 529 samples (3.306 s)\n\n",
     "output_type": "stream"
    },
    {
     "name": "stderr",
     "text": "[Parallel(n_jobs=1)]: Done  64 out of  64 | elapsed:    0.1s finished\n[Parallel(n_jobs=1)]: Done  17 tasks      | elapsed:    0.0s\n[Parallel(n_jobs=1)]: Done  64 out of  64 | elapsed:    0.0s finished\n[Parallel(n_jobs=1)]: Done  17 tasks      | elapsed:    0.0s\n",
     "output_type": "stream"
    },
    {
     "name": "stdout",
     "text": "Used Annotations descriptions: ['T1', 'T2']\nFiltering raw data in 1 contiguous segment\nSetting up band-pass filter from 1 - 40 Hz\n\nFIR filter parameters\n---------------------\nDesigning a one-pass, zero-phase, non-causal bandpass filter:\n- Windowed time-domain design (firwin) method\n- Hamming window with 0.0194 passband ripple and 53 dB stopband attenuation\n- Lower passband edge: 1.00\n- Lower transition bandwidth: 1.00 Hz (-6 dB cutoff frequency: 0.50 Hz)\n- Upper passband edge: 40.00 Hz\n- Upper transition bandwidth: 10.00 Hz (-6 dB cutoff frequency: 45.00 Hz)\n- Filter length: 529 samples (3.306 s)\n\nUsed Annotations descriptions: ['T1', 'T2']\nFiltering raw data in 1 contiguous segment\nSetting up band-pass filter from 1 - 40 Hz\n\nFIR filter parameters\n---------------------\nDesigning a one-pass, zero-phase, non-causal bandpass filter:\n- Windowed time-domain design (firwin) method\n- Hamming window with 0.0194 passband ripple and 53 dB stopband attenuation\n- Lower passband edge: 1.00\n- Lower transition bandwidth: 1.00 Hz (-6 dB cutoff frequency: 0.50 Hz)\n- Upper passband edge: 40.00 Hz\n- Upper transition bandwidth: 10.00 Hz (-6 dB cutoff frequency: 45.00 Hz)\n- Filter length: 529 samples (3.306 s)\n\n",
     "output_type": "stream"
    },
    {
     "name": "stderr",
     "text": "[Parallel(n_jobs=1)]: Done  64 out of  64 | elapsed:    0.0s finished\n[Parallel(n_jobs=1)]: Done  17 tasks      | elapsed:    0.0s\n[Parallel(n_jobs=1)]: Done  64 out of  64 | elapsed:    0.0s finished\n[Parallel(n_jobs=1)]: Done  17 tasks      | elapsed:    0.0s\n",
     "output_type": "stream"
    },
    {
     "name": "stdout",
     "text": "Used Annotations descriptions: ['T1', 'T2']\nFiltering raw data in 1 contiguous segment\nSetting up band-pass filter from 1 - 40 Hz\n\nFIR filter parameters\n---------------------\nDesigning a one-pass, zero-phase, non-causal bandpass filter:\n- Windowed time-domain design (firwin) method\n- Hamming window with 0.0194 passband ripple and 53 dB stopband attenuation\n- Lower passband edge: 1.00\n- Lower transition bandwidth: 1.00 Hz (-6 dB cutoff frequency: 0.50 Hz)\n- Upper passband edge: 40.00 Hz\n- Upper transition bandwidth: 10.00 Hz (-6 dB cutoff frequency: 45.00 Hz)\n- Filter length: 529 samples (3.306 s)\n\nUsed Annotations descriptions: ['T1', 'T2']\nFiltering raw data in 1 contiguous segment\nSetting up band-pass filter from 1 - 40 Hz\n\nFIR filter parameters\n---------------------\nDesigning a one-pass, zero-phase, non-causal bandpass filter:\n- Windowed time-domain design (firwin) method\n- Hamming window with 0.0194 passband ripple and 53 dB stopband attenuation\n- Lower passband edge: 1.00\n- Lower transition bandwidth: 1.00 Hz (-6 dB cutoff frequency: 0.50 Hz)\n- Upper passband edge: 40.00 Hz\n- Upper transition bandwidth: 10.00 Hz (-6 dB cutoff frequency: 45.00 Hz)\n- Filter length: 529 samples (3.306 s)\n\n",
     "output_type": "stream"
    },
    {
     "name": "stderr",
     "text": "[Parallel(n_jobs=1)]: Done  64 out of  64 | elapsed:    0.0s finished\n[Parallel(n_jobs=1)]: Done  17 tasks      | elapsed:    0.0s\n[Parallel(n_jobs=1)]: Done  64 out of  64 | elapsed:    0.1s finished\n[Parallel(n_jobs=1)]: Done  17 tasks      | elapsed:    0.0s\n",
     "output_type": "stream"
    },
    {
     "name": "stdout",
     "text": "Used Annotations descriptions: ['T1', 'T2']\nFiltering raw data in 1 contiguous segment\nSetting up band-pass filter from 1 - 40 Hz\n\nFIR filter parameters\n---------------------\nDesigning a one-pass, zero-phase, non-causal bandpass filter:\n- Windowed time-domain design (firwin) method\n- Hamming window with 0.0194 passband ripple and 53 dB stopband attenuation\n- Lower passband edge: 1.00\n- Lower transition bandwidth: 1.00 Hz (-6 dB cutoff frequency: 0.50 Hz)\n- Upper passband edge: 40.00 Hz\n- Upper transition bandwidth: 10.00 Hz (-6 dB cutoff frequency: 45.00 Hz)\n- Filter length: 529 samples (3.306 s)\n\nUsed Annotations descriptions: ['T1', 'T2']\nFiltering raw data in 1 contiguous segment\nSetting up band-pass filter from 1 - 40 Hz\n\nFIR filter parameters\n---------------------\nDesigning a one-pass, zero-phase, non-causal bandpass filter:\n- Windowed time-domain design (firwin) method\n- Hamming window with 0.0194 passband ripple and 53 dB stopband attenuation\n- Lower passband edge: 1.00\n- Lower transition bandwidth: 1.00 Hz (-6 dB cutoff frequency: 0.50 Hz)\n- Upper passband edge: 40.00 Hz\n- Upper transition bandwidth: 10.00 Hz (-6 dB cutoff frequency: 45.00 Hz)\n- Filter length: 529 samples (3.306 s)\n\n",
     "output_type": "stream"
    },
    {
     "name": "stderr",
     "text": "[Parallel(n_jobs=1)]: Done  64 out of  64 | elapsed:    0.1s finished\n[Parallel(n_jobs=1)]: Done  17 tasks      | elapsed:    0.0s\n[Parallel(n_jobs=1)]: Done  64 out of  64 | elapsed:    0.0s finished\n[Parallel(n_jobs=1)]: Done  17 tasks      | elapsed:    0.0s\n",
     "output_type": "stream"
    },
    {
     "name": "stdout",
     "text": "Used Annotations descriptions: ['T1', 'T2']\nFiltering raw data in 1 contiguous segment\nSetting up band-pass filter from 1 - 40 Hz\n\nFIR filter parameters\n---------------------\nDesigning a one-pass, zero-phase, non-causal bandpass filter:\n- Windowed time-domain design (firwin) method\n- Hamming window with 0.0194 passband ripple and 53 dB stopband attenuation\n- Lower passband edge: 1.00\n- Lower transition bandwidth: 1.00 Hz (-6 dB cutoff frequency: 0.50 Hz)\n- Upper passband edge: 40.00 Hz\n- Upper transition bandwidth: 10.00 Hz (-6 dB cutoff frequency: 45.00 Hz)\n- Filter length: 529 samples (3.306 s)\n\nUsed Annotations descriptions: ['T1', 'T2']\nFiltering raw data in 1 contiguous segment\nSetting up band-pass filter from 1 - 40 Hz\n\nFIR filter parameters\n---------------------\nDesigning a one-pass, zero-phase, non-causal bandpass filter:\n- Windowed time-domain design (firwin) method\n- Hamming window with 0.0194 passband ripple and 53 dB stopband attenuation\n- Lower passband edge: 1.00\n- Lower transition bandwidth: 1.00 Hz (-6 dB cutoff frequency: 0.50 Hz)\n- Upper passband edge: 40.00 Hz\n- Upper transition bandwidth: 10.00 Hz (-6 dB cutoff frequency: 45.00 Hz)\n- Filter length: 529 samples (3.306 s)\n\n",
     "output_type": "stream"
    },
    {
     "name": "stderr",
     "text": "[Parallel(n_jobs=1)]: Done  64 out of  64 | elapsed:    0.0s finished\n[Parallel(n_jobs=1)]: Done  17 tasks      | elapsed:    0.0s\n[Parallel(n_jobs=1)]: Done  64 out of  64 | elapsed:    0.0s finished\n[Parallel(n_jobs=1)]: Done  17 tasks      | elapsed:    0.0s\n",
     "output_type": "stream"
    },
    {
     "name": "stdout",
     "text": "Used Annotations descriptions: ['T1', 'T2']\nFiltering raw data in 1 contiguous segment\nSetting up band-pass filter from 1 - 40 Hz\n\nFIR filter parameters\n---------------------\nDesigning a one-pass, zero-phase, non-causal bandpass filter:\n- Windowed time-domain design (firwin) method\n- Hamming window with 0.0194 passband ripple and 53 dB stopband attenuation\n- Lower passband edge: 1.00\n- Lower transition bandwidth: 1.00 Hz (-6 dB cutoff frequency: 0.50 Hz)\n- Upper passband edge: 40.00 Hz\n- Upper transition bandwidth: 10.00 Hz (-6 dB cutoff frequency: 45.00 Hz)\n- Filter length: 529 samples (3.306 s)\n\nUsed Annotations descriptions: ['T1', 'T2']\nFiltering raw data in 1 contiguous segment\nSetting up band-pass filter from 1 - 40 Hz\n\nFIR filter parameters\n---------------------\nDesigning a one-pass, zero-phase, non-causal bandpass filter:\n- Windowed time-domain design (firwin) method\n- Hamming window with 0.0194 passband ripple and 53 dB stopband attenuation\n- Lower passband edge: 1.00\n- Lower transition bandwidth: 1.00 Hz (-6 dB cutoff frequency: 0.50 Hz)\n- Upper passband edge: 40.00 Hz\n- Upper transition bandwidth: 10.00 Hz (-6 dB cutoff frequency: 45.00 Hz)\n- Filter length: 529 samples (3.306 s)\n\n",
     "output_type": "stream"
    },
    {
     "name": "stderr",
     "text": "[Parallel(n_jobs=1)]: Done  64 out of  64 | elapsed:    0.1s finished\n[Parallel(n_jobs=1)]: Done  17 tasks      | elapsed:    0.0s\n[Parallel(n_jobs=1)]: Done  64 out of  64 | elapsed:    0.0s finished\n[Parallel(n_jobs=1)]: Done  17 tasks      | elapsed:    0.0s\n",
     "output_type": "stream"
    },
    {
     "name": "stdout",
     "text": "Used Annotations descriptions: ['T1', 'T2']\nFiltering raw data in 1 contiguous segment\nSetting up band-pass filter from 1 - 40 Hz\n\nFIR filter parameters\n---------------------\nDesigning a one-pass, zero-phase, non-causal bandpass filter:\n- Windowed time-domain design (firwin) method\n- Hamming window with 0.0194 passband ripple and 53 dB stopband attenuation\n- Lower passband edge: 1.00\n- Lower transition bandwidth: 1.00 Hz (-6 dB cutoff frequency: 0.50 Hz)\n- Upper passband edge: 40.00 Hz\n- Upper transition bandwidth: 10.00 Hz (-6 dB cutoff frequency: 45.00 Hz)\n- Filter length: 529 samples (3.306 s)\n\nUsed Annotations descriptions: ['T1', 'T2']\nFiltering raw data in 1 contiguous segment\nSetting up band-pass filter from 1 - 40 Hz\n\nFIR filter parameters\n---------------------\nDesigning a one-pass, zero-phase, non-causal bandpass filter:\n- Windowed time-domain design (firwin) method\n- Hamming window with 0.0194 passband ripple and 53 dB stopband attenuation\n- Lower passband edge: 1.00\n- Lower transition bandwidth: 1.00 Hz (-6 dB cutoff frequency: 0.50 Hz)\n- Upper passband edge: 40.00 Hz\n- Upper transition bandwidth: 10.00 Hz (-6 dB cutoff frequency: 45.00 Hz)\n- Filter length: 529 samples (3.306 s)\n\n",
     "output_type": "stream"
    },
    {
     "name": "stderr",
     "text": "[Parallel(n_jobs=1)]: Done  64 out of  64 | elapsed:    0.0s finished\n[Parallel(n_jobs=1)]: Done  17 tasks      | elapsed:    0.0s\n[Parallel(n_jobs=1)]: Done  64 out of  64 | elapsed:    0.0s finished\n[Parallel(n_jobs=1)]: Done  17 tasks      | elapsed:    0.0s\n",
     "output_type": "stream"
    },
    {
     "name": "stdout",
     "text": "Used Annotations descriptions: ['T1', 'T2']\nFiltering raw data in 1 contiguous segment\nSetting up band-pass filter from 1 - 40 Hz\n\nFIR filter parameters\n---------------------\nDesigning a one-pass, zero-phase, non-causal bandpass filter:\n- Windowed time-domain design (firwin) method\n- Hamming window with 0.0194 passband ripple and 53 dB stopband attenuation\n- Lower passband edge: 1.00\n- Lower transition bandwidth: 1.00 Hz (-6 dB cutoff frequency: 0.50 Hz)\n- Upper passband edge: 40.00 Hz\n- Upper transition bandwidth: 10.00 Hz (-6 dB cutoff frequency: 45.00 Hz)\n- Filter length: 529 samples (3.306 s)\n\nUsed Annotations descriptions: ['T1', 'T2']\nFiltering raw data in 1 contiguous segment\nSetting up band-pass filter from 1 - 40 Hz\n\nFIR filter parameters\n---------------------\nDesigning a one-pass, zero-phase, non-causal bandpass filter:\n- Windowed time-domain design (firwin) method\n- Hamming window with 0.0194 passband ripple and 53 dB stopband attenuation\n- Lower passband edge: 1.00\n- Lower transition bandwidth: 1.00 Hz (-6 dB cutoff frequency: 0.50 Hz)\n- Upper passband edge: 40.00 Hz\n- Upper transition bandwidth: 10.00 Hz (-6 dB cutoff frequency: 45.00 Hz)\n- Filter length: 529 samples (3.306 s)\n\n",
     "output_type": "stream"
    },
    {
     "name": "stderr",
     "text": "[Parallel(n_jobs=1)]: Done  64 out of  64 | elapsed:    0.0s finished\n[Parallel(n_jobs=1)]: Done  17 tasks      | elapsed:    0.0s\n[Parallel(n_jobs=1)]: Done  64 out of  64 | elapsed:    0.0s finished\n[Parallel(n_jobs=1)]: Done  17 tasks      | elapsed:    0.0s\n",
     "output_type": "stream"
    },
    {
     "name": "stdout",
     "text": "Used Annotations descriptions: ['T1', 'T2']\nFiltering raw data in 1 contiguous segment\nSetting up band-pass filter from 1 - 40 Hz\n\nFIR filter parameters\n---------------------\nDesigning a one-pass, zero-phase, non-causal bandpass filter:\n- Windowed time-domain design (firwin) method\n- Hamming window with 0.0194 passband ripple and 53 dB stopband attenuation\n- Lower passband edge: 1.00\n- Lower transition bandwidth: 1.00 Hz (-6 dB cutoff frequency: 0.50 Hz)\n- Upper passband edge: 40.00 Hz\n- Upper transition bandwidth: 10.00 Hz (-6 dB cutoff frequency: 45.00 Hz)\n- Filter length: 529 samples (3.306 s)\n\nUsed Annotations descriptions: ['T1', 'T2']\nFiltering raw data in 1 contiguous segment\nSetting up band-pass filter from 1 - 40 Hz\n\nFIR filter parameters\n---------------------\nDesigning a one-pass, zero-phase, non-causal bandpass filter:\n- Windowed time-domain design (firwin) method\n- Hamming window with 0.0194 passband ripple and 53 dB stopband attenuation\n- Lower passband edge: 1.00\n- Lower transition bandwidth: 1.00 Hz (-6 dB cutoff frequency: 0.50 Hz)\n- Upper passband edge: 40.00 Hz\n- Upper transition bandwidth: 10.00 Hz (-6 dB cutoff frequency: 45.00 Hz)\n- Filter length: 529 samples (3.306 s)\n\n",
     "output_type": "stream"
    },
    {
     "name": "stderr",
     "text": "[Parallel(n_jobs=1)]: Done  64 out of  64 | elapsed:    0.0s finished\n[Parallel(n_jobs=1)]: Done  17 tasks      | elapsed:    0.0s\n[Parallel(n_jobs=1)]: Done  64 out of  64 | elapsed:    0.0s finished\n[Parallel(n_jobs=1)]: Done  17 tasks      | elapsed:    0.0s\n",
     "output_type": "stream"
    },
    {
     "name": "stdout",
     "text": "Used Annotations descriptions: ['T1', 'T2']\nFiltering raw data in 1 contiguous segment\nSetting up band-pass filter from 1 - 40 Hz\n\nFIR filter parameters\n---------------------\nDesigning a one-pass, zero-phase, non-causal bandpass filter:\n- Windowed time-domain design (firwin) method\n- Hamming window with 0.0194 passband ripple and 53 dB stopband attenuation\n- Lower passband edge: 1.00\n- Lower transition bandwidth: 1.00 Hz (-6 dB cutoff frequency: 0.50 Hz)\n- Upper passband edge: 40.00 Hz\n- Upper transition bandwidth: 10.00 Hz (-6 dB cutoff frequency: 45.00 Hz)\n- Filter length: 529 samples (3.306 s)\n\nUsed Annotations descriptions: ['T1', 'T2']\nFiltering raw data in 1 contiguous segment\nSetting up band-pass filter from 1 - 40 Hz\n\nFIR filter parameters\n---------------------\nDesigning a one-pass, zero-phase, non-causal bandpass filter:\n- Windowed time-domain design (firwin) method\n- Hamming window with 0.0194 passband ripple and 53 dB stopband attenuation\n- Lower passband edge: 1.00\n- Lower transition bandwidth: 1.00 Hz (-6 dB cutoff frequency: 0.50 Hz)\n- Upper passband edge: 40.00 Hz\n- Upper transition bandwidth: 10.00 Hz (-6 dB cutoff frequency: 45.00 Hz)\n- Filter length: 529 samples (3.306 s)\n\n",
     "output_type": "stream"
    },
    {
     "name": "stderr",
     "text": "[Parallel(n_jobs=1)]: Done  64 out of  64 | elapsed:    0.0s finished\n[Parallel(n_jobs=1)]: Done  17 tasks      | elapsed:    0.0s\n[Parallel(n_jobs=1)]: Done  64 out of  64 | elapsed:    0.0s finished\n[Parallel(n_jobs=1)]: Done  17 tasks      | elapsed:    0.0s\n",
     "output_type": "stream"
    },
    {
     "name": "stdout",
     "text": "Used Annotations descriptions: ['T1', 'T2']\nFiltering raw data in 1 contiguous segment\nSetting up band-pass filter from 1 - 40 Hz\n\nFIR filter parameters\n---------------------\nDesigning a one-pass, zero-phase, non-causal bandpass filter:\n- Windowed time-domain design (firwin) method\n- Hamming window with 0.0194 passband ripple and 53 dB stopband attenuation\n- Lower passband edge: 1.00\n- Lower transition bandwidth: 1.00 Hz (-6 dB cutoff frequency: 0.50 Hz)\n- Upper passband edge: 40.00 Hz\n- Upper transition bandwidth: 10.00 Hz (-6 dB cutoff frequency: 45.00 Hz)\n- Filter length: 529 samples (3.306 s)\n\nUsed Annotations descriptions: ['T1', 'T2']\nFiltering raw data in 1 contiguous segment\nSetting up band-pass filter from 1 - 40 Hz\n\nFIR filter parameters\n---------------------\nDesigning a one-pass, zero-phase, non-causal bandpass filter:\n- Windowed time-domain design (firwin) method\n- Hamming window with 0.0194 passband ripple and 53 dB stopband attenuation\n- Lower passband edge: 1.00\n- Lower transition bandwidth: 1.00 Hz (-6 dB cutoff frequency: 0.50 Hz)\n- Upper passband edge: 40.00 Hz\n- Upper transition bandwidth: 10.00 Hz (-6 dB cutoff frequency: 45.00 Hz)\n- Filter length: 529 samples (3.306 s)\n\n",
     "output_type": "stream"
    },
    {
     "name": "stderr",
     "text": "[Parallel(n_jobs=1)]: Done  64 out of  64 | elapsed:    0.1s finished\n[Parallel(n_jobs=1)]: Done  17 tasks      | elapsed:    0.0s\n[Parallel(n_jobs=1)]: Done  64 out of  64 | elapsed:    0.1s finished\n[Parallel(n_jobs=1)]: Done  17 tasks      | elapsed:    0.0s\n",
     "output_type": "stream"
    },
    {
     "name": "stdout",
     "text": "Used Annotations descriptions: ['T1', 'T2']\nFiltering raw data in 1 contiguous segment\nSetting up band-pass filter from 1 - 40 Hz\n\nFIR filter parameters\n---------------------\nDesigning a one-pass, zero-phase, non-causal bandpass filter:\n- Windowed time-domain design (firwin) method\n- Hamming window with 0.0194 passband ripple and 53 dB stopband attenuation\n- Lower passband edge: 1.00\n- Lower transition bandwidth: 1.00 Hz (-6 dB cutoff frequency: 0.50 Hz)\n- Upper passband edge: 40.00 Hz\n- Upper transition bandwidth: 10.00 Hz (-6 dB cutoff frequency: 45.00 Hz)\n- Filter length: 529 samples (3.306 s)\n\nUsed Annotations descriptions: ['T1', 'T2']\nFiltering raw data in 1 contiguous segment\nSetting up band-pass filter from 1 - 40 Hz\n\nFIR filter parameters\n---------------------\nDesigning a one-pass, zero-phase, non-causal bandpass filter:\n- Windowed time-domain design (firwin) method\n- Hamming window with 0.0194 passband ripple and 53 dB stopband attenuation\n- Lower passband edge: 1.00\n- Lower transition bandwidth: 1.00 Hz (-6 dB cutoff frequency: 0.50 Hz)\n- Upper passband edge: 40.00 Hz\n- Upper transition bandwidth: 10.00 Hz (-6 dB cutoff frequency: 45.00 Hz)\n- Filter length: 529 samples (3.306 s)\n\n",
     "output_type": "stream"
    },
    {
     "name": "stderr",
     "text": "[Parallel(n_jobs=1)]: Done  64 out of  64 | elapsed:    0.1s finished\n[Parallel(n_jobs=1)]: Done  17 tasks      | elapsed:    0.0s\n[Parallel(n_jobs=1)]: Done  64 out of  64 | elapsed:    0.0s finished\n[Parallel(n_jobs=1)]: Done  17 tasks      | elapsed:    0.0s\n",
     "output_type": "stream"
    },
    {
     "name": "stdout",
     "text": "Used Annotations descriptions: ['T1', 'T2']\nFiltering raw data in 1 contiguous segment\nSetting up band-pass filter from 1 - 40 Hz\n\nFIR filter parameters\n---------------------\nDesigning a one-pass, zero-phase, non-causal bandpass filter:\n- Windowed time-domain design (firwin) method\n- Hamming window with 0.0194 passband ripple and 53 dB stopband attenuation\n- Lower passband edge: 1.00\n- Lower transition bandwidth: 1.00 Hz (-6 dB cutoff frequency: 0.50 Hz)\n- Upper passband edge: 40.00 Hz\n- Upper transition bandwidth: 10.00 Hz (-6 dB cutoff frequency: 45.00 Hz)\n- Filter length: 529 samples (3.306 s)\n\nUsed Annotations descriptions: ['T1', 'T2']\nFiltering raw data in 1 contiguous segment\nSetting up band-pass filter from 1 - 40 Hz\n\nFIR filter parameters\n---------------------\nDesigning a one-pass, zero-phase, non-causal bandpass filter:\n- Windowed time-domain design (firwin) method\n- Hamming window with 0.0194 passband ripple and 53 dB stopband attenuation\n- Lower passband edge: 1.00\n- Lower transition bandwidth: 1.00 Hz (-6 dB cutoff frequency: 0.50 Hz)\n- Upper passband edge: 40.00 Hz\n- Upper transition bandwidth: 10.00 Hz (-6 dB cutoff frequency: 45.00 Hz)\n- Filter length: 529 samples (3.306 s)\n\n",
     "output_type": "stream"
    },
    {
     "name": "stderr",
     "text": "[Parallel(n_jobs=1)]: Done  64 out of  64 | elapsed:    0.1s finished\n[Parallel(n_jobs=1)]: Done  17 tasks      | elapsed:    0.0s\n[Parallel(n_jobs=1)]: Done  64 out of  64 | elapsed:    0.1s finished\n[Parallel(n_jobs=1)]: Done  17 tasks      | elapsed:    0.0s\n",
     "output_type": "stream"
    },
    {
     "name": "stdout",
     "text": "Used Annotations descriptions: ['T1', 'T2']\nFiltering raw data in 1 contiguous segment\nSetting up band-pass filter from 1 - 40 Hz\n\nFIR filter parameters\n---------------------\nDesigning a one-pass, zero-phase, non-causal bandpass filter:\n- Windowed time-domain design (firwin) method\n- Hamming window with 0.0194 passband ripple and 53 dB stopband attenuation\n- Lower passband edge: 1.00\n- Lower transition bandwidth: 1.00 Hz (-6 dB cutoff frequency: 0.50 Hz)\n- Upper passband edge: 40.00 Hz\n- Upper transition bandwidth: 10.00 Hz (-6 dB cutoff frequency: 45.00 Hz)\n- Filter length: 529 samples (3.306 s)\n\nUsed Annotations descriptions: ['T1', 'T2']\nFiltering raw data in 1 contiguous segment\nSetting up band-pass filter from 1 - 40 Hz\n\nFIR filter parameters\n---------------------\nDesigning a one-pass, zero-phase, non-causal bandpass filter:\n- Windowed time-domain design (firwin) method\n- Hamming window with 0.0194 passband ripple and 53 dB stopband attenuation\n- Lower passband edge: 1.00\n- Lower transition bandwidth: 1.00 Hz (-6 dB cutoff frequency: 0.50 Hz)\n- Upper passband edge: 40.00 Hz\n- Upper transition bandwidth: 10.00 Hz (-6 dB cutoff frequency: 45.00 Hz)\n- Filter length: 529 samples (3.306 s)\n\n",
     "output_type": "stream"
    },
    {
     "name": "stderr",
     "text": "[Parallel(n_jobs=1)]: Done  64 out of  64 | elapsed:    0.1s finished\n[Parallel(n_jobs=1)]: Done  17 tasks      | elapsed:    0.0s\n[Parallel(n_jobs=1)]: Done  64 out of  64 | elapsed:    0.1s finished\n[Parallel(n_jobs=1)]: Done  17 tasks      | elapsed:    0.0s\n",
     "output_type": "stream"
    },
    {
     "name": "stdout",
     "text": "Used Annotations descriptions: ['T1', 'T2']\nFiltering raw data in 1 contiguous segment\nSetting up band-pass filter from 1 - 40 Hz\n\nFIR filter parameters\n---------------------\nDesigning a one-pass, zero-phase, non-causal bandpass filter:\n- Windowed time-domain design (firwin) method\n- Hamming window with 0.0194 passband ripple and 53 dB stopband attenuation\n- Lower passband edge: 1.00\n- Lower transition bandwidth: 1.00 Hz (-6 dB cutoff frequency: 0.50 Hz)\n- Upper passband edge: 40.00 Hz\n- Upper transition bandwidth: 10.00 Hz (-6 dB cutoff frequency: 45.00 Hz)\n- Filter length: 529 samples (3.306 s)\n\nUsed Annotations descriptions: ['T1', 'T2']\nFiltering raw data in 1 contiguous segment\nSetting up band-pass filter from 1 - 40 Hz\n\nFIR filter parameters\n---------------------\nDesigning a one-pass, zero-phase, non-causal bandpass filter:\n- Windowed time-domain design (firwin) method\n- Hamming window with 0.0194 passband ripple and 53 dB stopband attenuation\n- Lower passband edge: 1.00\n- Lower transition bandwidth: 1.00 Hz (-6 dB cutoff frequency: 0.50 Hz)\n- Upper passband edge: 40.00 Hz\n- Upper transition bandwidth: 10.00 Hz (-6 dB cutoff frequency: 45.00 Hz)\n- Filter length: 529 samples (3.306 s)\n\n",
     "output_type": "stream"
    },
    {
     "name": "stderr",
     "text": "[Parallel(n_jobs=1)]: Done  64 out of  64 | elapsed:    0.0s finished\n[Parallel(n_jobs=1)]: Done  17 tasks      | elapsed:    0.0s\n[Parallel(n_jobs=1)]: Done  64 out of  64 | elapsed:    0.0s finished\n[Parallel(n_jobs=1)]: Done  17 tasks      | elapsed:    0.0s\n",
     "output_type": "stream"
    },
    {
     "name": "stdout",
     "text": "Used Annotations descriptions: ['T1', 'T2']\nFiltering raw data in 1 contiguous segment\nSetting up band-pass filter from 1 - 40 Hz\n\nFIR filter parameters\n---------------------\nDesigning a one-pass, zero-phase, non-causal bandpass filter:\n- Windowed time-domain design (firwin) method\n- Hamming window with 0.0194 passband ripple and 53 dB stopband attenuation\n- Lower passband edge: 1.00\n- Lower transition bandwidth: 1.00 Hz (-6 dB cutoff frequency: 0.50 Hz)\n- Upper passband edge: 40.00 Hz\n- Upper transition bandwidth: 10.00 Hz (-6 dB cutoff frequency: 45.00 Hz)\n- Filter length: 529 samples (3.306 s)\n\nUsed Annotations descriptions: ['T1', 'T2']\nFiltering raw data in 1 contiguous segment\nSetting up band-pass filter from 1 - 40 Hz\n\nFIR filter parameters\n---------------------\nDesigning a one-pass, zero-phase, non-causal bandpass filter:\n- Windowed time-domain design (firwin) method\n- Hamming window with 0.0194 passband ripple and 53 dB stopband attenuation\n- Lower passband edge: 1.00\n- Lower transition bandwidth: 1.00 Hz (-6 dB cutoff frequency: 0.50 Hz)\n- Upper passband edge: 40.00 Hz\n- Upper transition bandwidth: 10.00 Hz (-6 dB cutoff frequency: 45.00 Hz)\n- Filter length: 529 samples (3.306 s)\n\n",
     "output_type": "stream"
    },
    {
     "name": "stderr",
     "text": "[Parallel(n_jobs=1)]: Done  64 out of  64 | elapsed:    0.1s finished\n[Parallel(n_jobs=1)]: Done  17 tasks      | elapsed:    0.0s\n[Parallel(n_jobs=1)]: Done  64 out of  64 | elapsed:    0.0s finished\n[Parallel(n_jobs=1)]: Done  17 tasks      | elapsed:    0.0s\n",
     "output_type": "stream"
    },
    {
     "name": "stdout",
     "text": "Used Annotations descriptions: ['T1', 'T2']\nFiltering raw data in 1 contiguous segment\nSetting up band-pass filter from 1 - 40 Hz\n\nFIR filter parameters\n---------------------\nDesigning a one-pass, zero-phase, non-causal bandpass filter:\n- Windowed time-domain design (firwin) method\n- Hamming window with 0.0194 passband ripple and 53 dB stopband attenuation\n- Lower passband edge: 1.00\n- Lower transition bandwidth: 1.00 Hz (-6 dB cutoff frequency: 0.50 Hz)\n- Upper passband edge: 40.00 Hz\n- Upper transition bandwidth: 10.00 Hz (-6 dB cutoff frequency: 45.00 Hz)\n- Filter length: 529 samples (3.306 s)\n\nUsed Annotations descriptions: ['T1', 'T2']\nFiltering raw data in 1 contiguous segment\nSetting up band-pass filter from 1 - 40 Hz\n\nFIR filter parameters\n---------------------\nDesigning a one-pass, zero-phase, non-causal bandpass filter:\n- Windowed time-domain design (firwin) method\n- Hamming window with 0.0194 passband ripple and 53 dB stopband attenuation\n- Lower passband edge: 1.00\n- Lower transition bandwidth: 1.00 Hz (-6 dB cutoff frequency: 0.50 Hz)\n- Upper passband edge: 40.00 Hz\n- Upper transition bandwidth: 10.00 Hz (-6 dB cutoff frequency: 45.00 Hz)\n- Filter length: 529 samples (3.306 s)\n\n",
     "output_type": "stream"
    },
    {
     "name": "stderr",
     "text": "[Parallel(n_jobs=1)]: Done  64 out of  64 | elapsed:    0.0s finished\n[Parallel(n_jobs=1)]: Done  17 tasks      | elapsed:    0.0s\n[Parallel(n_jobs=1)]: Done  64 out of  64 | elapsed:    0.0s finished\n[Parallel(n_jobs=1)]: Done  17 tasks      | elapsed:    0.0s\n",
     "output_type": "stream"
    },
    {
     "name": "stdout",
     "text": "Used Annotations descriptions: ['T1', 'T2']\nFiltering raw data in 1 contiguous segment\nSetting up band-pass filter from 1 - 40 Hz\n\nFIR filter parameters\n---------------------\nDesigning a one-pass, zero-phase, non-causal bandpass filter:\n- Windowed time-domain design (firwin) method\n- Hamming window with 0.0194 passband ripple and 53 dB stopband attenuation\n- Lower passband edge: 1.00\n- Lower transition bandwidth: 1.00 Hz (-6 dB cutoff frequency: 0.50 Hz)\n- Upper passband edge: 40.00 Hz\n- Upper transition bandwidth: 10.00 Hz (-6 dB cutoff frequency: 45.00 Hz)\n- Filter length: 529 samples (3.306 s)\n\nUsed Annotations descriptions: ['T1', 'T2']\nFiltering raw data in 1 contiguous segment\nSetting up band-pass filter from 1 - 40 Hz\n\nFIR filter parameters\n---------------------\nDesigning a one-pass, zero-phase, non-causal bandpass filter:\n- Windowed time-domain design (firwin) method\n- Hamming window with 0.0194 passband ripple and 53 dB stopband attenuation\n- Lower passband edge: 1.00\n- Lower transition bandwidth: 1.00 Hz (-6 dB cutoff frequency: 0.50 Hz)\n- Upper passband edge: 40.00 Hz\n- Upper transition bandwidth: 10.00 Hz (-6 dB cutoff frequency: 45.00 Hz)\n- Filter length: 529 samples (3.306 s)\n\n",
     "output_type": "stream"
    },
    {
     "name": "stderr",
     "text": "[Parallel(n_jobs=1)]: Done  64 out of  64 | elapsed:    0.1s finished\n[Parallel(n_jobs=1)]: Done  17 tasks      | elapsed:    0.0s\n[Parallel(n_jobs=1)]: Done  64 out of  64 | elapsed:    0.0s finished\n[Parallel(n_jobs=1)]: Done  17 tasks      | elapsed:    0.0s\n",
     "output_type": "stream"
    },
    {
     "name": "stdout",
     "text": "Used Annotations descriptions: ['T1', 'T2']\nFiltering raw data in 1 contiguous segment\nSetting up band-pass filter from 1 - 40 Hz\n\nFIR filter parameters\n---------------------\nDesigning a one-pass, zero-phase, non-causal bandpass filter:\n- Windowed time-domain design (firwin) method\n- Hamming window with 0.0194 passband ripple and 53 dB stopband attenuation\n- Lower passband edge: 1.00\n- Lower transition bandwidth: 1.00 Hz (-6 dB cutoff frequency: 0.50 Hz)\n- Upper passband edge: 40.00 Hz\n- Upper transition bandwidth: 10.00 Hz (-6 dB cutoff frequency: 45.00 Hz)\n- Filter length: 529 samples (3.306 s)\n\nUsed Annotations descriptions: ['T1', 'T2']\nFiltering raw data in 1 contiguous segment\nSetting up band-pass filter from 1 - 40 Hz\n\nFIR filter parameters\n---------------------\nDesigning a one-pass, zero-phase, non-causal bandpass filter:\n- Windowed time-domain design (firwin) method\n- Hamming window with 0.0194 passband ripple and 53 dB stopband attenuation\n- Lower passband edge: 1.00\n- Lower transition bandwidth: 1.00 Hz (-6 dB cutoff frequency: 0.50 Hz)\n- Upper passband edge: 40.00 Hz\n- Upper transition bandwidth: 10.00 Hz (-6 dB cutoff frequency: 45.00 Hz)\n- Filter length: 529 samples (3.306 s)\n\n",
     "output_type": "stream"
    },
    {
     "name": "stderr",
     "text": "[Parallel(n_jobs=1)]: Done  64 out of  64 | elapsed:    0.0s finished\n[Parallel(n_jobs=1)]: Done  17 tasks      | elapsed:    0.0s\n[Parallel(n_jobs=1)]: Done  64 out of  64 | elapsed:    0.0s finished\n[Parallel(n_jobs=1)]: Done  17 tasks      | elapsed:    0.0s\n",
     "output_type": "stream"
    },
    {
     "name": "stdout",
     "text": "Used Annotations descriptions: ['T1', 'T2']\nFiltering raw data in 1 contiguous segment\nSetting up band-pass filter from 1 - 40 Hz\n\nFIR filter parameters\n---------------------\nDesigning a one-pass, zero-phase, non-causal bandpass filter:\n- Windowed time-domain design (firwin) method\n- Hamming window with 0.0194 passband ripple and 53 dB stopband attenuation\n- Lower passband edge: 1.00\n- Lower transition bandwidth: 1.00 Hz (-6 dB cutoff frequency: 0.50 Hz)\n- Upper passband edge: 40.00 Hz\n- Upper transition bandwidth: 10.00 Hz (-6 dB cutoff frequency: 45.00 Hz)\n- Filter length: 529 samples (3.306 s)\n\nUsed Annotations descriptions: ['T1', 'T2']\nFiltering raw data in 1 contiguous segment\nSetting up band-pass filter from 1 - 40 Hz\n\nFIR filter parameters\n---------------------\nDesigning a one-pass, zero-phase, non-causal bandpass filter:\n- Windowed time-domain design (firwin) method\n- Hamming window with 0.0194 passband ripple and 53 dB stopband attenuation\n- Lower passband edge: 1.00\n- Lower transition bandwidth: 1.00 Hz (-6 dB cutoff frequency: 0.50 Hz)\n- Upper passband edge: 40.00 Hz\n- Upper transition bandwidth: 10.00 Hz (-6 dB cutoff frequency: 45.00 Hz)\n- Filter length: 529 samples (3.306 s)\n\nUsed Annotations descriptions: ['T1', 'T2']\n",
     "output_type": "stream"
    },
    {
     "name": "stderr",
     "text": "[Parallel(n_jobs=1)]: Done  64 out of  64 | elapsed:    0.1s finished\n[Parallel(n_jobs=1)]: Done  17 tasks      | elapsed:    0.0s\n[Parallel(n_jobs=1)]: Done  64 out of  64 | elapsed:    0.0s finished\n[Parallel(n_jobs=1)]: Done  17 tasks      | elapsed:    0.0s\n[Parallel(n_jobs=1)]: Done  64 out of  64 | elapsed:    0.0s finished\n",
     "output_type": "stream"
    },
    {
     "name": "stdout",
     "text": "Filtering raw data in 1 contiguous segment\nSetting up band-pass filter from 1 - 40 Hz\n\nFIR filter parameters\n---------------------\nDesigning a one-pass, zero-phase, non-causal bandpass filter:\n- Windowed time-domain design (firwin) method\n- Hamming window with 0.0194 passband ripple and 53 dB stopband attenuation\n- Lower passband edge: 1.00\n- Lower transition bandwidth: 1.00 Hz (-6 dB cutoff frequency: 0.50 Hz)\n- Upper passband edge: 40.00 Hz\n- Upper transition bandwidth: 10.00 Hz (-6 dB cutoff frequency: 45.00 Hz)\n- Filter length: 529 samples (3.306 s)\n\nUsed Annotations descriptions: ['T1', 'T2']\nFiltering raw data in 1 contiguous segment\nSetting up band-pass filter from 1 - 40 Hz\n\nFIR filter parameters\n---------------------\nDesigning a one-pass, zero-phase, non-causal bandpass filter:\n- Windowed time-domain design (firwin) method\n- Hamming window with 0.0194 passband ripple and 53 dB stopband attenuation\n- Lower passband edge: 1.00\n- Lower transition bandwidth: 1.00 Hz (-6 dB cutoff frequency: 0.50 Hz)\n- Upper passband edge: 40.00 Hz\n- Upper transition bandwidth: 10.00 Hz (-6 dB cutoff frequency: 45.00 Hz)\n- Filter length: 529 samples (3.306 s)\n\nUsed Annotations descriptions: ['T1', 'T2']\nFiltering raw data in 1 contiguous segment\nSetting up band-pass filter from 1 - 40 Hz\n\nFIR filter parameters\n---------------------\nDesigning a one-pass, zero-phase, non-causal bandpass filter:\n- Windowed time-domain design (firwin) method\n- Hamming window with 0.0194 passband ripple and 53 dB stopband attenuation\n- Lower passband edge: 1.00\n- Lower transition bandwidth: 1.00 Hz (-6 dB cutoff frequency: 0.50 Hz)\n- Upper passband edge: 40.00 Hz\n- Upper transition bandwidth: 10.00 Hz (-6 dB cutoff frequency: 45.00 Hz)\n- Filter length: 529 samples (3.306 s)\n\n",
     "output_type": "stream"
    },
    {
     "name": "stderr",
     "text": "[Parallel(n_jobs=1)]: Done  17 tasks      | elapsed:    0.0s\n[Parallel(n_jobs=1)]: Done  64 out of  64 | elapsed:    0.0s finished\n[Parallel(n_jobs=1)]: Done  17 tasks      | elapsed:    0.0s\n[Parallel(n_jobs=1)]: Done  64 out of  64 | elapsed:    0.0s finished\n[Parallel(n_jobs=1)]: Done  17 tasks      | elapsed:    0.0s\n",
     "output_type": "stream"
    },
    {
     "name": "stdout",
     "text": "Used Annotations descriptions: ['T1', 'T2']\nFiltering raw data in 1 contiguous segment\nSetting up band-pass filter from 1 - 40 Hz\n\nFIR filter parameters\n---------------------\nDesigning a one-pass, zero-phase, non-causal bandpass filter:\n- Windowed time-domain design (firwin) method\n- Hamming window with 0.0194 passband ripple and 53 dB stopband attenuation\n- Lower passband edge: 1.00\n- Lower transition bandwidth: 1.00 Hz (-6 dB cutoff frequency: 0.50 Hz)\n- Upper passband edge: 40.00 Hz\n- Upper transition bandwidth: 10.00 Hz (-6 dB cutoff frequency: 45.00 Hz)\n- Filter length: 529 samples (3.306 s)\n\nUsed Annotations descriptions: ['T1', 'T2']\nFiltering raw data in 1 contiguous segment\nSetting up band-pass filter from 1 - 40 Hz\n\nFIR filter parameters\n---------------------\nDesigning a one-pass, zero-phase, non-causal bandpass filter:\n- Windowed time-domain design (firwin) method\n- Hamming window with 0.0194 passband ripple and 53 dB stopband attenuation\n- Lower passband edge: 1.00\n- Lower transition bandwidth: 1.00 Hz (-6 dB cutoff frequency: 0.50 Hz)\n- Upper passband edge: 40.00 Hz\n- Upper transition bandwidth: 10.00 Hz (-6 dB cutoff frequency: 45.00 Hz)\n- Filter length: 529 samples (3.306 s)\n\n",
     "output_type": "stream"
    },
    {
     "name": "stderr",
     "text": "[Parallel(n_jobs=1)]: Done  64 out of  64 | elapsed:    0.1s finished\n[Parallel(n_jobs=1)]: Done  17 tasks      | elapsed:    0.0s\n[Parallel(n_jobs=1)]: Done  64 out of  64 | elapsed:    0.0s finished\n[Parallel(n_jobs=1)]: Done  17 tasks      | elapsed:    0.0s\n",
     "output_type": "stream"
    },
    {
     "name": "stdout",
     "text": "Used Annotations descriptions: ['T1', 'T2']\nFiltering raw data in 1 contiguous segment\nSetting up band-pass filter from 1 - 40 Hz\n\nFIR filter parameters\n---------------------\nDesigning a one-pass, zero-phase, non-causal bandpass filter:\n- Windowed time-domain design (firwin) method\n- Hamming window with 0.0194 passband ripple and 53 dB stopband attenuation\n- Lower passband edge: 1.00\n- Lower transition bandwidth: 1.00 Hz (-6 dB cutoff frequency: 0.50 Hz)\n- Upper passband edge: 40.00 Hz\n- Upper transition bandwidth: 10.00 Hz (-6 dB cutoff frequency: 45.00 Hz)\n- Filter length: 529 samples (3.306 s)\n\nUsed Annotations descriptions: ['T1', 'T2']\nFiltering raw data in 1 contiguous segment\nSetting up band-pass filter from 1 - 40 Hz\n\nFIR filter parameters\n---------------------\nDesigning a one-pass, zero-phase, non-causal bandpass filter:\n- Windowed time-domain design (firwin) method\n- Hamming window with 0.0194 passband ripple and 53 dB stopband attenuation\n- Lower passband edge: 1.00\n- Lower transition bandwidth: 1.00 Hz (-6 dB cutoff frequency: 0.50 Hz)\n- Upper passband edge: 40.00 Hz\n- Upper transition bandwidth: 10.00 Hz (-6 dB cutoff frequency: 45.00 Hz)\n- Filter length: 529 samples (3.306 s)\n\n",
     "output_type": "stream"
    },
    {
     "name": "stderr",
     "text": "[Parallel(n_jobs=1)]: Done  64 out of  64 | elapsed:    0.0s finished\n[Parallel(n_jobs=1)]: Done  17 tasks      | elapsed:    0.0s\n[Parallel(n_jobs=1)]: Done  64 out of  64 | elapsed:    0.0s finished\n[Parallel(n_jobs=1)]: Done  17 tasks      | elapsed:    0.0s\n[Parallel(n_jobs=1)]: Done  64 out of  64 | elapsed:    0.0s finished\n",
     "output_type": "stream"
    },
    {
     "name": "stdout",
     "text": "Used Annotations descriptions: ['T1', 'T2']\nFiltering raw data in 1 contiguous segment\nSetting up band-pass filter from 1 - 40 Hz\n\nFIR filter parameters\n---------------------\nDesigning a one-pass, zero-phase, non-causal bandpass filter:\n- Windowed time-domain design (firwin) method\n- Hamming window with 0.0194 passband ripple and 53 dB stopband attenuation\n- Lower passband edge: 1.00\n- Lower transition bandwidth: 1.00 Hz (-6 dB cutoff frequency: 0.50 Hz)\n- Upper passband edge: 40.00 Hz\n- Upper transition bandwidth: 10.00 Hz (-6 dB cutoff frequency: 45.00 Hz)\n- Filter length: 529 samples (3.306 s)\n\nUsed Annotations descriptions: ['T1', 'T2']\nFiltering raw data in 1 contiguous segment\nSetting up band-pass filter from 1 - 40 Hz\n\nFIR filter parameters\n---------------------\nDesigning a one-pass, zero-phase, non-causal bandpass filter:\n- Windowed time-domain design (firwin) method\n- Hamming window with 0.0194 passband ripple and 53 dB stopband attenuation\n- Lower passband edge: 1.00\n- Lower transition bandwidth: 1.00 Hz (-6 dB cutoff frequency: 0.50 Hz)\n- Upper passband edge: 40.00 Hz\n- Upper transition bandwidth: 10.00 Hz (-6 dB cutoff frequency: 45.00 Hz)\n- Filter length: 529 samples (3.306 s)\n\nUsed Annotations descriptions: ['T1', 'T2']\nFiltering raw data in 1 contiguous segment\nSetting up band-pass filter from 1 - 40 Hz\n\nFIR filter parameters\n---------------------\nDesigning a one-pass, zero-phase, non-causal bandpass filter:\n- Windowed time-domain design (firwin) method\n- Hamming window with 0.0194 passband ripple and 53 dB stopband attenuation\n- Lower passband edge: 1.00\n- Lower transition bandwidth: 1.00 Hz (-6 dB cutoff frequency: 0.50 Hz)\n- Upper passband edge: 40.00 Hz\n- Upper transition bandwidth: 10.00 Hz (-6 dB cutoff frequency: 45.00 Hz)\n- Filter length: 529 samples (3.306 s)\n\n",
     "output_type": "stream"
    },
    {
     "name": "stderr",
     "text": "[Parallel(n_jobs=1)]: Done  17 tasks      | elapsed:    0.0s\n[Parallel(n_jobs=1)]: Done  64 out of  64 | elapsed:    0.0s finished\n[Parallel(n_jobs=1)]: Done  17 tasks      | elapsed:    0.0s\n[Parallel(n_jobs=1)]: Done  64 out of  64 | elapsed:    0.0s finished\n",
     "output_type": "stream"
    },
    {
     "name": "stdout",
     "text": "Used Annotations descriptions: ['T1', 'T2']\nFiltering raw data in 1 contiguous segment\nSetting up band-pass filter from 1 - 40 Hz\n\nFIR filter parameters\n---------------------\nDesigning a one-pass, zero-phase, non-causal bandpass filter:\n- Windowed time-domain design (firwin) method\n- Hamming window with 0.0194 passband ripple and 53 dB stopband attenuation\n- Lower passband edge: 1.00\n- Lower transition bandwidth: 1.00 Hz (-6 dB cutoff frequency: 0.50 Hz)\n- Upper passband edge: 40.00 Hz\n- Upper transition bandwidth: 10.00 Hz (-6 dB cutoff frequency: 45.00 Hz)\n- Filter length: 529 samples (3.306 s)\n\nUsed Annotations descriptions: ['T1', 'T2']\nFiltering raw data in 1 contiguous segment\nSetting up band-pass filter from 1 - 40 Hz\n\nFIR filter parameters\n---------------------\nDesigning a one-pass, zero-phase, non-causal bandpass filter:\n- Windowed time-domain design (firwin) method\n- Hamming window with 0.0194 passband ripple and 53 dB stopband attenuation\n- Lower passband edge: 1.00\n- Lower transition bandwidth: 1.00 Hz (-6 dB cutoff frequency: 0.50 Hz)\n- Upper passband edge: 40.00 Hz\n- Upper transition bandwidth: 10.00 Hz (-6 dB cutoff frequency: 45.00 Hz)\n- Filter length: 529 samples (3.306 s)\n\n",
     "output_type": "stream"
    },
    {
     "name": "stderr",
     "text": "[Parallel(n_jobs=1)]: Done  17 tasks      | elapsed:    0.0s\n[Parallel(n_jobs=1)]: Done  64 out of  64 | elapsed:    0.0s finished\n[Parallel(n_jobs=1)]: Done  17 tasks      | elapsed:    0.0s\n[Parallel(n_jobs=1)]: Done  64 out of  64 | elapsed:    0.0s finished\n",
     "output_type": "stream"
    },
    {
     "name": "stdout",
     "text": "Used Annotations descriptions: ['T1', 'T2']\nFiltering raw data in 1 contiguous segment\nSetting up band-pass filter from 1 - 40 Hz\n\nFIR filter parameters\n---------------------\nDesigning a one-pass, zero-phase, non-causal bandpass filter:\n- Windowed time-domain design (firwin) method\n- Hamming window with 0.0194 passband ripple and 53 dB stopband attenuation\n- Lower passband edge: 1.00\n- Lower transition bandwidth: 1.00 Hz (-6 dB cutoff frequency: 0.50 Hz)\n- Upper passband edge: 40.00 Hz\n- Upper transition bandwidth: 10.00 Hz (-6 dB cutoff frequency: 45.00 Hz)\n- Filter length: 529 samples (3.306 s)\n\nUsed Annotations descriptions: ['T1', 'T2']\nFiltering raw data in 1 contiguous segment\nSetting up band-pass filter from 1 - 40 Hz\n\nFIR filter parameters\n---------------------\nDesigning a one-pass, zero-phase, non-causal bandpass filter:\n- Windowed time-domain design (firwin) method\n- Hamming window with 0.0194 passband ripple and 53 dB stopband attenuation\n- Lower passband edge: 1.00\n- Lower transition bandwidth: 1.00 Hz (-6 dB cutoff frequency: 0.50 Hz)\n",
     "output_type": "stream"
    },
    {
     "name": "stderr",
     "text": "[Parallel(n_jobs=1)]: Done  17 tasks      | elapsed:    0.0s\n[Parallel(n_jobs=1)]: Done  64 out of  64 | elapsed:    0.1s finished\n[Parallel(n_jobs=1)]: Done  17 tasks      | elapsed:    0.0s\n[Parallel(n_jobs=1)]: Done  64 out of  64 | elapsed:    0.1s finished\n",
     "output_type": "stream"
    },
    {
     "name": "stdout",
     "text": "- Upper passband edge: 40.00 Hz\n- Upper transition bandwidth: 10.00 Hz (-6 dB cutoff frequency: 45.00 Hz)\n- Filter length: 529 samples (3.306 s)\n\nUsed Annotations descriptions: ['T1', 'T2']\nFiltering raw data in 1 contiguous segment\nSetting up band-pass filter from 1 - 40 Hz\n\nFIR filter parameters\n---------------------\nDesigning a one-pass, zero-phase, non-causal bandpass filter:\n- Windowed time-domain design (firwin) method\n- Hamming window with 0.0194 passband ripple and 53 dB stopband attenuation\n- Lower passband edge: 1.00\n- Lower transition bandwidth: 1.00 Hz (-6 dB cutoff frequency: 0.50 Hz)\n- Upper passband edge: 40.00 Hz\n- Upper transition bandwidth: 10.00 Hz (-6 dB cutoff frequency: 45.00 Hz)\n- Filter length: 529 samples (3.306 s)\n\nUsed Annotations descriptions: ['T1', 'T2']\nFiltering raw data in 1 contiguous segment\nSetting up band-pass filter from 1 - 40 Hz\n\nFIR filter parameters\n---------------------\nDesigning a one-pass, zero-phase, non-causal bandpass filter:\n- Windowed time-domain design (firwin) method\n- Hamming window with 0.0194 passband ripple and 53 dB stopband attenuation\n- Lower passband edge: 1.00\n- Lower transition bandwidth: 1.00 Hz (-6 dB cutoff frequency: 0.50 Hz)\n- Upper passband edge: 40.00 Hz\n- Upper transition bandwidth: 10.00 Hz (-6 dB cutoff frequency: 45.00 Hz)\n- Filter length: 529 samples (3.306 s)\n\n",
     "output_type": "stream"
    },
    {
     "name": "stderr",
     "text": "[Parallel(n_jobs=1)]: Done  17 tasks      | elapsed:    0.0s\n[Parallel(n_jobs=1)]: Done  64 out of  64 | elapsed:    0.1s finished\n[Parallel(n_jobs=1)]: Done  17 tasks      | elapsed:    0.0s\n[Parallel(n_jobs=1)]: Done  64 out of  64 | elapsed:    0.0s finished\n",
     "output_type": "stream"
    },
    {
     "name": "stdout",
     "text": "Used Annotations descriptions: ['T1', 'T2']\nFiltering raw data in 1 contiguous segment\nSetting up band-pass filter from 1 - 40 Hz\n\nFIR filter parameters\n---------------------\nDesigning a one-pass, zero-phase, non-causal bandpass filter:\n- Windowed time-domain design (firwin) method\n- Hamming window with 0.0194 passband ripple and 53 dB stopband attenuation\n- Lower passband edge: 1.00\n- Lower transition bandwidth: 1.00 Hz (-6 dB cutoff frequency: 0.50 Hz)\n- Upper passband edge: 40.00 Hz\n- Upper transition bandwidth: 10.00 Hz (-6 dB cutoff frequency: 45.00 Hz)\n- Filter length: 529 samples (3.306 s)\n\nUsed Annotations descriptions: ['T1', 'T2']\nFiltering raw data in 1 contiguous segment\nSetting up band-pass filter from 1 - 40 Hz\n\nFIR filter parameters\n---------------------\nDesigning a one-pass, zero-phase, non-causal bandpass filter:\n- Windowed time-domain design (firwin) method\n- Hamming window with 0.0194 passband ripple and 53 dB stopband attenuation\n- Lower passband edge: 1.00\n- Lower transition bandwidth: 1.00 Hz (-6 dB cutoff frequency: 0.50 Hz)\n- Upper passband edge: 40.00 Hz\n- Upper transition bandwidth: 10.00 Hz (-6 dB cutoff frequency: 45.00 Hz)\n- Filter length: 529 samples (3.306 s)\n\n",
     "output_type": "stream"
    },
    {
     "name": "stderr",
     "text": "[Parallel(n_jobs=1)]: Done  17 tasks      | elapsed:    0.0s\n[Parallel(n_jobs=1)]: Done  64 out of  64 | elapsed:    0.0s finished\n[Parallel(n_jobs=1)]: Done  17 tasks      | elapsed:    0.0s\n[Parallel(n_jobs=1)]: Done  64 out of  64 | elapsed:    0.1s finished\n",
     "output_type": "stream"
    },
    {
     "name": "stdout",
     "text": "Used Annotations descriptions: ['T1', 'T2']\nFiltering raw data in 1 contiguous segment\nSetting up band-pass filter from 1 - 40 Hz\n\nFIR filter parameters\n---------------------\nDesigning a one-pass, zero-phase, non-causal bandpass filter:\n- Windowed time-domain design (firwin) method\n- Hamming window with 0.0194 passband ripple and 53 dB stopband attenuation\n- Lower passband edge: 1.00\n- Lower transition bandwidth: 1.00 Hz (-6 dB cutoff frequency: 0.50 Hz)\n- Upper passband edge: 40.00 Hz\n- Upper transition bandwidth: 10.00 Hz (-6 dB cutoff frequency: 45.00 Hz)\n- Filter length: 529 samples (3.306 s)\n\nUsed Annotations descriptions: ['T1', 'T2']\n",
     "output_type": "stream"
    },
    {
     "name": "stderr",
     "text": "[Parallel(n_jobs=1)]: Done  17 tasks      | elapsed:    0.0s\n[Parallel(n_jobs=1)]: Done  64 out of  64 | elapsed:    0.1s finished\n[Parallel(n_jobs=1)]: Done  17 tasks      | elapsed:    0.0s\n[Parallel(n_jobs=1)]: Done  64 out of  64 | elapsed:    0.1s finished\n",
     "output_type": "stream"
    },
    {
     "name": "stdout",
     "text": "Filtering raw data in 1 contiguous segment\nSetting up band-pass filter from 1 - 40 Hz\n\nFIR filter parameters\n---------------------\nDesigning a one-pass, zero-phase, non-causal bandpass filter:\n- Windowed time-domain design (firwin) method\n- Hamming window with 0.0194 passband ripple and 53 dB stopband attenuation\n- Lower passband edge: 1.00\n- Lower transition bandwidth: 1.00 Hz (-6 dB cutoff frequency: 0.50 Hz)\n- Upper passband edge: 40.00 Hz\n- Upper transition bandwidth: 10.00 Hz (-6 dB cutoff frequency: 45.00 Hz)\n- Filter length: 529 samples (3.306 s)\n\nUsed Annotations descriptions: ['T1', 'T2']\nFiltering raw data in 1 contiguous segment\nSetting up band-pass filter from 1 - 40 Hz\n\nFIR filter parameters\n---------------------\nDesigning a one-pass, zero-phase, non-causal bandpass filter:\n- Windowed time-domain design (firwin) method\n- Hamming window with 0.0194 passband ripple and 53 dB stopband attenuation\n- Lower passband edge: 1.00\n- Lower transition bandwidth: 1.00 Hz (-6 dB cutoff frequency: 0.50 Hz)\n- Upper passband edge: 40.00 Hz\n- Upper transition bandwidth: 10.00 Hz (-6 dB cutoff frequency: 45.00 Hz)\n- Filter length: 529 samples (3.306 s)\n\nUsed Annotations descriptions: ['T1', 'T2']\nFiltering raw data in 1 contiguous segment\nSetting up band-pass filter from 1 - 40 Hz\n\nFIR filter parameters\n---------------------\nDesigning a one-pass, zero-phase, non-causal bandpass filter:\n- Windowed time-domain design (firwin) method\n- Hamming window with 0.0194 passband ripple and 53 dB stopband attenuation\n- Lower passband edge: 1.00\n- Lower transition bandwidth: 1.00 Hz (-6 dB cutoff frequency: 0.50 Hz)\n- Upper passband edge: 40.00 Hz\n- Upper transition bandwidth: 10.00 Hz (-6 dB cutoff frequency: 45.00 Hz)\n- Filter length: 529 samples (3.306 s)\n\n",
     "output_type": "stream"
    },
    {
     "name": "stderr",
     "text": "[Parallel(n_jobs=1)]: Done  17 tasks      | elapsed:    0.0s\n[Parallel(n_jobs=1)]: Done  64 out of  64 | elapsed:    0.0s finished\n[Parallel(n_jobs=1)]: Done  17 tasks      | elapsed:    0.0s\n[Parallel(n_jobs=1)]: Done  64 out of  64 | elapsed:    0.0s finished\n",
     "output_type": "stream"
    },
    {
     "name": "stdout",
     "text": "Used Annotations descriptions: ['T1', 'T2']\nFiltering raw data in 1 contiguous segment\nSetting up band-pass filter from 1 - 40 Hz\n\nFIR filter parameters\n---------------------\nDesigning a one-pass, zero-phase, non-causal bandpass filter:\n- Windowed time-domain design (firwin) method\n- Hamming window with 0.0194 passband ripple and 53 dB stopband attenuation\n- Lower passband edge: 1.00\n- Lower transition bandwidth: 1.00 Hz (-6 dB cutoff frequency: 0.50 Hz)\n- Upper passband edge: 40.00 Hz\n- Upper transition bandwidth: 10.00 Hz (-6 dB cutoff frequency: 45.00 Hz)\n- Filter length: 529 samples (3.306 s)\n\nUsed Annotations descriptions: ['T1', 'T2']\nFiltering raw data in 1 contiguous segment\nSetting up band-pass filter from 1 - 40 Hz\n\nFIR filter parameters\n---------------------\nDesigning a one-pass, zero-phase, non-causal bandpass filter:\n- Windowed time-domain design (firwin) method\n- Hamming window with 0.0194 passband ripple and 53 dB stopband attenuation\n- Lower passband edge: 1.00\n- Lower transition bandwidth: 1.00 Hz (-6 dB cutoff frequency: 0.50 Hz)\n- Upper passband edge: 40.00 Hz\n- Upper transition bandwidth: 10.00 Hz (-6 dB cutoff frequency: 45.00 Hz)\n- Filter length: 529 samples (3.306 s)\n\n",
     "output_type": "stream"
    },
    {
     "name": "stderr",
     "text": "[Parallel(n_jobs=1)]: Done  17 tasks      | elapsed:    0.0s\n[Parallel(n_jobs=1)]: Done  64 out of  64 | elapsed:    0.1s finished\n[Parallel(n_jobs=1)]: Done  17 tasks      | elapsed:    0.0s\n[Parallel(n_jobs=1)]: Done  64 out of  64 | elapsed:    0.1s finished\n",
     "output_type": "stream"
    },
    {
     "name": "stdout",
     "text": "Used Annotations descriptions: ['T1', 'T2']\nFiltering raw data in 1 contiguous segment\nSetting up band-pass filter from 1 - 40 Hz\n\nFIR filter parameters\n---------------------\nDesigning a one-pass, zero-phase, non-causal bandpass filter:\n- Windowed time-domain design (firwin) method\n- Hamming window with 0.0194 passband ripple and 53 dB stopband attenuation\n- Lower passband edge: 1.00\n- Lower transition bandwidth: 1.00 Hz (-6 dB cutoff frequency: 0.50 Hz)\n- Upper passband edge: 40.00 Hz\n- Upper transition bandwidth: 10.00 Hz (-6 dB cutoff frequency: 45.00 Hz)\n- Filter length: 529 samples (3.306 s)\n\nUsed Annotations descriptions: ['T1', 'T2']\nFiltering raw data in 1 contiguous segment\nSetting up band-pass filter from 1 - 40 Hz\n\nFIR filter parameters\n---------------------\nDesigning a one-pass, zero-phase, non-causal bandpass filter:\n- Windowed time-domain design (firwin) method\n- Hamming window with 0.0194 passband ripple and 53 dB stopband attenuation\n- Lower passband edge: 1.00\n- Lower transition bandwidth: 1.00 Hz (-6 dB cutoff frequency: 0.50 Hz)\n- Upper passband edge: 40.00 Hz\n- Upper transition bandwidth: 10.00 Hz (-6 dB cutoff frequency: 45.00 Hz)\n- Filter length: 529 samples (3.306 s)\n\n",
     "output_type": "stream"
    },
    {
     "name": "stderr",
     "text": "[Parallel(n_jobs=1)]: Done  17 tasks      | elapsed:    0.0s\n[Parallel(n_jobs=1)]: Done  64 out of  64 | elapsed:    0.1s finished\n[Parallel(n_jobs=1)]: Done  17 tasks      | elapsed:    0.0s\n[Parallel(n_jobs=1)]: Done  64 out of  64 | elapsed:    0.1s finished\n",
     "output_type": "stream"
    },
    {
     "name": "stdout",
     "text": "Used Annotations descriptions: ['T1', 'T2']\nFiltering raw data in 1 contiguous segment\nSetting up band-pass filter from 1 - 40 Hz\n\nFIR filter parameters\n---------------------\nDesigning a one-pass, zero-phase, non-causal bandpass filter:\n- Windowed time-domain design (firwin) method\n- Hamming window with 0.0194 passband ripple and 53 dB stopband attenuation\n- Lower passband edge: 1.00\n- Lower transition bandwidth: 1.00 Hz (-6 dB cutoff frequency: 0.50 Hz)\n- Upper passband edge: 40.00 Hz\n- Upper transition bandwidth: 10.00 Hz (-6 dB cutoff frequency: 45.00 Hz)\n- Filter length: 529 samples (3.306 s)\n\nUsed Annotations descriptions: ['T1', 'T2']\n",
     "output_type": "stream"
    },
    {
     "name": "stderr",
     "text": "[Parallel(n_jobs=1)]: Done  17 tasks      | elapsed:    0.0s\n[Parallel(n_jobs=1)]: Done  64 out of  64 | elapsed:    0.1s finished\n[Parallel(n_jobs=1)]: Done  17 tasks      | elapsed:    0.0s\n[Parallel(n_jobs=1)]: Done  64 out of  64 | elapsed:    0.1s finished\n",
     "output_type": "stream"
    },
    {
     "name": "stdout",
     "text": "Filtering raw data in 1 contiguous segment\nSetting up band-pass filter from 1 - 40 Hz\n\nFIR filter parameters\n---------------------\nDesigning a one-pass, zero-phase, non-causal bandpass filter:\n- Windowed time-domain design (firwin) method\n- Hamming window with 0.0194 passband ripple and 53 dB stopband attenuation\n- Lower passband edge: 1.00\n- Lower transition bandwidth: 1.00 Hz (-6 dB cutoff frequency: 0.50 Hz)\n- Upper passband edge: 40.00 Hz\n- Upper transition bandwidth: 10.00 Hz (-6 dB cutoff frequency: 45.00 Hz)\n- Filter length: 529 samples (3.306 s)\n\nUsed Annotations descriptions: ['T1', 'T2']\nFiltering raw data in 1 contiguous segment\nSetting up band-pass filter from 1 - 40 Hz\n\nFIR filter parameters\n---------------------\nDesigning a one-pass, zero-phase, non-causal bandpass filter:\n- Windowed time-domain design (firwin) method\n- Hamming window with 0.0194 passband ripple and 53 dB stopband attenuation\n- Lower passband edge: 1.00\n- Lower transition bandwidth: 1.00 Hz (-6 dB cutoff frequency: 0.50 Hz)\n- Upper passband edge: 40.00 Hz\n- Upper transition bandwidth: 10.00 Hz (-6 dB cutoff frequency: 45.00 Hz)\n- Filter length: 529 samples (3.306 s)\n\nUsed Annotations descriptions: ['T1', 'T2']\n",
     "output_type": "stream"
    },
    {
     "name": "stderr",
     "text": "[Parallel(n_jobs=1)]: Done  17 tasks      | elapsed:    0.0s\n[Parallel(n_jobs=1)]: Done  64 out of  64 | elapsed:    0.1s finished\n[Parallel(n_jobs=1)]: Done  17 tasks      | elapsed:    0.0s\n[Parallel(n_jobs=1)]: Done  64 out of  64 | elapsed:    0.1s finished\n",
     "output_type": "stream"
    },
    {
     "name": "stdout",
     "text": "Filtering raw data in 1 contiguous segment\nSetting up band-pass filter from 1 - 40 Hz\n\nFIR filter parameters\n---------------------\nDesigning a one-pass, zero-phase, non-causal bandpass filter:\n- Windowed time-domain design (firwin) method\n- Hamming window with 0.0194 passband ripple and 53 dB stopband attenuation\n- Lower passband edge: 1.00\n- Lower transition bandwidth: 1.00 Hz (-6 dB cutoff frequency: 0.50 Hz)\n- Upper passband edge: 40.00 Hz\n- Upper transition bandwidth: 10.00 Hz (-6 dB cutoff frequency: 45.00 Hz)\n- Filter length: 529 samples (3.306 s)\n\nUsed Annotations descriptions: ['T1', 'T2']\nFiltering raw data in 1 contiguous segment\nSetting up band-pass filter from 1 - 40 Hz\n\nFIR filter parameters\n---------------------\nDesigning a one-pass, zero-phase, non-causal bandpass filter:\n- Windowed time-domain design (firwin) method\n- Hamming window with 0.0194 passband ripple and 53 dB stopband attenuation\n- Lower passband edge: 1.00\n- Lower transition bandwidth: 1.00 Hz (-6 dB cutoff frequency: 0.50 Hz)\n- Upper passband edge: 40.00 Hz\n- Upper transition bandwidth: 10.00 Hz (-6 dB cutoff frequency: 45.00 Hz)\n- Filter length: 529 samples (3.306 s)\n\nUsed Annotations descriptions: ['T1', 'T2']\n",
     "output_type": "stream"
    },
    {
     "name": "stderr",
     "text": "[Parallel(n_jobs=1)]: Done  17 tasks      | elapsed:    0.0s\n[Parallel(n_jobs=1)]: Done  64 out of  64 | elapsed:    0.1s finished\n[Parallel(n_jobs=1)]: Done  17 tasks      | elapsed:    0.0s\n[Parallel(n_jobs=1)]: Done  64 out of  64 | elapsed:    0.1s finished\n",
     "output_type": "stream"
    },
    {
     "name": "stdout",
     "text": "Filtering raw data in 1 contiguous segment\nSetting up band-pass filter from 1 - 40 Hz\n\nFIR filter parameters\n---------------------\nDesigning a one-pass, zero-phase, non-causal bandpass filter:\n- Windowed time-domain design (firwin) method\n- Hamming window with 0.0194 passband ripple and 53 dB stopband attenuation\n- Lower passband edge: 1.00\n- Lower transition bandwidth: 1.00 Hz (-6 dB cutoff frequency: 0.50 Hz)\n- Upper passband edge: 40.00 Hz\n- Upper transition bandwidth: 10.00 Hz (-6 dB cutoff frequency: 45.00 Hz)\n- Filter length: 529 samples (3.306 s)\n\nUsed Annotations descriptions: ['T1', 'T2']\nFiltering raw data in 1 contiguous segment\nSetting up band-pass filter from 1 - 40 Hz\n\nFIR filter parameters\n---------------------\nDesigning a one-pass, zero-phase, non-causal bandpass filter:\n- Windowed time-domain design (firwin) method\n- Hamming window with 0.0194 passband ripple and 53 dB stopband attenuation\n- Lower passband edge: 1.00\n- Lower transition bandwidth: 1.00 Hz (-6 dB cutoff frequency: 0.50 Hz)\n- Upper passband edge: 40.00 Hz\n- Upper transition bandwidth: 10.00 Hz (-6 dB cutoff frequency: 45.00 Hz)\n- Filter length: 529 samples (3.306 s)\n\nUsed Annotations descriptions: ['T1', 'T2']\nFiltering raw data in 1 contiguous segment\nSetting up band-pass filter from 1 - 40 Hz\n\nFIR filter parameters\n---------------------\nDesigning a one-pass, zero-phase, non-causal bandpass filter:\n- Windowed time-domain design (firwin) method\n- Hamming window with 0.0194 passband ripple and 53 dB stopband attenuation\n- Lower passband edge: 1.00\n- Lower transition bandwidth: 1.00 Hz (-6 dB cutoff frequency: 0.50 Hz)\n- Upper passband edge: 40.00 Hz\n- Upper transition bandwidth: 10.00 Hz (-6 dB cutoff frequency: 45.00 Hz)\n- Filter length: 529 samples (3.306 s)\n\n",
     "output_type": "stream"
    },
    {
     "name": "stderr",
     "text": "[Parallel(n_jobs=1)]: Done  17 tasks      | elapsed:    0.0s\n[Parallel(n_jobs=1)]: Done  64 out of  64 | elapsed:    0.1s finished\n[Parallel(n_jobs=1)]: Done  17 tasks      | elapsed:    0.0s\n[Parallel(n_jobs=1)]: Done  64 out of  64 | elapsed:    0.1s finished\n",
     "output_type": "stream"
    },
    {
     "name": "stdout",
     "text": "Used Annotations descriptions: ['T1', 'T2']\nFiltering raw data in 1 contiguous segment\nSetting up band-pass filter from 1 - 40 Hz\n\nFIR filter parameters\n---------------------\nDesigning a one-pass, zero-phase, non-causal bandpass filter:\n- Windowed time-domain design (firwin) method\n- Hamming window with 0.0194 passband ripple and 53 dB stopband attenuation\n- Lower passband edge: 1.00\n- Lower transition bandwidth: 1.00 Hz (-6 dB cutoff frequency: 0.50 Hz)\n- Upper passband edge: 40.00 Hz\n- Upper transition bandwidth: 10.00 Hz (-6 dB cutoff frequency: 45.00 Hz)\n- Filter length: 529 samples (3.306 s)\n\nUsed Annotations descriptions: ['T1', 'T2']\nFiltering raw data in 1 contiguous segment\nSetting up band-pass filter from 1 - 40 Hz\n\nFIR filter parameters\n---------------------\nDesigning a one-pass, zero-phase, non-causal bandpass filter:\n- Windowed time-domain design (firwin) method\n- Hamming window with 0.0194 passband ripple and 53 dB stopband attenuation\n- Lower passband edge: 1.00\n- Lower transition bandwidth: 1.00 Hz (-6 dB cutoff frequency: 0.50 Hz)\n- Upper passband edge: 40.00 Hz\n- Upper transition bandwidth: 10.00 Hz (-6 dB cutoff frequency: 45.00 Hz)\n- Filter length: 529 samples (3.306 s)\n\n",
     "output_type": "stream"
    },
    {
     "name": "stderr",
     "text": "[Parallel(n_jobs=1)]: Done  17 tasks      | elapsed:    0.0s\n[Parallel(n_jobs=1)]: Done  64 out of  64 | elapsed:    0.0s finished\n[Parallel(n_jobs=1)]: Done  17 tasks      | elapsed:    0.0s\n[Parallel(n_jobs=1)]: Done  64 out of  64 | elapsed:    0.0s finished\n",
     "output_type": "stream"
    },
    {
     "name": "stdout",
     "text": "Used Annotations descriptions: ['T1', 'T2']\nFiltering raw data in 1 contiguous segment\nSetting up band-pass filter from 1 - 40 Hz\n\nFIR filter parameters\n---------------------\nDesigning a one-pass, zero-phase, non-causal bandpass filter:\n- Windowed time-domain design (firwin) method\n- Hamming window with 0.0194 passband ripple and 53 dB stopband attenuation\n- Lower passband edge: 1.00\n- Lower transition bandwidth: 1.00 Hz (-6 dB cutoff frequency: 0.50 Hz)\n- Upper passband edge: 40.00 Hz\n- Upper transition bandwidth: 10.00 Hz (-6 dB cutoff frequency: 45.00 Hz)\n- Filter length: 529 samples (3.306 s)\n\nUsed Annotations descriptions: ['T1', 'T2']\nFiltering raw data in 1 contiguous segment\nSetting up band-pass filter from 1 - 40 Hz\n\nFIR filter parameters\n---------------------\nDesigning a one-pass, zero-phase, non-causal bandpass filter:\n- Windowed time-domain design (firwin) method\n- Hamming window with 0.0194 passband ripple and 53 dB stopband attenuation\n- Lower passband edge: 1.00\n- Lower transition bandwidth: 1.00 Hz (-6 dB cutoff frequency: 0.50 Hz)\n- Upper passband edge: 40.00 Hz\n- Upper transition bandwidth: 10.00 Hz (-6 dB cutoff frequency: 45.00 Hz)\n- Filter length: 529 samples (3.306 s)\n\n",
     "output_type": "stream"
    },
    {
     "name": "stderr",
     "text": "[Parallel(n_jobs=1)]: Done  17 tasks      | elapsed:    0.0s\n[Parallel(n_jobs=1)]: Done  64 out of  64 | elapsed:    0.0s finished\n[Parallel(n_jobs=1)]: Done  17 tasks      | elapsed:    0.0s\n[Parallel(n_jobs=1)]: Done  64 out of  64 | elapsed:    0.0s finished\n[Parallel(n_jobs=1)]: Done  17 tasks      | elapsed:    0.0s\n",
     "output_type": "stream"
    },
    {
     "name": "stdout",
     "text": "Used Annotations descriptions: ['T1', 'T2']\nFiltering raw data in 1 contiguous segment\nSetting up band-pass filter from 1 - 40 Hz\n\nFIR filter parameters\n---------------------\nDesigning a one-pass, zero-phase, non-causal bandpass filter:\n- Windowed time-domain design (firwin) method\n- Hamming window with 0.0194 passband ripple and 53 dB stopband attenuation\n- Lower passband edge: 1.00\n- Lower transition bandwidth: 1.00 Hz (-6 dB cutoff frequency: 0.50 Hz)\n- Upper passband edge: 40.00 Hz\n- Upper transition bandwidth: 10.00 Hz (-6 dB cutoff frequency: 45.00 Hz)\n- Filter length: 529 samples (3.306 s)\n\nUsed Annotations descriptions: ['T1', 'T2']\nFiltering raw data in 1 contiguous segment\nSetting up band-pass filter from 1 - 40 Hz\n\nFIR filter parameters\n---------------------\nDesigning a one-pass, zero-phase, non-causal bandpass filter:\n- Windowed time-domain design (firwin) method\n- Hamming window with 0.0194 passband ripple and 53 dB stopband attenuation\n- Lower passband edge: 1.00\n- Lower transition bandwidth: 1.00 Hz (-6 dB cutoff frequency: 0.50 Hz)\n- Upper passband edge: 40.00 Hz\n- Upper transition bandwidth: 10.00 Hz (-6 dB cutoff frequency: 45.00 Hz)\n- Filter length: 529 samples (3.306 s)\n\n",
     "output_type": "stream"
    },
    {
     "name": "stderr",
     "text": "[Parallel(n_jobs=1)]: Done  64 out of  64 | elapsed:    0.0s finished\n[Parallel(n_jobs=1)]: Done  17 tasks      | elapsed:    0.0s\n[Parallel(n_jobs=1)]: Done  64 out of  64 | elapsed:    0.0s finished\n[Parallel(n_jobs=1)]: Done  17 tasks      | elapsed:    0.0s\n",
     "output_type": "stream"
    },
    {
     "name": "stdout",
     "text": "Used Annotations descriptions: ['T1', 'T2']\nFiltering raw data in 1 contiguous segment\nSetting up band-pass filter from 1 - 40 Hz\n\nFIR filter parameters\n---------------------\nDesigning a one-pass, zero-phase, non-causal bandpass filter:\n- Windowed time-domain design (firwin) method\n- Hamming window with 0.0194 passband ripple and 53 dB stopband attenuation\n- Lower passband edge: 1.00\n- Lower transition bandwidth: 1.00 Hz (-6 dB cutoff frequency: 0.50 Hz)\n- Upper passband edge: 40.00 Hz\n- Upper transition bandwidth: 10.00 Hz (-6 dB cutoff frequency: 45.00 Hz)\n- Filter length: 529 samples (3.306 s)\n\nUsed Annotations descriptions: ['T1', 'T2']\nFiltering raw data in 1 contiguous segment\nSetting up band-pass filter from 1 - 40 Hz\n\nFIR filter parameters\n---------------------\nDesigning a one-pass, zero-phase, non-causal bandpass filter:\n- Windowed time-domain design (firwin) method\n- Hamming window with 0.0194 passband ripple and 53 dB stopband attenuation\n- Lower passband edge: 1.00\n- Lower transition bandwidth: 1.00 Hz (-6 dB cutoff frequency: 0.50 Hz)\n- Upper passband edge: 40.00 Hz\n- Upper transition bandwidth: 10.00 Hz (-6 dB cutoff frequency: 45.00 Hz)\n- Filter length: 529 samples (3.306 s)\n\n",
     "output_type": "stream"
    },
    {
     "name": "stderr",
     "text": "[Parallel(n_jobs=1)]: Done  64 out of  64 | elapsed:    0.1s finished\n[Parallel(n_jobs=1)]: Done  17 tasks      | elapsed:    0.0s\n[Parallel(n_jobs=1)]: Done  64 out of  64 | elapsed:    0.1s finished\n[Parallel(n_jobs=1)]: Done  17 tasks      | elapsed:    0.0s\n",
     "output_type": "stream"
    },
    {
     "name": "stdout",
     "text": "Used Annotations descriptions: ['T1', 'T2']\nFiltering raw data in 1 contiguous segment\nSetting up band-pass filter from 1 - 40 Hz\n\nFIR filter parameters\n---------------------\nDesigning a one-pass, zero-phase, non-causal bandpass filter:\n- Windowed time-domain design (firwin) method\n- Hamming window with 0.0194 passband ripple and 53 dB stopband attenuation\n- Lower passband edge: 1.00\n- Lower transition bandwidth: 1.00 Hz (-6 dB cutoff frequency: 0.50 Hz)\n- Upper passband edge: 40.00 Hz\n- Upper transition bandwidth: 10.00 Hz (-6 dB cutoff frequency: 45.00 Hz)\n- Filter length: 529 samples (3.306 s)\n\nUsed Annotations descriptions: ['T1', 'T2']\nFiltering raw data in 1 contiguous segment\nSetting up band-pass filter from 1 - 40 Hz\n\nFIR filter parameters\n---------------------\nDesigning a one-pass, zero-phase, non-causal bandpass filter:\n- Windowed time-domain design (firwin) method\n- Hamming window with 0.0194 passband ripple and 53 dB stopband attenuation\n- Lower passband edge: 1.00\n- Lower transition bandwidth: 1.00 Hz (-6 dB cutoff frequency: 0.50 Hz)\n- Upper passband edge: 40.00 Hz\n- Upper transition bandwidth: 10.00 Hz (-6 dB cutoff frequency: 45.00 Hz)\n- Filter length: 529 samples (3.306 s)\n\n",
     "output_type": "stream"
    },
    {
     "name": "stderr",
     "text": "[Parallel(n_jobs=1)]: Done  64 out of  64 | elapsed:    0.1s finished\n[Parallel(n_jobs=1)]: Done  17 tasks      | elapsed:    0.0s\n[Parallel(n_jobs=1)]: Done  64 out of  64 | elapsed:    0.0s finished\n[Parallel(n_jobs=1)]: Done  17 tasks      | elapsed:    0.0s\n",
     "output_type": "stream"
    },
    {
     "name": "stdout",
     "text": "Used Annotations descriptions: ['T1', 'T2']\nFiltering raw data in 1 contiguous segment\nSetting up band-pass filter from 1 - 40 Hz\n\nFIR filter parameters\n---------------------\nDesigning a one-pass, zero-phase, non-causal bandpass filter:\n- Windowed time-domain design (firwin) method\n- Hamming window with 0.0194 passband ripple and 53 dB stopband attenuation\n- Lower passband edge: 1.00\n- Lower transition bandwidth: 1.00 Hz (-6 dB cutoff frequency: 0.50 Hz)\n- Upper passband edge: 40.00 Hz\n- Upper transition bandwidth: 10.00 Hz (-6 dB cutoff frequency: 45.00 Hz)\n- Filter length: 529 samples (3.306 s)\n\nUsed Annotations descriptions: ['T1', 'T2']\nFiltering raw data in 1 contiguous segment\nSetting up band-pass filter from 1 - 40 Hz\n\nFIR filter parameters\n---------------------\nDesigning a one-pass, zero-phase, non-causal bandpass filter:\n- Windowed time-domain design (firwin) method\n- Hamming window with 0.0194 passband ripple and 53 dB stopband attenuation\n- Lower passband edge: 1.00\n- Lower transition bandwidth: 1.00 Hz (-6 dB cutoff frequency: 0.50 Hz)\n- Upper passband edge: 40.00 Hz\n- Upper transition bandwidth: 10.00 Hz (-6 dB cutoff frequency: 45.00 Hz)\n- Filter length: 529 samples (3.306 s)\n\n",
     "output_type": "stream"
    },
    {
     "name": "stderr",
     "text": "[Parallel(n_jobs=1)]: Done  64 out of  64 | elapsed:    0.1s finished\n[Parallel(n_jobs=1)]: Done  17 tasks      | elapsed:    0.0s\n[Parallel(n_jobs=1)]: Done  64 out of  64 | elapsed:    0.0s finished\n[Parallel(n_jobs=1)]: Done  17 tasks      | elapsed:    0.0s\n[Parallel(n_jobs=1)]: Done  64 out of  64 | elapsed:    0.0s finished\n",
     "output_type": "stream"
    },
    {
     "name": "stdout",
     "text": "Used Annotations descriptions: ['T1', 'T2']\nFiltering raw data in 1 contiguous segment\nSetting up band-pass filter from 1 - 40 Hz\n\nFIR filter parameters\n---------------------\nDesigning a one-pass, zero-phase, non-causal bandpass filter:\n- Windowed time-domain design (firwin) method\n- Hamming window with 0.0194 passband ripple and 53 dB stopband attenuation\n- Lower passband edge: 1.00\n- Lower transition bandwidth: 1.00 Hz (-6 dB cutoff frequency: 0.50 Hz)\n- Upper passband edge: 40.00 Hz\n- Upper transition bandwidth: 10.00 Hz (-6 dB cutoff frequency: 45.00 Hz)\n- Filter length: 529 samples (3.306 s)\n\nUsed Annotations descriptions: ['T1', 'T2']\nFiltering raw data in 1 contiguous segment\nSetting up band-pass filter from 1 - 40 Hz\n\nFIR filter parameters\n---------------------\nDesigning a one-pass, zero-phase, non-causal bandpass filter:\n- Windowed time-domain design (firwin) method\n- Hamming window with 0.0194 passband ripple and 53 dB stopband attenuation\n- Lower passband edge: 1.00\n- Lower transition bandwidth: 1.00 Hz (-6 dB cutoff frequency: 0.50 Hz)\n- Upper passband edge: 40.00 Hz\n- Upper transition bandwidth: 10.00 Hz (-6 dB cutoff frequency: 45.00 Hz)\n- Filter length: 529 samples (3.306 s)\n\nUsed Annotations descriptions: ['T1', 'T2']\nFiltering raw data in 1 contiguous segment\nSetting up band-pass filter from 1 - 40 Hz\n\nFIR filter parameters\n---------------------\nDesigning a one-pass, zero-phase, non-causal bandpass filter:\n- Windowed time-domain design (firwin) method\n- Hamming window with 0.0194 passband ripple and 53 dB stopband attenuation\n- Lower passband edge: 1.00\n- Lower transition bandwidth: 1.00 Hz (-6 dB cutoff frequency: 0.50 Hz)\n- Upper passband edge: 40.00 Hz\n- Upper transition bandwidth: 10.00 Hz (-6 dB cutoff frequency: 45.00 Hz)\n- Filter length: 529 samples (3.306 s)\n\n",
     "output_type": "stream"
    },
    {
     "name": "stderr",
     "text": "[Parallel(n_jobs=1)]: Done  17 tasks      | elapsed:    0.0s\n[Parallel(n_jobs=1)]: Done  64 out of  64 | elapsed:    0.0s finished\n[Parallel(n_jobs=1)]: Done  17 tasks      | elapsed:    0.0s\n[Parallel(n_jobs=1)]: Done  64 out of  64 | elapsed:    0.0s finished\n",
     "output_type": "stream"
    },
    {
     "name": "stdout",
     "text": "Used Annotations descriptions: ['T1', 'T2']\nFiltering raw data in 1 contiguous segment\nSetting up band-pass filter from 1 - 40 Hz\n\nFIR filter parameters\n---------------------\nDesigning a one-pass, zero-phase, non-causal bandpass filter:\n- Windowed time-domain design (firwin) method\n- Hamming window with 0.0194 passband ripple and 53 dB stopband attenuation\n- Lower passband edge: 1.00\n- Lower transition bandwidth: 1.00 Hz (-6 dB cutoff frequency: 0.50 Hz)\n- Upper passband edge: 40.00 Hz\n- Upper transition bandwidth: 10.00 Hz (-6 dB cutoff frequency: 45.00 Hz)\n- Filter length: 529 samples (3.306 s)\n\nUsed Annotations descriptions: ['T1', 'T2']\nFiltering raw data in 1 contiguous segment\nSetting up band-pass filter from 1 - 40 Hz\n\nFIR filter parameters\n---------------------\nDesigning a one-pass, zero-phase, non-causal bandpass filter:\n- Windowed time-domain design (firwin) method\n- Hamming window with 0.0194 passband ripple and 53 dB stopband attenuation\n- Lower passband edge: 1.00\n- Lower transition bandwidth: 1.00 Hz (-6 dB cutoff frequency: 0.50 Hz)\n- Upper passband edge: 40.00 Hz\n- Upper transition bandwidth: 10.00 Hz (-6 dB cutoff frequency: 45.00 Hz)\n- Filter length: 529 samples (3.306 s)\n\n",
     "output_type": "stream"
    },
    {
     "name": "stderr",
     "text": "[Parallel(n_jobs=1)]: Done  17 tasks      | elapsed:    0.0s\n[Parallel(n_jobs=1)]: Done  64 out of  64 | elapsed:    0.1s finished\n[Parallel(n_jobs=1)]: Done  17 tasks      | elapsed:    0.0s\n[Parallel(n_jobs=1)]: Done  64 out of  64 | elapsed:    0.0s finished\n",
     "output_type": "stream"
    },
    {
     "name": "stdout",
     "text": "Used Annotations descriptions: ['T1', 'T2']\nFiltering raw data in 1 contiguous segment\nSetting up band-pass filter from 1 - 40 Hz\n\nFIR filter parameters\n---------------------\nDesigning a one-pass, zero-phase, non-causal bandpass filter:\n- Windowed time-domain design (firwin) method\n- Hamming window with 0.0194 passband ripple and 53 dB stopband attenuation\n- Lower passband edge: 1.00\n- Lower transition bandwidth: 1.00 Hz (-6 dB cutoff frequency: 0.50 Hz)\n- Upper passband edge: 40.00 Hz\n- Upper transition bandwidth: 10.00 Hz (-6 dB cutoff frequency: 45.00 Hz)\n- Filter length: 529 samples (3.306 s)\n\nUsed Annotations descriptions: ['T1', 'T2']\nFiltering raw data in 1 contiguous segment\nSetting up band-pass filter from 1 - 40 Hz\n\nFIR filter parameters\n---------------------\nDesigning a one-pass, zero-phase, non-causal bandpass filter:\n- Windowed time-domain design (firwin) method\n- Hamming window with 0.0194 passband ripple and 53 dB stopband attenuation\n- Lower passband edge: 1.00\n- Lower transition bandwidth: 1.00 Hz (-6 dB cutoff frequency: 0.50 Hz)\n- Upper passband edge: 40.00 Hz\n- Upper transition bandwidth: 10.00 Hz (-6 dB cutoff frequency: 45.00 Hz)\n- Filter length: 529 samples (3.306 s)\n\n",
     "output_type": "stream"
    },
    {
     "name": "stderr",
     "text": "[Parallel(n_jobs=1)]: Done  17 tasks      | elapsed:    0.0s\n[Parallel(n_jobs=1)]: Done  64 out of  64 | elapsed:    0.0s finished\n[Parallel(n_jobs=1)]: Done  17 tasks      | elapsed:    0.0s\n[Parallel(n_jobs=1)]: Done  64 out of  64 | elapsed:    0.0s finished\n",
     "output_type": "stream"
    },
    {
     "name": "stdout",
     "text": "Used Annotations descriptions: ['T1', 'T2']\nFiltering raw data in 1 contiguous segment\nSetting up band-pass filter from 1 - 40 Hz\n\nFIR filter parameters\n---------------------\nDesigning a one-pass, zero-phase, non-causal bandpass filter:\n- Windowed time-domain design (firwin) method\n- Hamming window with 0.0194 passband ripple and 53 dB stopband attenuation\n- Lower passband edge: 1.00\n- Lower transition bandwidth: 1.00 Hz (-6 dB cutoff frequency: 0.50 Hz)\n- Upper passband edge: 40.00 Hz\n- Upper transition bandwidth: 10.00 Hz (-6 dB cutoff frequency: 45.00 Hz)\n- Filter length: 529 samples (3.306 s)\n\nUsed Annotations descriptions: ['T1', 'T2']\nFiltering raw data in 1 contiguous segment\nSetting up band-pass filter from 1 - 40 Hz\n\nFIR filter parameters\n---------------------\nDesigning a one-pass, zero-phase, non-causal bandpass filter:\n- Windowed time-domain design (firwin) method\n- Hamming window with 0.0194 passband ripple and 53 dB stopband attenuation\n- Lower passband edge: 1.00\n- Lower transition bandwidth: 1.00 Hz (-6 dB cutoff frequency: 0.50 Hz)\n- Upper passband edge: 40.00 Hz\n- Upper transition bandwidth: 10.00 Hz (-6 dB cutoff frequency: 45.00 Hz)\n- Filter length: 529 samples (3.306 s)\n\n",
     "output_type": "stream"
    },
    {
     "name": "stderr",
     "text": "[Parallel(n_jobs=1)]: Done  17 tasks      | elapsed:    0.0s\n[Parallel(n_jobs=1)]: Done  64 out of  64 | elapsed:    0.0s finished\n[Parallel(n_jobs=1)]: Done  17 tasks      | elapsed:    0.0s\n[Parallel(n_jobs=1)]: Done  64 out of  64 | elapsed:    0.0s finished\n[Parallel(n_jobs=1)]: Done  17 tasks      | elapsed:    0.0s\n",
     "output_type": "stream"
    },
    {
     "name": "stdout",
     "text": "Used Annotations descriptions: ['T1', 'T2']\nFiltering raw data in 1 contiguous segment\nSetting up band-pass filter from 1 - 40 Hz\n\nFIR filter parameters\n---------------------\nDesigning a one-pass, zero-phase, non-causal bandpass filter:\n- Windowed time-domain design (firwin) method\n- Hamming window with 0.0194 passband ripple and 53 dB stopband attenuation\n- Lower passband edge: 1.00\n- Lower transition bandwidth: 1.00 Hz (-6 dB cutoff frequency: 0.50 Hz)\n- Upper passband edge: 40.00 Hz\n- Upper transition bandwidth: 10.00 Hz (-6 dB cutoff frequency: 45.00 Hz)\n- Filter length: 529 samples (3.306 s)\n\nUsed Annotations descriptions: ['T1', 'T2']\nFiltering raw data in 1 contiguous segment\nSetting up band-pass filter from 1 - 40 Hz\n\nFIR filter parameters\n---------------------\nDesigning a one-pass, zero-phase, non-causal bandpass filter:\n- Windowed time-domain design (firwin) method\n- Hamming window with 0.0194 passband ripple and 53 dB stopband attenuation\n- Lower passband edge: 1.00\n- Lower transition bandwidth: 1.00 Hz (-6 dB cutoff frequency: 0.50 Hz)\n- Upper passband edge: 40.00 Hz\n- Upper transition bandwidth: 10.00 Hz (-6 dB cutoff frequency: 45.00 Hz)\n- Filter length: 529 samples (3.306 s)\n\n",
     "output_type": "stream"
    },
    {
     "name": "stderr",
     "text": "[Parallel(n_jobs=1)]: Done  64 out of  64 | elapsed:    0.0s finished\n[Parallel(n_jobs=1)]: Done  17 tasks      | elapsed:    0.0s\n[Parallel(n_jobs=1)]: Done  64 out of  64 | elapsed:    0.0s finished\n[Parallel(n_jobs=1)]: Done  17 tasks      | elapsed:    0.0s\n",
     "output_type": "stream"
    },
    {
     "name": "stdout",
     "text": "Used Annotations descriptions: ['T1', 'T2']\nFiltering raw data in 1 contiguous segment\nSetting up band-pass filter from 1 - 40 Hz\n\nFIR filter parameters\n---------------------\nDesigning a one-pass, zero-phase, non-causal bandpass filter:\n- Windowed time-domain design (firwin) method\n- Hamming window with 0.0194 passband ripple and 53 dB stopband attenuation\n- Lower passband edge: 1.00\n- Lower transition bandwidth: 1.00 Hz (-6 dB cutoff frequency: 0.50 Hz)\n- Upper passband edge: 40.00 Hz\n- Upper transition bandwidth: 10.00 Hz (-6 dB cutoff frequency: 45.00 Hz)\n- Filter length: 529 samples (3.306 s)\n\nUsed Annotations descriptions: ['T1', 'T2']\nFiltering raw data in 1 contiguous segment\nSetting up band-pass filter from 1 - 40 Hz\n\nFIR filter parameters\n---------------------\nDesigning a one-pass, zero-phase, non-causal bandpass filter:\n- Windowed time-domain design (firwin) method\n- Hamming window with 0.0194 passband ripple and 53 dB stopband attenuation\n- Lower passband edge: 1.00\n- Lower transition bandwidth: 1.00 Hz (-6 dB cutoff frequency: 0.50 Hz)\n- Upper passband edge: 40.00 Hz\n- Upper transition bandwidth: 10.00 Hz (-6 dB cutoff frequency: 45.00 Hz)\n- Filter length: 529 samples (3.306 s)\n\n",
     "output_type": "stream"
    },
    {
     "name": "stderr",
     "text": "[Parallel(n_jobs=1)]: Done  64 out of  64 | elapsed:    0.1s finished\n[Parallel(n_jobs=1)]: Done  17 tasks      | elapsed:    0.0s\n[Parallel(n_jobs=1)]: Done  64 out of  64 | elapsed:    0.0s finished\n[Parallel(n_jobs=1)]: Done  17 tasks      | elapsed:    0.0s\n",
     "output_type": "stream"
    },
    {
     "name": "stdout",
     "text": "Used Annotations descriptions: ['T1', 'T2']\nFiltering raw data in 1 contiguous segment\nSetting up band-pass filter from 1 - 40 Hz\n\nFIR filter parameters\n---------------------\nDesigning a one-pass, zero-phase, non-causal bandpass filter:\n- Windowed time-domain design (firwin) method\n- Hamming window with 0.0194 passband ripple and 53 dB stopband attenuation\n- Lower passband edge: 1.00\n- Lower transition bandwidth: 1.00 Hz (-6 dB cutoff frequency: 0.50 Hz)\n- Upper passband edge: 40.00 Hz\n- Upper transition bandwidth: 10.00 Hz (-6 dB cutoff frequency: 45.00 Hz)\n- Filter length: 529 samples (3.306 s)\n\nUsed Annotations descriptions: ['T1', 'T2']\nFiltering raw data in 1 contiguous segment\nSetting up band-pass filter from 1 - 40 Hz\n\nFIR filter parameters\n---------------------\nDesigning a one-pass, zero-phase, non-causal bandpass filter:\n- Windowed time-domain design (firwin) method\n- Hamming window with 0.0194 passband ripple and 53 dB stopband attenuation\n- Lower passband edge: 1.00\n- Lower transition bandwidth: 1.00 Hz (-6 dB cutoff frequency: 0.50 Hz)\n- Upper passband edge: 40.00 Hz\n- Upper transition bandwidth: 10.00 Hz (-6 dB cutoff frequency: 45.00 Hz)\n- Filter length: 529 samples (3.306 s)\n\n",
     "output_type": "stream"
    },
    {
     "name": "stderr",
     "text": "[Parallel(n_jobs=1)]: Done  64 out of  64 | elapsed:    0.0s finished\n[Parallel(n_jobs=1)]: Done  17 tasks      | elapsed:    0.0s\n[Parallel(n_jobs=1)]: Done  64 out of  64 | elapsed:    0.1s finished\n[Parallel(n_jobs=1)]: Done  17 tasks      | elapsed:    0.0s\n",
     "output_type": "stream"
    },
    {
     "name": "stdout",
     "text": "Used Annotations descriptions: ['T1', 'T2']\nFiltering raw data in 1 contiguous segment\nSetting up band-pass filter from 1 - 40 Hz\n\nFIR filter parameters\n---------------------\nDesigning a one-pass, zero-phase, non-causal bandpass filter:\n- Windowed time-domain design (firwin) method\n- Hamming window with 0.0194 passband ripple and 53 dB stopband attenuation\n- Lower passband edge: 1.00\n- Lower transition bandwidth: 1.00 Hz (-6 dB cutoff frequency: 0.50 Hz)\n- Upper passband edge: 40.00 Hz\n- Upper transition bandwidth: 10.00 Hz (-6 dB cutoff frequency: 45.00 Hz)\n- Filter length: 529 samples (3.306 s)\n\nUsed Annotations descriptions: ['T1', 'T2']\nFiltering raw data in 1 contiguous segment\nSetting up band-pass filter from 1 - 40 Hz\n\nFIR filter parameters\n---------------------\nDesigning a one-pass, zero-phase, non-causal bandpass filter:\n- Windowed time-domain design (firwin) method\n- Hamming window with 0.0194 passband ripple and 53 dB stopband attenuation\n- Lower passband edge: 1.00\n- Lower transition bandwidth: 1.00 Hz (-6 dB cutoff frequency: 0.50 Hz)\n- Upper passband edge: 40.00 Hz\n- Upper transition bandwidth: 10.00 Hz (-6 dB cutoff frequency: 45.00 Hz)\n- Filter length: 529 samples (3.306 s)\n\n",
     "output_type": "stream"
    },
    {
     "name": "stderr",
     "text": "[Parallel(n_jobs=1)]: Done  64 out of  64 | elapsed:    0.1s finished\n[Parallel(n_jobs=1)]: Done  17 tasks      | elapsed:    0.0s\n[Parallel(n_jobs=1)]: Done  64 out of  64 | elapsed:    0.1s finished\n[Parallel(n_jobs=1)]: Done  17 tasks      | elapsed:    0.0s\n",
     "output_type": "stream"
    },
    {
     "name": "stdout",
     "text": "Used Annotations descriptions: ['T1', 'T2']\nFiltering raw data in 1 contiguous segment\nSetting up band-pass filter from 1 - 40 Hz\n\nFIR filter parameters\n---------------------\nDesigning a one-pass, zero-phase, non-causal bandpass filter:\n- Windowed time-domain design (firwin) method\n- Hamming window with 0.0194 passband ripple and 53 dB stopband attenuation\n- Lower passband edge: 1.00\n- Lower transition bandwidth: 1.00 Hz (-6 dB cutoff frequency: 0.50 Hz)\n- Upper passband edge: 40.00 Hz\n- Upper transition bandwidth: 10.00 Hz (-6 dB cutoff frequency: 45.00 Hz)\n- Filter length: 529 samples (3.306 s)\n\nUsed Annotations descriptions: ['T1', 'T2']\nFiltering raw data in 1 contiguous segment\nSetting up band-pass filter from 1 - 40 Hz\n\nFIR filter parameters\n---------------------\nDesigning a one-pass, zero-phase, non-causal bandpass filter:\n- Windowed time-domain design (firwin) method\n- Hamming window with 0.0194 passband ripple and 53 dB stopband attenuation\n- Lower passband edge: 1.00\n- Lower transition bandwidth: 1.00 Hz (-6 dB cutoff frequency: 0.50 Hz)\n- Upper passband edge: 40.00 Hz\n- Upper transition bandwidth: 10.00 Hz (-6 dB cutoff frequency: 45.00 Hz)\n- Filter length: 529 samples (3.306 s)\n\n",
     "output_type": "stream"
    },
    {
     "name": "stderr",
     "text": "[Parallel(n_jobs=1)]: Done  64 out of  64 | elapsed:    0.0s finished\n[Parallel(n_jobs=1)]: Done  17 tasks      | elapsed:    0.0s\n[Parallel(n_jobs=1)]: Done  64 out of  64 | elapsed:    0.0s finished\n[Parallel(n_jobs=1)]: Done  17 tasks      | elapsed:    0.0s\n",
     "output_type": "stream"
    },
    {
     "name": "stdout",
     "text": "Used Annotations descriptions: ['T1', 'T2']\nFiltering raw data in 1 contiguous segment\nSetting up band-pass filter from 1 - 40 Hz\n\nFIR filter parameters\n---------------------\nDesigning a one-pass, zero-phase, non-causal bandpass filter:\n- Windowed time-domain design (firwin) method\n- Hamming window with 0.0194 passband ripple and 53 dB stopband attenuation\n- Lower passband edge: 1.00\n- Lower transition bandwidth: 1.00 Hz (-6 dB cutoff frequency: 0.50 Hz)\n- Upper passband edge: 40.00 Hz\n- Upper transition bandwidth: 10.00 Hz (-6 dB cutoff frequency: 45.00 Hz)\n- Filter length: 529 samples (3.306 s)\n\nUsed Annotations descriptions: ['T1', 'T2']\nFiltering raw data in 1 contiguous segment\nSetting up band-pass filter from 1 - 40 Hz\n\nFIR filter parameters\n---------------------\nDesigning a one-pass, zero-phase, non-causal bandpass filter:\n- Windowed time-domain design (firwin) method\n- Hamming window with 0.0194 passband ripple and 53 dB stopband attenuation\n- Lower passband edge: 1.00\n- Lower transition bandwidth: 1.00 Hz (-6 dB cutoff frequency: 0.50 Hz)\n- Upper passband edge: 40.00 Hz\n- Upper transition bandwidth: 10.00 Hz (-6 dB cutoff frequency: 45.00 Hz)\n- Filter length: 529 samples (3.306 s)\n\nUsed Annotations descriptions: ['T1', 'T2']\n",
     "output_type": "stream"
    },
    {
     "name": "stderr",
     "text": "[Parallel(n_jobs=1)]: Done  64 out of  64 | elapsed:    0.0s finished\n[Parallel(n_jobs=1)]: Done  17 tasks      | elapsed:    0.0s\n[Parallel(n_jobs=1)]: Done  64 out of  64 | elapsed:    0.0s finished\n[Parallel(n_jobs=1)]: Done  17 tasks      | elapsed:    0.0s\n[Parallel(n_jobs=1)]: Done  64 out of  64 | elapsed:    0.0s finished\n",
     "output_type": "stream"
    },
    {
     "name": "stdout",
     "text": "Filtering raw data in 1 contiguous segment\nSetting up band-pass filter from 1 - 40 Hz\n\nFIR filter parameters\n---------------------\nDesigning a one-pass, zero-phase, non-causal bandpass filter:\n- Windowed time-domain design (firwin) method\n- Hamming window with 0.0194 passband ripple and 53 dB stopband attenuation\n- Lower passband edge: 1.00\n- Lower transition bandwidth: 1.00 Hz (-6 dB cutoff frequency: 0.50 Hz)\n- Upper passband edge: 40.00 Hz\n- Upper transition bandwidth: 10.00 Hz (-6 dB cutoff frequency: 45.00 Hz)\n- Filter length: 529 samples (3.306 s)\n\nUsed Annotations descriptions: ['T1', 'T2']\nFiltering raw data in 1 contiguous segment\nSetting up band-pass filter from 1 - 40 Hz\n\nFIR filter parameters\n---------------------\nDesigning a one-pass, zero-phase, non-causal bandpass filter:\n- Windowed time-domain design (firwin) method\n- Hamming window with 0.0194 passband ripple and 53 dB stopband attenuation\n- Lower passband edge: 1.00\n- Lower transition bandwidth: 1.00 Hz (-6 dB cutoff frequency: 0.50 Hz)\n- Upper passband edge: 40.00 Hz\n- Upper transition bandwidth: 10.00 Hz (-6 dB cutoff frequency: 45.00 Hz)\n- Filter length: 529 samples (3.306 s)\n\nUsed Annotations descriptions: ['T1', 'T2']\nFiltering raw data in 1 contiguous segment\nSetting up band-pass filter from 1 - 40 Hz\n\nFIR filter parameters\n---------------------\nDesigning a one-pass, zero-phase, non-causal bandpass filter:\n- Windowed time-domain design (firwin) method\n- Hamming window with 0.0194 passband ripple and 53 dB stopband attenuation\n- Lower passband edge: 1.00\n- Lower transition bandwidth: 1.00 Hz (-6 dB cutoff frequency: 0.50 Hz)\n- Upper passband edge: 40.00 Hz\n- Upper transition bandwidth: 10.00 Hz (-6 dB cutoff frequency: 45.00 Hz)\n- Filter length: 529 samples (3.306 s)\n\n",
     "output_type": "stream"
    },
    {
     "name": "stderr",
     "text": "[Parallel(n_jobs=1)]: Done  17 tasks      | elapsed:    0.0s\n[Parallel(n_jobs=1)]: Done  64 out of  64 | elapsed:    0.0s finished\n[Parallel(n_jobs=1)]: Done  17 tasks      | elapsed:    0.0s\n[Parallel(n_jobs=1)]: Done  64 out of  64 | elapsed:    0.0s finished\n[Parallel(n_jobs=1)]: Done  17 tasks      | elapsed:    0.0s\n",
     "output_type": "stream"
    },
    {
     "name": "stdout",
     "text": "Used Annotations descriptions: ['T1', 'T2']\nFiltering raw data in 1 contiguous segment\nSetting up band-pass filter from 1 - 40 Hz\n\nFIR filter parameters\n---------------------\nDesigning a one-pass, zero-phase, non-causal bandpass filter:\n- Windowed time-domain design (firwin) method\n- Hamming window with 0.0194 passband ripple and 53 dB stopband attenuation\n- Lower passband edge: 1.00\n- Lower transition bandwidth: 1.00 Hz (-6 dB cutoff frequency: 0.50 Hz)\n- Upper passband edge: 40.00 Hz\n- Upper transition bandwidth: 10.00 Hz (-6 dB cutoff frequency: 45.00 Hz)\n- Filter length: 529 samples (3.306 s)\n\nUsed Annotations descriptions: ['T1', 'T2']\nFiltering raw data in 1 contiguous segment\nSetting up band-pass filter from 1 - 40 Hz\n\nFIR filter parameters\n---------------------\nDesigning a one-pass, zero-phase, non-causal bandpass filter:\n- Windowed time-domain design (firwin) method\n- Hamming window with 0.0194 passband ripple and 53 dB stopband attenuation\n- Lower passband edge: 1.00\n- Lower transition bandwidth: 1.00 Hz (-6 dB cutoff frequency: 0.50 Hz)\n- Upper passband edge: 40.00 Hz\n- Upper transition bandwidth: 10.00 Hz (-6 dB cutoff frequency: 45.00 Hz)\n- Filter length: 529 samples (3.306 s)\n\n",
     "output_type": "stream"
    },
    {
     "name": "stderr",
     "text": "[Parallel(n_jobs=1)]: Done  64 out of  64 | elapsed:    0.0s finished\n[Parallel(n_jobs=1)]: Done  17 tasks      | elapsed:    0.0s\n[Parallel(n_jobs=1)]: Done  64 out of  64 | elapsed:    0.1s finished\n[Parallel(n_jobs=1)]: Done  17 tasks      | elapsed:    0.0s\n",
     "output_type": "stream"
    },
    {
     "name": "stdout",
     "text": "Used Annotations descriptions: ['T1', 'T2']\nFiltering raw data in 1 contiguous segment\nSetting up band-pass filter from 1 - 40 Hz\n\nFIR filter parameters\n---------------------\nDesigning a one-pass, zero-phase, non-causal bandpass filter:\n- Windowed time-domain design (firwin) method\n- Hamming window with 0.0194 passband ripple and 53 dB stopband attenuation\n- Lower passband edge: 1.00\n- Lower transition bandwidth: 1.00 Hz (-6 dB cutoff frequency: 0.50 Hz)\n- Upper passband edge: 40.00 Hz\n- Upper transition bandwidth: 10.00 Hz (-6 dB cutoff frequency: 45.00 Hz)\n- Filter length: 529 samples (3.306 s)\n\nUsed Annotations descriptions: ['T1', 'T2']\nFiltering raw data in 1 contiguous segment\nSetting up band-pass filter from 1 - 40 Hz\n\nFIR filter parameters\n---------------------\nDesigning a one-pass, zero-phase, non-causal bandpass filter:\n- Windowed time-domain design (firwin) method\n- Hamming window with 0.0194 passband ripple and 53 dB stopband attenuation\n- Lower passband edge: 1.00\n- Lower transition bandwidth: 1.00 Hz (-6 dB cutoff frequency: 0.50 Hz)\n- Upper passband edge: 40.00 Hz\n- Upper transition bandwidth: 10.00 Hz (-6 dB cutoff frequency: 45.00 Hz)\n- Filter length: 529 samples (3.306 s)\n\n",
     "output_type": "stream"
    },
    {
     "name": "stderr",
     "text": "[Parallel(n_jobs=1)]: Done  64 out of  64 | elapsed:    0.1s finished\n[Parallel(n_jobs=1)]: Done  17 tasks      | elapsed:    0.0s\n[Parallel(n_jobs=1)]: Done  64 out of  64 | elapsed:    0.1s finished\n[Parallel(n_jobs=1)]: Done  17 tasks      | elapsed:    0.0s\n",
     "output_type": "stream"
    },
    {
     "name": "stdout",
     "text": "Used Annotations descriptions: ['T1', 'T2']\nFiltering raw data in 1 contiguous segment\nSetting up band-pass filter from 1 - 40 Hz\n\nFIR filter parameters\n---------------------\nDesigning a one-pass, zero-phase, non-causal bandpass filter:\n- Windowed time-domain design (firwin) method\n- Hamming window with 0.0194 passband ripple and 53 dB stopband attenuation\n- Lower passband edge: 1.00\n- Lower transition bandwidth: 1.00 Hz (-6 dB cutoff frequency: 0.50 Hz)\n- Upper passband edge: 40.00 Hz\n- Upper transition bandwidth: 10.00 Hz (-6 dB cutoff frequency: 45.00 Hz)\n- Filter length: 529 samples (3.306 s)\n\nUsed Annotations descriptions: ['T1', 'T2']\nFiltering raw data in 1 contiguous segment\nSetting up band-pass filter from 1 - 40 Hz\n\nFIR filter parameters\n---------------------\nDesigning a one-pass, zero-phase, non-causal bandpass filter:\n- Windowed time-domain design (firwin) method\n- Hamming window with 0.0194 passband ripple and 53 dB stopband attenuation\n- Lower passband edge: 1.00\n- Lower transition bandwidth: 1.00 Hz (-6 dB cutoff frequency: 0.50 Hz)\n- Upper passband edge: 40.00 Hz\n- Upper transition bandwidth: 10.00 Hz (-6 dB cutoff frequency: 45.00 Hz)\n- Filter length: 529 samples (3.306 s)\n\nUsed Annotations descriptions: ['T1', 'T2']\n",
     "output_type": "stream"
    },
    {
     "name": "stderr",
     "text": "[Parallel(n_jobs=1)]: Done  64 out of  64 | elapsed:    0.1s finished\n[Parallel(n_jobs=1)]: Done  17 tasks      | elapsed:    0.0s\n[Parallel(n_jobs=1)]: Done  64 out of  64 | elapsed:    0.0s finished\n[Parallel(n_jobs=1)]: Done  17 tasks      | elapsed:    0.0s\n[Parallel(n_jobs=1)]: Done  64 out of  64 | elapsed:    0.0s finished\n",
     "output_type": "stream"
    },
    {
     "name": "stdout",
     "text": "Filtering raw data in 1 contiguous segment\nSetting up band-pass filter from 1 - 40 Hz\n\nFIR filter parameters\n---------------------\nDesigning a one-pass, zero-phase, non-causal bandpass filter:\n- Windowed time-domain design (firwin) method\n- Hamming window with 0.0194 passband ripple and 53 dB stopband attenuation\n- Lower passband edge: 1.00\n- Lower transition bandwidth: 1.00 Hz (-6 dB cutoff frequency: 0.50 Hz)\n- Upper passband edge: 40.00 Hz\n- Upper transition bandwidth: 10.00 Hz (-6 dB cutoff frequency: 45.00 Hz)\n- Filter length: 529 samples (3.306 s)\n\nUsed Annotations descriptions: ['T1', 'T2']\nFiltering raw data in 1 contiguous segment\nSetting up band-pass filter from 1 - 40 Hz\n\nFIR filter parameters\n---------------------\nDesigning a one-pass, zero-phase, non-causal bandpass filter:\n- Windowed time-domain design (firwin) method\n- Hamming window with 0.0194 passband ripple and 53 dB stopband attenuation\n- Lower passband edge: 1.00\n- Lower transition bandwidth: 1.00 Hz (-6 dB cutoff frequency: 0.50 Hz)\n- Upper passband edge: 40.00 Hz\n- Upper transition bandwidth: 10.00 Hz (-6 dB cutoff frequency: 45.00 Hz)\n- Filter length: 529 samples (3.306 s)\n\nUsed Annotations descriptions: ['T1', 'T2']\nFiltering raw data in 1 contiguous segment\nSetting up band-pass filter from 1 - 40 Hz\n\nFIR filter parameters\n---------------------\nDesigning a one-pass, zero-phase, non-causal bandpass filter:\n- Windowed time-domain design (firwin) method\n- Hamming window with 0.0194 passband ripple and 53 dB stopband attenuation\n- Lower passband edge: 1.00\n- Lower transition bandwidth: 1.00 Hz (-6 dB cutoff frequency: 0.50 Hz)\n- Upper passband edge: 40.00 Hz\n- Upper transition bandwidth: 10.00 Hz (-6 dB cutoff frequency: 45.00 Hz)\n- Filter length: 529 samples (3.306 s)\n\n",
     "output_type": "stream"
    },
    {
     "name": "stderr",
     "text": "[Parallel(n_jobs=1)]: Done  17 tasks      | elapsed:    0.0s\n[Parallel(n_jobs=1)]: Done  64 out of  64 | elapsed:    0.0s finished\n[Parallel(n_jobs=1)]: Done  17 tasks      | elapsed:    0.0s\n[Parallel(n_jobs=1)]: Done  64 out of  64 | elapsed:    0.1s finished\n",
     "output_type": "stream"
    },
    {
     "name": "stdout",
     "text": "Used Annotations descriptions: ['T1', 'T2']\nFiltering raw data in 1 contiguous segment\nSetting up band-pass filter from 1 - 40 Hz\n\nFIR filter parameters\n---------------------\nDesigning a one-pass, zero-phase, non-causal bandpass filter:\n- Windowed time-domain design (firwin) method\n- Hamming window with 0.0194 passband ripple and 53 dB stopband attenuation\n- Lower passband edge: 1.00\n- Lower transition bandwidth: 1.00 Hz (-6 dB cutoff frequency: 0.50 Hz)\n- Upper passband edge: 40.00 Hz\n- Upper transition bandwidth: 10.00 Hz (-6 dB cutoff frequency: 45.00 Hz)\n- Filter length: 529 samples (3.306 s)\n\nUsed Annotations descriptions: ['T1', 'T2']\n",
     "output_type": "stream"
    },
    {
     "name": "stderr",
     "text": "[Parallel(n_jobs=1)]: Done  17 tasks      | elapsed:    0.0s\n[Parallel(n_jobs=1)]: Done  64 out of  64 | elapsed:    0.1s finished\n[Parallel(n_jobs=1)]: Done  17 tasks      | elapsed:    0.0s\n[Parallel(n_jobs=1)]: Done  64 out of  64 | elapsed:    0.1s finished\n",
     "output_type": "stream"
    },
    {
     "name": "stdout",
     "text": "Filtering raw data in 1 contiguous segment\nSetting up band-pass filter from 1 - 40 Hz\n\nFIR filter parameters\n---------------------\nDesigning a one-pass, zero-phase, non-causal bandpass filter:\n- Windowed time-domain design (firwin) method\n- Hamming window with 0.0194 passband ripple and 53 dB stopband attenuation\n- Lower passband edge: 1.00\n- Lower transition bandwidth: 1.00 Hz (-6 dB cutoff frequency: 0.50 Hz)\n- Upper passband edge: 40.00 Hz\n- Upper transition bandwidth: 10.00 Hz (-6 dB cutoff frequency: 45.00 Hz)\n- Filter length: 529 samples (3.306 s)\n\nUsed Annotations descriptions: ['T1', 'T2']\nFiltering raw data in 1 contiguous segment\nSetting up band-pass filter from 1 - 40 Hz\n\nFIR filter parameters\n---------------------\nDesigning a one-pass, zero-phase, non-causal bandpass filter:\n- Windowed time-domain design (firwin) method\n- Hamming window with 0.0194 passband ripple and 53 dB stopband attenuation\n- Lower passband edge: 1.00\n- Lower transition bandwidth: 1.00 Hz (-6 dB cutoff frequency: 0.50 Hz)\n- Upper passband edge: 40.00 Hz\n- Upper transition bandwidth: 10.00 Hz (-6 dB cutoff frequency: 45.00 Hz)\n- Filter length: 529 samples (3.306 s)\n\nUsed Annotations descriptions: ['T1', 'T2']\nFiltering raw data in 1 contiguous segment\nSetting up band-pass filter from 1 - 40 Hz\n\nFIR filter parameters\n---------------------\nDesigning a one-pass, zero-phase, non-causal bandpass filter:\n- Windowed time-domain design (firwin) method\n- Hamming window with 0.0194 passband ripple and 53 dB stopband attenuation\n",
     "output_type": "stream"
    },
    {
     "name": "stderr",
     "text": "[Parallel(n_jobs=1)]: Done  17 tasks      | elapsed:    0.0s\n[Parallel(n_jobs=1)]: Done  64 out of  64 | elapsed:    0.1s finished\n[Parallel(n_jobs=1)]: Done  17 tasks      | elapsed:    0.0s\n[Parallel(n_jobs=1)]: Done  64 out of  64 | elapsed:    0.1s finished\n",
     "output_type": "stream"
    },
    {
     "name": "stdout",
     "text": "- Lower passband edge: 1.00\n- Lower transition bandwidth: 1.00 Hz (-6 dB cutoff frequency: 0.50 Hz)\n- Upper passband edge: 40.00 Hz\n- Upper transition bandwidth: 10.00 Hz (-6 dB cutoff frequency: 45.00 Hz)\n- Filter length: 529 samples (3.306 s)\n\nUsed Annotations descriptions: ['T1', 'T2']\nFiltering raw data in 1 contiguous segment\nSetting up band-pass filter from 1 - 40 Hz\n\nFIR filter parameters\n---------------------\nDesigning a one-pass, zero-phase, non-causal bandpass filter:\n- Windowed time-domain design (firwin) method\n- Hamming window with 0.0194 passband ripple and 53 dB stopband attenuation\n- Lower passband edge: 1.00\n- Lower transition bandwidth: 1.00 Hz (-6 dB cutoff frequency: 0.50 Hz)\n- Upper passband edge: 40.00 Hz\n- Upper transition bandwidth: 10.00 Hz (-6 dB cutoff frequency: 45.00 Hz)\n- Filter length: 529 samples (3.306 s)\n\nUsed Annotations descriptions: ['T1', 'T2']\nFiltering raw data in 1 contiguous segment\nSetting up band-pass filter from 1 - 40 Hz\n\nFIR filter parameters\n---------------------\nDesigning a one-pass, zero-phase, non-causal bandpass filter:\n- Windowed time-domain design (firwin) method\n- Hamming window with 0.0194 passband ripple and 53 dB stopband attenuation\n- Lower passband edge: 1.00\n- Lower transition bandwidth: 1.00 Hz (-6 dB cutoff frequency: 0.50 Hz)\n- Upper passband edge: 40.00 Hz\n- Upper transition bandwidth: 10.00 Hz (-6 dB cutoff frequency: 45.00 Hz)\n- Filter length: 529 samples (3.306 s)\n\n",
     "output_type": "stream"
    },
    {
     "name": "stderr",
     "text": "[Parallel(n_jobs=1)]: Done  17 tasks      | elapsed:    0.0s\n[Parallel(n_jobs=1)]: Done  64 out of  64 | elapsed:    0.1s finished\n[Parallel(n_jobs=1)]: Done  17 tasks      | elapsed:    0.0s\n[Parallel(n_jobs=1)]: Done  64 out of  64 | elapsed:    0.0s finished\n",
     "output_type": "stream"
    },
    {
     "name": "stdout",
     "text": "Used Annotations descriptions: ['T1', 'T2']\nFiltering raw data in 1 contiguous segment\nSetting up band-pass filter from 1 - 40 Hz\n\nFIR filter parameters\n---------------------\nDesigning a one-pass, zero-phase, non-causal bandpass filter:\n- Windowed time-domain design (firwin) method\n- Hamming window with 0.0194 passband ripple and 53 dB stopband attenuation\n- Lower passband edge: 1.00\n- Lower transition bandwidth: 1.00 Hz (-6 dB cutoff frequency: 0.50 Hz)\n- Upper passband edge: 40.00 Hz\n- Upper transition bandwidth: 10.00 Hz (-6 dB cutoff frequency: 45.00 Hz)\n- Filter length: 529 samples (3.306 s)\n\nUsed Annotations descriptions: ['T1', 'T2']\nFiltering raw data in 1 contiguous segment\nSetting up band-pass filter from 1 - 40 Hz\n\nFIR filter parameters\n---------------------\nDesigning a one-pass, zero-phase, non-causal bandpass filter:\n- Windowed time-domain design (firwin) method\n- Hamming window with 0.0194 passband ripple and 53 dB stopband attenuation\n- Lower passband edge: 1.00\n- Lower transition bandwidth: 1.00 Hz (-6 dB cutoff frequency: 0.50 Hz)\n- Upper passband edge: 40.00 Hz\n- Upper transition bandwidth: 10.00 Hz (-6 dB cutoff frequency: 45.00 Hz)\n- Filter length: 529 samples (3.306 s)\n\n",
     "output_type": "stream"
    },
    {
     "name": "stderr",
     "text": "[Parallel(n_jobs=1)]: Done  17 tasks      | elapsed:    0.0s\n[Parallel(n_jobs=1)]: Done  64 out of  64 | elapsed:    0.0s finished\n[Parallel(n_jobs=1)]: Done  17 tasks      | elapsed:    0.0s\n[Parallel(n_jobs=1)]: Done  64 out of  64 | elapsed:    0.1s finished\n",
     "output_type": "stream"
    },
    {
     "name": "stdout",
     "text": "Used Annotations descriptions: ['T1', 'T2']\nFiltering raw data in 1 contiguous segment\nSetting up band-pass filter from 1 - 40 Hz\n\nFIR filter parameters\n---------------------\nDesigning a one-pass, zero-phase, non-causal bandpass filter:\n- Windowed time-domain design (firwin) method\n- Hamming window with 0.0194 passband ripple and 53 dB stopband attenuation\n- Lower passband edge: 1.00\n- Lower transition bandwidth: 1.00 Hz (-6 dB cutoff frequency: 0.50 Hz)\n- Upper passband edge: 40.00 Hz\n- Upper transition bandwidth: 10.00 Hz (-6 dB cutoff frequency: 45.00 Hz)\n- Filter length: 529 samples (3.306 s)\n\nUsed Annotations descriptions: ['T1', 'T2']\nFiltering raw data in 1 contiguous segment\nSetting up band-pass filter from 1 - 40 Hz\n\nFIR filter parameters\n---------------------\nDesigning a one-pass, zero-phase, non-causal bandpass filter:\n- Windowed time-domain design (firwin) method\n- Hamming window with 0.0194 passband ripple and 53 dB stopband attenuation\n- Lower passband edge: 1.00\n- Lower transition bandwidth: 1.00 Hz (-6 dB cutoff frequency: 0.50 Hz)\n- Upper passband edge: 40.00 Hz\n- Upper transition bandwidth: 10.00 Hz (-6 dB cutoff frequency: 45.00 Hz)\n- Filter length: 529 samples (3.306 s)\n\n",
     "output_type": "stream"
    },
    {
     "name": "stderr",
     "text": "[Parallel(n_jobs=1)]: Done  17 tasks      | elapsed:    0.0s\n[Parallel(n_jobs=1)]: Done  64 out of  64 | elapsed:    0.1s finished\n[Parallel(n_jobs=1)]: Done  17 tasks      | elapsed:    0.0s\n[Parallel(n_jobs=1)]: Done  64 out of  64 | elapsed:    0.0s finished\n",
     "output_type": "stream"
    },
    {
     "name": "stdout",
     "text": "Used Annotations descriptions: ['T1', 'T2']\nFiltering raw data in 1 contiguous segment\nSetting up band-pass filter from 1 - 40 Hz\n\nFIR filter parameters\n---------------------\nDesigning a one-pass, zero-phase, non-causal bandpass filter:\n- Windowed time-domain design (firwin) method\n- Hamming window with 0.0194 passband ripple and 53 dB stopband attenuation\n- Lower passband edge: 1.00\n- Lower transition bandwidth: 1.00 Hz (-6 dB cutoff frequency: 0.50 Hz)\n- Upper passband edge: 40.00 Hz\n- Upper transition bandwidth: 10.00 Hz (-6 dB cutoff frequency: 45.00 Hz)\n- Filter length: 529 samples (3.306 s)\n\nUsed Annotations descriptions: ['T1', 'T2']\nFiltering raw data in 1 contiguous segment\nSetting up band-pass filter from 1 - 40 Hz\n\nFIR filter parameters\n---------------------\nDesigning a one-pass, zero-phase, non-causal bandpass filter:\n- Windowed time-domain design (firwin) method\n- Hamming window with 0.0194 passband ripple and 53 dB stopband attenuation\n- Lower passband edge: 1.00\n- Lower transition bandwidth: 1.00 Hz (-6 dB cutoff frequency: 0.50 Hz)\n- Upper passband edge: 40.00 Hz\n- Upper transition bandwidth: 10.00 Hz (-6 dB cutoff frequency: 45.00 Hz)\n- Filter length: 529 samples (3.306 s)\n\n",
     "output_type": "stream"
    },
    {
     "name": "stderr",
     "text": "[Parallel(n_jobs=1)]: Done  17 tasks      | elapsed:    0.0s\n[Parallel(n_jobs=1)]: Done  64 out of  64 | elapsed:    0.1s finished\n[Parallel(n_jobs=1)]: Done  17 tasks      | elapsed:    0.0s\n[Parallel(n_jobs=1)]: Done  64 out of  64 | elapsed:    0.1s finished\n",
     "output_type": "stream"
    },
    {
     "name": "stdout",
     "text": "Used Annotations descriptions: ['T1', 'T2']\nFiltering raw data in 1 contiguous segment\nSetting up band-pass filter from 1 - 40 Hz\n\nFIR filter parameters\n---------------------\nDesigning a one-pass, zero-phase, non-causal bandpass filter:\n- Windowed time-domain design (firwin) method\n- Hamming window with 0.0194 passband ripple and 53 dB stopband attenuation\n- Lower passband edge: 1.00\n- Lower transition bandwidth: 1.00 Hz (-6 dB cutoff frequency: 0.50 Hz)\n- Upper passband edge: 40.00 Hz\n- Upper transition bandwidth: 10.00 Hz (-6 dB cutoff frequency: 45.00 Hz)\n- Filter length: 529 samples (3.306 s)\n\nUsed Annotations descriptions: ['T1', 'T2']\nFiltering raw data in 1 contiguous segment\nSetting up band-pass filter from 1 - 40 Hz\n\nFIR filter parameters\n---------------------\nDesigning a one-pass, zero-phase, non-causal bandpass filter:\n- Windowed time-domain design (firwin) method\n- Hamming window with 0.0194 passband ripple and 53 dB stopband attenuation\n- Lower passband edge: 1.00\n- Lower transition bandwidth: 1.00 Hz (-6 dB cutoff frequency: 0.50 Hz)\n- Upper passband edge: 40.00 Hz\n- Upper transition bandwidth: 10.00 Hz (-6 dB cutoff frequency: 45.00 Hz)\n- Filter length: 529 samples (3.306 s)\n\n",
     "output_type": "stream"
    },
    {
     "name": "stderr",
     "text": "[Parallel(n_jobs=1)]: Done  17 tasks      | elapsed:    0.0s\n[Parallel(n_jobs=1)]: Done  64 out of  64 | elapsed:    0.0s finished\n[Parallel(n_jobs=1)]: Done  17 tasks      | elapsed:    0.0s\n[Parallel(n_jobs=1)]: Done  64 out of  64 | elapsed:    0.1s finished\n",
     "output_type": "stream"
    },
    {
     "name": "stdout",
     "text": "Used Annotations descriptions: ['T1', 'T2']\nFiltering raw data in 1 contiguous segment\nSetting up band-pass filter from 1 - 40 Hz\n\nFIR filter parameters\n---------------------\nDesigning a one-pass, zero-phase, non-causal bandpass filter:\n- Windowed time-domain design (firwin) method\n- Hamming window with 0.0194 passband ripple and 53 dB stopband attenuation\n- Lower passband edge: 1.00\n- Lower transition bandwidth: 1.00 Hz (-6 dB cutoff frequency: 0.50 Hz)\n- Upper passband edge: 40.00 Hz\n- Upper transition bandwidth: 10.00 Hz (-6 dB cutoff frequency: 45.00 Hz)\n- Filter length: 529 samples (3.306 s)\n\nUsed Annotations descriptions: ['T1', 'T2']\nFiltering raw data in 1 contiguous segment\nSetting up band-pass filter from 1 - 40 Hz\n\nFIR filter parameters\n---------------------\nDesigning a one-pass, zero-phase, non-causal bandpass filter:\n- Windowed time-domain design (firwin) method\n- Hamming window with 0.0194 passband ripple and 53 dB stopband attenuation\n- Lower passband edge: 1.00\n- Lower transition bandwidth: 1.00 Hz (-6 dB cutoff frequency: 0.50 Hz)\n- Upper passband edge: 40.00 Hz\n- Upper transition bandwidth: 10.00 Hz (-6 dB cutoff frequency: 45.00 Hz)\n- Filter length: 529 samples (3.306 s)\n\n",
     "output_type": "stream"
    },
    {
     "name": "stderr",
     "text": "[Parallel(n_jobs=1)]: Done  17 tasks      | elapsed:    0.0s\n[Parallel(n_jobs=1)]: Done  64 out of  64 | elapsed:    0.0s finished\n[Parallel(n_jobs=1)]: Done  17 tasks      | elapsed:    0.0s\n[Parallel(n_jobs=1)]: Done  64 out of  64 | elapsed:    0.0s finished\n",
     "output_type": "stream"
    },
    {
     "name": "stdout",
     "text": "Used Annotations descriptions: ['T1', 'T2']\nFiltering raw data in 1 contiguous segment\nSetting up band-pass filter from 1 - 40 Hz\n\nFIR filter parameters\n---------------------\nDesigning a one-pass, zero-phase, non-causal bandpass filter:\n- Windowed time-domain design (firwin) method\n- Hamming window with 0.0194 passband ripple and 53 dB stopband attenuation\n- Lower passband edge: 1.00\n- Lower transition bandwidth: 1.00 Hz (-6 dB cutoff frequency: 0.50 Hz)\n- Upper passband edge: 40.00 Hz\n- Upper transition bandwidth: 10.00 Hz (-6 dB cutoff frequency: 45.00 Hz)\n- Filter length: 529 samples (3.306 s)\n\nUsed Annotations descriptions: ['T1', 'T2']\nFiltering raw data in 1 contiguous segment\nSetting up band-pass filter from 1 - 40 Hz\n\nFIR filter parameters\n---------------------\nDesigning a one-pass, zero-phase, non-causal bandpass filter:\n- Windowed time-domain design (firwin) method\n- Hamming window with 0.0194 passband ripple and 53 dB stopband attenuation\n- Lower passband edge: 1.00\n- Lower transition bandwidth: 1.00 Hz (-6 dB cutoff frequency: 0.50 Hz)\n- Upper passband edge: 40.00 Hz\n- Upper transition bandwidth: 10.00 Hz (-6 dB cutoff frequency: 45.00 Hz)\n- Filter length: 529 samples (3.306 s)\n\n",
     "output_type": "stream"
    },
    {
     "name": "stderr",
     "text": "[Parallel(n_jobs=1)]: Done  17 tasks      | elapsed:    0.0s\n[Parallel(n_jobs=1)]: Done  64 out of  64 | elapsed:    0.1s finished\n[Parallel(n_jobs=1)]: Done  17 tasks      | elapsed:    0.0s\n[Parallel(n_jobs=1)]: Done  64 out of  64 | elapsed:    0.0s finished\n",
     "output_type": "stream"
    },
    {
     "name": "stdout",
     "text": "Used Annotations descriptions: ['T1', 'T2']\nFiltering raw data in 1 contiguous segment\nSetting up band-pass filter from 1 - 40 Hz\n\nFIR filter parameters\n---------------------\nDesigning a one-pass, zero-phase, non-causal bandpass filter:\n- Windowed time-domain design (firwin) method\n- Hamming window with 0.0194 passband ripple and 53 dB stopband attenuation\n- Lower passband edge: 1.00\n- Lower transition bandwidth: 1.00 Hz (-6 dB cutoff frequency: 0.50 Hz)\n- Upper passband edge: 40.00 Hz\n- Upper transition bandwidth: 10.00 Hz (-6 dB cutoff frequency: 45.00 Hz)\n- Filter length: 529 samples (3.306 s)\n\nUsed Annotations descriptions: ['T1', 'T2']\nFiltering raw data in 1 contiguous segment\nSetting up band-pass filter from 1 - 40 Hz\n\nFIR filter parameters\n---------------------\nDesigning a one-pass, zero-phase, non-causal bandpass filter:\n- Windowed time-domain design (firwin) method\n- Hamming window with 0.0194 passband ripple and 53 dB stopband attenuation\n- Lower passband edge: 1.00\n",
     "output_type": "stream"
    },
    {
     "name": "stderr",
     "text": "[Parallel(n_jobs=1)]: Done  17 tasks      | elapsed:    0.0s\n[Parallel(n_jobs=1)]: Done  64 out of  64 | elapsed:    0.1s finished\n[Parallel(n_jobs=1)]: Done  17 tasks      | elapsed:    0.0s\n[Parallel(n_jobs=1)]: Done  64 out of  64 | elapsed:    0.1s finished\n",
     "output_type": "stream"
    },
    {
     "name": "stdout",
     "text": "- Lower transition bandwidth: 1.00 Hz (-6 dB cutoff frequency: 0.50 Hz)\n- Upper passband edge: 40.00 Hz\n- Upper transition bandwidth: 10.00 Hz (-6 dB cutoff frequency: 45.00 Hz)\n- Filter length: 529 samples (3.306 s)\n\nUsed Annotations descriptions: ['T1', 'T2']\nFiltering raw data in 1 contiguous segment\nSetting up band-pass filter from 1 - 40 Hz\n\nFIR filter parameters\n---------------------\nDesigning a one-pass, zero-phase, non-causal bandpass filter:\n- Windowed time-domain design (firwin) method\n- Hamming window with 0.0194 passband ripple and 53 dB stopband attenuation\n- Lower passband edge: 1.00\n- Lower transition bandwidth: 1.00 Hz (-6 dB cutoff frequency: 0.50 Hz)\n- Upper passband edge: 40.00 Hz\n- Upper transition bandwidth: 10.00 Hz (-6 dB cutoff frequency: 45.00 Hz)\n- Filter length: 529 samples (3.306 s)\n\nUsed Annotations descriptions: ['T1', 'T2']\nFiltering raw data in 1 contiguous segment\nSetting up band-pass filter from 1 - 40 Hz\n\nFIR filter parameters\n---------------------\nDesigning a one-pass, zero-phase, non-causal bandpass filter:\n- Windowed time-domain design (firwin) method\n- Hamming window with 0.0194 passband ripple and 53 dB stopband attenuation\n- Lower passband edge: 1.00\n- Lower transition bandwidth: 1.00 Hz (-6 dB cutoff frequency: 0.50 Hz)\n",
     "output_type": "stream"
    },
    {
     "name": "stderr",
     "text": "[Parallel(n_jobs=1)]: Done  17 tasks      | elapsed:    0.0s\n[Parallel(n_jobs=1)]: Done  64 out of  64 | elapsed:    0.1s finished\n[Parallel(n_jobs=1)]: Done  17 tasks      | elapsed:    0.0s\n[Parallel(n_jobs=1)]: Done  64 out of  64 | elapsed:    0.1s finished\n",
     "output_type": "stream"
    },
    {
     "name": "stdout",
     "text": "- Upper passband edge: 40.00 Hz\n- Upper transition bandwidth: 10.00 Hz (-6 dB cutoff frequency: 45.00 Hz)\n- Filter length: 529 samples (3.306 s)\n\nUsed Annotations descriptions: ['T1', 'T2']\nFiltering raw data in 1 contiguous segment\nSetting up band-pass filter from 1 - 40 Hz\n\nFIR filter parameters\n---------------------\nDesigning a one-pass, zero-phase, non-causal bandpass filter:\n- Windowed time-domain design (firwin) method\n- Hamming window with 0.0194 passband ripple and 53 dB stopband attenuation\n- Lower passband edge: 1.00\n- Lower transition bandwidth: 1.00 Hz (-6 dB cutoff frequency: 0.50 Hz)\n- Upper passband edge: 40.00 Hz\n- Upper transition bandwidth: 10.00 Hz (-6 dB cutoff frequency: 45.00 Hz)\n- Filter length: 529 samples (3.306 s)\n\nUsed Annotations descriptions: ['T1', 'T2']\nFiltering raw data in 1 contiguous segment\nSetting up band-pass filter from 1 - 40 Hz\n\nFIR filter parameters\n---------------------\nDesigning a one-pass, zero-phase, non-causal bandpass filter:\n- Windowed time-domain design (firwin) method\n- Hamming window with 0.0194 passband ripple and 53 dB stopband attenuation\n- Lower passband edge: 1.00\n- Lower transition bandwidth: 1.00 Hz (-6 dB cutoff frequency: 0.50 Hz)\n- Upper passband edge: 40.00 Hz\n- Upper transition bandwidth: 10.00 Hz (-6 dB cutoff frequency: 45.00 Hz)\n- Filter length: 529 samples (3.306 s)\n\n",
     "output_type": "stream"
    },
    {
     "name": "stderr",
     "text": "[Parallel(n_jobs=1)]: Done  17 tasks      | elapsed:    0.0s\n[Parallel(n_jobs=1)]: Done  64 out of  64 | elapsed:    0.1s finished\n[Parallel(n_jobs=1)]: Done  17 tasks      | elapsed:    0.0s\n[Parallel(n_jobs=1)]: Done  64 out of  64 | elapsed:    0.1s finished\n",
     "output_type": "stream"
    },
    {
     "name": "stdout",
     "text": "Used Annotations descriptions: ['T1', 'T2']\nFiltering raw data in 1 contiguous segment\nSetting up band-pass filter from 1 - 40 Hz\n\nFIR filter parameters\n---------------------\nDesigning a one-pass, zero-phase, non-causal bandpass filter:\n- Windowed time-domain design (firwin) method\n- Hamming window with 0.0194 passband ripple and 53 dB stopband attenuation\n- Lower passband edge: 1.00\n- Lower transition bandwidth: 1.00 Hz (-6 dB cutoff frequency: 0.50 Hz)\n- Upper passband edge: 40.00 Hz\n- Upper transition bandwidth: 10.00 Hz (-6 dB cutoff frequency: 45.00 Hz)\n- Filter length: 529 samples (3.306 s)\n\nUsed Annotations descriptions: ['T1', 'T2']\nFiltering raw data in 1 contiguous segment\nSetting up band-pass filter from 1 - 40 Hz\n\nFIR filter parameters\n---------------------\nDesigning a one-pass, zero-phase, non-causal bandpass filter:\n- Windowed time-domain design (firwin) method\n- Hamming window with 0.0194 passband ripple and 53 dB stopband attenuation\n- Lower passband edge: 1.00\n- Lower transition bandwidth: 1.00 Hz (-6 dB cutoff frequency: 0.50 Hz)\n- Upper passband edge: 40.00 Hz\n- Upper transition bandwidth: 10.00 Hz (-6 dB cutoff frequency: 45.00 Hz)\n- Filter length: 529 samples (3.306 s)\n",
     "output_type": "stream"
    },
    {
     "name": "stderr",
     "text": "[Parallel(n_jobs=1)]: Done  17 tasks      | elapsed:    0.0s\n[Parallel(n_jobs=1)]: Done  64 out of  64 | elapsed:    0.1s finished\n[Parallel(n_jobs=1)]: Done  17 tasks      | elapsed:    0.0s\n[Parallel(n_jobs=1)]: Done  64 out of  64 | elapsed:    0.1s finished\n",
     "output_type": "stream"
    },
    {
     "name": "stdout",
     "text": "\nUsed Annotations descriptions: ['T1', 'T2']\nFiltering raw data in 1 contiguous segment\nSetting up band-pass filter from 1 - 40 Hz\n\nFIR filter parameters\n---------------------\nDesigning a one-pass, zero-phase, non-causal bandpass filter:\n- Windowed time-domain design (firwin) method\n- Hamming window with 0.0194 passband ripple and 53 dB stopband attenuation\n- Lower passband edge: 1.00\n- Lower transition bandwidth: 1.00 Hz (-6 dB cutoff frequency: 0.50 Hz)\n- Upper passband edge: 40.00 Hz\n- Upper transition bandwidth: 10.00 Hz (-6 dB cutoff frequency: 45.00 Hz)\n- Filter length: 529 samples (3.306 s)\n\nUsed Annotations descriptions: ['T1', 'T2']\nFiltering raw data in 1 contiguous segment\nSetting up band-pass filter from 1 - 40 Hz\n\nFIR filter parameters\n---------------------\nDesigning a one-pass, zero-phase, non-causal bandpass filter:\n- Windowed time-domain design (firwin) method\n- Hamming window with 0.0194 passband ripple and 53 dB stopband attenuation\n- Lower passband edge: 1.00\n- Lower transition bandwidth: 1.00 Hz (-6 dB cutoff frequency: 0.50 Hz)\n- Upper passband edge: 40.00 Hz\n- Upper transition bandwidth: 10.00 Hz (-6 dB cutoff frequency: 45.00 Hz)\n- Filter length: 529 samples (3.306 s)\n\n",
     "output_type": "stream"
    },
    {
     "name": "stderr",
     "text": "[Parallel(n_jobs=1)]: Done  17 tasks      | elapsed:    0.0s\n[Parallel(n_jobs=1)]: Done  64 out of  64 | elapsed:    0.1s finished\n[Parallel(n_jobs=1)]: Done  17 tasks      | elapsed:    0.0s\n[Parallel(n_jobs=1)]: Done  64 out of  64 | elapsed:    0.1s finished\n",
     "output_type": "stream"
    },
    {
     "name": "stdout",
     "text": "Used Annotations descriptions: ['T1', 'T2']\nFiltering raw data in 1 contiguous segment\nSetting up band-pass filter from 1 - 40 Hz\n\nFIR filter parameters\n---------------------\nDesigning a one-pass, zero-phase, non-causal bandpass filter:\n- Windowed time-domain design (firwin) method\n- Hamming window with 0.0194 passband ripple and 53 dB stopband attenuation\n- Lower passband edge: 1.00\n- Lower transition bandwidth: 1.00 Hz (-6 dB cutoff frequency: 0.50 Hz)\n- Upper passband edge: 40.00 Hz\n- Upper transition bandwidth: 10.00 Hz (-6 dB cutoff frequency: 45.00 Hz)\n- Filter length: 529 samples (3.306 s)\n\nUsed Annotations descriptions: ['T1', 'T2']\nFiltering raw data in 1 contiguous segment\nSetting up band-pass filter from 1 - 40 Hz\n\nFIR filter parameters\n---------------------\nDesigning a one-pass, zero-phase, non-causal bandpass filter:\n- Windowed time-domain design (firwin) method\n- Hamming window with 0.0194 passband ripple and 53 dB stopband attenuation\n- Lower passband edge: 1.00\n- Lower transition bandwidth: 1.00 Hz (-6 dB cutoff frequency: 0.50 Hz)\n- Upper passband edge: 40.00 Hz\n- Upper transition bandwidth: 10.00 Hz (-6 dB cutoff frequency: 45.00 Hz)\n- Filter length: 529 samples (3.306 s)\n\n",
     "output_type": "stream"
    },
    {
     "name": "stderr",
     "text": "[Parallel(n_jobs=1)]: Done  17 tasks      | elapsed:    0.0s\n[Parallel(n_jobs=1)]: Done  64 out of  64 | elapsed:    0.0s finished\n[Parallel(n_jobs=1)]: Done  17 tasks      | elapsed:    0.0s\n[Parallel(n_jobs=1)]: Done  64 out of  64 | elapsed:    0.0s finished\n[Parallel(n_jobs=1)]: Done  17 tasks      | elapsed:    0.0s\n",
     "output_type": "stream"
    },
    {
     "name": "stdout",
     "text": "Used Annotations descriptions: ['T1', 'T2']\nFiltering raw data in 1 contiguous segment\nSetting up band-pass filter from 1 - 40 Hz\n\nFIR filter parameters\n---------------------\nDesigning a one-pass, zero-phase, non-causal bandpass filter:\n- Windowed time-domain design (firwin) method\n- Hamming window with 0.0194 passband ripple and 53 dB stopband attenuation\n- Lower passband edge: 1.00\n- Lower transition bandwidth: 1.00 Hz (-6 dB cutoff frequency: 0.50 Hz)\n- Upper passband edge: 40.00 Hz\n- Upper transition bandwidth: 10.00 Hz (-6 dB cutoff frequency: 45.00 Hz)\n- Filter length: 529 samples (3.306 s)\n\nUsed Annotations descriptions: ['T1', 'T2']\nFiltering raw data in 1 contiguous segment\nSetting up band-pass filter from 1 - 40 Hz\n\nFIR filter parameters\n---------------------\nDesigning a one-pass, zero-phase, non-causal bandpass filter:\n- Windowed time-domain design (firwin) method\n- Hamming window with 0.0194 passband ripple and 53 dB stopband attenuation\n- Lower passband edge: 1.00\n- Lower transition bandwidth: 1.00 Hz (-6 dB cutoff frequency: 0.50 Hz)\n- Upper passband edge: 40.00 Hz\n- Upper transition bandwidth: 10.00 Hz (-6 dB cutoff frequency: 45.00 Hz)\n- Filter length: 529 samples (3.306 s)\n\n",
     "output_type": "stream"
    },
    {
     "name": "stderr",
     "text": "[Parallel(n_jobs=1)]: Done  64 out of  64 | elapsed:    0.1s finished\n[Parallel(n_jobs=1)]: Done  17 tasks      | elapsed:    0.0s\n[Parallel(n_jobs=1)]: Done  64 out of  64 | elapsed:    0.1s finished\n[Parallel(n_jobs=1)]: Done  17 tasks      | elapsed:    0.0s\n",
     "output_type": "stream"
    },
    {
     "name": "stdout",
     "text": "Used Annotations descriptions: ['T1', 'T2']\nFiltering raw data in 1 contiguous segment\nSetting up band-pass filter from 1 - 40 Hz\n\nFIR filter parameters\n---------------------\nDesigning a one-pass, zero-phase, non-causal bandpass filter:\n- Windowed time-domain design (firwin) method\n- Hamming window with 0.0194 passband ripple and 53 dB stopband attenuation\n- Lower passband edge: 1.00\n- Lower transition bandwidth: 1.00 Hz (-6 dB cutoff frequency: 0.50 Hz)\n- Upper passband edge: 40.00 Hz\n- Upper transition bandwidth: 10.00 Hz (-6 dB cutoff frequency: 45.00 Hz)\n- Filter length: 529 samples (3.306 s)\n\nUsed Annotations descriptions: ['T1', 'T2']\nFiltering raw data in 1 contiguous segment\nSetting up band-pass filter from 1 - 40 Hz\n\nFIR filter parameters\n---------------------\nDesigning a one-pass, zero-phase, non-causal bandpass filter:\n- Windowed time-domain design (firwin) method\n- Hamming window with 0.0194 passband ripple and 53 dB stopband attenuation\n- Lower passband edge: 1.00\n- Lower transition bandwidth: 1.00 Hz (-6 dB cutoff frequency: 0.50 Hz)\n- Upper passband edge: 40.00 Hz\n- Upper transition bandwidth: 10.00 Hz (-6 dB cutoff frequency: 45.00 Hz)\n- Filter length: 529 samples (3.306 s)\n\n",
     "output_type": "stream"
    },
    {
     "name": "stderr",
     "text": "[Parallel(n_jobs=1)]: Done  64 out of  64 | elapsed:    0.1s finished\n[Parallel(n_jobs=1)]: Done  17 tasks      | elapsed:    0.0s\n[Parallel(n_jobs=1)]: Done  64 out of  64 | elapsed:    0.1s finished\n",
     "output_type": "stream"
    },
    {
     "name": "stdout",
     "text": "Used Annotations descriptions: ['T1', 'T2']\nFiltering raw data in 1 contiguous segment\nSetting up band-pass filter from 1 - 40 Hz\n\nFIR filter parameters\n---------------------\nDesigning a one-pass, zero-phase, non-causal bandpass filter:\n- Windowed time-domain design (firwin) method\n- Hamming window with 0.0194 passband ripple and 53 dB stopband attenuation\n- Lower passband edge: 1.00\n- Lower transition bandwidth: 1.00 Hz (-6 dB cutoff frequency: 0.50 Hz)\n- Upper passband edge: 40.00 Hz\n- Upper transition bandwidth: 10.00 Hz (-6 dB cutoff frequency: 45.00 Hz)\n- Filter length: 529 samples (3.306 s)\n\nUsed Annotations descriptions: ['T1', 'T2']\nFiltering raw data in 1 contiguous segment\n",
     "output_type": "stream"
    },
    {
     "name": "stderr",
     "text": "[Parallel(n_jobs=1)]: Done  17 tasks      | elapsed:    0.0s\n[Parallel(n_jobs=1)]: Done  64 out of  64 | elapsed:    0.1s finished\n[Parallel(n_jobs=1)]: Done  17 tasks      | elapsed:    0.0s\n[Parallel(n_jobs=1)]: Done  64 out of  64 | elapsed:    0.1s finished\n",
     "output_type": "stream"
    },
    {
     "name": "stdout",
     "text": "Setting up band-pass filter from 1 - 40 Hz\n\nFIR filter parameters\n---------------------\nDesigning a one-pass, zero-phase, non-causal bandpass filter:\n- Windowed time-domain design (firwin) method\n- Hamming window with 0.0194 passband ripple and 53 dB stopband attenuation\n- Lower passband edge: 1.00\n- Lower transition bandwidth: 1.00 Hz (-6 dB cutoff frequency: 0.50 Hz)\n- Upper passband edge: 40.00 Hz\n- Upper transition bandwidth: 10.00 Hz (-6 dB cutoff frequency: 45.00 Hz)\n- Filter length: 529 samples (3.306 s)\n\nUsed Annotations descriptions: ['T1', 'T2']\nFiltering raw data in 1 contiguous segment\nSetting up band-pass filter from 1 - 40 Hz\n\nFIR filter parameters\n---------------------\nDesigning a one-pass, zero-phase, non-causal bandpass filter:\n- Windowed time-domain design (firwin) method\n- Hamming window with 0.0194 passband ripple and 53 dB stopband attenuation\n- Lower passband edge: 1.00\n- Lower transition bandwidth: 1.00 Hz (-6 dB cutoff frequency: 0.50 Hz)\n- Upper passband edge: 40.00 Hz\n- Upper transition bandwidth: 10.00 Hz (-6 dB cutoff frequency: 45.00 Hz)\n- Filter length: 529 samples (3.306 s)\n\nUsed Annotations descriptions: ['T1', 'T2']\nFiltering raw data in 1 contiguous segment\nSetting up band-pass filter from 1 - 40 Hz\n\nFIR filter parameters\n---------------------\nDesigning a one-pass, zero-phase, non-causal bandpass filter:\n- Windowed time-domain design (firwin) method\n- Hamming window with 0.0194 passband ripple and 53 dB stopband attenuation\n- Lower passband edge: 1.00\n- Lower transition bandwidth: 1.00 Hz (-6 dB cutoff frequency: 0.50 Hz)\n- Upper passband edge: 40.00 Hz\n- Upper transition bandwidth: 10.00 Hz (-6 dB cutoff frequency: 45.00 Hz)\n- Filter length: 529 samples (3.306 s)\n\n",
     "output_type": "stream"
    },
    {
     "name": "stderr",
     "text": "[Parallel(n_jobs=1)]: Done  17 tasks      | elapsed:    0.0s\n[Parallel(n_jobs=1)]: Done  64 out of  64 | elapsed:    0.1s finished\n[Parallel(n_jobs=1)]: Done  17 tasks      | elapsed:    0.0s\n[Parallel(n_jobs=1)]: Done  64 out of  64 | elapsed:    0.0s finished\n",
     "output_type": "stream"
    },
    {
     "name": "stdout",
     "text": "Used Annotations descriptions: ['T1', 'T2']\nFiltering raw data in 1 contiguous segment\nSetting up band-pass filter from 1 - 40 Hz\n\nFIR filter parameters\n---------------------\nDesigning a one-pass, zero-phase, non-causal bandpass filter:\n- Windowed time-domain design (firwin) method\n- Hamming window with 0.0194 passband ripple and 53 dB stopband attenuation\n- Lower passband edge: 1.00\n- Lower transition bandwidth: 1.00 Hz (-6 dB cutoff frequency: 0.50 Hz)\n- Upper passband edge: 40.00 Hz\n- Upper transition bandwidth: 10.00 Hz (-6 dB cutoff frequency: 45.00 Hz)\n- Filter length: 529 samples (3.306 s)\n\nUsed Annotations descriptions: ['T1', 'T2']\nFiltering raw data in 1 contiguous segment\nSetting up band-pass filter from 1 - 40 Hz\n\nFIR filter parameters\n---------------------\nDesigning a one-pass, zero-phase, non-causal bandpass filter:\n- Windowed time-domain design (firwin) method\n- Hamming window with 0.0194 passband ripple and 53 dB stopband attenuation\n- Lower passband edge: 1.00\n- Lower transition bandwidth: 1.00 Hz (-6 dB cutoff frequency: 0.50 Hz)\n- Upper passband edge: 40.00 Hz\n- Upper transition bandwidth: 10.00 Hz (-6 dB cutoff frequency: 45.00 Hz)\n- Filter length: 529 samples (3.306 s)\n\n",
     "output_type": "stream"
    },
    {
     "name": "stderr",
     "text": "[Parallel(n_jobs=1)]: Done  17 tasks      | elapsed:    0.0s\n[Parallel(n_jobs=1)]: Done  64 out of  64 | elapsed:    0.1s finished\n[Parallel(n_jobs=1)]: Done  17 tasks      | elapsed:    0.0s\n[Parallel(n_jobs=1)]: Done  64 out of  64 | elapsed:    0.1s finished\n",
     "output_type": "stream"
    },
    {
     "name": "stdout",
     "text": "Used Annotations descriptions: ['T1', 'T2']\nFiltering raw data in 1 contiguous segment\nSetting up band-pass filter from 1 - 40 Hz\n\nFIR filter parameters\n---------------------\nDesigning a one-pass, zero-phase, non-causal bandpass filter:\n- Windowed time-domain design (firwin) method\n- Hamming window with 0.0194 passband ripple and 53 dB stopband attenuation\n- Lower passband edge: 1.00\n- Lower transition bandwidth: 1.00 Hz (-6 dB cutoff frequency: 0.50 Hz)\n- Upper passband edge: 40.00 Hz\n- Upper transition bandwidth: 10.00 Hz (-6 dB cutoff frequency: 45.00 Hz)\n- Filter length: 529 samples (3.306 s)\n\nUsed Annotations descriptions: ['T1', 'T2']\nFiltering raw data in 1 contiguous segment\nSetting up band-pass filter from 1 - 40 Hz\n\nFIR filter parameters\n---------------------\nDesigning a one-pass, zero-phase, non-causal bandpass filter:\n- Windowed time-domain design (firwin) method\n- Hamming window with 0.0194 passband ripple and 53 dB stopband attenuation\n- Lower passband edge: 1.00\n- Lower transition bandwidth: 1.00 Hz (-6 dB cutoff frequency: 0.50 Hz)\n- Upper passband edge: 40.00 Hz\n- Upper transition bandwidth: 10.00 Hz (-6 dB cutoff frequency: 45.00 Hz)\n- Filter length: 529 samples (3.306 s)\n\n",
     "output_type": "stream"
    },
    {
     "name": "stderr",
     "text": "[Parallel(n_jobs=1)]: Done  17 tasks      | elapsed:    0.0s\n[Parallel(n_jobs=1)]: Done  64 out of  64 | elapsed:    0.1s finished\n[Parallel(n_jobs=1)]: Done  17 tasks      | elapsed:    0.0s\n[Parallel(n_jobs=1)]: Done  64 out of  64 | elapsed:    0.1s finished\n",
     "output_type": "stream"
    },
    {
     "name": "stdout",
     "text": "Used Annotations descriptions: ['T1', 'T2']\nFiltering raw data in 1 contiguous segment\nSetting up band-pass filter from 1 - 40 Hz\n\nFIR filter parameters\n---------------------\nDesigning a one-pass, zero-phase, non-causal bandpass filter:\n- Windowed time-domain design (firwin) method\n- Hamming window with 0.0194 passband ripple and 53 dB stopband attenuation\n- Lower passband edge: 1.00\n- Lower transition bandwidth: 1.00 Hz (-6 dB cutoff frequency: 0.50 Hz)\n- Upper passband edge: 40.00 Hz\n- Upper transition bandwidth: 10.00 Hz (-6 dB cutoff frequency: 45.00 Hz)\n- Filter length: 529 samples (3.306 s)\n\nUsed Annotations descriptions: ['T1', 'T2']\nFiltering raw data in 1 contiguous segment\nSetting up band-pass filter from 1 - 40 Hz\n\nFIR filter parameters\n---------------------\nDesigning a one-pass, zero-phase, non-causal bandpass filter:\n- Windowed time-domain design (firwin) method\n- Hamming window with 0.0194 passband ripple and 53 dB stopband attenuation\n- Lower passband edge: 1.00\n- Lower transition bandwidth: 1.00 Hz (-6 dB cutoff frequency: 0.50 Hz)\n- Upper passband edge: 40.00 Hz\n- Upper transition bandwidth: 10.00 Hz (-6 dB cutoff frequency: 45.00 Hz)\n- Filter length: 529 samples (3.306 s)\n\n",
     "output_type": "stream"
    },
    {
     "name": "stderr",
     "text": "[Parallel(n_jobs=1)]: Done  17 tasks      | elapsed:    0.0s\n[Parallel(n_jobs=1)]: Done  64 out of  64 | elapsed:    0.0s finished\n[Parallel(n_jobs=1)]: Done  17 tasks      | elapsed:    0.0s\n[Parallel(n_jobs=1)]: Done  64 out of  64 | elapsed:    0.1s finished\n",
     "output_type": "stream"
    },
    {
     "name": "stdout",
     "text": "Used Annotations descriptions: ['T1', 'T2']\nFiltering raw data in 1 contiguous segment\nSetting up band-pass filter from 1 - 40 Hz\n\nFIR filter parameters\n---------------------\nDesigning a one-pass, zero-phase, non-causal bandpass filter:\n- Windowed time-domain design (firwin) method\n- Hamming window with 0.0194 passband ripple and 53 dB stopband attenuation\n- Lower passband edge: 1.00\n- Lower transition bandwidth: 1.00 Hz (-6 dB cutoff frequency: 0.50 Hz)\n- Upper passband edge: 40.00 Hz\n- Upper transition bandwidth: 10.00 Hz (-6 dB cutoff frequency: 45.00 Hz)\n- Filter length: 529 samples (3.306 s)\n\nUsed Annotations descriptions: ['T1', 'T2']\nFiltering raw data in 1 contiguous segment\nSetting up band-pass filter from 1 - 40 Hz\n\nFIR filter parameters\n---------------------\nDesigning a one-pass, zero-phase, non-causal bandpass filter:\n- Windowed time-domain design (firwin) method\n- Hamming window with 0.0194 passband ripple and 53 dB stopband attenuation\n- Lower passband edge: 1.00\n- Lower transition bandwidth: 1.00 Hz (-6 dB cutoff frequency: 0.50 Hz)\n- Upper passband edge: 40.00 Hz\n- Upper transition bandwidth: 10.00 Hz (-6 dB cutoff frequency: 45.00 Hz)\n- Filter length: 529 samples (3.306 s)\n\n",
     "output_type": "stream"
    },
    {
     "name": "stderr",
     "text": "[Parallel(n_jobs=1)]: Done  17 tasks      | elapsed:    0.0s\n[Parallel(n_jobs=1)]: Done  64 out of  64 | elapsed:    0.1s finished\n[Parallel(n_jobs=1)]: Done  17 tasks      | elapsed:    0.0s\n[Parallel(n_jobs=1)]: Done  64 out of  64 | elapsed:    0.0s finished\n",
     "output_type": "stream"
    },
    {
     "name": "stdout",
     "text": "Used Annotations descriptions: ['T1', 'T2']\nFiltering raw data in 1 contiguous segment\nSetting up band-pass filter from 1 - 40 Hz\n\nFIR filter parameters\n---------------------\nDesigning a one-pass, zero-phase, non-causal bandpass filter:\n- Windowed time-domain design (firwin) method\n- Hamming window with 0.0194 passband ripple and 53 dB stopband attenuation\n- Lower passband edge: 1.00\n- Lower transition bandwidth: 1.00 Hz (-6 dB cutoff frequency: 0.50 Hz)\n- Upper passband edge: 40.00 Hz\n- Upper transition bandwidth: 10.00 Hz (-6 dB cutoff frequency: 45.00 Hz)\n- Filter length: 529 samples (3.306 s)\n\nUsed Annotations descriptions: ['T1', 'T2']\nFiltering raw data in 1 contiguous segment\nSetting up band-pass filter from 1 - 40 Hz\n\nFIR filter parameters\n---------------------\nDesigning a one-pass, zero-phase, non-causal bandpass filter:\n- Windowed time-domain design (firwin) method\n- Hamming window with 0.0194 passband ripple and 53 dB stopband attenuation\n- Lower passband edge: 1.00\n- Lower transition bandwidth: 1.00 Hz (-6 dB cutoff frequency: 0.50 Hz)\n- Upper passband edge: 40.00 Hz\n- Upper transition bandwidth: 10.00 Hz (-6 dB cutoff frequency: 45.00 Hz)\n- Filter length: 529 samples (3.306 s)\n\n",
     "output_type": "stream"
    },
    {
     "name": "stderr",
     "text": "[Parallel(n_jobs=1)]: Done  17 tasks      | elapsed:    0.0s\n[Parallel(n_jobs=1)]: Done  64 out of  64 | elapsed:    0.0s finished\n[Parallel(n_jobs=1)]: Done  17 tasks      | elapsed:    0.0s\n[Parallel(n_jobs=1)]: Done  64 out of  64 | elapsed:    0.0s finished\n",
     "output_type": "stream"
    },
    {
     "name": "stdout",
     "text": "Used Annotations descriptions: ['T1', 'T2']\nFiltering raw data in 1 contiguous segment\nSetting up band-pass filter from 1 - 40 Hz\n\nFIR filter parameters\n---------------------\nDesigning a one-pass, zero-phase, non-causal bandpass filter:\n- Windowed time-domain design (firwin) method\n- Hamming window with 0.0194 passband ripple and 53 dB stopband attenuation\n- Lower passband edge: 1.00\n- Lower transition bandwidth: 1.00 Hz (-6 dB cutoff frequency: 0.50 Hz)\n- Upper passband edge: 40.00 Hz\n- Upper transition bandwidth: 10.00 Hz (-6 dB cutoff frequency: 45.00 Hz)\n- Filter length: 529 samples (3.306 s)\n\nUsed Annotations descriptions: ['T1', 'T2']\nFiltering raw data in 1 contiguous segment\nSetting up band-pass filter from 1 - 40 Hz\n\nFIR filter parameters\n---------------------\nDesigning a one-pass, zero-phase, non-causal bandpass filter:\n- Windowed time-domain design (firwin) method\n- Hamming window with 0.0194 passband ripple and 53 dB stopband attenuation\n- Lower passband edge: 1.00\n- Lower transition bandwidth: 1.00 Hz (-6 dB cutoff frequency: 0.50 Hz)\n- Upper passband edge: 40.00 Hz\n- Upper transition bandwidth: 10.00 Hz (-6 dB cutoff frequency: 45.00 Hz)\n- Filter length: 529 samples (3.306 s)\n\n",
     "output_type": "stream"
    },
    {
     "name": "stderr",
     "text": "[Parallel(n_jobs=1)]: Done  17 tasks      | elapsed:    0.0s\n[Parallel(n_jobs=1)]: Done  64 out of  64 | elapsed:    0.1s finished\n[Parallel(n_jobs=1)]: Done  17 tasks      | elapsed:    0.0s\n[Parallel(n_jobs=1)]: Done  64 out of  64 | elapsed:    0.1s finished\n",
     "output_type": "stream"
    },
    {
     "name": "stdout",
     "text": "Used Annotations descriptions: ['T1', 'T2']\nFiltering raw data in 1 contiguous segment\nSetting up band-pass filter from 1 - 40 Hz\n\nFIR filter parameters\n---------------------\nDesigning a one-pass, zero-phase, non-causal bandpass filter:\n- Windowed time-domain design (firwin) method\n- Hamming window with 0.0194 passband ripple and 53 dB stopband attenuation\n- Lower passband edge: 1.00\n- Lower transition bandwidth: 1.00 Hz (-6 dB cutoff frequency: 0.50 Hz)\n- Upper passband edge: 40.00 Hz\n- Upper transition bandwidth: 10.00 Hz (-6 dB cutoff frequency: 45.00 Hz)\n- Filter length: 529 samples (3.306 s)\n\nUsed Annotations descriptions: ['T1', 'T2']\nFiltering raw data in 1 contiguous segment\nSetting up band-pass filter from 1 - 40 Hz\n\nFIR filter parameters\n---------------------\nDesigning a one-pass, zero-phase, non-causal bandpass filter:\n- Windowed time-domain design (firwin) method\n- Hamming window with 0.0194 passband ripple and 53 dB stopband attenuation\n- Lower passband edge: 1.00\n- Lower transition bandwidth: 1.00 Hz (-6 dB cutoff frequency: 0.50 Hz)\n- Upper passband edge: 40.00 Hz\n- Upper transition bandwidth: 10.00 Hz (-6 dB cutoff frequency: 45.00 Hz)\n- Filter length: 529 samples (3.306 s)\n\n",
     "output_type": "stream"
    },
    {
     "name": "stderr",
     "text": "[Parallel(n_jobs=1)]: Done  17 tasks      | elapsed:    0.0s\n[Parallel(n_jobs=1)]: Done  64 out of  64 | elapsed:    0.1s finished\n[Parallel(n_jobs=1)]: Done  17 tasks      | elapsed:    0.0s\n[Parallel(n_jobs=1)]: Done  64 out of  64 | elapsed:    0.0s finished\n",
     "output_type": "stream"
    },
    {
     "name": "stdout",
     "text": "Used Annotations descriptions: ['T1', 'T2']\nFiltering raw data in 1 contiguous segment\nSetting up band-pass filter from 1 - 40 Hz\n\nFIR filter parameters\n---------------------\nDesigning a one-pass, zero-phase, non-causal bandpass filter:\n- Windowed time-domain design (firwin) method\n- Hamming window with 0.0194 passband ripple and 53 dB stopband attenuation\n- Lower passband edge: 1.00\n- Lower transition bandwidth: 1.00 Hz (-6 dB cutoff frequency: 0.50 Hz)\n- Upper passband edge: 40.00 Hz\n- Upper transition bandwidth: 10.00 Hz (-6 dB cutoff frequency: 45.00 Hz)\n- Filter length: 529 samples (3.306 s)\n\nUsed Annotations descriptions: ['T1', 'T2']\nFiltering raw data in 1 contiguous segment\nSetting up band-pass filter from 1 - 40 Hz\n\nFIR filter parameters\n---------------------\nDesigning a one-pass, zero-phase, non-causal bandpass filter:\n",
     "output_type": "stream"
    },
    {
     "name": "stderr",
     "text": "[Parallel(n_jobs=1)]: Done  17 tasks      | elapsed:    0.0s\n[Parallel(n_jobs=1)]: Done  64 out of  64 | elapsed:    0.1s finished\n[Parallel(n_jobs=1)]: Done  17 tasks      | elapsed:    0.0s\n[Parallel(n_jobs=1)]: Done  64 out of  64 | elapsed:    0.0s finished\n",
     "output_type": "stream"
    },
    {
     "name": "stdout",
     "text": "- Windowed time-domain design (firwin) method\n- Hamming window with 0.0194 passband ripple and 53 dB stopband attenuation\n- Lower passband edge: 1.00\n- Lower transition bandwidth: 1.00 Hz (-6 dB cutoff frequency: 0.50 Hz)\n- Upper passband edge: 40.00 Hz\n- Upper transition bandwidth: 10.00 Hz (-6 dB cutoff frequency: 45.00 Hz)\n- Filter length: 529 samples (3.306 s)\n\nUsed Annotations descriptions: ['T1', 'T2']\nFiltering raw data in 1 contiguous segment\nSetting up band-pass filter from 1 - 40 Hz\n\nFIR filter parameters\n---------------------\nDesigning a one-pass, zero-phase, non-causal bandpass filter:\n- Windowed time-domain design (firwin) method\n- Hamming window with 0.0194 passband ripple and 53 dB stopband attenuation\n- Lower passband edge: 1.00\n- Lower transition bandwidth: 1.00 Hz (-6 dB cutoff frequency: 0.50 Hz)\n- Upper passband edge: 40.00 Hz\n- Upper transition bandwidth: 10.00 Hz (-6 dB cutoff frequency: 45.00 Hz)\n- Filter length: 529 samples (3.306 s)\n\nUsed Annotations descriptions: ['T1', 'T2']\nFiltering raw data in 1 contiguous segment\nSetting up band-pass filter from 1 - 40 Hz\n\nFIR filter parameters\n---------------------\nDesigning a one-pass, zero-phase, non-causal bandpass filter:\n- Windowed time-domain design (firwin) method\n- Hamming window with 0.0194 passband ripple and 53 dB stopband attenuation\n- Lower passband edge: 1.00\n- Lower transition bandwidth: 1.00 Hz (-6 dB cutoff frequency: 0.50 Hz)\n- Upper passband edge: 40.00 Hz\n- Upper transition bandwidth: 10.00 Hz (-6 dB cutoff frequency: 45.00 Hz)\n- Filter length: 529 samples (3.306 s)\n\n",
     "output_type": "stream"
    },
    {
     "name": "stderr",
     "text": "[Parallel(n_jobs=1)]: Done  17 tasks      | elapsed:    0.0s\n[Parallel(n_jobs=1)]: Done  64 out of  64 | elapsed:    0.0s finished\n[Parallel(n_jobs=1)]: Done  17 tasks      | elapsed:    0.0s\n[Parallel(n_jobs=1)]: Done  64 out of  64 | elapsed:    0.1s finished\n",
     "output_type": "stream"
    },
    {
     "name": "stdout",
     "text": "Used Annotations descriptions: ['T1', 'T2']\nFiltering raw data in 1 contiguous segment\nSetting up band-pass filter from 1 - 40 Hz\n\nFIR filter parameters\n---------------------\nDesigning a one-pass, zero-phase, non-causal bandpass filter:\n- Windowed time-domain design (firwin) method\n- Hamming window with 0.0194 passband ripple and 53 dB stopband attenuation\n- Lower passband edge: 1.00\n- Lower transition bandwidth: 1.00 Hz (-6 dB cutoff frequency: 0.50 Hz)\n- Upper passband edge: 40.00 Hz\n- Upper transition bandwidth: 10.00 Hz (-6 dB cutoff frequency: 45.00 Hz)\n- Filter length: 529 samples (3.306 s)\n\nUsed Annotations descriptions: ['T1', 'T2']\n",
     "output_type": "stream"
    },
    {
     "name": "stderr",
     "text": "[Parallel(n_jobs=1)]: Done  17 tasks      | elapsed:    0.0s\n[Parallel(n_jobs=1)]: Done  64 out of  64 | elapsed:    0.1s finished\n[Parallel(n_jobs=1)]: Done  17 tasks      | elapsed:    0.0s\n[Parallel(n_jobs=1)]: Done  64 out of  64 | elapsed:    0.1s finished\n",
     "output_type": "stream"
    },
    {
     "name": "stdout",
     "text": "Filtering raw data in 1 contiguous segment\nSetting up band-pass filter from 1 - 40 Hz\n\nFIR filter parameters\n---------------------\nDesigning a one-pass, zero-phase, non-causal bandpass filter:\n- Windowed time-domain design (firwin) method\n- Hamming window with 0.0194 passband ripple and 53 dB stopband attenuation\n- Lower passband edge: 1.00\n- Lower transition bandwidth: 1.00 Hz (-6 dB cutoff frequency: 0.50 Hz)\n- Upper passband edge: 40.00 Hz\n- Upper transition bandwidth: 10.00 Hz (-6 dB cutoff frequency: 45.00 Hz)\n- Filter length: 529 samples (3.306 s)\n\nUsed Annotations descriptions: ['T1', 'T2']\nFiltering raw data in 1 contiguous segment\nSetting up band-pass filter from 1 - 40 Hz\n\nFIR filter parameters\n---------------------\nDesigning a one-pass, zero-phase, non-causal bandpass filter:\n- Windowed time-domain design (firwin) method\n- Hamming window with 0.0194 passband ripple and 53 dB stopband attenuation\n- Lower passband edge: 1.00\n- Lower transition bandwidth: 1.00 Hz (-6 dB cutoff frequency: 0.50 Hz)\n- Upper passband edge: 40.00 Hz\n- Upper transition bandwidth: 10.00 Hz (-6 dB cutoff frequency: 45.00 Hz)\n- Filter length: 529 samples (3.306 s)\n\nUsed Annotations descriptions: ['T1', 'T2']\nFiltering raw data in 1 contiguous segment\nSetting up band-pass filter from 1 - 40 Hz\n\nFIR filter parameters\n---------------------\nDesigning a one-pass, zero-phase, non-causal bandpass filter:\n- Windowed time-domain design (firwin) method\n",
     "output_type": "stream"
    },
    {
     "name": "stderr",
     "text": "[Parallel(n_jobs=1)]: Done  17 tasks      | elapsed:    0.0s\n[Parallel(n_jobs=1)]: Done  64 out of  64 | elapsed:    0.1s finished\n[Parallel(n_jobs=1)]: Done  17 tasks      | elapsed:    0.0s\n[Parallel(n_jobs=1)]: Done  64 out of  64 | elapsed:    0.1s finished\n",
     "output_type": "stream"
    },
    {
     "name": "stdout",
     "text": "- Hamming window with 0.0194 passband ripple and 53 dB stopband attenuation\n- Lower passband edge: 1.00\n- Lower transition bandwidth: 1.00 Hz (-6 dB cutoff frequency: 0.50 Hz)\n- Upper passband edge: 40.00 Hz\n- Upper transition bandwidth: 10.00 Hz (-6 dB cutoff frequency: 45.00 Hz)\n- Filter length: 529 samples (3.306 s)\n\nUsed Annotations descriptions: ['T1', 'T2']\nFiltering raw data in 1 contiguous segment\nSetting up band-pass filter from 1 - 40 Hz\n\nFIR filter parameters\n---------------------\nDesigning a one-pass, zero-phase, non-causal bandpass filter:\n- Windowed time-domain design (firwin) method\n- Hamming window with 0.0194 passband ripple and 53 dB stopband attenuation\n- Lower passband edge: 1.00\n- Lower transition bandwidth: 1.00 Hz (-6 dB cutoff frequency: 0.50 Hz)\n- Upper passband edge: 40.00 Hz\n- Upper transition bandwidth: 10.00 Hz (-6 dB cutoff frequency: 45.00 Hz)\n- Filter length: 529 samples (3.306 s)\n\nUsed Annotations descriptions: ['T1', 'T2']\nFiltering raw data in 1 contiguous segment\nSetting up band-pass filter from 1 - 40 Hz\n\nFIR filter parameters\n---------------------\nDesigning a one-pass, zero-phase, non-causal bandpass filter:\n- Windowed time-domain design (firwin) method\n- Hamming window with 0.0194 passband ripple and 53 dB stopband attenuation\n- Lower passband edge: 1.00\n- Lower transition bandwidth: 1.00 Hz (-6 dB cutoff frequency: 0.50 Hz)\n- Upper passband edge: 40.00 Hz\n",
     "output_type": "stream"
    },
    {
     "name": "stderr",
     "text": "[Parallel(n_jobs=1)]: Done  17 tasks      | elapsed:    0.0s\n[Parallel(n_jobs=1)]: Done  64 out of  64 | elapsed:    0.1s finished\n[Parallel(n_jobs=1)]: Done  17 tasks      | elapsed:    0.0s\n[Parallel(n_jobs=1)]: Done  64 out of  64 | elapsed:    0.1s finished\n",
     "output_type": "stream"
    },
    {
     "name": "stdout",
     "text": "- Upper transition bandwidth: 10.00 Hz (-6 dB cutoff frequency: 45.00 Hz)\n- Filter length: 529 samples (3.306 s)\n\nUsed Annotations descriptions: ['T1', 'T2']\nFiltering raw data in 1 contiguous segment\nSetting up band-pass filter from 1 - 40 Hz\n\nFIR filter parameters\n---------------------\nDesigning a one-pass, zero-phase, non-causal bandpass filter:\n- Windowed time-domain design (firwin) method\n- Hamming window with 0.0194 passband ripple and 53 dB stopband attenuation\n- Lower passband edge: 1.00\n- Lower transition bandwidth: 1.00 Hz (-6 dB cutoff frequency: 0.50 Hz)\n- Upper passband edge: 40.00 Hz\n- Upper transition bandwidth: 10.00 Hz (-6 dB cutoff frequency: 45.00 Hz)\n- Filter length: 529 samples (3.306 s)\n\nUsed Annotations descriptions: ['T1', 'T2']\nFiltering raw data in 1 contiguous segment\nSetting up band-pass filter from 1 - 40 Hz\n\nFIR filter parameters\n---------------------\nDesigning a one-pass, zero-phase, non-causal bandpass filter:\n- Windowed time-domain design (firwin) method\n- Hamming window with 0.0194 passband ripple and 53 dB stopband attenuation\n- Lower passband edge: 1.00\n- Lower transition bandwidth: 1.00 Hz (-6 dB cutoff frequency: 0.50 Hz)\n- Upper passband edge: 40.00 Hz\n- Upper transition bandwidth: 10.00 Hz (-6 dB cutoff frequency: 45.00 Hz)\n- Filter length: 529 samples (3.306 s)\n\n",
     "output_type": "stream"
    },
    {
     "name": "stderr",
     "text": "[Parallel(n_jobs=1)]: Done  17 tasks      | elapsed:    0.0s\n[Parallel(n_jobs=1)]: Done  64 out of  64 | elapsed:    0.1s finished\n[Parallel(n_jobs=1)]: Done  17 tasks      | elapsed:    0.0s\n[Parallel(n_jobs=1)]: Done  64 out of  64 | elapsed:    0.0s finished\n",
     "output_type": "stream"
    },
    {
     "name": "stdout",
     "text": "Used Annotations descriptions: ['T1', 'T2']\nFiltering raw data in 1 contiguous segment\nSetting up band-pass filter from 1 - 40 Hz\n\nFIR filter parameters\n---------------------\nDesigning a one-pass, zero-phase, non-causal bandpass filter:\n- Windowed time-domain design (firwin) method\n- Hamming window with 0.0194 passband ripple and 53 dB stopband attenuation\n- Lower passband edge: 1.00\n- Lower transition bandwidth: 1.00 Hz (-6 dB cutoff frequency: 0.50 Hz)\n- Upper passband edge: 40.00 Hz\n- Upper transition bandwidth: 10.00 Hz (-6 dB cutoff frequency: 45.00 Hz)\n- Filter length: 529 samples (3.306 s)\n\nUsed Annotations descriptions: ['T1', 'T2']\nFiltering raw data in 1 contiguous segment\nSetting up band-pass filter from 1 - 40 Hz\n\nFIR filter parameters\n---------------------\nDesigning a one-pass, zero-phase, non-causal bandpass filter:\n- Windowed time-domain design (firwin) method\n- Hamming window with 0.0194 passband ripple and 53 dB stopband attenuation\n- Lower passband edge: 1.00\n- Lower transition bandwidth: 1.00 Hz (-6 dB cutoff frequency: 0.50 Hz)\n- Upper passband edge: 40.00 Hz\n- Upper transition bandwidth: 10.00 Hz (-6 dB cutoff frequency: 45.00 Hz)\n- Filter length: 529 samples (3.306 s)\n\n",
     "output_type": "stream"
    },
    {
     "name": "stderr",
     "text": "[Parallel(n_jobs=1)]: Done  17 tasks      | elapsed:    0.0s\n[Parallel(n_jobs=1)]: Done  64 out of  64 | elapsed:    0.1s finished\n[Parallel(n_jobs=1)]: Done  17 tasks      | elapsed:    0.0s\n[Parallel(n_jobs=1)]: Done  64 out of  64 | elapsed:    0.0s finished\n",
     "output_type": "stream"
    },
    {
     "name": "stdout",
     "text": "Used Annotations descriptions: ['T1', 'T2']\nFiltering raw data in 1 contiguous segment\nSetting up band-pass filter from 1 - 40 Hz\n\nFIR filter parameters\n---------------------\nDesigning a one-pass, zero-phase, non-causal bandpass filter:\n- Windowed time-domain design (firwin) method\n- Hamming window with 0.0194 passband ripple and 53 dB stopband attenuation\n- Lower passband edge: 1.00\n- Lower transition bandwidth: 1.00 Hz (-6 dB cutoff frequency: 0.50 Hz)\n- Upper passband edge: 40.00 Hz\n- Upper transition bandwidth: 10.00 Hz (-6 dB cutoff frequency: 45.00 Hz)\n- Filter length: 529 samples (3.306 s)\n\nUsed Annotations descriptions: ['T1', 'T2']\nFiltering raw data in 1 contiguous segment\nSetting up band-pass filter from 1 - 40 Hz\n\nFIR filter parameters\n---------------------\nDesigning a one-pass, zero-phase, non-causal bandpass filter:\n- Windowed time-domain design (firwin) method\n- Hamming window with 0.0194 passband ripple and 53 dB stopband attenuation\n- Lower passband edge: 1.00\n- Lower transition bandwidth: 1.00 Hz (-6 dB cutoff frequency: 0.50 Hz)\n- Upper passband edge: 40.00 Hz\n- Upper transition bandwidth: 10.00 Hz (-6 dB cutoff frequency: 45.00 Hz)\n- Filter length: 529 samples (3.306 s)\n\n",
     "output_type": "stream"
    },
    {
     "name": "stderr",
     "text": "[Parallel(n_jobs=1)]: Done  17 tasks      | elapsed:    0.0s\n[Parallel(n_jobs=1)]: Done  64 out of  64 | elapsed:    0.1s finished\n[Parallel(n_jobs=1)]: Done  17 tasks      | elapsed:    0.0s\n[Parallel(n_jobs=1)]: Done  64 out of  64 | elapsed:    0.0s finished\n",
     "output_type": "stream"
    },
    {
     "name": "stdout",
     "text": "Used Annotations descriptions: ['T1', 'T2']\nFiltering raw data in 1 contiguous segment\nSetting up band-pass filter from 1 - 40 Hz\n\nFIR filter parameters\n---------------------\nDesigning a one-pass, zero-phase, non-causal bandpass filter:\n- Windowed time-domain design (firwin) method\n- Hamming window with 0.0194 passband ripple and 53 dB stopband attenuation\n- Lower passband edge: 1.00\n- Lower transition bandwidth: 1.00 Hz (-6 dB cutoff frequency: 0.50 Hz)\n- Upper passband edge: 40.00 Hz\n- Upper transition bandwidth: 10.00 Hz (-6 dB cutoff frequency: 45.00 Hz)\n- Filter length: 529 samples (3.306 s)\n\nUsed Annotations descriptions: ['T1', 'T2']\n",
     "output_type": "stream"
    },
    {
     "name": "stderr",
     "text": "[Parallel(n_jobs=1)]: Done  17 tasks      | elapsed:    0.0s\n[Parallel(n_jobs=1)]: Done  64 out of  64 | elapsed:    0.1s finished\n[Parallel(n_jobs=1)]: Done  17 tasks      | elapsed:    0.0s\n[Parallel(n_jobs=1)]: Done  64 out of  64 | elapsed:    0.1s finished\n",
     "output_type": "stream"
    },
    {
     "name": "stdout",
     "text": "Filtering raw data in 1 contiguous segment\nSetting up band-pass filter from 1 - 40 Hz\n\nFIR filter parameters\n---------------------\nDesigning a one-pass, zero-phase, non-causal bandpass filter:\n- Windowed time-domain design (firwin) method\n- Hamming window with 0.0194 passband ripple and 53 dB stopband attenuation\n- Lower passband edge: 1.00\n- Lower transition bandwidth: 1.00 Hz (-6 dB cutoff frequency: 0.50 Hz)\n- Upper passband edge: 40.00 Hz\n- Upper transition bandwidth: 10.00 Hz (-6 dB cutoff frequency: 45.00 Hz)\n- Filter length: 529 samples (3.306 s)\n\nUsed Annotations descriptions: ['T1', 'T2']\nFiltering raw data in 1 contiguous segment\nSetting up band-pass filter from 1 - 40 Hz\n\nFIR filter parameters\n---------------------\nDesigning a one-pass, zero-phase, non-causal bandpass filter:\n- Windowed time-domain design (firwin) method\n- Hamming window with 0.0194 passband ripple and 53 dB stopband attenuation\n- Lower passband edge: 1.00\n- Lower transition bandwidth: 1.00 Hz (-6 dB cutoff frequency: 0.50 Hz)\n- Upper passband edge: 40.00 Hz\n- Upper transition bandwidth: 10.00 Hz (-6 dB cutoff frequency: 45.00 Hz)\n- Filter length: 529 samples (3.306 s)\n\nUsed Annotations descriptions: ['T1', 'T2']\n",
     "output_type": "stream"
    },
    {
     "name": "stderr",
     "text": "[Parallel(n_jobs=1)]: Done  17 tasks      | elapsed:    0.0s\n[Parallel(n_jobs=1)]: Done  64 out of  64 | elapsed:    0.1s finished\n[Parallel(n_jobs=1)]: Done  17 tasks      | elapsed:    0.0s\n[Parallel(n_jobs=1)]: Done  64 out of  64 | elapsed:    0.1s finished\n",
     "output_type": "stream"
    },
    {
     "name": "stdout",
     "text": "Filtering raw data in 1 contiguous segment\nSetting up band-pass filter from 1 - 40 Hz\n\nFIR filter parameters\n---------------------\nDesigning a one-pass, zero-phase, non-causal bandpass filter:\n- Windowed time-domain design (firwin) method\n- Hamming window with 0.0194 passband ripple and 53 dB stopband attenuation\n- Lower passband edge: 1.00\n- Lower transition bandwidth: 1.00 Hz (-6 dB cutoff frequency: 0.50 Hz)\n- Upper passband edge: 40.00 Hz\n- Upper transition bandwidth: 10.00 Hz (-6 dB cutoff frequency: 45.00 Hz)\n- Filter length: 529 samples (3.306 s)\n\nUsed Annotations descriptions: ['T1', 'T2']\nFiltering raw data in 1 contiguous segment\nSetting up band-pass filter from 1 - 40 Hz\n\nFIR filter parameters\n---------------------\nDesigning a one-pass, zero-phase, non-causal bandpass filter:\n- Windowed time-domain design (firwin) method\n- Hamming window with 0.0194 passband ripple and 53 dB stopband attenuation\n- Lower passband edge: 1.00\n- Lower transition bandwidth: 1.00 Hz (-6 dB cutoff frequency: 0.50 Hz)\n- Upper passband edge: 40.00 Hz\n- Upper transition bandwidth: 10.00 Hz (-6 dB cutoff frequency: 45.00 Hz)\n- Filter length: 529 samples (3.306 s)\n\nUsed Annotations descriptions: ['T1', 'T2']\n",
     "output_type": "stream"
    },
    {
     "name": "stderr",
     "text": "[Parallel(n_jobs=1)]: Done  17 tasks      | elapsed:    0.0s\n[Parallel(n_jobs=1)]: Done  64 out of  64 | elapsed:    0.1s finished\n[Parallel(n_jobs=1)]: Done  17 tasks      | elapsed:    0.0s\n[Parallel(n_jobs=1)]: Done  64 out of  64 | elapsed:    0.1s finished\n",
     "output_type": "stream"
    },
    {
     "name": "stdout",
     "text": "Filtering raw data in 1 contiguous segment\nSetting up band-pass filter from 1 - 40 Hz\n\nFIR filter parameters\n---------------------\nDesigning a one-pass, zero-phase, non-causal bandpass filter:\n- Windowed time-domain design (firwin) method\n- Hamming window with 0.0194 passband ripple and 53 dB stopband attenuation\n- Lower passband edge: 1.00\n- Lower transition bandwidth: 1.00 Hz (-6 dB cutoff frequency: 0.50 Hz)\n- Upper passband edge: 40.00 Hz\n- Upper transition bandwidth: 10.00 Hz (-6 dB cutoff frequency: 45.00 Hz)\n- Filter length: 529 samples (3.306 s)\n\nUsed Annotations descriptions: ['T1', 'T2']\nFiltering raw data in 1 contiguous segment\nSetting up band-pass filter from 1 - 40 Hz\n\nFIR filter parameters\n---------------------\nDesigning a one-pass, zero-phase, non-causal bandpass filter:\n- Windowed time-domain design (firwin) method\n- Hamming window with 0.0194 passband ripple and 53 dB stopband attenuation\n- Lower passband edge: 1.00\n- Lower transition bandwidth: 1.00 Hz (-6 dB cutoff frequency: 0.50 Hz)\n- Upper passband edge: 40.00 Hz\n- Upper transition bandwidth: 10.00 Hz (-6 dB cutoff frequency: 45.00 Hz)\n- Filter length: 529 samples (3.306 s)\n\nUsed Annotations descriptions: ['T1', 'T2']\nFiltering raw data in 1 contiguous segment\nSetting up band-pass filter from 1 - 40 Hz\n\nFIR filter parameters\n---------------------\nDesigning a one-pass, zero-phase, non-causal bandpass filter:\n- Windowed time-domain design (firwin) method\n- Hamming window with 0.0194 passband ripple and 53 dB stopband attenuation\n- Lower passband edge: 1.00\n- Lower transition bandwidth: 1.00 Hz (-6 dB cutoff frequency: 0.50 Hz)\n- Upper passband edge: 40.00 Hz\n- Upper transition bandwidth: 10.00 Hz (-6 dB cutoff frequency: 45.00 Hz)\n- Filter length: 529 samples (3.306 s)\n\n",
     "output_type": "stream"
    },
    {
     "name": "stderr",
     "text": "[Parallel(n_jobs=1)]: Done  17 tasks      | elapsed:    0.0s\n[Parallel(n_jobs=1)]: Done  64 out of  64 | elapsed:    0.1s finished\n[Parallel(n_jobs=1)]: Done  17 tasks      | elapsed:    0.0s\n[Parallel(n_jobs=1)]: Done  64 out of  64 | elapsed:    0.0s finished\n",
     "output_type": "stream"
    },
    {
     "name": "stdout",
     "text": "Used Annotations descriptions: ['T1', 'T2']\nFiltering raw data in 1 contiguous segment\nSetting up band-pass filter from 1 - 40 Hz\n\nFIR filter parameters\n---------------------\nDesigning a one-pass, zero-phase, non-causal bandpass filter:\n- Windowed time-domain design (firwin) method\n- Hamming window with 0.0194 passband ripple and 53 dB stopband attenuation\n- Lower passband edge: 1.00\n- Lower transition bandwidth: 1.00 Hz (-6 dB cutoff frequency: 0.50 Hz)\n- Upper passband edge: 40.00 Hz\n- Upper transition bandwidth: 10.00 Hz (-6 dB cutoff frequency: 45.00 Hz)\n- Filter length: 529 samples (3.306 s)\n\nUsed Annotations descriptions: ['T1', 'T2']\nFiltering raw data in 1 contiguous segment\nSetting up band-pass filter from 1 - 40 Hz\n\nFIR filter parameters\n---------------------\nDesigning a one-pass, zero-phase, non-causal bandpass filter:\n",
     "output_type": "stream"
    },
    {
     "name": "stderr",
     "text": "[Parallel(n_jobs=1)]: Done  17 tasks      | elapsed:    0.0s\n[Parallel(n_jobs=1)]: Done  64 out of  64 | elapsed:    0.1s finished\n[Parallel(n_jobs=1)]: Done  17 tasks      | elapsed:    0.0s\n[Parallel(n_jobs=1)]: Done  64 out of  64 | elapsed:    0.1s finished\n",
     "output_type": "stream"
    },
    {
     "name": "stdout",
     "text": "- Windowed time-domain design (firwin) method\n- Hamming window with 0.0194 passband ripple and 53 dB stopband attenuation\n- Lower passband edge: 1.00\n- Lower transition bandwidth: 1.00 Hz (-6 dB cutoff frequency: 0.50 Hz)\n- Upper passband edge: 40.00 Hz\n- Upper transition bandwidth: 10.00 Hz (-6 dB cutoff frequency: 45.00 Hz)\n- Filter length: 529 samples (3.306 s)\n\nUsed Annotations descriptions: ['T1', 'T2']\nFiltering raw data in 1 contiguous segment\nSetting up band-pass filter from 1 - 40 Hz\n\nFIR filter parameters\n---------------------\nDesigning a one-pass, zero-phase, non-causal bandpass filter:\n- Windowed time-domain design (firwin) method\n- Hamming window with 0.0194 passband ripple and 53 dB stopband attenuation\n- Lower passband edge: 1.00\n- Lower transition bandwidth: 1.00 Hz (-6 dB cutoff frequency: 0.50 Hz)\n- Upper passband edge: 40.00 Hz\n- Upper transition bandwidth: 10.00 Hz (-6 dB cutoff frequency: 45.00 Hz)\n- Filter length: 529 samples (3.306 s)\n\nUsed Annotations descriptions: ['T1', 'T2']\nFiltering raw data in 1 contiguous segment\nSetting up band-pass filter from 1 - 40 Hz\n\nFIR filter parameters\n---------------------\nDesigning a one-pass, zero-phase, non-causal bandpass filter:\n- Windowed time-domain design (firwin) method\n- Hamming window with 0.0194 passband ripple and 53 dB stopband attenuation\n- Lower passband edge: 1.00\n- Lower transition bandwidth: 1.00 Hz (-6 dB cutoff frequency: 0.50 Hz)\n- Upper passband edge: 40.00 Hz\n",
     "output_type": "stream"
    },
    {
     "name": "stderr",
     "text": "[Parallel(n_jobs=1)]: Done  17 tasks      | elapsed:    0.0s\n[Parallel(n_jobs=1)]: Done  64 out of  64 | elapsed:    0.0s finished\n[Parallel(n_jobs=1)]: Done  17 tasks      | elapsed:    0.0s\n[Parallel(n_jobs=1)]: Done  64 out of  64 | elapsed:    0.1s finished\n",
     "output_type": "stream"
    },
    {
     "name": "stdout",
     "text": "- Upper transition bandwidth: 10.00 Hz (-6 dB cutoff frequency: 45.00 Hz)\n- Filter length: 529 samples (3.306 s)\n\nUsed Annotations descriptions: ['T1', 'T2']\nFiltering raw data in 1 contiguous segment\nSetting up band-pass filter from 1 - 40 Hz\n\nFIR filter parameters\n---------------------\nDesigning a one-pass, zero-phase, non-causal bandpass filter:\n- Windowed time-domain design (firwin) method\n- Hamming window with 0.0194 passband ripple and 53 dB stopband attenuation\n- Lower passband edge: 1.00\n- Lower transition bandwidth: 1.00 Hz (-6 dB cutoff frequency: 0.50 Hz)\n- Upper passband edge: 40.00 Hz\n- Upper transition bandwidth: 10.00 Hz (-6 dB cutoff frequency: 45.00 Hz)\n- Filter length: 529 samples (3.306 s)\n\nUsed Annotations descriptions: ['T1', 'T2']\nFiltering raw data in 1 contiguous segment\nSetting up band-pass filter from 1 - 40 Hz\n\nFIR filter parameters\n---------------------\nDesigning a one-pass, zero-phase, non-causal bandpass filter:\n- Windowed time-domain design (firwin) method\n- Hamming window with 0.0194 passband ripple and 53 dB stopband attenuation\n- Lower passband edge: 1.00\n- Lower transition bandwidth: 1.00 Hz (-6 dB cutoff frequency: 0.50 Hz)\n- Upper passband edge: 40.00 Hz\n- Upper transition bandwidth: 10.00 Hz (-6 dB cutoff frequency: 45.00 Hz)\n- Filter length: 529 samples (3.306 s)\n\n",
     "output_type": "stream"
    },
    {
     "name": "stderr",
     "text": "[Parallel(n_jobs=1)]: Done  17 tasks      | elapsed:    0.0s\n[Parallel(n_jobs=1)]: Done  64 out of  64 | elapsed:    0.0s finished\n[Parallel(n_jobs=1)]: Done  17 tasks      | elapsed:    0.0s\n[Parallel(n_jobs=1)]: Done  64 out of  64 | elapsed:    0.0s finished\n",
     "output_type": "stream"
    },
    {
     "name": "stdout",
     "text": "Used Annotations descriptions: ['T1', 'T2']\nFiltering raw data in 1 contiguous segment\nSetting up band-pass filter from 1 - 40 Hz\n\nFIR filter parameters\n---------------------\nDesigning a one-pass, zero-phase, non-causal bandpass filter:\n- Windowed time-domain design (firwin) method\n- Hamming window with 0.0194 passband ripple and 53 dB stopband attenuation\n- Lower passband edge: 1.00\n- Lower transition bandwidth: 1.00 Hz (-6 dB cutoff frequency: 0.50 Hz)\n- Upper passband edge: 40.00 Hz\n- Upper transition bandwidth: 10.00 Hz (-6 dB cutoff frequency: 45.00 Hz)\n- Filter length: 529 samples (3.306 s)\n\nUsed Annotations descriptions: ['T1', 'T2']\nFiltering raw data in 1 contiguous segment\nSetting up band-pass filter from 1 - 40 Hz\n\nFIR filter parameters\n---------------------\nDesigning a one-pass, zero-phase, non-causal bandpass filter:\n- Windowed time-domain design (firwin) method\n- Hamming window with 0.0194 passband ripple and 53 dB stopband attenuation\n- Lower passband edge: 1.00\n- Lower transition bandwidth: 1.00 Hz (-6 dB cutoff frequency: 0.50 Hz)\n- Upper passband edge: 40.00 Hz\n- Upper transition bandwidth: 10.00 Hz (-6 dB cutoff frequency: 45.00 Hz)\n- Filter length: 529 samples (3.306 s)\n\n",
     "output_type": "stream"
    },
    {
     "name": "stderr",
     "text": "[Parallel(n_jobs=1)]: Done  17 tasks      | elapsed:    0.0s\n[Parallel(n_jobs=1)]: Done  64 out of  64 | elapsed:    0.0s finished\n[Parallel(n_jobs=1)]: Done  17 tasks      | elapsed:    0.0s\n[Parallel(n_jobs=1)]: Done  64 out of  64 | elapsed:    0.0s finished\n",
     "output_type": "stream"
    },
    {
     "name": "stdout",
     "text": "Used Annotations descriptions: ['T1', 'T2']\nFiltering raw data in 1 contiguous segment\nSetting up band-pass filter from 1 - 40 Hz\n\nFIR filter parameters\n---------------------\nDesigning a one-pass, zero-phase, non-causal bandpass filter:\n- Windowed time-domain design (firwin) method\n- Hamming window with 0.0194 passband ripple and 53 dB stopband attenuation\n- Lower passband edge: 1.00\n- Lower transition bandwidth: 1.00 Hz (-6 dB cutoff frequency: 0.50 Hz)\n- Upper passband edge: 40.00 Hz\n- Upper transition bandwidth: 10.00 Hz (-6 dB cutoff frequency: 45.00 Hz)\n- Filter length: 529 samples (3.306 s)\n\nUsed Annotations descriptions: ['T1', 'T2']\nFiltering raw data in 1 contiguous segment\nSetting up band-pass filter from 1 - 40 Hz\n\nFIR filter parameters\n---------------------\nDesigning a one-pass, zero-phase, non-causal bandpass filter:\n- Windowed time-domain design (firwin) method\n- Hamming window with 0.0194 passband ripple and 53 dB stopband attenuation\n- Lower passband edge: 1.00\n- Lower transition bandwidth: 1.00 Hz (-6 dB cutoff frequency: 0.50 Hz)\n- Upper passband edge: 40.00 Hz\n- Upper transition bandwidth: 10.00 Hz (-6 dB cutoff frequency: 45.00 Hz)\n- Filter length: 529 samples (3.306 s)\n\n",
     "output_type": "stream"
    },
    {
     "name": "stderr",
     "text": "[Parallel(n_jobs=1)]: Done  17 tasks      | elapsed:    0.0s\n[Parallel(n_jobs=1)]: Done  64 out of  64 | elapsed:    0.1s finished\n[Parallel(n_jobs=1)]: Done  17 tasks      | elapsed:    0.0s\n[Parallel(n_jobs=1)]: Done  64 out of  64 | elapsed:    0.1s finished\n",
     "output_type": "stream"
    },
    {
     "name": "stdout",
     "text": "Used Annotations descriptions: ['T1', 'T2']\nFiltering raw data in 1 contiguous segment\nSetting up band-pass filter from 1 - 40 Hz\n\nFIR filter parameters\n---------------------\nDesigning a one-pass, zero-phase, non-causal bandpass filter:\n- Windowed time-domain design (firwin) method\n- Hamming window with 0.0194 passband ripple and 53 dB stopband attenuation\n- Lower passband edge: 1.00\n- Lower transition bandwidth: 1.00 Hz (-6 dB cutoff frequency: 0.50 Hz)\n- Upper passband edge: 40.00 Hz\n- Upper transition bandwidth: 10.00 Hz (-6 dB cutoff frequency: 45.00 Hz)\n- Filter length: 529 samples (3.306 s)\n\nUsed Annotations descriptions: ['T1', 'T2']\nFiltering raw data in 1 contiguous segment\nSetting up band-pass filter from 1 - 40 Hz\n\nFIR filter parameters\n---------------------\nDesigning a one-pass, zero-phase, non-causal bandpass filter:\n- Windowed time-domain design (firwin) method\n- Hamming window with 0.0194 passband ripple and 53 dB stopband attenuation\n- Lower passband edge: 1.00\n- Lower transition bandwidth: 1.00 Hz (-6 dB cutoff frequency: 0.50 Hz)\n- Upper passband edge: 40.00 Hz\n- Upper transition bandwidth: 10.00 Hz (-6 dB cutoff frequency: 45.00 Hz)\n- Filter length: 529 samples (3.306 s)\n\n",
     "output_type": "stream"
    },
    {
     "name": "stderr",
     "text": "[Parallel(n_jobs=1)]: Done  17 tasks      | elapsed:    0.0s\n[Parallel(n_jobs=1)]: Done  64 out of  64 | elapsed:    0.1s finished\n[Parallel(n_jobs=1)]: Done  17 tasks      | elapsed:    0.0s\n[Parallel(n_jobs=1)]: Done  64 out of  64 | elapsed:    0.0s finished\n",
     "output_type": "stream"
    },
    {
     "name": "stdout",
     "text": "Used Annotations descriptions: ['T1', 'T2']\nFiltering raw data in 1 contiguous segment\nSetting up band-pass filter from 1 - 40 Hz\n\nFIR filter parameters\n---------------------\nDesigning a one-pass, zero-phase, non-causal bandpass filter:\n- Windowed time-domain design (firwin) method\n- Hamming window with 0.0194 passband ripple and 53 dB stopband attenuation\n- Lower passband edge: 1.00\n- Lower transition bandwidth: 1.00 Hz (-6 dB cutoff frequency: 0.50 Hz)\n- Upper passband edge: 40.00 Hz\n- Upper transition bandwidth: 10.00 Hz (-6 dB cutoff frequency: 45.00 Hz)\n- Filter length: 529 samples (3.306 s)\n\nUsed Annotations descriptions: ['T1', 'T2']\nFiltering raw data in 1 contiguous segment\nSetting up band-pass filter from 1 - 40 Hz\n\nFIR filter parameters\n---------------------\nDesigning a one-pass, zero-phase, non-causal bandpass filter:\n- Windowed time-domain design (firwin) method\n- Hamming window with 0.0194 passband ripple and 53 dB stopband attenuation\n- Lower passband edge: 1.00\n- Lower transition bandwidth: 1.00 Hz (-6 dB cutoff frequency: 0.50 Hz)\n- Upper passband edge: 40.00 Hz\n- Upper transition bandwidth: 10.00 Hz (-6 dB cutoff frequency: 45.00 Hz)\n- Filter length: 529 samples (3.306 s)\n\n",
     "output_type": "stream"
    },
    {
     "name": "stderr",
     "text": "[Parallel(n_jobs=1)]: Done  17 tasks      | elapsed:    0.0s\n[Parallel(n_jobs=1)]: Done  64 out of  64 | elapsed:    0.0s finished\n[Parallel(n_jobs=1)]: Done  17 tasks      | elapsed:    0.0s\n[Parallel(n_jobs=1)]: Done  64 out of  64 | elapsed:    0.0s finished\n",
     "output_type": "stream"
    },
    {
     "name": "stdout",
     "text": "Used Annotations descriptions: ['T1', 'T2']\nFiltering raw data in 1 contiguous segment\nSetting up band-pass filter from 1 - 40 Hz\n\nFIR filter parameters\n---------------------\nDesigning a one-pass, zero-phase, non-causal bandpass filter:\n- Windowed time-domain design (firwin) method\n- Hamming window with 0.0194 passband ripple and 53 dB stopband attenuation\n- Lower passband edge: 1.00\n- Lower transition bandwidth: 1.00 Hz (-6 dB cutoff frequency: 0.50 Hz)\n- Upper passband edge: 40.00 Hz\n- Upper transition bandwidth: 10.00 Hz (-6 dB cutoff frequency: 45.00 Hz)\n- Filter length: 529 samples (3.306 s)\n\nUsed Annotations descriptions: ['T1', 'T2']\nFiltering raw data in 1 contiguous segment\nSetting up band-pass filter from 1 - 40 Hz\n\nFIR filter parameters\n---------------------\nDesigning a one-pass, zero-phase, non-causal bandpass filter:\n- Windowed time-domain design (firwin) method\n- Hamming window with 0.0194 passband ripple and 53 dB stopband attenuation\n- Lower passband edge: 1.00\n- Lower transition bandwidth: 1.00 Hz (-6 dB cutoff frequency: 0.50 Hz)\n- Upper passband edge: 40.00 Hz\n- Upper transition bandwidth: 10.00 Hz (-6 dB cutoff frequency: 45.00 Hz)\n- Filter length: 529 samples (3.306 s)\n\n",
     "output_type": "stream"
    },
    {
     "name": "stderr",
     "text": "[Parallel(n_jobs=1)]: Done  17 tasks      | elapsed:    0.0s\n[Parallel(n_jobs=1)]: Done  64 out of  64 | elapsed:    0.1s finished\n[Parallel(n_jobs=1)]: Done  17 tasks      | elapsed:    0.0s\n[Parallel(n_jobs=1)]: Done  64 out of  64 | elapsed:    0.0s finished\n",
     "output_type": "stream"
    },
    {
     "name": "stdout",
     "text": "Used Annotations descriptions: ['T1', 'T2']\nFiltering raw data in 1 contiguous segment\nSetting up band-pass filter from 1 - 40 Hz\n\nFIR filter parameters\n---------------------\nDesigning a one-pass, zero-phase, non-causal bandpass filter:\n- Windowed time-domain design (firwin) method\n- Hamming window with 0.0194 passband ripple and 53 dB stopband attenuation\n- Lower passband edge: 1.00\n- Lower transition bandwidth: 1.00 Hz (-6 dB cutoff frequency: 0.50 Hz)\n- Upper passband edge: 40.00 Hz\n- Upper transition bandwidth: 10.00 Hz (-6 dB cutoff frequency: 45.00 Hz)\n- Filter length: 529 samples (3.306 s)\n\nUsed Annotations descriptions: ['T1', 'T2']\nFiltering raw data in 1 contiguous segment\nSetting up band-pass filter from 1 - 40 Hz\n\nFIR filter parameters\n---------------------\nDesigning a one-pass, zero-phase, non-causal bandpass filter:\n- Windowed time-domain design (firwin) method\n- Hamming window with 0.0194 passband ripple and 53 dB stopband attenuation\n- Lower passband edge: 1.00\n- Lower transition bandwidth: 1.00 Hz (-6 dB cutoff frequency: 0.50 Hz)\n- Upper passband edge: 40.00 Hz\n- Upper transition bandwidth: 10.00 Hz (-6 dB cutoff frequency: 45.00 Hz)\n- Filter length: 529 samples (3.306 s)\n\n",
     "output_type": "stream"
    },
    {
     "name": "stderr",
     "text": "[Parallel(n_jobs=1)]: Done  17 tasks      | elapsed:    0.0s\n[Parallel(n_jobs=1)]: Done  64 out of  64 | elapsed:    0.0s finished\n[Parallel(n_jobs=1)]: Done  17 tasks      | elapsed:    0.0s\n[Parallel(n_jobs=1)]: Done  64 out of  64 | elapsed:    0.0s finished\n",
     "output_type": "stream"
    },
    {
     "name": "stdout",
     "text": "Used Annotations descriptions: ['T1', 'T2']\nFiltering raw data in 1 contiguous segment\nSetting up band-pass filter from 1 - 40 Hz\n\nFIR filter parameters\n---------------------\nDesigning a one-pass, zero-phase, non-causal bandpass filter:\n- Windowed time-domain design (firwin) method\n- Hamming window with 0.0194 passband ripple and 53 dB stopband attenuation\n- Lower passband edge: 1.00\n- Lower transition bandwidth: 1.00 Hz (-6 dB cutoff frequency: 0.50 Hz)\n- Upper passband edge: 40.00 Hz\n- Upper transition bandwidth: 10.00 Hz (-6 dB cutoff frequency: 45.00 Hz)\n- Filter length: 529 samples (3.306 s)\n\nUsed Annotations descriptions: ['T1', 'T2']\nFiltering raw data in 1 contiguous segment\nSetting up band-pass filter from 1 - 40 Hz\n\nFIR filter parameters\n---------------------\nDesigning a one-pass, zero-phase, non-causal bandpass filter:\n- Windowed time-domain design (firwin) method\n- Hamming window with 0.0194 passband ripple and 53 dB stopband attenuation\n- Lower passband edge: 1.00\n- Lower transition bandwidth: 1.00 Hz (-6 dB cutoff frequency: 0.50 Hz)\n- Upper passband edge: 40.00 Hz\n- Upper transition bandwidth: 10.00 Hz (-6 dB cutoff frequency: 45.00 Hz)\n- Filter length: 529 samples (3.306 s)\n\n",
     "output_type": "stream"
    },
    {
     "name": "stderr",
     "text": "[Parallel(n_jobs=1)]: Done  17 tasks      | elapsed:    0.0s\n[Parallel(n_jobs=1)]: Done  64 out of  64 | elapsed:    0.0s finished\n[Parallel(n_jobs=1)]: Done  17 tasks      | elapsed:    0.0s\n[Parallel(n_jobs=1)]: Done  64 out of  64 | elapsed:    0.0s finished\n",
     "output_type": "stream"
    },
    {
     "name": "stdout",
     "text": "Used Annotations descriptions: ['T1', 'T2']\nFiltering raw data in 1 contiguous segment\nSetting up band-pass filter from 1 - 40 Hz\n\nFIR filter parameters\n---------------------\nDesigning a one-pass, zero-phase, non-causal bandpass filter:\n- Windowed time-domain design (firwin) method\n- Hamming window with 0.0194 passband ripple and 53 dB stopband attenuation\n- Lower passband edge: 1.00\n- Lower transition bandwidth: 1.00 Hz (-6 dB cutoff frequency: 0.50 Hz)\n- Upper passband edge: 40.00 Hz\n- Upper transition bandwidth: 10.00 Hz (-6 dB cutoff frequency: 45.00 Hz)\n- Filter length: 529 samples (3.306 s)\n\nUsed Annotations descriptions: ['T1', 'T2']\n",
     "output_type": "stream"
    },
    {
     "name": "stderr",
     "text": "[Parallel(n_jobs=1)]: Done  17 tasks      | elapsed:    0.0s\n[Parallel(n_jobs=1)]: Done  64 out of  64 | elapsed:    0.1s finished\n[Parallel(n_jobs=1)]: Done  17 tasks      | elapsed:    0.0s\n[Parallel(n_jobs=1)]: Done  64 out of  64 | elapsed:    0.1s finished\n",
     "output_type": "stream"
    },
    {
     "name": "stdout",
     "text": "Filtering raw data in 1 contiguous segment\nSetting up band-pass filter from 1 - 40 Hz\n\nFIR filter parameters\n---------------------\nDesigning a one-pass, zero-phase, non-causal bandpass filter:\n- Windowed time-domain design (firwin) method\n- Hamming window with 0.0194 passband ripple and 53 dB stopband attenuation\n- Lower passband edge: 1.00\n- Lower transition bandwidth: 1.00 Hz (-6 dB cutoff frequency: 0.50 Hz)\n- Upper passband edge: 40.00 Hz\n- Upper transition bandwidth: 10.00 Hz (-6 dB cutoff frequency: 45.00 Hz)\n- Filter length: 529 samples (3.306 s)\n\nUsed Annotations descriptions: ['T1', 'T2']\nFiltering raw data in 1 contiguous segment\nSetting up band-pass filter from 1 - 40 Hz\n\nFIR filter parameters\n---------------------\nDesigning a one-pass, zero-phase, non-causal bandpass filter:\n- Windowed time-domain design (firwin) method\n- Hamming window with 0.0194 passband ripple and 53 dB stopband attenuation\n- Lower passband edge: 1.00\n- Lower transition bandwidth: 1.00 Hz (-6 dB cutoff frequency: 0.50 Hz)\n- Upper passband edge: 40.00 Hz\n- Upper transition bandwidth: 10.00 Hz (-6 dB cutoff frequency: 45.00 Hz)\n- Filter length: 529 samples (3.306 s)\n\nUsed Annotations descriptions: ['T1', 'T2']\nFiltering raw data in 1 contiguous segment\nSetting up band-pass filter from 1 - 40 Hz\n\nFIR filter parameters\n---------------------\nDesigning a one-pass, zero-phase, non-causal bandpass filter:\n- Windowed time-domain design (firwin) method\n- Hamming window with 0.0194 passband ripple and 53 dB stopband attenuation\n- Lower passband edge: 1.00\n- Lower transition bandwidth: 1.00 Hz (-6 dB cutoff frequency: 0.50 Hz)\n- Upper passband edge: 40.00 Hz\n- Upper transition bandwidth: 10.00 Hz (-6 dB cutoff frequency: 45.00 Hz)\n- Filter length: 529 samples (3.306 s)\n\n",
     "output_type": "stream"
    },
    {
     "name": "stderr",
     "text": "[Parallel(n_jobs=1)]: Done  17 tasks      | elapsed:    0.0s\n[Parallel(n_jobs=1)]: Done  64 out of  64 | elapsed:    0.0s finished\n[Parallel(n_jobs=1)]: Done  17 tasks      | elapsed:    0.0s\n[Parallel(n_jobs=1)]: Done  64 out of  64 | elapsed:    0.0s finished\n",
     "output_type": "stream"
    },
    {
     "name": "stdout",
     "text": "Used Annotations descriptions: ['T1', 'T2']\nFiltering raw data in 1 contiguous segment\nSetting up band-pass filter from 1 - 40 Hz\n\nFIR filter parameters\n---------------------\nDesigning a one-pass, zero-phase, non-causal bandpass filter:\n- Windowed time-domain design (firwin) method\n- Hamming window with 0.0194 passband ripple and 53 dB stopband attenuation\n- Lower passband edge: 1.00\n- Lower transition bandwidth: 1.00 Hz (-6 dB cutoff frequency: 0.50 Hz)\n- Upper passband edge: 40.00 Hz\n- Upper transition bandwidth: 10.00 Hz (-6 dB cutoff frequency: 45.00 Hz)\n- Filter length: 529 samples (3.306 s)\n\nUsed Annotations descriptions: ['T1', 'T2']\nFiltering raw data in 1 contiguous segment\nSetting up band-pass filter from 1 - 40 Hz\n\nFIR filter parameters\n---------------------\nDesigning a one-pass, zero-phase, non-causal bandpass filter:\n- Windowed time-domain design (firwin) method\n- Hamming window with 0.0194 passband ripple and 53 dB stopband attenuation\n- Lower passband edge: 1.00\n- Lower transition bandwidth: 1.00 Hz (-6 dB cutoff frequency: 0.50 Hz)\n- Upper passband edge: 40.00 Hz\n- Upper transition bandwidth: 10.00 Hz (-6 dB cutoff frequency: 45.00 Hz)\n- Filter length: 529 samples (3.306 s)\n\n",
     "output_type": "stream"
    },
    {
     "name": "stderr",
     "text": "[Parallel(n_jobs=1)]: Done  17 tasks      | elapsed:    0.0s\n[Parallel(n_jobs=1)]: Done  64 out of  64 | elapsed:    0.1s finished\n[Parallel(n_jobs=1)]: Done  17 tasks      | elapsed:    0.0s\n[Parallel(n_jobs=1)]: Done  64 out of  64 | elapsed:    0.0s finished\n",
     "output_type": "stream"
    },
    {
     "name": "stdout",
     "text": "Used Annotations descriptions: ['T1', 'T2']\nFiltering raw data in 1 contiguous segment\nSetting up band-pass filter from 1 - 40 Hz\n\nFIR filter parameters\n---------------------\nDesigning a one-pass, zero-phase, non-causal bandpass filter:\n- Windowed time-domain design (firwin) method\n- Hamming window with 0.0194 passband ripple and 53 dB stopband attenuation\n- Lower passband edge: 1.00\n- Lower transition bandwidth: 1.00 Hz (-6 dB cutoff frequency: 0.50 Hz)\n- Upper passband edge: 40.00 Hz\n- Upper transition bandwidth: 10.00 Hz (-6 dB cutoff frequency: 45.00 Hz)\n- Filter length: 529 samples (3.306 s)\n\nUsed Annotations descriptions: ['T1', 'T2']\nFiltering raw data in 1 contiguous segment\nSetting up band-pass filter from 1 - 40 Hz\n\nFIR filter parameters\n---------------------\nDesigning a one-pass, zero-phase, non-causal bandpass filter:\n- Windowed time-domain design (firwin) method\n- Hamming window with 0.0194 passband ripple and 53 dB stopband attenuation\n- Lower passband edge: 1.00\n- Lower transition bandwidth: 1.00 Hz (-6 dB cutoff frequency: 0.50 Hz)\n- Upper passband edge: 40.00 Hz\n- Upper transition bandwidth: 10.00 Hz (-6 dB cutoff frequency: 45.00 Hz)\n- Filter length: 529 samples (3.306 s)\n\n",
     "output_type": "stream"
    },
    {
     "name": "stderr",
     "text": "[Parallel(n_jobs=1)]: Done  17 tasks      | elapsed:    0.0s\n[Parallel(n_jobs=1)]: Done  64 out of  64 | elapsed:    0.0s finished\n[Parallel(n_jobs=1)]: Done  17 tasks      | elapsed:    0.0s\n[Parallel(n_jobs=1)]: Done  64 out of  64 | elapsed:    0.0s finished\n",
     "output_type": "stream"
    },
    {
     "name": "stdout",
     "text": "Used Annotations descriptions: ['T1', 'T2']\nFiltering raw data in 1 contiguous segment\nSetting up band-pass filter from 1 - 40 Hz\n\nFIR filter parameters\n---------------------\nDesigning a one-pass, zero-phase, non-causal bandpass filter:\n- Windowed time-domain design (firwin) method\n- Hamming window with 0.0194 passband ripple and 53 dB stopband attenuation\n- Lower passband edge: 1.00\n- Lower transition bandwidth: 1.00 Hz (-6 dB cutoff frequency: 0.50 Hz)\n- Upper passband edge: 40.00 Hz\n- Upper transition bandwidth: 10.00 Hz (-6 dB cutoff frequency: 45.00 Hz)\n- Filter length: 529 samples (3.306 s)\n\nUsed Annotations descriptions: ['T1', 'T2']\nFiltering raw data in 1 contiguous segment\nSetting up band-pass filter from 1 - 40 Hz\n\nFIR filter parameters\n---------------------\nDesigning a one-pass, zero-phase, non-causal bandpass filter:\n- Windowed time-domain design (firwin) method\n- Hamming window with 0.0194 passband ripple and 53 dB stopband attenuation\n- Lower passband edge: 1.00\n- Lower transition bandwidth: 1.00 Hz (-6 dB cutoff frequency: 0.50 Hz)\n- Upper passband edge: 40.00 Hz\n- Upper transition bandwidth: 10.00 Hz (-6 dB cutoff frequency: 45.00 Hz)\n- Filter length: 529 samples (3.306 s)\n\n",
     "output_type": "stream"
    },
    {
     "name": "stderr",
     "text": "[Parallel(n_jobs=1)]: Done  17 tasks      | elapsed:    0.0s\n[Parallel(n_jobs=1)]: Done  64 out of  64 | elapsed:    0.0s finished\n[Parallel(n_jobs=1)]: Done  17 tasks      | elapsed:    0.0s\n[Parallel(n_jobs=1)]: Done  64 out of  64 | elapsed:    0.0s finished\n",
     "output_type": "stream"
    },
    {
     "name": "stdout",
     "text": "Used Annotations descriptions: ['T1', 'T2']\nFiltering raw data in 1 contiguous segment\nSetting up band-pass filter from 1 - 40 Hz\n\nFIR filter parameters\n---------------------\nDesigning a one-pass, zero-phase, non-causal bandpass filter:\n- Windowed time-domain design (firwin) method\n- Hamming window with 0.0194 passband ripple and 53 dB stopband attenuation\n- Lower passband edge: 1.00\n- Lower transition bandwidth: 1.00 Hz (-6 dB cutoff frequency: 0.50 Hz)\n- Upper passband edge: 40.00 Hz\n- Upper transition bandwidth: 10.00 Hz (-6 dB cutoff frequency: 45.00 Hz)\n- Filter length: 529 samples (3.306 s)\n\nUsed Annotations descriptions: ['T1', 'T2']\nFiltering raw data in 1 contiguous segment\nSetting up band-pass filter from 1 - 40 Hz\n\nFIR filter parameters\n---------------------\nDesigning a one-pass, zero-phase, non-causal bandpass filter:\n- Windowed time-domain design (firwin) method\n- Hamming window with 0.0194 passband ripple and 53 dB stopband attenuation\n- Lower passband edge: 1.00\n- Lower transition bandwidth: 1.00 Hz (-6 dB cutoff frequency: 0.50 Hz)\n- Upper passband edge: 40.00 Hz\n- Upper transition bandwidth: 10.00 Hz (-6 dB cutoff frequency: 45.00 Hz)\n- Filter length: 529 samples (3.306 s)\n\n",
     "output_type": "stream"
    },
    {
     "name": "stderr",
     "text": "[Parallel(n_jobs=1)]: Done  17 tasks      | elapsed:    0.0s\n[Parallel(n_jobs=1)]: Done  64 out of  64 | elapsed:    0.0s finished\n[Parallel(n_jobs=1)]: Done  17 tasks      | elapsed:    0.0s\n[Parallel(n_jobs=1)]: Done  64 out of  64 | elapsed:    0.0s finished\n",
     "output_type": "stream"
    },
    {
     "name": "stdout",
     "text": "Used Annotations descriptions: ['T1', 'T2']\nFiltering raw data in 1 contiguous segment\nSetting up band-pass filter from 1 - 40 Hz\n\nFIR filter parameters\n---------------------\nDesigning a one-pass, zero-phase, non-causal bandpass filter:\n- Windowed time-domain design (firwin) method\n- Hamming window with 0.0194 passband ripple and 53 dB stopband attenuation\n- Lower passband edge: 1.00\n- Lower transition bandwidth: 1.00 Hz (-6 dB cutoff frequency: 0.50 Hz)\n- Upper passband edge: 40.00 Hz\n- Upper transition bandwidth: 10.00 Hz (-6 dB cutoff frequency: 45.00 Hz)\n- Filter length: 529 samples (3.306 s)\n\nUsed Annotations descriptions: ['T1', 'T2']\nFiltering raw data in 1 contiguous segment\nSetting up band-pass filter from 1 - 40 Hz\n\nFIR filter parameters\n---------------------\nDesigning a one-pass, zero-phase, non-causal bandpass filter:\n- Windowed time-domain design (firwin) method\n- Hamming window with 0.0194 passband ripple and 53 dB stopband attenuation\n- Lower passband edge: 1.00\n- Lower transition bandwidth: 1.00 Hz (-6 dB cutoff frequency: 0.50 Hz)\n- Upper passband edge: 40.00 Hz\n- Upper transition bandwidth: 10.00 Hz (-6 dB cutoff frequency: 45.00 Hz)\n- Filter length: 529 samples (3.306 s)\n\n",
     "output_type": "stream"
    },
    {
     "name": "stderr",
     "text": "[Parallel(n_jobs=1)]: Done  17 tasks      | elapsed:    0.0s\n[Parallel(n_jobs=1)]: Done  64 out of  64 | elapsed:    0.0s finished\n[Parallel(n_jobs=1)]: Done  17 tasks      | elapsed:    0.0s\n[Parallel(n_jobs=1)]: Done  64 out of  64 | elapsed:    0.0s finished\n",
     "output_type": "stream"
    },
    {
     "name": "stdout",
     "text": "Used Annotations descriptions: ['T1', 'T2']\nFiltering raw data in 1 contiguous segment\nSetting up band-pass filter from 1 - 40 Hz\n\nFIR filter parameters\n---------------------\nDesigning a one-pass, zero-phase, non-causal bandpass filter:\n- Windowed time-domain design (firwin) method\n- Hamming window with 0.0194 passband ripple and 53 dB stopband attenuation\n- Lower passband edge: 1.00\n- Lower transition bandwidth: 1.00 Hz (-6 dB cutoff frequency: 0.50 Hz)\n- Upper passband edge: 40.00 Hz\n- Upper transition bandwidth: 10.00 Hz (-6 dB cutoff frequency: 45.00 Hz)\n- Filter length: 529 samples (3.306 s)\n\nUsed Annotations descriptions: ['T1', 'T2']\nFiltering raw data in 1 contiguous segment\nSetting up band-pass filter from 1 - 40 Hz\n\nFIR filter parameters\n---------------------\nDesigning a one-pass, zero-phase, non-causal bandpass filter:\n- Windowed time-domain design (firwin) method\n- Hamming window with 0.0194 passband ripple and 53 dB stopband attenuation\n- Lower passband edge: 1.00\n- Lower transition bandwidth: 1.00 Hz (-6 dB cutoff frequency: 0.50 Hz)\n- Upper passband edge: 40.00 Hz\n- Upper transition bandwidth: 10.00 Hz (-6 dB cutoff frequency: 45.00 Hz)\n- Filter length: 529 samples (3.306 s)\n\n",
     "output_type": "stream"
    },
    {
     "name": "stderr",
     "text": "[Parallel(n_jobs=1)]: Done  17 tasks      | elapsed:    0.0s\n[Parallel(n_jobs=1)]: Done  64 out of  64 | elapsed:    0.0s finished\n[Parallel(n_jobs=1)]: Done  17 tasks      | elapsed:    0.0s\n[Parallel(n_jobs=1)]: Done  64 out of  64 | elapsed:    0.0s finished\n[Parallel(n_jobs=1)]: Done  17 tasks      | elapsed:    0.0s\n",
     "output_type": "stream"
    },
    {
     "name": "stdout",
     "text": "Used Annotations descriptions: ['T1', 'T2']\nFiltering raw data in 1 contiguous segment\nSetting up band-pass filter from 1 - 40 Hz\n\nFIR filter parameters\n---------------------\nDesigning a one-pass, zero-phase, non-causal bandpass filter:\n- Windowed time-domain design (firwin) method\n- Hamming window with 0.0194 passband ripple and 53 dB stopband attenuation\n- Lower passband edge: 1.00\n- Lower transition bandwidth: 1.00 Hz (-6 dB cutoff frequency: 0.50 Hz)\n- Upper passband edge: 40.00 Hz\n- Upper transition bandwidth: 10.00 Hz (-6 dB cutoff frequency: 45.00 Hz)\n- Filter length: 529 samples (3.306 s)\n\nUsed Annotations descriptions: ['T1', 'T2']\nFiltering raw data in 1 contiguous segment\nSetting up band-pass filter from 1 - 40 Hz\n\nFIR filter parameters\n---------------------\nDesigning a one-pass, zero-phase, non-causal bandpass filter:\n- Windowed time-domain design (firwin) method\n- Hamming window with 0.0194 passband ripple and 53 dB stopband attenuation\n- Lower passband edge: 1.00\n- Lower transition bandwidth: 1.00 Hz (-6 dB cutoff frequency: 0.50 Hz)\n- Upper passband edge: 40.00 Hz\n- Upper transition bandwidth: 10.00 Hz (-6 dB cutoff frequency: 45.00 Hz)\n- Filter length: 529 samples (3.306 s)\n\n",
     "output_type": "stream"
    },
    {
     "name": "stderr",
     "text": "[Parallel(n_jobs=1)]: Done  64 out of  64 | elapsed:    0.0s finished\n[Parallel(n_jobs=1)]: Done  17 tasks      | elapsed:    0.0s\n[Parallel(n_jobs=1)]: Done  64 out of  64 | elapsed:    0.0s finished\n[Parallel(n_jobs=1)]: Done  17 tasks      | elapsed:    0.0s\n[Parallel(n_jobs=1)]: Done  64 out of  64 | elapsed:    0.0s finished\n",
     "output_type": "stream"
    },
    {
     "name": "stdout",
     "text": "Used Annotations descriptions: ['T1', 'T2']\nFiltering raw data in 1 contiguous segment\nSetting up band-pass filter from 1 - 40 Hz\n\nFIR filter parameters\n---------------------\nDesigning a one-pass, zero-phase, non-causal bandpass filter:\n- Windowed time-domain design (firwin) method\n- Hamming window with 0.0194 passband ripple and 53 dB stopband attenuation\n- Lower passband edge: 1.00\n- Lower transition bandwidth: 1.00 Hz (-6 dB cutoff frequency: 0.50 Hz)\n- Upper passband edge: 40.00 Hz\n- Upper transition bandwidth: 10.00 Hz (-6 dB cutoff frequency: 45.00 Hz)\n- Filter length: 529 samples (3.306 s)\n\nUsed Annotations descriptions: ['T1', 'T2']\nFiltering raw data in 1 contiguous segment\nSetting up band-pass filter from 1 - 40 Hz\n\nFIR filter parameters\n---------------------\nDesigning a one-pass, zero-phase, non-causal bandpass filter:\n- Windowed time-domain design (firwin) method\n- Hamming window with 0.0194 passband ripple and 53 dB stopband attenuation\n- Lower passband edge: 1.00\n- Lower transition bandwidth: 1.00 Hz (-6 dB cutoff frequency: 0.50 Hz)\n- Upper passband edge: 40.00 Hz\n- Upper transition bandwidth: 10.00 Hz (-6 dB cutoff frequency: 45.00 Hz)\n- Filter length: 529 samples (3.306 s)\n\nUsed Annotations descriptions: ['T1', 'T2']\nFiltering raw data in 1 contiguous segment\nSetting up band-pass filter from 1 - 40 Hz\n\nFIR filter parameters\n---------------------\nDesigning a one-pass, zero-phase, non-causal bandpass filter:\n- Windowed time-domain design (firwin) method\n- Hamming window with 0.0194 passband ripple and 53 dB stopband attenuation\n- Lower passband edge: 1.00\n- Lower transition bandwidth: 1.00 Hz (-6 dB cutoff frequency: 0.50 Hz)\n- Upper passband edge: 40.00 Hz\n- Upper transition bandwidth: 10.00 Hz (-6 dB cutoff frequency: 45.00 Hz)\n- Filter length: 529 samples (3.306 s)\n\n",
     "output_type": "stream"
    },
    {
     "name": "stderr",
     "text": "[Parallel(n_jobs=1)]: Done  17 tasks      | elapsed:    0.0s\n[Parallel(n_jobs=1)]: Done  64 out of  64 | elapsed:    0.0s finished\n[Parallel(n_jobs=1)]: Done  17 tasks      | elapsed:    0.0s\n[Parallel(n_jobs=1)]: Done  64 out of  64 | elapsed:    0.0s finished\n[Parallel(n_jobs=1)]: Done  17 tasks      | elapsed:    0.0s\n",
     "output_type": "stream"
    },
    {
     "name": "stdout",
     "text": "Used Annotations descriptions: ['T1', 'T2']\nFiltering raw data in 1 contiguous segment\nSetting up band-pass filter from 1 - 40 Hz\n\nFIR filter parameters\n---------------------\nDesigning a one-pass, zero-phase, non-causal bandpass filter:\n- Windowed time-domain design (firwin) method\n- Hamming window with 0.0194 passband ripple and 53 dB stopband attenuation\n- Lower passband edge: 1.00\n- Lower transition bandwidth: 1.00 Hz (-6 dB cutoff frequency: 0.50 Hz)\n- Upper passband edge: 40.00 Hz\n- Upper transition bandwidth: 10.00 Hz (-6 dB cutoff frequency: 45.00 Hz)\n- Filter length: 529 samples (3.306 s)\n\nUsed Annotations descriptions: ['T1', 'T2']\nFiltering raw data in 1 contiguous segment\nSetting up band-pass filter from 1 - 40 Hz\n\nFIR filter parameters\n---------------------\nDesigning a one-pass, zero-phase, non-causal bandpass filter:\n- Windowed time-domain design (firwin) method\n- Hamming window with 0.0194 passband ripple and 53 dB stopband attenuation\n- Lower passband edge: 1.00\n- Lower transition bandwidth: 1.00 Hz (-6 dB cutoff frequency: 0.50 Hz)\n- Upper passband edge: 40.00 Hz\n- Upper transition bandwidth: 10.00 Hz (-6 dB cutoff frequency: 45.00 Hz)\n- Filter length: 529 samples (3.306 s)\n\n",
     "output_type": "stream"
    },
    {
     "name": "stderr",
     "text": "[Parallel(n_jobs=1)]: Done  64 out of  64 | elapsed:    0.0s finished\n[Parallel(n_jobs=1)]: Done  17 tasks      | elapsed:    0.0s\n[Parallel(n_jobs=1)]: Done  64 out of  64 | elapsed:    0.0s finished\n[Parallel(n_jobs=1)]: Done  17 tasks      | elapsed:    0.0s\n",
     "output_type": "stream"
    },
    {
     "name": "stdout",
     "text": "Used Annotations descriptions: ['T1', 'T2']\nFiltering raw data in 1 contiguous segment\nSetting up band-pass filter from 1 - 40 Hz\n\nFIR filter parameters\n---------------------\nDesigning a one-pass, zero-phase, non-causal bandpass filter:\n- Windowed time-domain design (firwin) method\n- Hamming window with 0.0194 passband ripple and 53 dB stopband attenuation\n- Lower passband edge: 1.00\n- Lower transition bandwidth: 1.00 Hz (-6 dB cutoff frequency: 0.50 Hz)\n- Upper passband edge: 40.00 Hz\n- Upper transition bandwidth: 10.00 Hz (-6 dB cutoff frequency: 45.00 Hz)\n- Filter length: 529 samples (3.306 s)\n\nUsed Annotations descriptions: ['T1', 'T2']\nFiltering raw data in 1 contiguous segment\nSetting up band-pass filter from 1 - 40 Hz\n\nFIR filter parameters\n---------------------\nDesigning a one-pass, zero-phase, non-causal bandpass filter:\n- Windowed time-domain design (firwin) method\n- Hamming window with 0.0194 passband ripple and 53 dB stopband attenuation\n- Lower passband edge: 1.00\n- Lower transition bandwidth: 1.00 Hz (-6 dB cutoff frequency: 0.50 Hz)\n- Upper passband edge: 40.00 Hz\n- Upper transition bandwidth: 10.00 Hz (-6 dB cutoff frequency: 45.00 Hz)\n- Filter length: 529 samples (3.306 s)\n\n",
     "output_type": "stream"
    },
    {
     "name": "stderr",
     "text": "[Parallel(n_jobs=1)]: Done  64 out of  64 | elapsed:    0.0s finished\n[Parallel(n_jobs=1)]: Done  17 tasks      | elapsed:    0.0s\n[Parallel(n_jobs=1)]: Done  64 out of  64 | elapsed:    0.0s finished\n[Parallel(n_jobs=1)]: Done  17 tasks      | elapsed:    0.0s\n",
     "output_type": "stream"
    },
    {
     "name": "stdout",
     "text": "Used Annotations descriptions: ['T1', 'T2']\nFiltering raw data in 1 contiguous segment\nSetting up band-pass filter from 1 - 40 Hz\n\nFIR filter parameters\n---------------------\nDesigning a one-pass, zero-phase, non-causal bandpass filter:\n- Windowed time-domain design (firwin) method\n- Hamming window with 0.0194 passband ripple and 53 dB stopband attenuation\n- Lower passband edge: 1.00\n- Lower transition bandwidth: 1.00 Hz (-6 dB cutoff frequency: 0.50 Hz)\n- Upper passband edge: 40.00 Hz\n- Upper transition bandwidth: 10.00 Hz (-6 dB cutoff frequency: 45.00 Hz)\n- Filter length: 529 samples (3.306 s)\n\nUsed Annotations descriptions: ['T1', 'T2']\nFiltering raw data in 1 contiguous segment\nSetting up band-pass filter from 1 - 40 Hz\n\nFIR filter parameters\n---------------------\nDesigning a one-pass, zero-phase, non-causal bandpass filter:\n- Windowed time-domain design (firwin) method\n- Hamming window with 0.0194 passband ripple and 53 dB stopband attenuation\n- Lower passband edge: 1.00\n- Lower transition bandwidth: 1.00 Hz (-6 dB cutoff frequency: 0.50 Hz)\n- Upper passband edge: 40.00 Hz\n- Upper transition bandwidth: 10.00 Hz (-6 dB cutoff frequency: 45.00 Hz)\n- Filter length: 529 samples (3.306 s)\n\n",
     "output_type": "stream"
    },
    {
     "name": "stderr",
     "text": "[Parallel(n_jobs=1)]: Done  64 out of  64 | elapsed:    0.1s finished\n[Parallel(n_jobs=1)]: Done  17 tasks      | elapsed:    0.0s\n[Parallel(n_jobs=1)]: Done  64 out of  64 | elapsed:    0.0s finished\n[Parallel(n_jobs=1)]: Done  17 tasks      | elapsed:    0.0s\n",
     "output_type": "stream"
    },
    {
     "name": "stdout",
     "text": "Used Annotations descriptions: ['T1', 'T2']\nFiltering raw data in 1 contiguous segment\nSetting up band-pass filter from 1 - 40 Hz\n\nFIR filter parameters\n---------------------\nDesigning a one-pass, zero-phase, non-causal bandpass filter:\n- Windowed time-domain design (firwin) method\n- Hamming window with 0.0194 passband ripple and 53 dB stopband attenuation\n- Lower passband edge: 1.00\n- Lower transition bandwidth: 1.00 Hz (-6 dB cutoff frequency: 0.50 Hz)\n- Upper passband edge: 40.00 Hz\n- Upper transition bandwidth: 10.00 Hz (-6 dB cutoff frequency: 45.00 Hz)\n- Filter length: 529 samples (3.306 s)\n\nUsed Annotations descriptions: ['T1', 'T2']\nFiltering raw data in 1 contiguous segment\nSetting up band-pass filter from 1 - 40 Hz\n\nFIR filter parameters\n---------------------\nDesigning a one-pass, zero-phase, non-causal bandpass filter:\n- Windowed time-domain design (firwin) method\n- Hamming window with 0.0194 passband ripple and 53 dB stopband attenuation\n- Lower passband edge: 1.00\n- Lower transition bandwidth: 1.00 Hz (-6 dB cutoff frequency: 0.50 Hz)\n- Upper passband edge: 40.00 Hz\n- Upper transition bandwidth: 10.00 Hz (-6 dB cutoff frequency: 45.00 Hz)\n- Filter length: 529 samples (3.306 s)\n\n",
     "output_type": "stream"
    },
    {
     "name": "stderr",
     "text": "[Parallel(n_jobs=1)]: Done  64 out of  64 | elapsed:    0.0s finished\n[Parallel(n_jobs=1)]: Done  17 tasks      | elapsed:    0.0s\n[Parallel(n_jobs=1)]: Done  64 out of  64 | elapsed:    0.0s finished\n[Parallel(n_jobs=1)]: Done  17 tasks      | elapsed:    0.0s\n",
     "output_type": "stream"
    },
    {
     "name": "stdout",
     "text": "Used Annotations descriptions: ['T1', 'T2']\nFiltering raw data in 1 contiguous segment\nSetting up band-pass filter from 1 - 40 Hz\n\nFIR filter parameters\n---------------------\nDesigning a one-pass, zero-phase, non-causal bandpass filter:\n- Windowed time-domain design (firwin) method\n- Hamming window with 0.0194 passband ripple and 53 dB stopband attenuation\n- Lower passband edge: 1.00\n- Lower transition bandwidth: 1.00 Hz (-6 dB cutoff frequency: 0.50 Hz)\n- Upper passband edge: 40.00 Hz\n- Upper transition bandwidth: 10.00 Hz (-6 dB cutoff frequency: 45.00 Hz)\n- Filter length: 529 samples (3.306 s)\n\nUsed Annotations descriptions: ['T1', 'T2']\nFiltering raw data in 1 contiguous segment\nSetting up band-pass filter from 1 - 40 Hz\n\nFIR filter parameters\n---------------------\nDesigning a one-pass, zero-phase, non-causal bandpass filter:\n- Windowed time-domain design (firwin) method\n- Hamming window with 0.0194 passband ripple and 53 dB stopband attenuation\n- Lower passband edge: 1.00\n- Lower transition bandwidth: 1.00 Hz (-6 dB cutoff frequency: 0.50 Hz)\n- Upper passband edge: 40.00 Hz\n- Upper transition bandwidth: 10.00 Hz (-6 dB cutoff frequency: 45.00 Hz)\n- Filter length: 529 samples (3.306 s)\n\n",
     "output_type": "stream"
    },
    {
     "name": "stderr",
     "text": "[Parallel(n_jobs=1)]: Done  64 out of  64 | elapsed:    0.1s finished\n[Parallel(n_jobs=1)]: Done  17 tasks      | elapsed:    0.0s\n[Parallel(n_jobs=1)]: Done  64 out of  64 | elapsed:    0.0s finished\n",
     "output_type": "stream"
    },
    {
     "name": "stdout",
     "text": "Used Annotations descriptions: ['T1', 'T2']\nFiltering raw data in 1 contiguous segment\nSetting up band-pass filter from 1 - 40 Hz\n\nFIR filter parameters\n---------------------\nDesigning a one-pass, zero-phase, non-causal bandpass filter:\n- Windowed time-domain design (firwin) method\n- Hamming window with 0.0194 passband ripple and 53 dB stopband attenuation\n- Lower passband edge: 1.00\n- Lower transition bandwidth: 1.00 Hz (-6 dB cutoff frequency: 0.50 Hz)\n- Upper passband edge: 40.00 Hz\n- Upper transition bandwidth: 10.00 Hz (-6 dB cutoff frequency: 45.00 Hz)\n- Filter length: 529 samples (3.306 s)\n\nUsed Annotations descriptions: ['T1', 'T2']\nFiltering raw data in 1 contiguous segment\nSetting up band-pass filter from 1 - 40 Hz\n\nFIR filter parameters\n---------------------\nDesigning a one-pass, zero-phase, non-causal bandpass filter:\n- Windowed time-domain design (firwin) method\n- Hamming window with 0.0194 passband ripple and 53 dB stopband attenuation\n- Lower passband edge: 1.00\n- Lower transition bandwidth: 1.00 Hz (-6 dB cutoff frequency: 0.50 Hz)\n- Upper passband edge: 40.00 Hz\n- Upper transition bandwidth: 10.00 Hz (-6 dB cutoff frequency: 45.00 Hz)\n- Filter length: 529 samples (3.306 s)\n\n",
     "output_type": "stream"
    },
    {
     "name": "stderr",
     "text": "[Parallel(n_jobs=1)]: Done  17 tasks      | elapsed:    0.0s\n[Parallel(n_jobs=1)]: Done  64 out of  64 | elapsed:    0.0s finished\n[Parallel(n_jobs=1)]: Done  17 tasks      | elapsed:    0.0s\n[Parallel(n_jobs=1)]: Done  64 out of  64 | elapsed:    0.0s finished\n",
     "output_type": "stream"
    },
    {
     "name": "stdout",
     "text": "Used Annotations descriptions: ['T1', 'T2']\nFiltering raw data in 1 contiguous segment\nSetting up band-pass filter from 1 - 40 Hz\n\nFIR filter parameters\n---------------------\nDesigning a one-pass, zero-phase, non-causal bandpass filter:\n- Windowed time-domain design (firwin) method\n- Hamming window with 0.0194 passband ripple and 53 dB stopband attenuation\n- Lower passband edge: 1.00\n- Lower transition bandwidth: 1.00 Hz (-6 dB cutoff frequency: 0.50 Hz)\n- Upper passband edge: 40.00 Hz\n- Upper transition bandwidth: 10.00 Hz (-6 dB cutoff frequency: 45.00 Hz)\n- Filter length: 529 samples (3.306 s)\n\nUsed Annotations descriptions: ['T1', 'T2']\nFiltering raw data in 1 contiguous segment\nSetting up band-pass filter from 1 - 40 Hz\n\nFIR filter parameters\n---------------------\nDesigning a one-pass, zero-phase, non-causal bandpass filter:\n- Windowed time-domain design (firwin) method\n- Hamming window with 0.0194 passband ripple and 53 dB stopband attenuation\n- Lower passband edge: 1.00\n- Lower transition bandwidth: 1.00 Hz (-6 dB cutoff frequency: 0.50 Hz)\n- Upper passband edge: 40.00 Hz\n- Upper transition bandwidth: 10.00 Hz (-6 dB cutoff frequency: 45.00 Hz)\n- Filter length: 529 samples (3.306 s)\n\n",
     "output_type": "stream"
    },
    {
     "name": "stderr",
     "text": "[Parallel(n_jobs=1)]: Done  17 tasks      | elapsed:    0.0s\n[Parallel(n_jobs=1)]: Done  64 out of  64 | elapsed:    0.1s finished\n[Parallel(n_jobs=1)]: Done  17 tasks      | elapsed:    0.0s\n[Parallel(n_jobs=1)]: Done  64 out of  64 | elapsed:    0.0s finished\n",
     "output_type": "stream"
    },
    {
     "name": "stdout",
     "text": "Used Annotations descriptions: ['T1', 'T2']\nFiltering raw data in 1 contiguous segment\nSetting up band-pass filter from 1 - 40 Hz\n\nFIR filter parameters\n---------------------\nDesigning a one-pass, zero-phase, non-causal bandpass filter:\n- Windowed time-domain design (firwin) method\n- Hamming window with 0.0194 passband ripple and 53 dB stopband attenuation\n- Lower passband edge: 1.00\n- Lower transition bandwidth: 1.00 Hz (-6 dB cutoff frequency: 0.50 Hz)\n- Upper passband edge: 40.00 Hz\n- Upper transition bandwidth: 10.00 Hz (-6 dB cutoff frequency: 45.00 Hz)\n- Filter length: 529 samples (3.306 s)\n\nUsed Annotations descriptions: ['T1', 'T2']\nFiltering raw data in 1 contiguous segment\nSetting up band-pass filter from 1 - 40 Hz\n\nFIR filter parameters\n---------------------\nDesigning a one-pass, zero-phase, non-causal bandpass filter:\n- Windowed time-domain design (firwin) method\n- Hamming window with 0.0194 passband ripple and 53 dB stopband attenuation\n- Lower passband edge: 1.00\n- Lower transition bandwidth: 1.00 Hz (-6 dB cutoff frequency: 0.50 Hz)\n- Upper passband edge: 40.00 Hz\n- Upper transition bandwidth: 10.00 Hz (-6 dB cutoff frequency: 45.00 Hz)\n- Filter length: 529 samples (3.306 s)\n\n",
     "output_type": "stream"
    },
    {
     "name": "stderr",
     "text": "[Parallel(n_jobs=1)]: Done  17 tasks      | elapsed:    0.0s\n[Parallel(n_jobs=1)]: Done  64 out of  64 | elapsed:    0.0s finished\n[Parallel(n_jobs=1)]: Done  17 tasks      | elapsed:    0.0s\n[Parallel(n_jobs=1)]: Done  64 out of  64 | elapsed:    0.0s finished\n[Parallel(n_jobs=1)]: Done  17 tasks      | elapsed:    0.0s\n",
     "output_type": "stream"
    },
    {
     "name": "stdout",
     "text": "Used Annotations descriptions: ['T1', 'T2']\nFiltering raw data in 1 contiguous segment\nSetting up band-pass filter from 1 - 40 Hz\n\nFIR filter parameters\n---------------------\nDesigning a one-pass, zero-phase, non-causal bandpass filter:\n- Windowed time-domain design (firwin) method\n- Hamming window with 0.0194 passband ripple and 53 dB stopband attenuation\n- Lower passband edge: 1.00\n- Lower transition bandwidth: 1.00 Hz (-6 dB cutoff frequency: 0.50 Hz)\n- Upper passband edge: 40.00 Hz\n- Upper transition bandwidth: 10.00 Hz (-6 dB cutoff frequency: 45.00 Hz)\n- Filter length: 529 samples (3.306 s)\n\nUsed Annotations descriptions: ['T1', 'T2']\nFiltering raw data in 1 contiguous segment\nSetting up band-pass filter from 1 - 40 Hz\n\nFIR filter parameters\n---------------------\nDesigning a one-pass, zero-phase, non-causal bandpass filter:\n- Windowed time-domain design (firwin) method\n- Hamming window with 0.0194 passband ripple and 53 dB stopband attenuation\n- Lower passband edge: 1.00\n- Lower transition bandwidth: 1.00 Hz (-6 dB cutoff frequency: 0.50 Hz)\n- Upper passband edge: 40.00 Hz\n- Upper transition bandwidth: 10.00 Hz (-6 dB cutoff frequency: 45.00 Hz)\n- Filter length: 529 samples (3.306 s)\n\n",
     "output_type": "stream"
    },
    {
     "name": "stderr",
     "text": "[Parallel(n_jobs=1)]: Done  64 out of  64 | elapsed:    0.0s finished\n[Parallel(n_jobs=1)]: Done  17 tasks      | elapsed:    0.0s\n[Parallel(n_jobs=1)]: Done  64 out of  64 | elapsed:    0.0s finished\n[Parallel(n_jobs=1)]: Done  17 tasks      | elapsed:    0.0s\n",
     "output_type": "stream"
    },
    {
     "name": "stdout",
     "text": "Used Annotations descriptions: ['T1', 'T2']\nFiltering raw data in 1 contiguous segment\nSetting up band-pass filter from 1 - 40 Hz\n\nFIR filter parameters\n---------------------\nDesigning a one-pass, zero-phase, non-causal bandpass filter:\n- Windowed time-domain design (firwin) method\n- Hamming window with 0.0194 passband ripple and 53 dB stopband attenuation\n- Lower passband edge: 1.00\n- Lower transition bandwidth: 1.00 Hz (-6 dB cutoff frequency: 0.50 Hz)\n- Upper passband edge: 40.00 Hz\n- Upper transition bandwidth: 10.00 Hz (-6 dB cutoff frequency: 45.00 Hz)\n- Filter length: 529 samples (3.306 s)\n\nUsed Annotations descriptions: ['T1', 'T2']\nFiltering raw data in 1 contiguous segment\nSetting up band-pass filter from 1 - 40 Hz\n\nFIR filter parameters\n---------------------\nDesigning a one-pass, zero-phase, non-causal bandpass filter:\n- Windowed time-domain design (firwin) method\n- Hamming window with 0.0194 passband ripple and 53 dB stopband attenuation\n- Lower passband edge: 1.00\n- Lower transition bandwidth: 1.00 Hz (-6 dB cutoff frequency: 0.50 Hz)\n- Upper passband edge: 40.00 Hz\n- Upper transition bandwidth: 10.00 Hz (-6 dB cutoff frequency: 45.00 Hz)\n- Filter length: 529 samples (3.306 s)\n\n",
     "output_type": "stream"
    },
    {
     "name": "stderr",
     "text": "[Parallel(n_jobs=1)]: Done  64 out of  64 | elapsed:    0.1s finished\n[Parallel(n_jobs=1)]: Done  17 tasks      | elapsed:    0.0s\n[Parallel(n_jobs=1)]: Done  64 out of  64 | elapsed:    0.1s finished\n[Parallel(n_jobs=1)]: Done  17 tasks      | elapsed:    0.0s\n",
     "output_type": "stream"
    },
    {
     "name": "stdout",
     "text": "Used Annotations descriptions: ['T1', 'T2']\nFiltering raw data in 1 contiguous segment\nSetting up band-pass filter from 1 - 40 Hz\n\nFIR filter parameters\n---------------------\nDesigning a one-pass, zero-phase, non-causal bandpass filter:\n- Windowed time-domain design (firwin) method\n- Hamming window with 0.0194 passband ripple and 53 dB stopband attenuation\n- Lower passband edge: 1.00\n- Lower transition bandwidth: 1.00 Hz (-6 dB cutoff frequency: 0.50 Hz)\n- Upper passband edge: 40.00 Hz\n- Upper transition bandwidth: 10.00 Hz (-6 dB cutoff frequency: 45.00 Hz)\n- Filter length: 529 samples (3.306 s)\n\nUsed Annotations descriptions: ['T1', 'T2']\nFiltering raw data in 1 contiguous segment\nSetting up band-pass filter from 1 - 40 Hz\n\nFIR filter parameters\n---------------------\nDesigning a one-pass, zero-phase, non-causal bandpass filter:\n- Windowed time-domain design (firwin) method\n- Hamming window with 0.0194 passband ripple and 53 dB stopband attenuation\n- Lower passband edge: 1.00\n- Lower transition bandwidth: 1.00 Hz (-6 dB cutoff frequency: 0.50 Hz)\n- Upper passband edge: 40.00 Hz\n- Upper transition bandwidth: 10.00 Hz (-6 dB cutoff frequency: 45.00 Hz)\n- Filter length: 529 samples (3.306 s)\n\n",
     "output_type": "stream"
    },
    {
     "name": "stderr",
     "text": "[Parallel(n_jobs=1)]: Done  64 out of  64 | elapsed:    0.0s finished\n[Parallel(n_jobs=1)]: Done  17 tasks      | elapsed:    0.0s\n[Parallel(n_jobs=1)]: Done  64 out of  64 | elapsed:    0.0s finished\n[Parallel(n_jobs=1)]: Done  17 tasks      | elapsed:    0.0s\n",
     "output_type": "stream"
    },
    {
     "name": "stdout",
     "text": "Used Annotations descriptions: ['T1', 'T2']\nFiltering raw data in 1 contiguous segment\nSetting up band-pass filter from 1 - 40 Hz\n\nFIR filter parameters\n---------------------\nDesigning a one-pass, zero-phase, non-causal bandpass filter:\n- Windowed time-domain design (firwin) method\n- Hamming window with 0.0194 passband ripple and 53 dB stopband attenuation\n- Lower passband edge: 1.00\n- Lower transition bandwidth: 1.00 Hz (-6 dB cutoff frequency: 0.50 Hz)\n- Upper passband edge: 40.00 Hz\n- Upper transition bandwidth: 10.00 Hz (-6 dB cutoff frequency: 45.00 Hz)\n- Filter length: 529 samples (3.306 s)\n\nUsed Annotations descriptions: ['T1', 'T2']\nFiltering raw data in 1 contiguous segment\nSetting up band-pass filter from 1 - 40 Hz\n\nFIR filter parameters\n---------------------\nDesigning a one-pass, zero-phase, non-causal bandpass filter:\n- Windowed time-domain design (firwin) method\n- Hamming window with 0.0194 passband ripple and 53 dB stopband attenuation\n- Lower passband edge: 1.00\n- Lower transition bandwidth: 1.00 Hz (-6 dB cutoff frequency: 0.50 Hz)\n- Upper passband edge: 40.00 Hz\n- Upper transition bandwidth: 10.00 Hz (-6 dB cutoff frequency: 45.00 Hz)\n- Filter length: 529 samples (3.306 s)\n\n",
     "output_type": "stream"
    },
    {
     "name": "stderr",
     "text": "[Parallel(n_jobs=1)]: Done  64 out of  64 | elapsed:    0.0s finished\n[Parallel(n_jobs=1)]: Done  17 tasks      | elapsed:    0.0s\n[Parallel(n_jobs=1)]: Done  64 out of  64 | elapsed:    0.0s finished\n[Parallel(n_jobs=1)]: Done  17 tasks      | elapsed:    0.0s\n",
     "output_type": "stream"
    },
    {
     "name": "stdout",
     "text": "Used Annotations descriptions: ['T1', 'T2']\nFiltering raw data in 1 contiguous segment\nSetting up band-pass filter from 1 - 40 Hz\n\nFIR filter parameters\n---------------------\nDesigning a one-pass, zero-phase, non-causal bandpass filter:\n- Windowed time-domain design (firwin) method\n- Hamming window with 0.0194 passband ripple and 53 dB stopband attenuation\n- Lower passband edge: 1.00\n- Lower transition bandwidth: 1.00 Hz (-6 dB cutoff frequency: 0.50 Hz)\n- Upper passband edge: 40.00 Hz\n- Upper transition bandwidth: 10.00 Hz (-6 dB cutoff frequency: 45.00 Hz)\n- Filter length: 529 samples (3.306 s)\n\nUsed Annotations descriptions: ['T1', 'T2']\nFiltering raw data in 1 contiguous segment\nSetting up band-pass filter from 1 - 40 Hz\n\nFIR filter parameters\n---------------------\nDesigning a one-pass, zero-phase, non-causal bandpass filter:\n- Windowed time-domain design (firwin) method\n- Hamming window with 0.0194 passband ripple and 53 dB stopband attenuation\n- Lower passband edge: 1.00\n- Lower transition bandwidth: 1.00 Hz (-6 dB cutoff frequency: 0.50 Hz)\n- Upper passband edge: 40.00 Hz\n- Upper transition bandwidth: 10.00 Hz (-6 dB cutoff frequency: 45.00 Hz)\n- Filter length: 529 samples (3.306 s)\n\n",
     "output_type": "stream"
    },
    {
     "name": "stderr",
     "text": "[Parallel(n_jobs=1)]: Done  64 out of  64 | elapsed:    0.1s finished\n[Parallel(n_jobs=1)]: Done  17 tasks      | elapsed:    0.0s\n[Parallel(n_jobs=1)]: Done  64 out of  64 | elapsed:    0.0s finished\n[Parallel(n_jobs=1)]: Done  17 tasks      | elapsed:    0.0s\n",
     "output_type": "stream"
    },
    {
     "name": "stdout",
     "text": "Used Annotations descriptions: ['T1', 'T2']\nFiltering raw data in 1 contiguous segment\nSetting up band-pass filter from 1 - 40 Hz\n\nFIR filter parameters\n---------------------\nDesigning a one-pass, zero-phase, non-causal bandpass filter:\n- Windowed time-domain design (firwin) method\n- Hamming window with 0.0194 passband ripple and 53 dB stopband attenuation\n- Lower passband edge: 1.00\n- Lower transition bandwidth: 1.00 Hz (-6 dB cutoff frequency: 0.50 Hz)\n- Upper passband edge: 40.00 Hz\n- Upper transition bandwidth: 10.00 Hz (-6 dB cutoff frequency: 45.00 Hz)\n- Filter length: 529 samples (3.306 s)\n\nUsed Annotations descriptions: ['T1', 'T2']\nFiltering raw data in 1 contiguous segment\nSetting up band-pass filter from 1 - 40 Hz\n\nFIR filter parameters\n---------------------\nDesigning a one-pass, zero-phase, non-causal bandpass filter:\n- Windowed time-domain design (firwin) method\n- Hamming window with 0.0194 passband ripple and 53 dB stopband attenuation\n- Lower passband edge: 1.00\n- Lower transition bandwidth: 1.00 Hz (-6 dB cutoff frequency: 0.50 Hz)\n- Upper passband edge: 40.00 Hz\n- Upper transition bandwidth: 10.00 Hz (-6 dB cutoff frequency: 45.00 Hz)\n- Filter length: 529 samples (3.306 s)\n\n",
     "output_type": "stream"
    },
    {
     "name": "stderr",
     "text": "[Parallel(n_jobs=1)]: Done  64 out of  64 | elapsed:    0.1s finished\n[Parallel(n_jobs=1)]: Done  17 tasks      | elapsed:    0.0s\n[Parallel(n_jobs=1)]: Done  64 out of  64 | elapsed:    0.0s finished\n[Parallel(n_jobs=1)]: Done  17 tasks      | elapsed:    0.0s\n",
     "output_type": "stream"
    },
    {
     "name": "stdout",
     "text": "Used Annotations descriptions: ['T1', 'T2']\nFiltering raw data in 1 contiguous segment\nSetting up band-pass filter from 1 - 40 Hz\n\nFIR filter parameters\n---------------------\nDesigning a one-pass, zero-phase, non-causal bandpass filter:\n- Windowed time-domain design (firwin) method\n- Hamming window with 0.0194 passband ripple and 53 dB stopband attenuation\n- Lower passband edge: 1.00\n- Lower transition bandwidth: 1.00 Hz (-6 dB cutoff frequency: 0.50 Hz)\n- Upper passband edge: 40.00 Hz\n- Upper transition bandwidth: 10.00 Hz (-6 dB cutoff frequency: 45.00 Hz)\n- Filter length: 529 samples (3.306 s)\n\nUsed Annotations descriptions: ['T1', 'T2']\nFiltering raw data in 1 contiguous segment\nSetting up band-pass filter from 1 - 40 Hz\n\nFIR filter parameters\n---------------------\nDesigning a one-pass, zero-phase, non-causal bandpass filter:\n- Windowed time-domain design (firwin) method\n- Hamming window with 0.0194 passband ripple and 53 dB stopband attenuation\n- Lower passband edge: 1.00\n- Lower transition bandwidth: 1.00 Hz (-6 dB cutoff frequency: 0.50 Hz)\n- Upper passband edge: 40.00 Hz\n- Upper transition bandwidth: 10.00 Hz (-6 dB cutoff frequency: 45.00 Hz)\n- Filter length: 529 samples (3.306 s)\n\n",
     "output_type": "stream"
    },
    {
     "name": "stderr",
     "text": "[Parallel(n_jobs=1)]: Done  64 out of  64 | elapsed:    0.1s finished\n[Parallel(n_jobs=1)]: Done  17 tasks      | elapsed:    0.0s\n[Parallel(n_jobs=1)]: Done  64 out of  64 | elapsed:    0.1s finished\n[Parallel(n_jobs=1)]: Done  17 tasks      | elapsed:    0.0s\n",
     "output_type": "stream"
    },
    {
     "name": "stdout",
     "text": "Used Annotations descriptions: ['T1', 'T2']\nFiltering raw data in 1 contiguous segment\nSetting up band-pass filter from 1 - 40 Hz\n\nFIR filter parameters\n---------------------\nDesigning a one-pass, zero-phase, non-causal bandpass filter:\n- Windowed time-domain design (firwin) method\n- Hamming window with 0.0194 passband ripple and 53 dB stopband attenuation\n- Lower passband edge: 1.00\n- Lower transition bandwidth: 1.00 Hz (-6 dB cutoff frequency: 0.50 Hz)\n- Upper passband edge: 40.00 Hz\n- Upper transition bandwidth: 10.00 Hz (-6 dB cutoff frequency: 45.00 Hz)\n- Filter length: 529 samples (3.306 s)\n\nUsed Annotations descriptions: ['T1', 'T2']\nFiltering raw data in 1 contiguous segment\nSetting up band-pass filter from 1 - 40 Hz\n\nFIR filter parameters\n---------------------\nDesigning a one-pass, zero-phase, non-causal bandpass filter:\n- Windowed time-domain design (firwin) method\n- Hamming window with 0.0194 passband ripple and 53 dB stopband attenuation\n- Lower passband edge: 1.00\n- Lower transition bandwidth: 1.00 Hz (-6 dB cutoff frequency: 0.50 Hz)\n- Upper passband edge: 40.00 Hz\n- Upper transition bandwidth: 10.00 Hz (-6 dB cutoff frequency: 45.00 Hz)\n- Filter length: 529 samples (3.306 s)\n\n",
     "output_type": "stream"
    },
    {
     "name": "stderr",
     "text": "[Parallel(n_jobs=1)]: Done  64 out of  64 | elapsed:    0.1s finished\n[Parallel(n_jobs=1)]: Done  17 tasks      | elapsed:    0.0s\n[Parallel(n_jobs=1)]: Done  64 out of  64 | elapsed:    0.0s finished\n[Parallel(n_jobs=1)]: Done  17 tasks      | elapsed:    0.0s\n",
     "output_type": "stream"
    },
    {
     "name": "stdout",
     "text": "Used Annotations descriptions: ['T1', 'T2']\nFiltering raw data in 1 contiguous segment\nSetting up band-pass filter from 1 - 40 Hz\n\nFIR filter parameters\n---------------------\nDesigning a one-pass, zero-phase, non-causal bandpass filter:\n- Windowed time-domain design (firwin) method\n- Hamming window with 0.0194 passband ripple and 53 dB stopband attenuation\n- Lower passband edge: 1.00\n- Lower transition bandwidth: 1.00 Hz (-6 dB cutoff frequency: 0.50 Hz)\n- Upper passband edge: 40.00 Hz\n- Upper transition bandwidth: 10.00 Hz (-6 dB cutoff frequency: 45.00 Hz)\n- Filter length: 529 samples (3.306 s)\n\nUsed Annotations descriptions: ['T1', 'T2']\nFiltering raw data in 1 contiguous segment\nSetting up band-pass filter from 1 - 40 Hz\n\nFIR filter parameters\n---------------------\nDesigning a one-pass, zero-phase, non-causal bandpass filter:\n- Windowed time-domain design (firwin) method\n- Hamming window with 0.0194 passband ripple and 53 dB stopband attenuation\n- Lower passband edge: 1.00\n- Lower transition bandwidth: 1.00 Hz (-6 dB cutoff frequency: 0.50 Hz)\n- Upper passband edge: 40.00 Hz\n- Upper transition bandwidth: 10.00 Hz (-6 dB cutoff frequency: 45.00 Hz)\n- Filter length: 529 samples (3.306 s)\n\n",
     "output_type": "stream"
    },
    {
     "name": "stderr",
     "text": "[Parallel(n_jobs=1)]: Done  64 out of  64 | elapsed:    0.0s finished\n[Parallel(n_jobs=1)]: Done  17 tasks      | elapsed:    0.0s\n[Parallel(n_jobs=1)]: Done  64 out of  64 | elapsed:    0.0s finished\n[Parallel(n_jobs=1)]: Done  17 tasks      | elapsed:    0.0s\n",
     "output_type": "stream"
    },
    {
     "name": "stdout",
     "text": "Used Annotations descriptions: ['T1', 'T2']\nFiltering raw data in 1 contiguous segment\nSetting up band-pass filter from 1 - 40 Hz\n\nFIR filter parameters\n---------------------\nDesigning a one-pass, zero-phase, non-causal bandpass filter:\n- Windowed time-domain design (firwin) method\n- Hamming window with 0.0194 passband ripple and 53 dB stopband attenuation\n- Lower passband edge: 1.00\n- Lower transition bandwidth: 1.00 Hz (-6 dB cutoff frequency: 0.50 Hz)\n- Upper passband edge: 40.00 Hz\n- Upper transition bandwidth: 10.00 Hz (-6 dB cutoff frequency: 45.00 Hz)\n- Filter length: 529 samples (3.306 s)\n\nUsed Annotations descriptions: ['T1', 'T2']\nFiltering raw data in 1 contiguous segment\nSetting up band-pass filter from 1 - 40 Hz\n\nFIR filter parameters\n---------------------\nDesigning a one-pass, zero-phase, non-causal bandpass filter:\n- Windowed time-domain design (firwin) method\n- Hamming window with 0.0194 passband ripple and 53 dB stopband attenuation\n- Lower passband edge: 1.00\n- Lower transition bandwidth: 1.00 Hz (-6 dB cutoff frequency: 0.50 Hz)\n- Upper passband edge: 40.00 Hz\n- Upper transition bandwidth: 10.00 Hz (-6 dB cutoff frequency: 45.00 Hz)\n- Filter length: 529 samples (3.306 s)\n\n",
     "output_type": "stream"
    },
    {
     "name": "stderr",
     "text": "[Parallel(n_jobs=1)]: Done  64 out of  64 | elapsed:    0.0s finished\n[Parallel(n_jobs=1)]: Done  17 tasks      | elapsed:    0.0s\n[Parallel(n_jobs=1)]: Done  64 out of  64 | elapsed:    0.0s finished\n[Parallel(n_jobs=1)]: Done  17 tasks      | elapsed:    0.0s\n",
     "output_type": "stream"
    },
    {
     "name": "stdout",
     "text": "Used Annotations descriptions: ['T1', 'T2']\nFiltering raw data in 1 contiguous segment\nSetting up band-pass filter from 1 - 40 Hz\n\nFIR filter parameters\n---------------------\nDesigning a one-pass, zero-phase, non-causal bandpass filter:\n- Windowed time-domain design (firwin) method\n- Hamming window with 0.0194 passband ripple and 53 dB stopband attenuation\n- Lower passband edge: 1.00\n- Lower transition bandwidth: 1.00 Hz (-6 dB cutoff frequency: 0.50 Hz)\n- Upper passband edge: 40.00 Hz\n- Upper transition bandwidth: 10.00 Hz (-6 dB cutoff frequency: 45.00 Hz)\n- Filter length: 529 samples (3.306 s)\n\nUsed Annotations descriptions: ['T1', 'T2']\nFiltering raw data in 1 contiguous segment\nSetting up band-pass filter from 1 - 40 Hz\n\nFIR filter parameters\n---------------------\nDesigning a one-pass, zero-phase, non-causal bandpass filter:\n- Windowed time-domain design (firwin) method\n- Hamming window with 0.0194 passband ripple and 53 dB stopband attenuation\n- Lower passband edge: 1.00\n- Lower transition bandwidth: 1.00 Hz (-6 dB cutoff frequency: 0.50 Hz)\n- Upper passband edge: 40.00 Hz\n- Upper transition bandwidth: 10.00 Hz (-6 dB cutoff frequency: 45.00 Hz)\n- Filter length: 529 samples (3.306 s)\n\n",
     "output_type": "stream"
    },
    {
     "name": "stderr",
     "text": "[Parallel(n_jobs=1)]: Done  64 out of  64 | elapsed:    0.0s finished\n[Parallel(n_jobs=1)]: Done  17 tasks      | elapsed:    0.0s\n[Parallel(n_jobs=1)]: Done  64 out of  64 | elapsed:    0.1s finished\n[Parallel(n_jobs=1)]: Done  17 tasks      | elapsed:    0.0s\n",
     "output_type": "stream"
    },
    {
     "name": "stdout",
     "text": "Used Annotations descriptions: ['T1', 'T2']\nFiltering raw data in 1 contiguous segment\nSetting up band-pass filter from 1 - 40 Hz\n\nFIR filter parameters\n---------------------\nDesigning a one-pass, zero-phase, non-causal bandpass filter:\n- Windowed time-domain design (firwin) method\n- Hamming window with 0.0194 passband ripple and 53 dB stopband attenuation\n- Lower passband edge: 1.00\n- Lower transition bandwidth: 1.00 Hz (-6 dB cutoff frequency: 0.50 Hz)\n- Upper passband edge: 40.00 Hz\n- Upper transition bandwidth: 10.00 Hz (-6 dB cutoff frequency: 45.00 Hz)\n- Filter length: 529 samples (3.306 s)\n\nUsed Annotations descriptions: ['T1', 'T2']\nFiltering raw data in 1 contiguous segment\nSetting up band-pass filter from 1 - 40 Hz\n\nFIR filter parameters\n---------------------\nDesigning a one-pass, zero-phase, non-causal bandpass filter:\n- Windowed time-domain design (firwin) method\n- Hamming window with 0.0194 passband ripple and 53 dB stopband attenuation\n- Lower passband edge: 1.00\n- Lower transition bandwidth: 1.00 Hz (-6 dB cutoff frequency: 0.50 Hz)\n- Upper passband edge: 40.00 Hz\n- Upper transition bandwidth: 10.00 Hz (-6 dB cutoff frequency: 45.00 Hz)\n- Filter length: 529 samples (3.306 s)\n\n",
     "output_type": "stream"
    },
    {
     "name": "stderr",
     "text": "[Parallel(n_jobs=1)]: Done  64 out of  64 | elapsed:    0.1s finished\n[Parallel(n_jobs=1)]: Done  17 tasks      | elapsed:    0.0s\n[Parallel(n_jobs=1)]: Done  64 out of  64 | elapsed:    0.1s finished\n[Parallel(n_jobs=1)]: Done  17 tasks      | elapsed:    0.0s\n",
     "output_type": "stream"
    },
    {
     "name": "stdout",
     "text": "Used Annotations descriptions: ['T1', 'T2']\nFiltering raw data in 1 contiguous segment\nSetting up band-pass filter from 1 - 40 Hz\n\nFIR filter parameters\n---------------------\nDesigning a one-pass, zero-phase, non-causal bandpass filter:\n- Windowed time-domain design (firwin) method\n- Hamming window with 0.0194 passband ripple and 53 dB stopband attenuation\n- Lower passband edge: 1.00\n- Lower transition bandwidth: 1.00 Hz (-6 dB cutoff frequency: 0.50 Hz)\n- Upper passband edge: 40.00 Hz\n- Upper transition bandwidth: 10.00 Hz (-6 dB cutoff frequency: 45.00 Hz)\n- Filter length: 529 samples (3.306 s)\n\nUsed Annotations descriptions: ['T1', 'T2']\nFiltering raw data in 1 contiguous segment\nSetting up band-pass filter from 1 - 40 Hz\n\nFIR filter parameters\n---------------------\nDesigning a one-pass, zero-phase, non-causal bandpass filter:\n- Windowed time-domain design (firwin) method\n- Hamming window with 0.0194 passband ripple and 53 dB stopband attenuation\n- Lower passband edge: 1.00\n- Lower transition bandwidth: 1.00 Hz (-6 dB cutoff frequency: 0.50 Hz)\n- Upper passband edge: 40.00 Hz\n- Upper transition bandwidth: 10.00 Hz (-6 dB cutoff frequency: 45.00 Hz)\n- Filter length: 529 samples (3.306 s)\n\n",
     "output_type": "stream"
    },
    {
     "name": "stderr",
     "text": "[Parallel(n_jobs=1)]: Done  64 out of  64 | elapsed:    0.1s finished\n[Parallel(n_jobs=1)]: Done  17 tasks      | elapsed:    0.0s\n[Parallel(n_jobs=1)]: Done  64 out of  64 | elapsed:    0.0s finished\n[Parallel(n_jobs=1)]: Done  17 tasks      | elapsed:    0.0s\n",
     "output_type": "stream"
    },
    {
     "name": "stdout",
     "text": "Used Annotations descriptions: ['T1', 'T2']\nFiltering raw data in 1 contiguous segment\nSetting up band-pass filter from 1 - 40 Hz\n\nFIR filter parameters\n---------------------\nDesigning a one-pass, zero-phase, non-causal bandpass filter:\n- Windowed time-domain design (firwin) method\n- Hamming window with 0.0194 passband ripple and 53 dB stopband attenuation\n- Lower passband edge: 1.00\n- Lower transition bandwidth: 1.00 Hz (-6 dB cutoff frequency: 0.50 Hz)\n- Upper passband edge: 40.00 Hz\n- Upper transition bandwidth: 10.00 Hz (-6 dB cutoff frequency: 45.00 Hz)\n- Filter length: 529 samples (3.306 s)\n\nUsed Annotations descriptions: ['T1', 'T2']\nFiltering raw data in 1 contiguous segment\nSetting up band-pass filter from 1 - 40 Hz\n\nFIR filter parameters\n---------------------\nDesigning a one-pass, zero-phase, non-causal bandpass filter:\n- Windowed time-domain design (firwin) method\n- Hamming window with 0.0194 passband ripple and 53 dB stopband attenuation\n- Lower passband edge: 1.00\n- Lower transition bandwidth: 1.00 Hz (-6 dB cutoff frequency: 0.50 Hz)\n- Upper passband edge: 40.00 Hz\n- Upper transition bandwidth: 10.00 Hz (-6 dB cutoff frequency: 45.00 Hz)\n- Filter length: 529 samples (3.306 s)\n\n",
     "output_type": "stream"
    },
    {
     "name": "stderr",
     "text": "[Parallel(n_jobs=1)]: Done  64 out of  64 | elapsed:    0.0s finished\n[Parallel(n_jobs=1)]: Done  17 tasks      | elapsed:    0.0s\n[Parallel(n_jobs=1)]: Done  64 out of  64 | elapsed:    0.1s finished\n[Parallel(n_jobs=1)]: Done  17 tasks      | elapsed:    0.0s\n",
     "output_type": "stream"
    },
    {
     "name": "stdout",
     "text": "Used Annotations descriptions: ['T1', 'T2']\nFiltering raw data in 1 contiguous segment\nSetting up band-pass filter from 1 - 40 Hz\n\nFIR filter parameters\n---------------------\nDesigning a one-pass, zero-phase, non-causal bandpass filter:\n- Windowed time-domain design (firwin) method\n- Hamming window with 0.0194 passband ripple and 53 dB stopband attenuation\n- Lower passband edge: 1.00\n- Lower transition bandwidth: 1.00 Hz (-6 dB cutoff frequency: 0.50 Hz)\n- Upper passband edge: 40.00 Hz\n- Upper transition bandwidth: 10.00 Hz (-6 dB cutoff frequency: 45.00 Hz)\n- Filter length: 529 samples (3.306 s)\n\nUsed Annotations descriptions: ['T1', 'T2']\nFiltering raw data in 1 contiguous segment\nSetting up band-pass filter from 1 - 40 Hz\n\nFIR filter parameters\n---------------------\nDesigning a one-pass, zero-phase, non-causal bandpass filter:\n- Windowed time-domain design (firwin) method\n- Hamming window with 0.0194 passband ripple and 53 dB stopband attenuation\n- Lower passband edge: 1.00\n- Lower transition bandwidth: 1.00 Hz (-6 dB cutoff frequency: 0.50 Hz)\n- Upper passband edge: 40.00 Hz\n- Upper transition bandwidth: 10.00 Hz (-6 dB cutoff frequency: 45.00 Hz)\n- Filter length: 529 samples (3.306 s)\n\n",
     "output_type": "stream"
    },
    {
     "name": "stderr",
     "text": "[Parallel(n_jobs=1)]: Done  64 out of  64 | elapsed:    0.1s finished\n[Parallel(n_jobs=1)]: Done  17 tasks      | elapsed:    0.0s\n[Parallel(n_jobs=1)]: Done  64 out of  64 | elapsed:    0.0s finished\n[Parallel(n_jobs=1)]: Done  17 tasks      | elapsed:    0.0s\n",
     "output_type": "stream"
    },
    {
     "name": "stdout",
     "text": "Used Annotations descriptions: ['T1', 'T2']\nFiltering raw data in 1 contiguous segment\nSetting up band-pass filter from 1 - 40 Hz\n\nFIR filter parameters\n---------------------\nDesigning a one-pass, zero-phase, non-causal bandpass filter:\n- Windowed time-domain design (firwin) method\n- Hamming window with 0.0194 passband ripple and 53 dB stopband attenuation\n- Lower passband edge: 1.00\n- Lower transition bandwidth: 1.00 Hz (-6 dB cutoff frequency: 0.50 Hz)\n- Upper passband edge: 40.00 Hz\n- Upper transition bandwidth: 10.00 Hz (-6 dB cutoff frequency: 45.00 Hz)\n- Filter length: 529 samples (3.306 s)\n\nUsed Annotations descriptions: ['T1', 'T2']\nFiltering raw data in 1 contiguous segment\nSetting up band-pass filter from 1 - 40 Hz\n\nFIR filter parameters\n---------------------\nDesigning a one-pass, zero-phase, non-causal bandpass filter:\n- Windowed time-domain design (firwin) method\n- Hamming window with 0.0194 passband ripple and 53 dB stopband attenuation\n- Lower passband edge: 1.00\n- Lower transition bandwidth: 1.00 Hz (-6 dB cutoff frequency: 0.50 Hz)\n- Upper passband edge: 40.00 Hz\n- Upper transition bandwidth: 10.00 Hz (-6 dB cutoff frequency: 45.00 Hz)\n- Filter length: 529 samples (3.306 s)\n\n",
     "output_type": "stream"
    },
    {
     "name": "stderr",
     "text": "[Parallel(n_jobs=1)]: Done  64 out of  64 | elapsed:    0.1s finished\n[Parallel(n_jobs=1)]: Done  17 tasks      | elapsed:    0.0s\n[Parallel(n_jobs=1)]: Done  64 out of  64 | elapsed:    0.1s finished\n[Parallel(n_jobs=1)]: Done  17 tasks      | elapsed:    0.0s\n",
     "output_type": "stream"
    },
    {
     "name": "stdout",
     "text": "Used Annotations descriptions: ['T1', 'T2']\nFiltering raw data in 1 contiguous segment\nSetting up band-pass filter from 1 - 40 Hz\n\nFIR filter parameters\n---------------------\nDesigning a one-pass, zero-phase, non-causal bandpass filter:\n- Windowed time-domain design (firwin) method\n- Hamming window with 0.0194 passband ripple and 53 dB stopband attenuation\n- Lower passband edge: 1.00\n- Lower transition bandwidth: 1.00 Hz (-6 dB cutoff frequency: 0.50 Hz)\n- Upper passband edge: 40.00 Hz\n- Upper transition bandwidth: 10.00 Hz (-6 dB cutoff frequency: 45.00 Hz)\n- Filter length: 529 samples (3.306 s)\n\nUsed Annotations descriptions: ['T1', 'T2']\nFiltering raw data in 1 contiguous segment\nSetting up band-pass filter from 1 - 40 Hz\n\nFIR filter parameters\n---------------------\nDesigning a one-pass, zero-phase, non-causal bandpass filter:\n- Windowed time-domain design (firwin) method\n- Hamming window with 0.0194 passband ripple and 53 dB stopband attenuation\n- Lower passband edge: 1.00\n- Lower transition bandwidth: 1.00 Hz (-6 dB cutoff frequency: 0.50 Hz)\n- Upper passband edge: 40.00 Hz\n- Upper transition bandwidth: 10.00 Hz (-6 dB cutoff frequency: 45.00 Hz)\n- Filter length: 529 samples (3.306 s)\n\n",
     "output_type": "stream"
    },
    {
     "name": "stderr",
     "text": "[Parallel(n_jobs=1)]: Done  64 out of  64 | elapsed:    0.0s finished\n[Parallel(n_jobs=1)]: Done  17 tasks      | elapsed:    0.0s\n[Parallel(n_jobs=1)]: Done  64 out of  64 | elapsed:    0.0s finished\n[Parallel(n_jobs=1)]: Done  17 tasks      | elapsed:    0.0s\n",
     "output_type": "stream"
    },
    {
     "name": "stdout",
     "text": "Used Annotations descriptions: ['T1', 'T2']\nFiltering raw data in 1 contiguous segment\nSetting up band-pass filter from 1 - 40 Hz\n\nFIR filter parameters\n---------------------\nDesigning a one-pass, zero-phase, non-causal bandpass filter:\n- Windowed time-domain design (firwin) method\n- Hamming window with 0.0194 passband ripple and 53 dB stopband attenuation\n- Lower passband edge: 1.00\n- Lower transition bandwidth: 1.00 Hz (-6 dB cutoff frequency: 0.50 Hz)\n- Upper passband edge: 40.00 Hz\n- Upper transition bandwidth: 10.00 Hz (-6 dB cutoff frequency: 45.00 Hz)\n- Filter length: 529 samples (3.306 s)\n\nUsed Annotations descriptions: ['T1', 'T2']\nFiltering raw data in 1 contiguous segment\nSetting up band-pass filter from 1 - 40 Hz\n\nFIR filter parameters\n---------------------\nDesigning a one-pass, zero-phase, non-causal bandpass filter:\n- Windowed time-domain design (firwin) method\n- Hamming window with 0.0194 passband ripple and 53 dB stopband attenuation\n- Lower passband edge: 1.00\n- Lower transition bandwidth: 1.00 Hz (-6 dB cutoff frequency: 0.50 Hz)\n- Upper passband edge: 40.00 Hz\n- Upper transition bandwidth: 10.00 Hz (-6 dB cutoff frequency: 45.00 Hz)\n- Filter length: 529 samples (3.306 s)\n\n",
     "output_type": "stream"
    },
    {
     "name": "stderr",
     "text": "[Parallel(n_jobs=1)]: Done  64 out of  64 | elapsed:    0.1s finished\n[Parallel(n_jobs=1)]: Done  17 tasks      | elapsed:    0.0s\n[Parallel(n_jobs=1)]: Done  64 out of  64 | elapsed:    0.0s finished\n[Parallel(n_jobs=1)]: Done  17 tasks      | elapsed:    0.0s\n",
     "output_type": "stream"
    },
    {
     "name": "stdout",
     "text": "Used Annotations descriptions: ['T1', 'T2']\nFiltering raw data in 1 contiguous segment\nSetting up band-pass filter from 1 - 40 Hz\n\nFIR filter parameters\n---------------------\nDesigning a one-pass, zero-phase, non-causal bandpass filter:\n- Windowed time-domain design (firwin) method\n- Hamming window with 0.0194 passband ripple and 53 dB stopband attenuation\n- Lower passband edge: 1.00\n- Lower transition bandwidth: 1.00 Hz (-6 dB cutoff frequency: 0.50 Hz)\n- Upper passband edge: 40.00 Hz\n- Upper transition bandwidth: 10.00 Hz (-6 dB cutoff frequency: 45.00 Hz)\n- Filter length: 529 samples (3.306 s)\n\nUsed Annotations descriptions: ['T1', 'T2']\nFiltering raw data in 1 contiguous segment\nSetting up band-pass filter from 1 - 40 Hz\n\nFIR filter parameters\n---------------------\nDesigning a one-pass, zero-phase, non-causal bandpass filter:\n- Windowed time-domain design (firwin) method\n- Hamming window with 0.0194 passband ripple and 53 dB stopband attenuation\n- Lower passband edge: 1.00\n- Lower transition bandwidth: 1.00 Hz (-6 dB cutoff frequency: 0.50 Hz)\n- Upper passband edge: 40.00 Hz\n- Upper transition bandwidth: 10.00 Hz (-6 dB cutoff frequency: 45.00 Hz)\n- Filter length: 529 samples (3.306 s)\n\n",
     "output_type": "stream"
    },
    {
     "name": "stderr",
     "text": "[Parallel(n_jobs=1)]: Done  64 out of  64 | elapsed:    0.1s finished\n[Parallel(n_jobs=1)]: Done  17 tasks      | elapsed:    0.0s\n[Parallel(n_jobs=1)]: Done  64 out of  64 | elapsed:    0.1s finished\n[Parallel(n_jobs=1)]: Done  17 tasks      | elapsed:    0.0s\n",
     "output_type": "stream"
    },
    {
     "name": "stdout",
     "text": "Used Annotations descriptions: ['T1', 'T2']\nFiltering raw data in 1 contiguous segment\nSetting up band-pass filter from 1 - 40 Hz\n\nFIR filter parameters\n---------------------\nDesigning a one-pass, zero-phase, non-causal bandpass filter:\n- Windowed time-domain design (firwin) method\n- Hamming window with 0.0194 passband ripple and 53 dB stopband attenuation\n- Lower passband edge: 1.00\n- Lower transition bandwidth: 1.00 Hz (-6 dB cutoff frequency: 0.50 Hz)\n- Upper passband edge: 40.00 Hz\n- Upper transition bandwidth: 10.00 Hz (-6 dB cutoff frequency: 45.00 Hz)\n- Filter length: 529 samples (3.306 s)\n\nUsed Annotations descriptions: ['T1', 'T2']\nFiltering raw data in 1 contiguous segment\nSetting up band-pass filter from 1 - 40 Hz\n\nFIR filter parameters\n---------------------\nDesigning a one-pass, zero-phase, non-causal bandpass filter:\n- Windowed time-domain design (firwin) method\n- Hamming window with 0.0194 passband ripple and 53 dB stopband attenuation\n- Lower passband edge: 1.00\n- Lower transition bandwidth: 1.00 Hz (-6 dB cutoff frequency: 0.50 Hz)\n- Upper passband edge: 40.00 Hz\n- Upper transition bandwidth: 10.00 Hz (-6 dB cutoff frequency: 45.00 Hz)\n- Filter length: 529 samples (3.306 s)\n\n",
     "output_type": "stream"
    },
    {
     "name": "stderr",
     "text": "[Parallel(n_jobs=1)]: Done  64 out of  64 | elapsed:    0.0s finished\n[Parallel(n_jobs=1)]: Done  17 tasks      | elapsed:    0.0s\n[Parallel(n_jobs=1)]: Done  64 out of  64 | elapsed:    0.0s finished\n[Parallel(n_jobs=1)]: Done  17 tasks      | elapsed:    0.0s\n",
     "output_type": "stream"
    },
    {
     "name": "stdout",
     "text": "Used Annotations descriptions: ['T1', 'T2']\nFiltering raw data in 1 contiguous segment\nSetting up band-pass filter from 1 - 40 Hz\n\nFIR filter parameters\n---------------------\nDesigning a one-pass, zero-phase, non-causal bandpass filter:\n- Windowed time-domain design (firwin) method\n- Hamming window with 0.0194 passband ripple and 53 dB stopband attenuation\n- Lower passband edge: 1.00\n- Lower transition bandwidth: 1.00 Hz (-6 dB cutoff frequency: 0.50 Hz)\n- Upper passband edge: 40.00 Hz\n- Upper transition bandwidth: 10.00 Hz (-6 dB cutoff frequency: 45.00 Hz)\n- Filter length: 529 samples (3.306 s)\n\nUsed Annotations descriptions: ['T1', 'T2']\nFiltering raw data in 1 contiguous segment\nSetting up band-pass filter from 1 - 40 Hz\n\nFIR filter parameters\n---------------------\nDesigning a one-pass, zero-phase, non-causal bandpass filter:\n- Windowed time-domain design (firwin) method\n- Hamming window with 0.0194 passband ripple and 53 dB stopband attenuation\n- Lower passband edge: 1.00\n- Lower transition bandwidth: 1.00 Hz (-6 dB cutoff frequency: 0.50 Hz)\n- Upper passband edge: 40.00 Hz\n- Upper transition bandwidth: 10.00 Hz (-6 dB cutoff frequency: 45.00 Hz)\n- Filter length: 529 samples (3.306 s)\n\n",
     "output_type": "stream"
    },
    {
     "name": "stderr",
     "text": "[Parallel(n_jobs=1)]: Done  64 out of  64 | elapsed:    0.0s finished\n[Parallel(n_jobs=1)]: Done  17 tasks      | elapsed:    0.0s\n[Parallel(n_jobs=1)]: Done  64 out of  64 | elapsed:    0.1s finished\n[Parallel(n_jobs=1)]: Done  17 tasks      | elapsed:    0.0s\n",
     "output_type": "stream"
    },
    {
     "name": "stdout",
     "text": "Used Annotations descriptions: ['T1', 'T2']\nFiltering raw data in 1 contiguous segment\nSetting up band-pass filter from 1 - 40 Hz\n\nFIR filter parameters\n---------------------\nDesigning a one-pass, zero-phase, non-causal bandpass filter:\n- Windowed time-domain design (firwin) method\n- Hamming window with 0.0194 passband ripple and 53 dB stopband attenuation\n- Lower passband edge: 1.00\n- Lower transition bandwidth: 1.00 Hz (-6 dB cutoff frequency: 0.50 Hz)\n- Upper passband edge: 40.00 Hz\n- Upper transition bandwidth: 10.00 Hz (-6 dB cutoff frequency: 45.00 Hz)\n- Filter length: 529 samples (3.306 s)\n\nUsed Annotations descriptions: ['T1', 'T2']\nFiltering raw data in 1 contiguous segment\nSetting up band-pass filter from 1 - 40 Hz\n\nFIR filter parameters\n---------------------\nDesigning a one-pass, zero-phase, non-causal bandpass filter:\n- Windowed time-domain design (firwin) method\n- Hamming window with 0.0194 passband ripple and 53 dB stopband attenuation\n- Lower passband edge: 1.00\n- Lower transition bandwidth: 1.00 Hz (-6 dB cutoff frequency: 0.50 Hz)\n- Upper passband edge: 40.00 Hz\n- Upper transition bandwidth: 10.00 Hz (-6 dB cutoff frequency: 45.00 Hz)\n- Filter length: 529 samples (3.306 s)\n\n",
     "output_type": "stream"
    },
    {
     "name": "stderr",
     "text": "[Parallel(n_jobs=1)]: Done  64 out of  64 | elapsed:    0.0s finished\n[Parallel(n_jobs=1)]: Done  17 tasks      | elapsed:    0.0s\n[Parallel(n_jobs=1)]: Done  64 out of  64 | elapsed:    0.0s finished\n[Parallel(n_jobs=1)]: Done  17 tasks      | elapsed:    0.0s\n",
     "output_type": "stream"
    },
    {
     "name": "stdout",
     "text": "Used Annotations descriptions: ['T1', 'T2']\nFiltering raw data in 1 contiguous segment\nSetting up band-pass filter from 1 - 40 Hz\n\nFIR filter parameters\n---------------------\nDesigning a one-pass, zero-phase, non-causal bandpass filter:\n- Windowed time-domain design (firwin) method\n- Hamming window with 0.0194 passband ripple and 53 dB stopband attenuation\n- Lower passband edge: 1.00\n- Lower transition bandwidth: 1.00 Hz (-6 dB cutoff frequency: 0.50 Hz)\n- Upper passband edge: 40.00 Hz\n- Upper transition bandwidth: 10.00 Hz (-6 dB cutoff frequency: 45.00 Hz)\n- Filter length: 529 samples (3.306 s)\n\nUsed Annotations descriptions: ['T1', 'T2']\nFiltering raw data in 1 contiguous segment\nSetting up band-pass filter from 1 - 40 Hz\n\nFIR filter parameters\n---------------------\nDesigning a one-pass, zero-phase, non-causal bandpass filter:\n- Windowed time-domain design (firwin) method\n- Hamming window with 0.0194 passband ripple and 53 dB stopband attenuation\n- Lower passband edge: 1.00\n- Lower transition bandwidth: 1.00 Hz (-6 dB cutoff frequency: 0.50 Hz)\n- Upper passband edge: 40.00 Hz\n- Upper transition bandwidth: 10.00 Hz (-6 dB cutoff frequency: 45.00 Hz)\n- Filter length: 529 samples (3.306 s)\n\n",
     "output_type": "stream"
    },
    {
     "name": "stderr",
     "text": "[Parallel(n_jobs=1)]: Done  64 out of  64 | elapsed:    0.0s finished\n[Parallel(n_jobs=1)]: Done  17 tasks      | elapsed:    0.0s\n[Parallel(n_jobs=1)]: Done  64 out of  64 | elapsed:    0.1s finished\n[Parallel(n_jobs=1)]: Done  17 tasks      | elapsed:    0.0s\n",
     "output_type": "stream"
    },
    {
     "name": "stdout",
     "text": "Used Annotations descriptions: ['T1', 'T2']\nFiltering raw data in 1 contiguous segment\nSetting up band-pass filter from 1 - 40 Hz\n\nFIR filter parameters\n---------------------\nDesigning a one-pass, zero-phase, non-causal bandpass filter:\n- Windowed time-domain design (firwin) method\n- Hamming window with 0.0194 passband ripple and 53 dB stopband attenuation\n- Lower passband edge: 1.00\n- Lower transition bandwidth: 1.00 Hz (-6 dB cutoff frequency: 0.50 Hz)\n- Upper passband edge: 40.00 Hz\n- Upper transition bandwidth: 10.00 Hz (-6 dB cutoff frequency: 45.00 Hz)\n- Filter length: 423 samples (3.305 s)\n\nUsed Annotations descriptions: ['T1', 'T2']\nFiltering raw data in 1 contiguous segment\nSetting up band-pass filter from 1 - 40 Hz\n\nFIR filter parameters\n---------------------\nDesigning a one-pass, zero-phase, non-causal bandpass filter:\n- Windowed time-domain design (firwin) method\n- Hamming window with 0.0194 passband ripple and 53 dB stopband attenuation\n- Lower passband edge: 1.00\n- Lower transition bandwidth: 1.00 Hz (-6 dB cutoff frequency: 0.50 Hz)\n- Upper passband edge: 40.00 Hz\n- Upper transition bandwidth: 10.00 Hz (-6 dB cutoff frequency: 45.00 Hz)\n- Filter length: 423 samples (3.305 s)\n\nUsed Annotations descriptions: ['T1', 'T2']\n",
     "output_type": "stream"
    },
    {
     "name": "stderr",
     "text": "[Parallel(n_jobs=1)]: Done  64 out of  64 | elapsed:    0.1s finished\n[Parallel(n_jobs=1)]: Done  17 tasks      | elapsed:    0.0s\n[Parallel(n_jobs=1)]: Done  64 out of  64 | elapsed:    0.0s finished\n[Parallel(n_jobs=1)]: Done  17 tasks      | elapsed:    0.0s\n[Parallel(n_jobs=1)]: Done  64 out of  64 | elapsed:    0.0s finished\n",
     "output_type": "stream"
    },
    {
     "name": "stdout",
     "text": "Filtering raw data in 1 contiguous segment\nSetting up band-pass filter from 1 - 40 Hz\n\nFIR filter parameters\n---------------------\nDesigning a one-pass, zero-phase, non-causal bandpass filter:\n- Windowed time-domain design (firwin) method\n- Hamming window with 0.0194 passband ripple and 53 dB stopband attenuation\n- Lower passband edge: 1.00\n- Lower transition bandwidth: 1.00 Hz (-6 dB cutoff frequency: 0.50 Hz)\n- Upper passband edge: 40.00 Hz\n- Upper transition bandwidth: 10.00 Hz (-6 dB cutoff frequency: 45.00 Hz)\n- Filter length: 423 samples (3.305 s)\n\nUsed Annotations descriptions: ['T1', 'T2']\nFiltering raw data in 1 contiguous segment\nSetting up band-pass filter from 1 - 40 Hz\n\nFIR filter parameters\n---------------------\nDesigning a one-pass, zero-phase, non-causal bandpass filter:\n- Windowed time-domain design (firwin) method\n- Hamming window with 0.0194 passband ripple and 53 dB stopband attenuation\n- Lower passband edge: 1.00\n- Lower transition bandwidth: 1.00 Hz (-6 dB cutoff frequency: 0.50 Hz)\n- Upper passband edge: 40.00 Hz\n- Upper transition bandwidth: 10.00 Hz (-6 dB cutoff frequency: 45.00 Hz)\n- Filter length: 423 samples (3.305 s)\n\nUsed Annotations descriptions: ['T1', 'T2']\nFiltering raw data in 1 contiguous segment\nSetting up band-pass filter from 1 - 40 Hz\n\nFIR filter parameters\n---------------------\nDesigning a one-pass, zero-phase, non-causal bandpass filter:\n- Windowed time-domain design (firwin) method\n- Hamming window with 0.0194 passband ripple and 53 dB stopband attenuation\n- Lower passband edge: 1.00\n- Lower transition bandwidth: 1.00 Hz (-6 dB cutoff frequency: 0.50 Hz)\n- Upper passband edge: 40.00 Hz\n- Upper transition bandwidth: 10.00 Hz (-6 dB cutoff frequency: 45.00 Hz)\n- Filter length: 423 samples (3.305 s)\n\n",
     "output_type": "stream"
    },
    {
     "name": "stderr",
     "text": "[Parallel(n_jobs=1)]: Done  17 tasks      | elapsed:    0.0s\n[Parallel(n_jobs=1)]: Done  64 out of  64 | elapsed:    0.0s finished\n[Parallel(n_jobs=1)]: Done  17 tasks      | elapsed:    0.0s\n[Parallel(n_jobs=1)]: Done  64 out of  64 | elapsed:    0.0s finished\n[Parallel(n_jobs=1)]: Done  17 tasks      | elapsed:    0.0s\n",
     "output_type": "stream"
    },
    {
     "name": "stdout",
     "text": "Used Annotations descriptions: ['T1', 'T2']\nFiltering raw data in 1 contiguous segment\nSetting up band-pass filter from 1 - 40 Hz\n\nFIR filter parameters\n---------------------\nDesigning a one-pass, zero-phase, non-causal bandpass filter:\n- Windowed time-domain design (firwin) method\n- Hamming window with 0.0194 passband ripple and 53 dB stopband attenuation\n- Lower passband edge: 1.00\n- Lower transition bandwidth: 1.00 Hz (-6 dB cutoff frequency: 0.50 Hz)\n- Upper passband edge: 40.00 Hz\n- Upper transition bandwidth: 10.00 Hz (-6 dB cutoff frequency: 45.00 Hz)\n- Filter length: 423 samples (3.305 s)\n\nUsed Annotations descriptions: ['T1', 'T2']\nFiltering raw data in 1 contiguous segment\nSetting up band-pass filter from 1 - 40 Hz\n\nFIR filter parameters\n---------------------\nDesigning a one-pass, zero-phase, non-causal bandpass filter:\n- Windowed time-domain design (firwin) method\n- Hamming window with 0.0194 passband ripple and 53 dB stopband attenuation\n- Lower passband edge: 1.00\n- Lower transition bandwidth: 1.00 Hz (-6 dB cutoff frequency: 0.50 Hz)\n- Upper passband edge: 40.00 Hz\n- Upper transition bandwidth: 10.00 Hz (-6 dB cutoff frequency: 45.00 Hz)\n- Filter length: 529 samples (3.306 s)\n\n",
     "output_type": "stream"
    },
    {
     "name": "stderr",
     "text": "[Parallel(n_jobs=1)]: Done  64 out of  64 | elapsed:    0.0s finished\n[Parallel(n_jobs=1)]: Done  17 tasks      | elapsed:    0.0s\n[Parallel(n_jobs=1)]: Done  64 out of  64 | elapsed:    0.0s finished\n[Parallel(n_jobs=1)]: Done  17 tasks      | elapsed:    0.0s\n",
     "output_type": "stream"
    },
    {
     "name": "stdout",
     "text": "Used Annotations descriptions: ['T1', 'T2']\nFiltering raw data in 1 contiguous segment\nSetting up band-pass filter from 1 - 40 Hz\n\nFIR filter parameters\n---------------------\nDesigning a one-pass, zero-phase, non-causal bandpass filter:\n- Windowed time-domain design (firwin) method\n- Hamming window with 0.0194 passband ripple and 53 dB stopband attenuation\n- Lower passband edge: 1.00\n- Lower transition bandwidth: 1.00 Hz (-6 dB cutoff frequency: 0.50 Hz)\n- Upper passband edge: 40.00 Hz\n- Upper transition bandwidth: 10.00 Hz (-6 dB cutoff frequency: 45.00 Hz)\n- Filter length: 529 samples (3.306 s)\n\nUsed Annotations descriptions: ['T1', 'T2']\nFiltering raw data in 1 contiguous segment\nSetting up band-pass filter from 1 - 40 Hz\n\nFIR filter parameters\n---------------------\nDesigning a one-pass, zero-phase, non-causal bandpass filter:\n- Windowed time-domain design (firwin) method\n- Hamming window with 0.0194 passband ripple and 53 dB stopband attenuation\n- Lower passband edge: 1.00\n- Lower transition bandwidth: 1.00 Hz (-6 dB cutoff frequency: 0.50 Hz)\n- Upper passband edge: 40.00 Hz\n- Upper transition bandwidth: 10.00 Hz (-6 dB cutoff frequency: 45.00 Hz)\n- Filter length: 529 samples (3.306 s)\n\n",
     "output_type": "stream"
    },
    {
     "name": "stderr",
     "text": "[Parallel(n_jobs=1)]: Done  64 out of  64 | elapsed:    0.1s finished\n[Parallel(n_jobs=1)]: Done  17 tasks      | elapsed:    0.0s\n[Parallel(n_jobs=1)]: Done  64 out of  64 | elapsed:    0.0s finished\n[Parallel(n_jobs=1)]: Done  17 tasks      | elapsed:    0.0s\n",
     "output_type": "stream"
    },
    {
     "name": "stdout",
     "text": "Used Annotations descriptions: ['T1', 'T2']\nFiltering raw data in 1 contiguous segment\nSetting up band-pass filter from 1 - 40 Hz\n\nFIR filter parameters\n---------------------\nDesigning a one-pass, zero-phase, non-causal bandpass filter:\n- Windowed time-domain design (firwin) method\n- Hamming window with 0.0194 passband ripple and 53 dB stopband attenuation\n- Lower passband edge: 1.00\n- Lower transition bandwidth: 1.00 Hz (-6 dB cutoff frequency: 0.50 Hz)\n- Upper passband edge: 40.00 Hz\n- Upper transition bandwidth: 10.00 Hz (-6 dB cutoff frequency: 45.00 Hz)\n- Filter length: 529 samples (3.306 s)\n\nUsed Annotations descriptions: ['T1', 'T2']\nFiltering raw data in 1 contiguous segment\nSetting up band-pass filter from 1 - 40 Hz\n\nFIR filter parameters\n---------------------\nDesigning a one-pass, zero-phase, non-causal bandpass filter:\n- Windowed time-domain design (firwin) method\n- Hamming window with 0.0194 passband ripple and 53 dB stopband attenuation\n- Lower passband edge: 1.00\n- Lower transition bandwidth: 1.00 Hz (-6 dB cutoff frequency: 0.50 Hz)\n- Upper passband edge: 40.00 Hz\n- Upper transition bandwidth: 10.00 Hz (-6 dB cutoff frequency: 45.00 Hz)\n- Filter length: 529 samples (3.306 s)\n\n",
     "output_type": "stream"
    },
    {
     "name": "stderr",
     "text": "[Parallel(n_jobs=1)]: Done  64 out of  64 | elapsed:    0.1s finished\n[Parallel(n_jobs=1)]: Done  17 tasks      | elapsed:    0.0s\n[Parallel(n_jobs=1)]: Done  64 out of  64 | elapsed:    0.0s finished\n[Parallel(n_jobs=1)]: Done  17 tasks      | elapsed:    0.0s\n",
     "output_type": "stream"
    },
    {
     "name": "stdout",
     "text": "Used Annotations descriptions: ['T1', 'T2']\nFiltering raw data in 1 contiguous segment\nSetting up band-pass filter from 1 - 40 Hz\n\nFIR filter parameters\n---------------------\nDesigning a one-pass, zero-phase, non-causal bandpass filter:\n- Windowed time-domain design (firwin) method\n- Hamming window with 0.0194 passband ripple and 53 dB stopband attenuation\n- Lower passband edge: 1.00\n- Lower transition bandwidth: 1.00 Hz (-6 dB cutoff frequency: 0.50 Hz)\n- Upper passband edge: 40.00 Hz\n- Upper transition bandwidth: 10.00 Hz (-6 dB cutoff frequency: 45.00 Hz)\n- Filter length: 529 samples (3.306 s)\n\nUsed Annotations descriptions: ['T1', 'T2']\nFiltering raw data in 1 contiguous segment\nSetting up band-pass filter from 1 - 40 Hz\n\nFIR filter parameters\n---------------------\nDesigning a one-pass, zero-phase, non-causal bandpass filter:\n- Windowed time-domain design (firwin) method\n- Hamming window with 0.0194 passband ripple and 53 dB stopband attenuation\n- Lower passband edge: 1.00\n- Lower transition bandwidth: 1.00 Hz (-6 dB cutoff frequency: 0.50 Hz)\n- Upper passband edge: 40.00 Hz\n- Upper transition bandwidth: 10.00 Hz (-6 dB cutoff frequency: 45.00 Hz)\n- Filter length: 529 samples (3.306 s)\n\n",
     "output_type": "stream"
    },
    {
     "name": "stderr",
     "text": "[Parallel(n_jobs=1)]: Done  64 out of  64 | elapsed:    0.0s finished\n[Parallel(n_jobs=1)]: Done  17 tasks      | elapsed:    0.0s\n[Parallel(n_jobs=1)]: Done  64 out of  64 | elapsed:    0.0s finished\n[Parallel(n_jobs=1)]: Done  17 tasks      | elapsed:    0.0s\n",
     "output_type": "stream"
    },
    {
     "name": "stdout",
     "text": "Used Annotations descriptions: ['T1', 'T2']\nFiltering raw data in 1 contiguous segment\nSetting up band-pass filter from 1 - 40 Hz\n\nFIR filter parameters\n---------------------\nDesigning a one-pass, zero-phase, non-causal bandpass filter:\n- Windowed time-domain design (firwin) method\n- Hamming window with 0.0194 passband ripple and 53 dB stopband attenuation\n- Lower passband edge: 1.00\n- Lower transition bandwidth: 1.00 Hz (-6 dB cutoff frequency: 0.50 Hz)\n- Upper passband edge: 40.00 Hz\n- Upper transition bandwidth: 10.00 Hz (-6 dB cutoff frequency: 45.00 Hz)\n- Filter length: 529 samples (3.306 s)\n\nUsed Annotations descriptions: ['T1', 'T2']\nFiltering raw data in 1 contiguous segment\nSetting up band-pass filter from 1 - 40 Hz\n\nFIR filter parameters\n---------------------\nDesigning a one-pass, zero-phase, non-causal bandpass filter:\n- Windowed time-domain design (firwin) method\n- Hamming window with 0.0194 passband ripple and 53 dB stopband attenuation\n- Lower passband edge: 1.00\n- Lower transition bandwidth: 1.00 Hz (-6 dB cutoff frequency: 0.50 Hz)\n- Upper passband edge: 40.00 Hz\n- Upper transition bandwidth: 10.00 Hz (-6 dB cutoff frequency: 45.00 Hz)\n- Filter length: 529 samples (3.306 s)\n\n",
     "output_type": "stream"
    },
    {
     "name": "stderr",
     "text": "[Parallel(n_jobs=1)]: Done  64 out of  64 | elapsed:    0.1s finished\n[Parallel(n_jobs=1)]: Done  17 tasks      | elapsed:    0.0s\n[Parallel(n_jobs=1)]: Done  64 out of  64 | elapsed:    0.0s finished\n[Parallel(n_jobs=1)]: Done  17 tasks      | elapsed:    0.0s\n",
     "output_type": "stream"
    },
    {
     "name": "stdout",
     "text": "Used Annotations descriptions: ['T1', 'T2']\nFiltering raw data in 1 contiguous segment\nSetting up band-pass filter from 1 - 40 Hz\n\nFIR filter parameters\n---------------------\nDesigning a one-pass, zero-phase, non-causal bandpass filter:\n- Windowed time-domain design (firwin) method\n- Hamming window with 0.0194 passband ripple and 53 dB stopband attenuation\n- Lower passband edge: 1.00\n- Lower transition bandwidth: 1.00 Hz (-6 dB cutoff frequency: 0.50 Hz)\n- Upper passband edge: 40.00 Hz\n- Upper transition bandwidth: 10.00 Hz (-6 dB cutoff frequency: 45.00 Hz)\n- Filter length: 529 samples (3.306 s)\n\nUsed Annotations descriptions: ['T1', 'T2']\nFiltering raw data in 1 contiguous segment\nSetting up band-pass filter from 1 - 40 Hz\n\nFIR filter parameters\n---------------------\nDesigning a one-pass, zero-phase, non-causal bandpass filter:\n- Windowed time-domain design (firwin) method\n- Hamming window with 0.0194 passband ripple and 53 dB stopband attenuation\n- Lower passband edge: 1.00\n- Lower transition bandwidth: 1.00 Hz (-6 dB cutoff frequency: 0.50 Hz)\n- Upper passband edge: 40.00 Hz\n- Upper transition bandwidth: 10.00 Hz (-6 dB cutoff frequency: 45.00 Hz)\n- Filter length: 529 samples (3.306 s)\n\n",
     "output_type": "stream"
    },
    {
     "name": "stderr",
     "text": "[Parallel(n_jobs=1)]: Done  64 out of  64 | elapsed:    0.1s finished\n[Parallel(n_jobs=1)]: Done  17 tasks      | elapsed:    0.0s\n[Parallel(n_jobs=1)]: Done  64 out of  64 | elapsed:    0.0s finished\n[Parallel(n_jobs=1)]: Done  17 tasks      | elapsed:    0.0s\n",
     "output_type": "stream"
    },
    {
     "name": "stdout",
     "text": "Used Annotations descriptions: ['T1', 'T2']\nFiltering raw data in 1 contiguous segment\nSetting up band-pass filter from 1 - 40 Hz\n\nFIR filter parameters\n---------------------\nDesigning a one-pass, zero-phase, non-causal bandpass filter:\n- Windowed time-domain design (firwin) method\n- Hamming window with 0.0194 passband ripple and 53 dB stopband attenuation\n- Lower passband edge: 1.00\n- Lower transition bandwidth: 1.00 Hz (-6 dB cutoff frequency: 0.50 Hz)\n- Upper passband edge: 40.00 Hz\n- Upper transition bandwidth: 10.00 Hz (-6 dB cutoff frequency: 45.00 Hz)\n- Filter length: 529 samples (3.306 s)\n\nUsed Annotations descriptions: ['T1', 'T2']\nFiltering raw data in 1 contiguous segment\nSetting up band-pass filter from 1 - 40 Hz\n\nFIR filter parameters\n---------------------\nDesigning a one-pass, zero-phase, non-causal bandpass filter:\n- Windowed time-domain design (firwin) method\n- Hamming window with 0.0194 passband ripple and 53 dB stopband attenuation\n- Lower passband edge: 1.00\n- Lower transition bandwidth: 1.00 Hz (-6 dB cutoff frequency: 0.50 Hz)\n- Upper passband edge: 40.00 Hz\n- Upper transition bandwidth: 10.00 Hz (-6 dB cutoff frequency: 45.00 Hz)\n- Filter length: 529 samples (3.306 s)\n\nUsed Annotations descriptions: ['T1', 'T2']\n",
     "output_type": "stream"
    },
    {
     "name": "stderr",
     "text": "[Parallel(n_jobs=1)]: Done  64 out of  64 | elapsed:    0.1s finished\n[Parallel(n_jobs=1)]: Done  17 tasks      | elapsed:    0.0s\n[Parallel(n_jobs=1)]: Done  64 out of  64 | elapsed:    0.0s finished\n[Parallel(n_jobs=1)]: Done  17 tasks      | elapsed:    0.0s\n[Parallel(n_jobs=1)]: Done  64 out of  64 | elapsed:    0.0s finished\n",
     "output_type": "stream"
    },
    {
     "name": "stdout",
     "text": "Filtering raw data in 1 contiguous segment\nSetting up band-pass filter from 1 - 40 Hz\n\nFIR filter parameters\n---------------------\nDesigning a one-pass, zero-phase, non-causal bandpass filter:\n- Windowed time-domain design (firwin) method\n- Hamming window with 0.0194 passband ripple and 53 dB stopband attenuation\n- Lower passband edge: 1.00\n- Lower transition bandwidth: 1.00 Hz (-6 dB cutoff frequency: 0.50 Hz)\n- Upper passband edge: 40.00 Hz\n- Upper transition bandwidth: 10.00 Hz (-6 dB cutoff frequency: 45.00 Hz)\n- Filter length: 529 samples (3.306 s)\n\nUsed Annotations descriptions: ['T1', 'T2']\nFiltering raw data in 1 contiguous segment\nSetting up band-pass filter from 1 - 40 Hz\n\nFIR filter parameters\n---------------------\nDesigning a one-pass, zero-phase, non-causal bandpass filter:\n- Windowed time-domain design (firwin) method\n- Hamming window with 0.0194 passband ripple and 53 dB stopband attenuation\n- Lower passband edge: 1.00\n- Lower transition bandwidth: 1.00 Hz (-6 dB cutoff frequency: 0.50 Hz)\n- Upper passband edge: 40.00 Hz\n- Upper transition bandwidth: 10.00 Hz (-6 dB cutoff frequency: 45.00 Hz)\n- Filter length: 529 samples (3.306 s)\n\nUsed Annotations descriptions: ['T1', 'T2']\nFiltering raw data in 1 contiguous segment\nSetting up band-pass filter from 1 - 40 Hz\n\nFIR filter parameters\n---------------------\nDesigning a one-pass, zero-phase, non-causal bandpass filter:\n- Windowed time-domain design (firwin) method\n- Hamming window with 0.0194 passband ripple and 53 dB stopband attenuation\n- Lower passband edge: 1.00\n- Lower transition bandwidth: 1.00 Hz (-6 dB cutoff frequency: 0.50 Hz)\n- Upper passband edge: 40.00 Hz\n- Upper transition bandwidth: 10.00 Hz (-6 dB cutoff frequency: 45.00 Hz)\n",
     "output_type": "stream"
    },
    {
     "name": "stderr",
     "text": "[Parallel(n_jobs=1)]: Done  17 tasks      | elapsed:    0.0s\n[Parallel(n_jobs=1)]: Done  64 out of  64 | elapsed:    0.0s finished\n[Parallel(n_jobs=1)]: Done  17 tasks      | elapsed:    0.0s\n[Parallel(n_jobs=1)]: Done  64 out of  64 | elapsed:    0.1s finished\n",
     "output_type": "stream"
    },
    {
     "name": "stdout",
     "text": "- Filter length: 529 samples (3.306 s)\n\nUsed Annotations descriptions: ['T1', 'T2']\nFiltering raw data in 1 contiguous segment\nSetting up band-pass filter from 1 - 40 Hz\n\nFIR filter parameters\n---------------------\nDesigning a one-pass, zero-phase, non-causal bandpass filter:\n- Windowed time-domain design (firwin) method\n- Hamming window with 0.0194 passband ripple and 53 dB stopband attenuation\n- Lower passband edge: 1.00\n- Lower transition bandwidth: 1.00 Hz (-6 dB cutoff frequency: 0.50 Hz)\n- Upper passband edge: 40.00 Hz\n- Upper transition bandwidth: 10.00 Hz (-6 dB cutoff frequency: 45.00 Hz)\n- Filter length: 529 samples (3.306 s)\n\nUsed Annotations descriptions: ['T1', 'T2']\nFiltering raw data in 1 contiguous segment\nSetting up band-pass filter from 1 - 40 Hz\n\nFIR filter parameters\n---------------------\nDesigning a one-pass, zero-phase, non-causal bandpass filter:\n- Windowed time-domain design (firwin) method\n- Hamming window with 0.0194 passband ripple and 53 dB stopband attenuation\n- Lower passband edge: 1.00\n- Lower transition bandwidth: 1.00 Hz (-6 dB cutoff frequency: 0.50 Hz)\n- Upper passband edge: 40.00 Hz\n- Upper transition bandwidth: 10.00 Hz (-6 dB cutoff frequency: 45.00 Hz)\n- Filter length: 529 samples (3.306 s)\n\n",
     "output_type": "stream"
    },
    {
     "name": "stderr",
     "text": "[Parallel(n_jobs=1)]: Done  17 tasks      | elapsed:    0.0s\n[Parallel(n_jobs=1)]: Done  64 out of  64 | elapsed:    0.0s finished\n[Parallel(n_jobs=1)]: Done  17 tasks      | elapsed:    0.0s\n[Parallel(n_jobs=1)]: Done  64 out of  64 | elapsed:    0.0s finished\n",
     "output_type": "stream"
    },
    {
     "name": "stdout",
     "text": "Used Annotations descriptions: ['T1', 'T2']\nFiltering raw data in 1 contiguous segment\nSetting up band-pass filter from 1 - 40 Hz\n\nFIR filter parameters\n---------------------\nDesigning a one-pass, zero-phase, non-causal bandpass filter:\n- Windowed time-domain design (firwin) method\n- Hamming window with 0.0194 passband ripple and 53 dB stopband attenuation\n- Lower passband edge: 1.00\n- Lower transition bandwidth: 1.00 Hz (-6 dB cutoff frequency: 0.50 Hz)\n- Upper passband edge: 40.00 Hz\n- Upper transition bandwidth: 10.00 Hz (-6 dB cutoff frequency: 45.00 Hz)\n- Filter length: 423 samples (3.305 s)\n\nUsed Annotations descriptions: ['T1', 'T2']\nFiltering raw data in 1 contiguous segment\nSetting up band-pass filter from 1 - 40 Hz\n\nFIR filter parameters\n---------------------\nDesigning a one-pass, zero-phase, non-causal bandpass filter:\n- Windowed time-domain design (firwin) method\n- Hamming window with 0.0194 passband ripple and 53 dB stopband attenuation\n- Lower passband edge: 1.00\n- Lower transition bandwidth: 1.00 Hz (-6 dB cutoff frequency: 0.50 Hz)\n- Upper passband edge: 40.00 Hz\n- Upper transition bandwidth: 10.00 Hz (-6 dB cutoff frequency: 45.00 Hz)\n- Filter length: 423 samples (3.305 s)\n\n",
     "output_type": "stream"
    },
    {
     "name": "stderr",
     "text": "[Parallel(n_jobs=1)]: Done  17 tasks      | elapsed:    0.0s\n[Parallel(n_jobs=1)]: Done  64 out of  64 | elapsed:    0.0s finished\n[Parallel(n_jobs=1)]: Done  17 tasks      | elapsed:    0.0s\n[Parallel(n_jobs=1)]: Done  64 out of  64 | elapsed:    0.0s finished\n[Parallel(n_jobs=1)]: Done  17 tasks      | elapsed:    0.0s\n",
     "output_type": "stream"
    },
    {
     "name": "stdout",
     "text": "Used Annotations descriptions: ['T1', 'T2']\nFiltering raw data in 1 contiguous segment\nSetting up band-pass filter from 1 - 40 Hz\n\nFIR filter parameters\n---------------------\nDesigning a one-pass, zero-phase, non-causal bandpass filter:\n- Windowed time-domain design (firwin) method\n- Hamming window with 0.0194 passband ripple and 53 dB stopband attenuation\n- Lower passband edge: 1.00\n- Lower transition bandwidth: 1.00 Hz (-6 dB cutoff frequency: 0.50 Hz)\n- Upper passband edge: 40.00 Hz\n- Upper transition bandwidth: 10.00 Hz (-6 dB cutoff frequency: 45.00 Hz)\n- Filter length: 423 samples (3.305 s)\n\nUsed Annotations descriptions: ['T1', 'T2']\nFiltering raw data in 1 contiguous segment\nSetting up band-pass filter from 1 - 40 Hz\n\nFIR filter parameters\n---------------------\nDesigning a one-pass, zero-phase, non-causal bandpass filter:\n- Windowed time-domain design (firwin) method\n- Hamming window with 0.0194 passband ripple and 53 dB stopband attenuation\n- Lower passband edge: 1.00\n- Lower transition bandwidth: 1.00 Hz (-6 dB cutoff frequency: 0.50 Hz)\n- Upper passband edge: 40.00 Hz\n- Upper transition bandwidth: 10.00 Hz (-6 dB cutoff frequency: 45.00 Hz)\n- Filter length: 423 samples (3.305 s)\n\nUsed Annotations descriptions: ['T1', 'T2']\n",
     "output_type": "stream"
    },
    {
     "name": "stderr",
     "text": "[Parallel(n_jobs=1)]: Done  64 out of  64 | elapsed:    0.0s finished\n[Parallel(n_jobs=1)]: Done  17 tasks      | elapsed:    0.0s\n[Parallel(n_jobs=1)]: Done  64 out of  64 | elapsed:    0.0s finished\n[Parallel(n_jobs=1)]: Done  17 tasks      | elapsed:    0.0s\n[Parallel(n_jobs=1)]: Done  64 out of  64 | elapsed:    0.0s finished\n",
     "output_type": "stream"
    },
    {
     "name": "stdout",
     "text": "Filtering raw data in 1 contiguous segment\nSetting up band-pass filter from 1 - 40 Hz\n\nFIR filter parameters\n---------------------\nDesigning a one-pass, zero-phase, non-causal bandpass filter:\n- Windowed time-domain design (firwin) method\n- Hamming window with 0.0194 passband ripple and 53 dB stopband attenuation\n- Lower passband edge: 1.00\n- Lower transition bandwidth: 1.00 Hz (-6 dB cutoff frequency: 0.50 Hz)\n- Upper passband edge: 40.00 Hz\n- Upper transition bandwidth: 10.00 Hz (-6 dB cutoff frequency: 45.00 Hz)\n- Filter length: 423 samples (3.305 s)\n\nUsed Annotations descriptions: ['T1', 'T2']\nFiltering raw data in 1 contiguous segment\nSetting up band-pass filter from 1 - 40 Hz\n\nFIR filter parameters\n---------------------\nDesigning a one-pass, zero-phase, non-causal bandpass filter:\n- Windowed time-domain design (firwin) method\n- Hamming window with 0.0194 passband ripple and 53 dB stopband attenuation\n- Lower passband edge: 1.00\n- Lower transition bandwidth: 1.00 Hz (-6 dB cutoff frequency: 0.50 Hz)\n- Upper passband edge: 40.00 Hz\n- Upper transition bandwidth: 10.00 Hz (-6 dB cutoff frequency: 45.00 Hz)\n- Filter length: 423 samples (3.305 s)\n\nUsed Annotations descriptions: ['T1', 'T2']\nFiltering raw data in 1 contiguous segment\nSetting up band-pass filter from 1 - 40 Hz\n\nFIR filter parameters\n---------------------\nDesigning a one-pass, zero-phase, non-causal bandpass filter:\n- Windowed time-domain design (firwin) method\n- Hamming window with 0.0194 passband ripple and 53 dB stopband attenuation\n- Lower passband edge: 1.00\n- Lower transition bandwidth: 1.00 Hz (-6 dB cutoff frequency: 0.50 Hz)\n- Upper passband edge: 40.00 Hz\n- Upper transition bandwidth: 10.00 Hz (-6 dB cutoff frequency: 45.00 Hz)\n- Filter length: 529 samples (3.306 s)\n\n",
     "output_type": "stream"
    },
    {
     "name": "stderr",
     "text": "[Parallel(n_jobs=1)]: Done  17 tasks      | elapsed:    0.0s\n[Parallel(n_jobs=1)]: Done  64 out of  64 | elapsed:    0.0s finished\n[Parallel(n_jobs=1)]: Done  17 tasks      | elapsed:    0.0s\n[Parallel(n_jobs=1)]: Done  64 out of  64 | elapsed:    0.0s finished\n[Parallel(n_jobs=1)]: Done  17 tasks      | elapsed:    0.0s\n",
     "output_type": "stream"
    },
    {
     "name": "stdout",
     "text": "Used Annotations descriptions: ['T1', 'T2']\nFiltering raw data in 1 contiguous segment\nSetting up band-pass filter from 1 - 40 Hz\n\nFIR filter parameters\n---------------------\nDesigning a one-pass, zero-phase, non-causal bandpass filter:\n- Windowed time-domain design (firwin) method\n- Hamming window with 0.0194 passband ripple and 53 dB stopband attenuation\n- Lower passband edge: 1.00\n- Lower transition bandwidth: 1.00 Hz (-6 dB cutoff frequency: 0.50 Hz)\n- Upper passband edge: 40.00 Hz\n- Upper transition bandwidth: 10.00 Hz (-6 dB cutoff frequency: 45.00 Hz)\n- Filter length: 529 samples (3.306 s)\n\nUsed Annotations descriptions: ['T1', 'T2']\nFiltering raw data in 1 contiguous segment\nSetting up band-pass filter from 1 - 40 Hz\n\nFIR filter parameters\n---------------------\nDesigning a one-pass, zero-phase, non-causal bandpass filter:\n- Windowed time-domain design (firwin) method\n- Hamming window with 0.0194 passband ripple and 53 dB stopband attenuation\n- Lower passband edge: 1.00\n- Lower transition bandwidth: 1.00 Hz (-6 dB cutoff frequency: 0.50 Hz)\n- Upper passband edge: 40.00 Hz\n- Upper transition bandwidth: 10.00 Hz (-6 dB cutoff frequency: 45.00 Hz)\n- Filter length: 529 samples (3.306 s)\n\nUsed Annotations descriptions: ['T1', 'T2']\n",
     "output_type": "stream"
    },
    {
     "name": "stderr",
     "text": "[Parallel(n_jobs=1)]: Done  64 out of  64 | elapsed:    0.0s finished\n[Parallel(n_jobs=1)]: Done  17 tasks      | elapsed:    0.0s\n[Parallel(n_jobs=1)]: Done  64 out of  64 | elapsed:    0.0s finished\n[Parallel(n_jobs=1)]: Done  17 tasks      | elapsed:    0.0s\n[Parallel(n_jobs=1)]: Done  64 out of  64 | elapsed:    0.0s finished\n",
     "output_type": "stream"
    },
    {
     "name": "stdout",
     "text": "Filtering raw data in 1 contiguous segment\nSetting up band-pass filter from 1 - 40 Hz\n\nFIR filter parameters\n---------------------\nDesigning a one-pass, zero-phase, non-causal bandpass filter:\n- Windowed time-domain design (firwin) method\n- Hamming window with 0.0194 passband ripple and 53 dB stopband attenuation\n- Lower passband edge: 1.00\n- Lower transition bandwidth: 1.00 Hz (-6 dB cutoff frequency: 0.50 Hz)\n- Upper passband edge: 40.00 Hz\n- Upper transition bandwidth: 10.00 Hz (-6 dB cutoff frequency: 45.00 Hz)\n- Filter length: 529 samples (3.306 s)\n\nUsed Annotations descriptions: ['T1', 'T2']\nFiltering raw data in 1 contiguous segment\nSetting up band-pass filter from 1 - 40 Hz\n\nFIR filter parameters\n---------------------\nDesigning a one-pass, zero-phase, non-causal bandpass filter:\n- Windowed time-domain design (firwin) method\n- Hamming window with 0.0194 passband ripple and 53 dB stopband attenuation\n- Lower passband edge: 1.00\n- Lower transition bandwidth: 1.00 Hz (-6 dB cutoff frequency: 0.50 Hz)\n- Upper passband edge: 40.00 Hz\n- Upper transition bandwidth: 10.00 Hz (-6 dB cutoff frequency: 45.00 Hz)\n- Filter length: 529 samples (3.306 s)\n\nUsed Annotations descriptions: ['T1', 'T2']\nFiltering raw data in 1 contiguous segment\nSetting up band-pass filter from 1 - 40 Hz\n\nFIR filter parameters\n---------------------\nDesigning a one-pass, zero-phase, non-causal bandpass filter:\n- Windowed time-domain design (firwin) method\n- Hamming window with 0.0194 passband ripple and 53 dB stopband attenuation\n- Lower passband edge: 1.00\n- Lower transition bandwidth: 1.00 Hz (-6 dB cutoff frequency: 0.50 Hz)\n- Upper passband edge: 40.00 Hz\n- Upper transition bandwidth: 10.00 Hz (-6 dB cutoff frequency: 45.00 Hz)\n",
     "output_type": "stream"
    },
    {
     "name": "stderr",
     "text": "[Parallel(n_jobs=1)]: Done  17 tasks      | elapsed:    0.0s\n[Parallel(n_jobs=1)]: Done  64 out of  64 | elapsed:    0.1s finished\n[Parallel(n_jobs=1)]: Done  17 tasks      | elapsed:    0.0s\n[Parallel(n_jobs=1)]: Done  64 out of  64 | elapsed:    0.1s finished\n",
     "output_type": "stream"
    },
    {
     "name": "stdout",
     "text": "- Filter length: 529 samples (3.306 s)\n\nUsed Annotations descriptions: ['T1', 'T2']\nFiltering raw data in 1 contiguous segment\nSetting up band-pass filter from 1 - 40 Hz\n\nFIR filter parameters\n---------------------\nDesigning a one-pass, zero-phase, non-causal bandpass filter:\n- Windowed time-domain design (firwin) method\n- Hamming window with 0.0194 passband ripple and 53 dB stopband attenuation\n- Lower passband edge: 1.00\n- Lower transition bandwidth: 1.00 Hz (-6 dB cutoff frequency: 0.50 Hz)\n- Upper passband edge: 40.00 Hz\n- Upper transition bandwidth: 10.00 Hz (-6 dB cutoff frequency: 45.00 Hz)\n- Filter length: 529 samples (3.306 s)\n\nUsed Annotations descriptions: ['T1', 'T2']\nFiltering raw data in 1 contiguous segment\nSetting up band-pass filter from 1 - 40 Hz\n\nFIR filter parameters\n---------------------\nDesigning a one-pass, zero-phase, non-causal bandpass filter:\n- Windowed time-domain design (firwin) method\n- Hamming window with 0.0194 passband ripple and 53 dB stopband attenuation\n- Lower passband edge: 1.00\n- Lower transition bandwidth: 1.00 Hz (-6 dB cutoff frequency: 0.50 Hz)\n- Upper passband edge: 40.00 Hz\n- Upper transition bandwidth: 10.00 Hz (-6 dB cutoff frequency: 45.00 Hz)\n- Filter length: 529 samples (3.306 s)\n\n",
     "output_type": "stream"
    },
    {
     "name": "stderr",
     "text": "[Parallel(n_jobs=1)]: Done  17 tasks      | elapsed:    0.0s\n[Parallel(n_jobs=1)]: Done  64 out of  64 | elapsed:    0.1s finished\n[Parallel(n_jobs=1)]: Done  17 tasks      | elapsed:    0.0s\n[Parallel(n_jobs=1)]: Done  64 out of  64 | elapsed:    0.0s finished\n",
     "output_type": "stream"
    },
    {
     "name": "stdout",
     "text": "Used Annotations descriptions: ['T1', 'T2']\nFiltering raw data in 1 contiguous segment\nSetting up band-pass filter from 1 - 40 Hz\n\nFIR filter parameters\n---------------------\nDesigning a one-pass, zero-phase, non-causal bandpass filter:\n- Windowed time-domain design (firwin) method\n- Hamming window with 0.0194 passband ripple and 53 dB stopband attenuation\n- Lower passband edge: 1.00\n- Lower transition bandwidth: 1.00 Hz (-6 dB cutoff frequency: 0.50 Hz)\n- Upper passband edge: 40.00 Hz\n- Upper transition bandwidth: 10.00 Hz (-6 dB cutoff frequency: 45.00 Hz)\n- Filter length: 529 samples (3.306 s)\n\nUsed Annotations descriptions: ['T1', 'T2']\nFiltering raw data in 1 contiguous segment\nSetting up band-pass filter from 1 - 40 Hz\n\nFIR filter parameters\n---------------------\nDesigning a one-pass, zero-phase, non-causal bandpass filter:\n- Windowed time-domain design (firwin) method\n- Hamming window with 0.0194 passband ripple and 53 dB stopband attenuation\n- Lower passband edge: 1.00\n- Lower transition bandwidth: 1.00 Hz (-6 dB cutoff frequency: 0.50 Hz)\n- Upper passband edge: 40.00 Hz\n- Upper transition bandwidth: 10.00 Hz (-6 dB cutoff frequency: 45.00 Hz)\n- Filter length: 529 samples (3.306 s)\n\n",
     "output_type": "stream"
    },
    {
     "name": "stderr",
     "text": "[Parallel(n_jobs=1)]: Done  17 tasks      | elapsed:    0.0s\n[Parallel(n_jobs=1)]: Done  64 out of  64 | elapsed:    0.0s finished\n[Parallel(n_jobs=1)]: Done  17 tasks      | elapsed:    0.0s\n[Parallel(n_jobs=1)]: Done  64 out of  64 | elapsed:    0.0s finished\n",
     "output_type": "stream"
    },
    {
     "name": "stdout",
     "text": "Used Annotations descriptions: ['T1', 'T2']\nFiltering raw data in 1 contiguous segment\nSetting up band-pass filter from 1 - 40 Hz\n\nFIR filter parameters\n---------------------\nDesigning a one-pass, zero-phase, non-causal bandpass filter:\n- Windowed time-domain design (firwin) method\n- Hamming window with 0.0194 passband ripple and 53 dB stopband attenuation\n- Lower passband edge: 1.00\n- Lower transition bandwidth: 1.00 Hz (-6 dB cutoff frequency: 0.50 Hz)\n- Upper passband edge: 40.00 Hz\n- Upper transition bandwidth: 10.00 Hz (-6 dB cutoff frequency: 45.00 Hz)\n- Filter length: 529 samples (3.306 s)\n\nUsed Annotations descriptions: ['T1', 'T2']\nFiltering raw data in 1 contiguous segment\nSetting up band-pass filter from 1 - 40 Hz\n\nFIR filter parameters\n---------------------\nDesigning a one-pass, zero-phase, non-causal bandpass filter:\n- Windowed time-domain design (firwin) method\n- Hamming window with 0.0194 passband ripple and 53 dB stopband attenuation\n- Lower passband edge: 1.00\n- Lower transition bandwidth: 1.00 Hz (-6 dB cutoff frequency: 0.50 Hz)\n- Upper passband edge: 40.00 Hz\n- Upper transition bandwidth: 10.00 Hz (-6 dB cutoff frequency: 45.00 Hz)\n- Filter length: 529 samples (3.306 s)\n\n",
     "output_type": "stream"
    },
    {
     "name": "stderr",
     "text": "[Parallel(n_jobs=1)]: Done  17 tasks      | elapsed:    0.0s\n[Parallel(n_jobs=1)]: Done  64 out of  64 | elapsed:    0.0s finished\n[Parallel(n_jobs=1)]: Done  17 tasks      | elapsed:    0.0s\n[Parallel(n_jobs=1)]: Done  64 out of  64 | elapsed:    0.1s finished\n",
     "output_type": "stream"
    },
    {
     "name": "stdout",
     "text": "Used Annotations descriptions: ['T1', 'T2']\nFiltering raw data in 1 contiguous segment\nSetting up band-pass filter from 1 - 40 Hz\n\nFIR filter parameters\n---------------------\nDesigning a one-pass, zero-phase, non-causal bandpass filter:\n- Windowed time-domain design (firwin) method\n- Hamming window with 0.0194 passband ripple and 53 dB stopband attenuation\n- Lower passband edge: 1.00\n- Lower transition bandwidth: 1.00 Hz (-6 dB cutoff frequency: 0.50 Hz)\n- Upper passband edge: 40.00 Hz\n- Upper transition bandwidth: 10.00 Hz (-6 dB cutoff frequency: 45.00 Hz)\n- Filter length: 529 samples (3.306 s)\n\nUsed Annotations descriptions: ['T1', 'T2']\nFiltering raw data in 1 contiguous segment\nSetting up band-pass filter from 1 - 40 Hz\n\nFIR filter parameters\n---------------------\nDesigning a one-pass, zero-phase, non-causal bandpass filter:\n- Windowed time-domain design (firwin) method\n- Hamming window with 0.0194 passband ripple and 53 dB stopband attenuation\n- Lower passband edge: 1.00\n- Lower transition bandwidth: 1.00 Hz (-6 dB cutoff frequency: 0.50 Hz)\n- Upper passband edge: 40.00 Hz\n- Upper transition bandwidth: 10.00 Hz (-6 dB cutoff frequency: 45.00 Hz)\n- Filter length: 529 samples (3.306 s)\n\n",
     "output_type": "stream"
    },
    {
     "name": "stderr",
     "text": "[Parallel(n_jobs=1)]: Done  17 tasks      | elapsed:    0.0s\n[Parallel(n_jobs=1)]: Done  64 out of  64 | elapsed:    0.0s finished\n[Parallel(n_jobs=1)]: Done  17 tasks      | elapsed:    0.0s\n[Parallel(n_jobs=1)]: Done  64 out of  64 | elapsed:    0.1s finished\n",
     "output_type": "stream"
    },
    {
     "name": "stdout",
     "text": "Used Annotations descriptions: ['T1', 'T2']\nFiltering raw data in 1 contiguous segment\nSetting up band-pass filter from 1 - 40 Hz\n\nFIR filter parameters\n---------------------\nDesigning a one-pass, zero-phase, non-causal bandpass filter:\n- Windowed time-domain design (firwin) method\n- Hamming window with 0.0194 passband ripple and 53 dB stopband attenuation\n- Lower passband edge: 1.00\n- Lower transition bandwidth: 1.00 Hz (-6 dB cutoff frequency: 0.50 Hz)\n- Upper passband edge: 40.00 Hz\n- Upper transition bandwidth: 10.00 Hz (-6 dB cutoff frequency: 45.00 Hz)\n- Filter length: 529 samples (3.306 s)\n\nUsed Annotations descriptions: ['T1', 'T2']\nFiltering raw data in 1 contiguous segment\nSetting up band-pass filter from 1 - 40 Hz\n\nFIR filter parameters\n---------------------\nDesigning a one-pass, zero-phase, non-causal bandpass filter:\n- Windowed time-domain design (firwin) method\n- Hamming window with 0.0194 passband ripple and 53 dB stopband attenuation\n- Lower passband edge: 1.00\n- Lower transition bandwidth: 1.00 Hz (-6 dB cutoff frequency: 0.50 Hz)\n- Upper passband edge: 40.00 Hz\n- Upper transition bandwidth: 10.00 Hz (-6 dB cutoff frequency: 45.00 Hz)\n- Filter length: 529 samples (3.306 s)\n\n",
     "output_type": "stream"
    },
    {
     "name": "stderr",
     "text": "[Parallel(n_jobs=1)]: Done  17 tasks      | elapsed:    0.0s\n[Parallel(n_jobs=1)]: Done  64 out of  64 | elapsed:    0.0s finished\n[Parallel(n_jobs=1)]: Done  17 tasks      | elapsed:    0.0s\n[Parallel(n_jobs=1)]: Done  64 out of  64 | elapsed:    0.0s finished\n[Parallel(n_jobs=1)]: Done  17 tasks      | elapsed:    0.0s\n",
     "output_type": "stream"
    },
    {
     "name": "stdout",
     "text": "Used Annotations descriptions: ['T1', 'T2']\nFiltering raw data in 1 contiguous segment\nSetting up band-pass filter from 1 - 40 Hz\n\nFIR filter parameters\n---------------------\nDesigning a one-pass, zero-phase, non-causal bandpass filter:\n- Windowed time-domain design (firwin) method\n- Hamming window with 0.0194 passband ripple and 53 dB stopband attenuation\n- Lower passband edge: 1.00\n- Lower transition bandwidth: 1.00 Hz (-6 dB cutoff frequency: 0.50 Hz)\n- Upper passband edge: 40.00 Hz\n- Upper transition bandwidth: 10.00 Hz (-6 dB cutoff frequency: 45.00 Hz)\n- Filter length: 529 samples (3.306 s)\n\nUsed Annotations descriptions: ['T1', 'T2']\nFiltering raw data in 1 contiguous segment\nSetting up band-pass filter from 1 - 40 Hz\n\nFIR filter parameters\n---------------------\nDesigning a one-pass, zero-phase, non-causal bandpass filter:\n- Windowed time-domain design (firwin) method\n- Hamming window with 0.0194 passband ripple and 53 dB stopband attenuation\n- Lower passband edge: 1.00\n- Lower transition bandwidth: 1.00 Hz (-6 dB cutoff frequency: 0.50 Hz)\n- Upper passband edge: 40.00 Hz\n- Upper transition bandwidth: 10.00 Hz (-6 dB cutoff frequency: 45.00 Hz)\n- Filter length: 529 samples (3.306 s)\n\nUsed Annotations descriptions: ['T1', 'T2']\n",
     "output_type": "stream"
    },
    {
     "name": "stderr",
     "text": "[Parallel(n_jobs=1)]: Done  64 out of  64 | elapsed:    0.0s finished\n[Parallel(n_jobs=1)]: Done  17 tasks      | elapsed:    0.0s\n[Parallel(n_jobs=1)]: Done  64 out of  64 | elapsed:    0.0s finished\n[Parallel(n_jobs=1)]: Done  17 tasks      | elapsed:    0.0s\n[Parallel(n_jobs=1)]: Done  64 out of  64 | elapsed:    0.0s finished\n",
     "output_type": "stream"
    },
    {
     "name": "stdout",
     "text": "Filtering raw data in 1 contiguous segment\nSetting up band-pass filter from 1 - 40 Hz\n\nFIR filter parameters\n---------------------\nDesigning a one-pass, zero-phase, non-causal bandpass filter:\n- Windowed time-domain design (firwin) method\n- Hamming window with 0.0194 passband ripple and 53 dB stopband attenuation\n- Lower passband edge: 1.00\n- Lower transition bandwidth: 1.00 Hz (-6 dB cutoff frequency: 0.50 Hz)\n- Upper passband edge: 40.00 Hz\n- Upper transition bandwidth: 10.00 Hz (-6 dB cutoff frequency: 45.00 Hz)\n- Filter length: 529 samples (3.306 s)\n\nUsed Annotations descriptions: ['T1', 'T2']\nFiltering raw data in 1 contiguous segment\nSetting up band-pass filter from 1 - 40 Hz\n\nFIR filter parameters\n---------------------\nDesigning a one-pass, zero-phase, non-causal bandpass filter:\n- Windowed time-domain design (firwin) method\n- Hamming window with 0.0194 passband ripple and 53 dB stopband attenuation\n- Lower passband edge: 1.00\n- Lower transition bandwidth: 1.00 Hz (-6 dB cutoff frequency: 0.50 Hz)\n- Upper passband edge: 40.00 Hz\n- Upper transition bandwidth: 10.00 Hz (-6 dB cutoff frequency: 45.00 Hz)\n- Filter length: 529 samples (3.306 s)\n\nUsed Annotations descriptions: ['T1', 'T2']\nFiltering raw data in 1 contiguous segment\nSetting up band-pass filter from 1 - 40 Hz\n\nFIR filter parameters\n---------------------\nDesigning a one-pass, zero-phase, non-causal bandpass filter:\n- Windowed time-domain design (firwin) method\n- Hamming window with 0.0194 passband ripple and 53 dB stopband attenuation\n- Lower passband edge: 1.00\n- Lower transition bandwidth: 1.00 Hz (-6 dB cutoff frequency: 0.50 Hz)\n- Upper passband edge: 40.00 Hz\n- Upper transition bandwidth: 10.00 Hz (-6 dB cutoff frequency: 45.00 Hz)\n- Filter length: 529 samples (3.306 s)\n\n",
     "output_type": "stream"
    },
    {
     "name": "stderr",
     "text": "[Parallel(n_jobs=1)]: Done  17 tasks      | elapsed:    0.0s\n[Parallel(n_jobs=1)]: Done  64 out of  64 | elapsed:    0.0s finished\n[Parallel(n_jobs=1)]: Done  17 tasks      | elapsed:    0.0s\n[Parallel(n_jobs=1)]: Done  64 out of  64 | elapsed:    0.0s finished\n[Parallel(n_jobs=1)]: Done  17 tasks      | elapsed:    0.0s\n",
     "output_type": "stream"
    },
    {
     "name": "stdout",
     "text": "Used Annotations descriptions: ['T1', 'T2']\nFiltering raw data in 1 contiguous segment\nSetting up band-pass filter from 1 - 40 Hz\n\nFIR filter parameters\n---------------------\nDesigning a one-pass, zero-phase, non-causal bandpass filter:\n- Windowed time-domain design (firwin) method\n- Hamming window with 0.0194 passband ripple and 53 dB stopband attenuation\n- Lower passband edge: 1.00\n- Lower transition bandwidth: 1.00 Hz (-6 dB cutoff frequency: 0.50 Hz)\n- Upper passband edge: 40.00 Hz\n- Upper transition bandwidth: 10.00 Hz (-6 dB cutoff frequency: 45.00 Hz)\n- Filter length: 529 samples (3.306 s)\n\nUsed Annotations descriptions: ['T1', 'T2']\nFiltering raw data in 1 contiguous segment\nSetting up band-pass filter from 1 - 40 Hz\n\nFIR filter parameters\n---------------------\nDesigning a one-pass, zero-phase, non-causal bandpass filter:\n- Windowed time-domain design (firwin) method\n- Hamming window with 0.0194 passband ripple and 53 dB stopband attenuation\n- Lower passband edge: 1.00\n- Lower transition bandwidth: 1.00 Hz (-6 dB cutoff frequency: 0.50 Hz)\n- Upper passband edge: 40.00 Hz\n- Upper transition bandwidth: 10.00 Hz (-6 dB cutoff frequency: 45.00 Hz)\n- Filter length: 529 samples (3.306 s)\n\n",
     "output_type": "stream"
    },
    {
     "name": "stderr",
     "text": "[Parallel(n_jobs=1)]: Done  64 out of  64 | elapsed:    0.0s finished\n[Parallel(n_jobs=1)]: Done  17 tasks      | elapsed:    0.0s\n[Parallel(n_jobs=1)]: Done  64 out of  64 | elapsed:    0.0s finished\n[Parallel(n_jobs=1)]: Done  17 tasks      | elapsed:    0.0s\n[Parallel(n_jobs=1)]: Done  64 out of  64 | elapsed:    0.0s finished\n",
     "output_type": "stream"
    },
    {
     "name": "stdout",
     "text": "Used Annotations descriptions: ['T1', 'T2']\nFiltering raw data in 1 contiguous segment\nSetting up band-pass filter from 1 - 40 Hz\n\nFIR filter parameters\n---------------------\nDesigning a one-pass, zero-phase, non-causal bandpass filter:\n- Windowed time-domain design (firwin) method\n- Hamming window with 0.0194 passband ripple and 53 dB stopband attenuation\n- Lower passband edge: 1.00\n- Lower transition bandwidth: 1.00 Hz (-6 dB cutoff frequency: 0.50 Hz)\n- Upper passband edge: 40.00 Hz\n- Upper transition bandwidth: 10.00 Hz (-6 dB cutoff frequency: 45.00 Hz)\n- Filter length: 529 samples (3.306 s)\n\nUsed Annotations descriptions: ['T1', 'T2']\nFiltering raw data in 1 contiguous segment\nSetting up band-pass filter from 1 - 40 Hz\n\nFIR filter parameters\n---------------------\nDesigning a one-pass, zero-phase, non-causal bandpass filter:\n- Windowed time-domain design (firwin) method\n- Hamming window with 0.0194 passband ripple and 53 dB stopband attenuation\n- Lower passband edge: 1.00\n- Lower transition bandwidth: 1.00 Hz (-6 dB cutoff frequency: 0.50 Hz)\n- Upper passband edge: 40.00 Hz\n- Upper transition bandwidth: 10.00 Hz (-6 dB cutoff frequency: 45.00 Hz)\n- Filter length: 529 samples (3.306 s)\n\nUsed Annotations descriptions: ['T1', 'T2']\nFiltering raw data in 1 contiguous segment\nSetting up band-pass filter from 1 - 40 Hz\n\nFIR filter parameters\n---------------------\nDesigning a one-pass, zero-phase, non-causal bandpass filter:\n- Windowed time-domain design (firwin) method\n- Hamming window with 0.0194 passband ripple and 53 dB stopband attenuation\n- Lower passband edge: 1.00\n- Lower transition bandwidth: 1.00 Hz (-6 dB cutoff frequency: 0.50 Hz)\n- Upper passband edge: 40.00 Hz\n- Upper transition bandwidth: 10.00 Hz (-6 dB cutoff frequency: 45.00 Hz)\n- Filter length: 529 samples (3.306 s)\n\n",
     "output_type": "stream"
    },
    {
     "name": "stderr",
     "text": "[Parallel(n_jobs=1)]: Done  17 tasks      | elapsed:    0.0s\n[Parallel(n_jobs=1)]: Done  64 out of  64 | elapsed:    0.0s finished\n[Parallel(n_jobs=1)]: Done  17 tasks      | elapsed:    0.0s\n[Parallel(n_jobs=1)]: Done  64 out of  64 | elapsed:    0.0s finished\n[Parallel(n_jobs=1)]: Done  17 tasks      | elapsed:    0.0s\n",
     "output_type": "stream"
    },
    {
     "name": "stdout",
     "text": "Used Annotations descriptions: ['T1', 'T2']\nFiltering raw data in 1 contiguous segment\nSetting up band-pass filter from 1 - 40 Hz\n\nFIR filter parameters\n---------------------\nDesigning a one-pass, zero-phase, non-causal bandpass filter:\n- Windowed time-domain design (firwin) method\n- Hamming window with 0.0194 passband ripple and 53 dB stopband attenuation\n- Lower passband edge: 1.00\n- Lower transition bandwidth: 1.00 Hz (-6 dB cutoff frequency: 0.50 Hz)\n- Upper passband edge: 40.00 Hz\n- Upper transition bandwidth: 10.00 Hz (-6 dB cutoff frequency: 45.00 Hz)\n- Filter length: 529 samples (3.306 s)\n\nUsed Annotations descriptions: ['T1', 'T2']\nFiltering raw data in 1 contiguous segment\nSetting up band-pass filter from 1 - 40 Hz\n\nFIR filter parameters\n---------------------\nDesigning a one-pass, zero-phase, non-causal bandpass filter:\n- Windowed time-domain design (firwin) method\n- Hamming window with 0.0194 passband ripple and 53 dB stopband attenuation\n- Lower passband edge: 1.00\n- Lower transition bandwidth: 1.00 Hz (-6 dB cutoff frequency: 0.50 Hz)\n- Upper passband edge: 40.00 Hz\n- Upper transition bandwidth: 10.00 Hz (-6 dB cutoff frequency: 45.00 Hz)\n- Filter length: 529 samples (3.306 s)\n\nUsed Annotations descriptions: ['T1', 'T2']\n",
     "output_type": "stream"
    },
    {
     "name": "stderr",
     "text": "[Parallel(n_jobs=1)]: Done  64 out of  64 | elapsed:    0.0s finished\n[Parallel(n_jobs=1)]: Done  17 tasks      | elapsed:    0.0s\n[Parallel(n_jobs=1)]: Done  64 out of  64 | elapsed:    0.0s finished\n[Parallel(n_jobs=1)]: Done  17 tasks      | elapsed:    0.0s\n[Parallel(n_jobs=1)]: Done  64 out of  64 | elapsed:    0.0s finished\n",
     "output_type": "stream"
    },
    {
     "name": "stdout",
     "text": "Filtering raw data in 1 contiguous segment\nSetting up band-pass filter from 1 - 40 Hz\n\nFIR filter parameters\n---------------------\nDesigning a one-pass, zero-phase, non-causal bandpass filter:\n- Windowed time-domain design (firwin) method\n- Hamming window with 0.0194 passband ripple and 53 dB stopband attenuation\n- Lower passband edge: 1.00\n- Lower transition bandwidth: 1.00 Hz (-6 dB cutoff frequency: 0.50 Hz)\n- Upper passband edge: 40.00 Hz\n- Upper transition bandwidth: 10.00 Hz (-6 dB cutoff frequency: 45.00 Hz)\n- Filter length: 529 samples (3.306 s)\n\nUsed Annotations descriptions: ['T1', 'T2']\nFiltering raw data in 1 contiguous segment\nSetting up band-pass filter from 1 - 40 Hz\n\nFIR filter parameters\n---------------------\nDesigning a one-pass, zero-phase, non-causal bandpass filter:\n- Windowed time-domain design (firwin) method\n- Hamming window with 0.0194 passband ripple and 53 dB stopband attenuation\n- Lower passband edge: 1.00\n- Lower transition bandwidth: 1.00 Hz (-6 dB cutoff frequency: 0.50 Hz)\n- Upper passband edge: 40.00 Hz\n- Upper transition bandwidth: 10.00 Hz (-6 dB cutoff frequency: 45.00 Hz)\n- Filter length: 529 samples (3.306 s)\n\nUsed Annotations descriptions: ['T1', 'T2']\nFiltering raw data in 1 contiguous segment\nSetting up band-pass filter from 1 - 40 Hz\n\nFIR filter parameters\n---------------------\nDesigning a one-pass, zero-phase, non-causal bandpass filter:\n- Windowed time-domain design (firwin) method\n- Hamming window with 0.0194 passband ripple and 53 dB stopband attenuation\n- Lower passband edge: 1.00\n- Lower transition bandwidth: 1.00 Hz (-6 dB cutoff frequency: 0.50 Hz)\n- Upper passband edge: 40.00 Hz\n- Upper transition bandwidth: 10.00 Hz (-6 dB cutoff frequency: 45.00 Hz)\n- Filter length: 529 samples (3.306 s)\n\n",
     "output_type": "stream"
    },
    {
     "name": "stderr",
     "text": "[Parallel(n_jobs=1)]: Done  17 tasks      | elapsed:    0.0s\n[Parallel(n_jobs=1)]: Done  64 out of  64 | elapsed:    0.0s finished\n[Parallel(n_jobs=1)]: Done  17 tasks      | elapsed:    0.0s\n[Parallel(n_jobs=1)]: Done  64 out of  64 | elapsed:    0.0s finished\n[Parallel(n_jobs=1)]: Done  17 tasks      | elapsed:    0.0s\n",
     "output_type": "stream"
    },
    {
     "name": "stdout",
     "text": "Used Annotations descriptions: ['T1', 'T2']\nFiltering raw data in 1 contiguous segment\nSetting up band-pass filter from 1 - 40 Hz\n\nFIR filter parameters\n---------------------\nDesigning a one-pass, zero-phase, non-causal bandpass filter:\n- Windowed time-domain design (firwin) method\n- Hamming window with 0.0194 passband ripple and 53 dB stopband attenuation\n- Lower passband edge: 1.00\n- Lower transition bandwidth: 1.00 Hz (-6 dB cutoff frequency: 0.50 Hz)\n- Upper passband edge: 40.00 Hz\n- Upper transition bandwidth: 10.00 Hz (-6 dB cutoff frequency: 45.00 Hz)\n- Filter length: 529 samples (3.306 s)\n\nUsed Annotations descriptions: ['T1', 'T2']\nFiltering raw data in 1 contiguous segment\nSetting up band-pass filter from 1 - 40 Hz\n\nFIR filter parameters\n---------------------\nDesigning a one-pass, zero-phase, non-causal bandpass filter:\n- Windowed time-domain design (firwin) method\n- Hamming window with 0.0194 passband ripple and 53 dB stopband attenuation\n- Lower passband edge: 1.00\n- Lower transition bandwidth: 1.00 Hz (-6 dB cutoff frequency: 0.50 Hz)\n- Upper passband edge: 40.00 Hz\n- Upper transition bandwidth: 10.00 Hz (-6 dB cutoff frequency: 45.00 Hz)\n- Filter length: 529 samples (3.306 s)\n\nUsed Annotations descriptions: ['T1', 'T2']\n",
     "output_type": "stream"
    },
    {
     "name": "stderr",
     "text": "[Parallel(n_jobs=1)]: Done  64 out of  64 | elapsed:    0.0s finished\n[Parallel(n_jobs=1)]: Done  17 tasks      | elapsed:    0.0s\n[Parallel(n_jobs=1)]: Done  64 out of  64 | elapsed:    0.0s finished\n[Parallel(n_jobs=1)]: Done  17 tasks      | elapsed:    0.0s\n[Parallel(n_jobs=1)]: Done  64 out of  64 | elapsed:    0.0s finished\n",
     "output_type": "stream"
    },
    {
     "name": "stdout",
     "text": "Filtering raw data in 1 contiguous segment\nSetting up band-pass filter from 1 - 40 Hz\n\nFIR filter parameters\n---------------------\nDesigning a one-pass, zero-phase, non-causal bandpass filter:\n- Windowed time-domain design (firwin) method\n- Hamming window with 0.0194 passband ripple and 53 dB stopband attenuation\n- Lower passband edge: 1.00\n- Lower transition bandwidth: 1.00 Hz (-6 dB cutoff frequency: 0.50 Hz)\n- Upper passband edge: 40.00 Hz\n- Upper transition bandwidth: 10.00 Hz (-6 dB cutoff frequency: 45.00 Hz)\n- Filter length: 529 samples (3.306 s)\n\nUsed Annotations descriptions: ['T1', 'T2']\nFiltering raw data in 1 contiguous segment\nSetting up band-pass filter from 1 - 40 Hz\n\nFIR filter parameters\n---------------------\nDesigning a one-pass, zero-phase, non-causal bandpass filter:\n- Windowed time-domain design (firwin) method\n- Hamming window with 0.0194 passband ripple and 53 dB stopband attenuation\n- Lower passband edge: 1.00\n- Lower transition bandwidth: 1.00 Hz (-6 dB cutoff frequency: 0.50 Hz)\n- Upper passband edge: 40.00 Hz\n- Upper transition bandwidth: 10.00 Hz (-6 dB cutoff frequency: 45.00 Hz)\n- Filter length: 529 samples (3.306 s)\n\nUsed Annotations descriptions: ['T1', 'T2']\nFiltering raw data in 1 contiguous segment\nSetting up band-pass filter from 1 - 40 Hz\n\nFIR filter parameters\n---------------------\nDesigning a one-pass, zero-phase, non-causal bandpass filter:\n- Windowed time-domain design (firwin) method\n- Hamming window with 0.0194 passband ripple and 53 dB stopband attenuation\n- Lower passband edge: 1.00\n- Lower transition bandwidth: 1.00 Hz (-6 dB cutoff frequency: 0.50 Hz)\n- Upper passband edge: 40.00 Hz\n- Upper transition bandwidth: 10.00 Hz (-6 dB cutoff frequency: 45.00 Hz)\n- Filter length: 529 samples (3.306 s)\n\n",
     "output_type": "stream"
    },
    {
     "name": "stderr",
     "text": "[Parallel(n_jobs=1)]: Done  17 tasks      | elapsed:    0.0s\n[Parallel(n_jobs=1)]: Done  64 out of  64 | elapsed:    0.0s finished\n[Parallel(n_jobs=1)]: Done  17 tasks      | elapsed:    0.0s\n[Parallel(n_jobs=1)]: Done  64 out of  64 | elapsed:    0.0s finished\n[Parallel(n_jobs=1)]: Done  17 tasks      | elapsed:    0.0s\n",
     "output_type": "stream"
    },
    {
     "name": "stdout",
     "text": "Used Annotations descriptions: ['T1', 'T2']\nFiltering raw data in 1 contiguous segment\nSetting up band-pass filter from 1 - 40 Hz\n\nFIR filter parameters\n---------------------\nDesigning a one-pass, zero-phase, non-causal bandpass filter:\n- Windowed time-domain design (firwin) method\n- Hamming window with 0.0194 passband ripple and 53 dB stopband attenuation\n- Lower passband edge: 1.00\n- Lower transition bandwidth: 1.00 Hz (-6 dB cutoff frequency: 0.50 Hz)\n- Upper passband edge: 40.00 Hz\n- Upper transition bandwidth: 10.00 Hz (-6 dB cutoff frequency: 45.00 Hz)\n- Filter length: 529 samples (3.306 s)\n\nUsed Annotations descriptions: ['T1', 'T2']\nFiltering raw data in 1 contiguous segment\nSetting up band-pass filter from 1 - 40 Hz\n\nFIR filter parameters\n---------------------\nDesigning a one-pass, zero-phase, non-causal bandpass filter:\n- Windowed time-domain design (firwin) method\n- Hamming window with 0.0194 passband ripple and 53 dB stopband attenuation\n- Lower passband edge: 1.00\n- Lower transition bandwidth: 1.00 Hz (-6 dB cutoff frequency: 0.50 Hz)\n- Upper passband edge: 40.00 Hz\n- Upper transition bandwidth: 10.00 Hz (-6 dB cutoff frequency: 45.00 Hz)\n- Filter length: 529 samples (3.306 s)\n\nUsed Annotations descriptions: ['T1', 'T2']\n",
     "output_type": "stream"
    },
    {
     "name": "stderr",
     "text": "[Parallel(n_jobs=1)]: Done  64 out of  64 | elapsed:    0.0s finished\n[Parallel(n_jobs=1)]: Done  17 tasks      | elapsed:    0.0s\n[Parallel(n_jobs=1)]: Done  64 out of  64 | elapsed:    0.0s finished\n[Parallel(n_jobs=1)]: Done  17 tasks      | elapsed:    0.0s\n[Parallel(n_jobs=1)]: Done  64 out of  64 | elapsed:    0.0s finished\n",
     "output_type": "stream"
    },
    {
     "name": "stdout",
     "text": "Filtering raw data in 1 contiguous segment\nSetting up band-pass filter from 1 - 40 Hz\n\nFIR filter parameters\n---------------------\nDesigning a one-pass, zero-phase, non-causal bandpass filter:\n- Windowed time-domain design (firwin) method\n- Hamming window with 0.0194 passband ripple and 53 dB stopband attenuation\n- Lower passband edge: 1.00\n- Lower transition bandwidth: 1.00 Hz (-6 dB cutoff frequency: 0.50 Hz)\n- Upper passband edge: 40.00 Hz\n- Upper transition bandwidth: 10.00 Hz (-6 dB cutoff frequency: 45.00 Hz)\n- Filter length: 529 samples (3.306 s)\n\nUsed Annotations descriptions: ['T1', 'T2']\nFiltering raw data in 1 contiguous segment\nSetting up band-pass filter from 1 - 40 Hz\n\nFIR filter parameters\n---------------------\nDesigning a one-pass, zero-phase, non-causal bandpass filter:\n- Windowed time-domain design (firwin) method\n- Hamming window with 0.0194 passband ripple and 53 dB stopband attenuation\n- Lower passband edge: 1.00\n- Lower transition bandwidth: 1.00 Hz (-6 dB cutoff frequency: 0.50 Hz)\n- Upper passband edge: 40.00 Hz\n- Upper transition bandwidth: 10.00 Hz (-6 dB cutoff frequency: 45.00 Hz)\n- Filter length: 529 samples (3.306 s)\n\nUsed Annotations descriptions: ['T1', 'T2']\nFiltering raw data in 1 contiguous segment\nSetting up band-pass filter from 1 - 40 Hz\n\nFIR filter parameters\n---------------------\nDesigning a one-pass, zero-phase, non-causal bandpass filter:\n- Windowed time-domain design (firwin) method\n- Hamming window with 0.0194 passband ripple and 53 dB stopband attenuation\n- Lower passband edge: 1.00\n- Lower transition bandwidth: 1.00 Hz (-6 dB cutoff frequency: 0.50 Hz)\n- Upper passband edge: 40.00 Hz\n- Upper transition bandwidth: 10.00 Hz (-6 dB cutoff frequency: 45.00 Hz)\n- Filter length: 529 samples (3.306 s)\n\n",
     "output_type": "stream"
    },
    {
     "name": "stderr",
     "text": "[Parallel(n_jobs=1)]: Done  17 tasks      | elapsed:    0.0s\n[Parallel(n_jobs=1)]: Done  64 out of  64 | elapsed:    0.0s finished\n[Parallel(n_jobs=1)]: Done  17 tasks      | elapsed:    0.0s\n[Parallel(n_jobs=1)]: Done  64 out of  64 | elapsed:    0.0s finished\n",
     "output_type": "stream"
    },
    {
     "name": "stdout",
     "text": "Used Annotations descriptions: ['T1', 'T2']\nFiltering raw data in 1 contiguous segment\nSetting up band-pass filter from 1 - 40 Hz\n\nFIR filter parameters\n---------------------\nDesigning a one-pass, zero-phase, non-causal bandpass filter:\n- Windowed time-domain design (firwin) method\n- Hamming window with 0.0194 passband ripple and 53 dB stopband attenuation\n- Lower passband edge: 1.00\n- Lower transition bandwidth: 1.00 Hz (-6 dB cutoff frequency: 0.50 Hz)\n- Upper passband edge: 40.00 Hz\n- Upper transition bandwidth: 10.00 Hz (-6 dB cutoff frequency: 45.00 Hz)\n- Filter length: 529 samples (3.306 s)\n\nUsed Annotations descriptions: ['T1', 'T2']\nFiltering raw data in 1 contiguous segment\nSetting up band-pass filter from 1 - 40 Hz\n\nFIR filter parameters\n---------------------\nDesigning a one-pass, zero-phase, non-causal bandpass filter:\n- Windowed time-domain design (firwin) method\n- Hamming window with 0.0194 passband ripple and 53 dB stopband attenuation\n- Lower passband edge: 1.00\n- Lower transition bandwidth: 1.00 Hz (-6 dB cutoff frequency: 0.50 Hz)\n- Upper passband edge: 40.00 Hz\n- Upper transition bandwidth: 10.00 Hz (-6 dB cutoff frequency: 45.00 Hz)\n- Filter length: 423 samples (3.305 s)\n\n",
     "output_type": "stream"
    },
    {
     "name": "stderr",
     "text": "[Parallel(n_jobs=1)]: Done  17 tasks      | elapsed:    0.0s\n[Parallel(n_jobs=1)]: Done  64 out of  64 | elapsed:    0.0s finished\n[Parallel(n_jobs=1)]: Done  17 tasks      | elapsed:    0.0s\n[Parallel(n_jobs=1)]: Done  64 out of  64 | elapsed:    0.0s finished\n/tmp/ipykernel_36/3464267473.py:63: RuntimeWarning: Limited 1 annotation(s) that were expanding outside the data range.\n  raw = mne.io.read_raw_edf(path, preload=True, verbose=False)\n[Parallel(n_jobs=1)]: Done  17 tasks      | elapsed:    0.0s\n",
     "output_type": "stream"
    },
    {
     "name": "stdout",
     "text": "Used Annotations descriptions: ['T1', 'T2']\nFiltering raw data in 1 contiguous segment\nSetting up band-pass filter from 1 - 40 Hz\n\nFIR filter parameters\n---------------------\nDesigning a one-pass, zero-phase, non-causal bandpass filter:\n- Windowed time-domain design (firwin) method\n- Hamming window with 0.0194 passband ripple and 53 dB stopband attenuation\n- Lower passband edge: 1.00\n- Lower transition bandwidth: 1.00 Hz (-6 dB cutoff frequency: 0.50 Hz)\n- Upper passband edge: 40.00 Hz\n- Upper transition bandwidth: 10.00 Hz (-6 dB cutoff frequency: 45.00 Hz)\n- Filter length: 423 samples (3.305 s)\n\nUsed Annotations descriptions: ['T1', 'T2']\nFiltering raw data in 1 contiguous segment\nSetting up band-pass filter from 1 - 40 Hz\n\nFIR filter parameters\n---------------------\nDesigning a one-pass, zero-phase, non-causal bandpass filter:\n- Windowed time-domain design (firwin) method\n- Hamming window with 0.0194 passband ripple and 53 dB stopband attenuation\n- Lower passband edge: 1.00\n- Lower transition bandwidth: 1.00 Hz (-6 dB cutoff frequency: 0.50 Hz)\n- Upper passband edge: 40.00 Hz\n- Upper transition bandwidth: 10.00 Hz (-6 dB cutoff frequency: 45.00 Hz)\n- Filter length: 423 samples (3.305 s)\n\nUsed Annotations descriptions: ['T1', 'T2']\n",
     "output_type": "stream"
    },
    {
     "name": "stderr",
     "text": "[Parallel(n_jobs=1)]: Done  64 out of  64 | elapsed:    0.0s finished\n/tmp/ipykernel_36/3464267473.py:63: RuntimeWarning: Limited 1 annotation(s) that were expanding outside the data range.\n  raw = mne.io.read_raw_edf(path, preload=True, verbose=False)\n[Parallel(n_jobs=1)]: Done  17 tasks      | elapsed:    0.0s\n[Parallel(n_jobs=1)]: Done  64 out of  64 | elapsed:    0.0s finished\n/tmp/ipykernel_36/3464267473.py:63: RuntimeWarning: Limited 1 annotation(s) that were expanding outside the data range.\n  raw = mne.io.read_raw_edf(path, preload=True, verbose=False)\n[Parallel(n_jobs=1)]: Done  17 tasks      | elapsed:    0.0s\n[Parallel(n_jobs=1)]: Done  64 out of  64 | elapsed:    0.0s finished\n",
     "output_type": "stream"
    },
    {
     "name": "stdout",
     "text": "Filtering raw data in 1 contiguous segment\nSetting up band-pass filter from 1 - 40 Hz\n\nFIR filter parameters\n---------------------\nDesigning a one-pass, zero-phase, non-causal bandpass filter:\n- Windowed time-domain design (firwin) method\n- Hamming window with 0.0194 passband ripple and 53 dB stopband attenuation\n- Lower passband edge: 1.00\n- Lower transition bandwidth: 1.00 Hz (-6 dB cutoff frequency: 0.50 Hz)\n- Upper passband edge: 40.00 Hz\n- Upper transition bandwidth: 10.00 Hz (-6 dB cutoff frequency: 45.00 Hz)\n- Filter length: 423 samples (3.305 s)\n\nUsed Annotations descriptions: ['T1', 'T2']\nFiltering raw data in 1 contiguous segment\nSetting up band-pass filter from 1 - 40 Hz\n\nFIR filter parameters\n---------------------\nDesigning a one-pass, zero-phase, non-causal bandpass filter:\n- Windowed time-domain design (firwin) method\n- Hamming window with 0.0194 passband ripple and 53 dB stopband attenuation\n- Lower passband edge: 1.00\n- Lower transition bandwidth: 1.00 Hz (-6 dB cutoff frequency: 0.50 Hz)\n- Upper passband edge: 40.00 Hz\n- Upper transition bandwidth: 10.00 Hz (-6 dB cutoff frequency: 45.00 Hz)\n- Filter length: 423 samples (3.305 s)\n\nUsed Annotations descriptions: ['T1', 'T2']\nFiltering raw data in 1 contiguous segment\nSetting up band-pass filter from 1 - 40 Hz\n\nFIR filter parameters\n---------------------\nDesigning a one-pass, zero-phase, non-causal bandpass filter:\n- Windowed time-domain design (firwin) method\n- Hamming window with 0.0194 passband ripple and 53 dB stopband attenuation\n- Lower passband edge: 1.00\n- Lower transition bandwidth: 1.00 Hz (-6 dB cutoff frequency: 0.50 Hz)\n- Upper passband edge: 40.00 Hz\n- Upper transition bandwidth: 10.00 Hz (-6 dB cutoff frequency: 45.00 Hz)\n- Filter length: 423 samples (3.305 s)\n\n",
     "output_type": "stream"
    },
    {
     "name": "stderr",
     "text": "/tmp/ipykernel_36/3464267473.py:63: RuntimeWarning: Limited 1 annotation(s) that were expanding outside the data range.\n  raw = mne.io.read_raw_edf(path, preload=True, verbose=False)\n[Parallel(n_jobs=1)]: Done  17 tasks      | elapsed:    0.0s\n[Parallel(n_jobs=1)]: Done  64 out of  64 | elapsed:    0.0s finished\n/tmp/ipykernel_36/3464267473.py:63: RuntimeWarning: Limited 1 annotation(s) that were expanding outside the data range.\n  raw = mne.io.read_raw_edf(path, preload=True, verbose=False)\n[Parallel(n_jobs=1)]: Done  17 tasks      | elapsed:    0.0s\n[Parallel(n_jobs=1)]: Done  64 out of  64 | elapsed:    0.0s finished\n/tmp/ipykernel_36/3464267473.py:63: RuntimeWarning: Limited 1 annotation(s) that were expanding outside the data range.\n  raw = mne.io.read_raw_edf(path, preload=True, verbose=False)\n",
     "output_type": "stream"
    },
    {
     "name": "stdout",
     "text": "Used Annotations descriptions: ['T1', 'T2']\nFiltering raw data in 1 contiguous segment\nSetting up band-pass filter from 1 - 40 Hz\n\nFIR filter parameters\n---------------------\nDesigning a one-pass, zero-phase, non-causal bandpass filter:\n- Windowed time-domain design (firwin) method\n- Hamming window with 0.0194 passband ripple and 53 dB stopband attenuation\n- Lower passband edge: 1.00\n- Lower transition bandwidth: 1.00 Hz (-6 dB cutoff frequency: 0.50 Hz)\n- Upper passband edge: 40.00 Hz\n- Upper transition bandwidth: 10.00 Hz (-6 dB cutoff frequency: 45.00 Hz)\n- Filter length: 529 samples (3.306 s)\n\nUsed Annotations descriptions: ['T1', 'T2']\nFiltering raw data in 1 contiguous segment\nSetting up band-pass filter from 1 - 40 Hz\n\nFIR filter parameters\n---------------------\nDesigning a one-pass, zero-phase, non-causal bandpass filter:\n- Windowed time-domain design (firwin) method\n- Hamming window with 0.0194 passband ripple and 53 dB stopband attenuation\n- Lower passband edge: 1.00\n- Lower transition bandwidth: 1.00 Hz (-6 dB cutoff frequency: 0.50 Hz)\n- Upper passband edge: 40.00 Hz\n- Upper transition bandwidth: 10.00 Hz (-6 dB cutoff frequency: 45.00 Hz)\n- Filter length: 529 samples (3.306 s)\n\n",
     "output_type": "stream"
    },
    {
     "name": "stderr",
     "text": "[Parallel(n_jobs=1)]: Done  17 tasks      | elapsed:    0.0s\n[Parallel(n_jobs=1)]: Done  64 out of  64 | elapsed:    0.0s finished\n[Parallel(n_jobs=1)]: Done  17 tasks      | elapsed:    0.0s\n[Parallel(n_jobs=1)]: Done  64 out of  64 | elapsed:    0.0s finished\n[Parallel(n_jobs=1)]: Done  17 tasks      | elapsed:    0.0s\n",
     "output_type": "stream"
    },
    {
     "name": "stdout",
     "text": "Used Annotations descriptions: ['T1', 'T2']\nFiltering raw data in 1 contiguous segment\nSetting up band-pass filter from 1 - 40 Hz\n\nFIR filter parameters\n---------------------\nDesigning a one-pass, zero-phase, non-causal bandpass filter:\n- Windowed time-domain design (firwin) method\n- Hamming window with 0.0194 passband ripple and 53 dB stopband attenuation\n- Lower passband edge: 1.00\n- Lower transition bandwidth: 1.00 Hz (-6 dB cutoff frequency: 0.50 Hz)\n- Upper passband edge: 40.00 Hz\n- Upper transition bandwidth: 10.00 Hz (-6 dB cutoff frequency: 45.00 Hz)\n- Filter length: 529 samples (3.306 s)\n\nUsed Annotations descriptions: ['T1', 'T2']\nFiltering raw data in 1 contiguous segment\nSetting up band-pass filter from 1 - 40 Hz\n\nFIR filter parameters\n---------------------\nDesigning a one-pass, zero-phase, non-causal bandpass filter:\n- Windowed time-domain design (firwin) method\n- Hamming window with 0.0194 passband ripple and 53 dB stopband attenuation\n- Lower passband edge: 1.00\n- Lower transition bandwidth: 1.00 Hz (-6 dB cutoff frequency: 0.50 Hz)\n- Upper passband edge: 40.00 Hz\n- Upper transition bandwidth: 10.00 Hz (-6 dB cutoff frequency: 45.00 Hz)\n- Filter length: 529 samples (3.306 s)\n\n",
     "output_type": "stream"
    },
    {
     "name": "stderr",
     "text": "[Parallel(n_jobs=1)]: Done  64 out of  64 | elapsed:    0.0s finished\n[Parallel(n_jobs=1)]: Done  17 tasks      | elapsed:    0.0s\n[Parallel(n_jobs=1)]: Done  64 out of  64 | elapsed:    0.0s finished\n[Parallel(n_jobs=1)]: Done  17 tasks      | elapsed:    0.0s\n[Parallel(n_jobs=1)]: Done  64 out of  64 | elapsed:    0.0s finished\n",
     "output_type": "stream"
    },
    {
     "name": "stdout",
     "text": "Used Annotations descriptions: ['T1', 'T2']\nFiltering raw data in 1 contiguous segment\nSetting up band-pass filter from 1 - 40 Hz\n\nFIR filter parameters\n---------------------\nDesigning a one-pass, zero-phase, non-causal bandpass filter:\n- Windowed time-domain design (firwin) method\n- Hamming window with 0.0194 passband ripple and 53 dB stopband attenuation\n- Lower passband edge: 1.00\n- Lower transition bandwidth: 1.00 Hz (-6 dB cutoff frequency: 0.50 Hz)\n- Upper passband edge: 40.00 Hz\n- Upper transition bandwidth: 10.00 Hz (-6 dB cutoff frequency: 45.00 Hz)\n- Filter length: 529 samples (3.306 s)\n\nUsed Annotations descriptions: ['T1', 'T2']\nFiltering raw data in 1 contiguous segment\nSetting up band-pass filter from 1 - 40 Hz\n\nFIR filter parameters\n---------------------\nDesigning a one-pass, zero-phase, non-causal bandpass filter:\n- Windowed time-domain design (firwin) method\n- Hamming window with 0.0194 passband ripple and 53 dB stopband attenuation\n- Lower passband edge: 1.00\n- Lower transition bandwidth: 1.00 Hz (-6 dB cutoff frequency: 0.50 Hz)\n- Upper passband edge: 40.00 Hz\n- Upper transition bandwidth: 10.00 Hz (-6 dB cutoff frequency: 45.00 Hz)\n- Filter length: 529 samples (3.306 s)\n\nUsed Annotations descriptions: ['T1', 'T2']\nFiltering raw data in 1 contiguous segment\nSetting up band-pass filter from 1 - 40 Hz\n\nFIR filter parameters\n---------------------\nDesigning a one-pass, zero-phase, non-causal bandpass filter:\n- Windowed time-domain design (firwin) method\n- Hamming window with 0.0194 passband ripple and 53 dB stopband attenuation\n- Lower passband edge: 1.00\n- Lower transition bandwidth: 1.00 Hz (-6 dB cutoff frequency: 0.50 Hz)\n- Upper passband edge: 40.00 Hz\n- Upper transition bandwidth: 10.00 Hz (-6 dB cutoff frequency: 45.00 Hz)\n- Filter length: 529 samples (3.306 s)\n\n",
     "output_type": "stream"
    },
    {
     "name": "stderr",
     "text": "[Parallel(n_jobs=1)]: Done  17 tasks      | elapsed:    0.0s\n[Parallel(n_jobs=1)]: Done  64 out of  64 | elapsed:    0.0s finished\n[Parallel(n_jobs=1)]: Done  17 tasks      | elapsed:    0.0s\n[Parallel(n_jobs=1)]: Done  64 out of  64 | elapsed:    0.0s finished\n",
     "output_type": "stream"
    },
    {
     "name": "stdout",
     "text": "Used Annotations descriptions: ['T1', 'T2']\nFiltering raw data in 1 contiguous segment\nSetting up band-pass filter from 1 - 40 Hz\n\nFIR filter parameters\n---------------------\nDesigning a one-pass, zero-phase, non-causal bandpass filter:\n- Windowed time-domain design (firwin) method\n- Hamming window with 0.0194 passband ripple and 53 dB stopband attenuation\n- Lower passband edge: 1.00\n- Lower transition bandwidth: 1.00 Hz (-6 dB cutoff frequency: 0.50 Hz)\n- Upper passband edge: 40.00 Hz\n- Upper transition bandwidth: 10.00 Hz (-6 dB cutoff frequency: 45.00 Hz)\n- Filter length: 529 samples (3.306 s)\n\nUsed Annotations descriptions: ['T1', 'T2']\nFiltering raw data in 1 contiguous segment\nSetting up band-pass filter from 1 - 40 Hz\n\nFIR filter parameters\n---------------------\nDesigning a one-pass, zero-phase, non-causal bandpass filter:\n- Windowed time-domain design (firwin) method\n- Hamming window with 0.0194 passband ripple and 53 dB stopband attenuation\n- Lower passband edge: 1.00\n- Lower transition bandwidth: 1.00 Hz (-6 dB cutoff frequency: 0.50 Hz)\n- Upper passband edge: 40.00 Hz\n- Upper transition bandwidth: 10.00 Hz (-6 dB cutoff frequency: 45.00 Hz)\n- Filter length: 529 samples (3.306 s)\n\n",
     "output_type": "stream"
    },
    {
     "name": "stderr",
     "text": "[Parallel(n_jobs=1)]: Done  17 tasks      | elapsed:    0.0s\n[Parallel(n_jobs=1)]: Done  64 out of  64 | elapsed:    0.0s finished\n[Parallel(n_jobs=1)]: Done  17 tasks      | elapsed:    0.0s\n[Parallel(n_jobs=1)]: Done  64 out of  64 | elapsed:    0.0s finished\n",
     "output_type": "stream"
    },
    {
     "name": "stdout",
     "text": "Used Annotations descriptions: ['T1', 'T2']\nFiltering raw data in 1 contiguous segment\nSetting up band-pass filter from 1 - 40 Hz\n\nFIR filter parameters\n---------------------\nDesigning a one-pass, zero-phase, non-causal bandpass filter:\n- Windowed time-domain design (firwin) method\n- Hamming window with 0.0194 passband ripple and 53 dB stopband attenuation\n- Lower passband edge: 1.00\n- Lower transition bandwidth: 1.00 Hz (-6 dB cutoff frequency: 0.50 Hz)\n- Upper passband edge: 40.00 Hz\n- Upper transition bandwidth: 10.00 Hz (-6 dB cutoff frequency: 45.00 Hz)\n- Filter length: 529 samples (3.306 s)\n\nUsed Annotations descriptions: ['T1', 'T2']\nFiltering raw data in 1 contiguous segment\nSetting up band-pass filter from 1 - 40 Hz\n\nFIR filter parameters\n---------------------\nDesigning a one-pass, zero-phase, non-causal bandpass filter:\n- Windowed time-domain design (firwin) method\n- Hamming window with 0.0194 passband ripple and 53 dB stopband attenuation\n- Lower passband edge: 1.00\n- Lower transition bandwidth: 1.00 Hz (-6 dB cutoff frequency: 0.50 Hz)\n- Upper passband edge: 40.00 Hz\n- Upper transition bandwidth: 10.00 Hz (-6 dB cutoff frequency: 45.00 Hz)\n- Filter length: 529 samples (3.306 s)\n\n",
     "output_type": "stream"
    },
    {
     "name": "stderr",
     "text": "[Parallel(n_jobs=1)]: Done  17 tasks      | elapsed:    0.0s\n[Parallel(n_jobs=1)]: Done  64 out of  64 | elapsed:    0.0s finished\n[Parallel(n_jobs=1)]: Done  17 tasks      | elapsed:    0.0s\n[Parallel(n_jobs=1)]: Done  64 out of  64 | elapsed:    0.0s finished\n",
     "output_type": "stream"
    },
    {
     "name": "stdout",
     "text": "Used Annotations descriptions: ['T1', 'T2']\nFiltering raw data in 1 contiguous segment\nSetting up band-pass filter from 1 - 40 Hz\n\nFIR filter parameters\n---------------------\nDesigning a one-pass, zero-phase, non-causal bandpass filter:\n- Windowed time-domain design (firwin) method\n- Hamming window with 0.0194 passband ripple and 53 dB stopband attenuation\n- Lower passband edge: 1.00\n- Lower transition bandwidth: 1.00 Hz (-6 dB cutoff frequency: 0.50 Hz)\n- Upper passband edge: 40.00 Hz\n- Upper transition bandwidth: 10.00 Hz (-6 dB cutoff frequency: 45.00 Hz)\n- Filter length: 529 samples (3.306 s)\n\nUsed Annotations descriptions: ['T1', 'T2']\nFiltering raw data in 1 contiguous segment\nSetting up band-pass filter from 1 - 40 Hz\n\nFIR filter parameters\n---------------------\nDesigning a one-pass, zero-phase, non-causal bandpass filter:\n- Windowed time-domain design (firwin) method\n- Hamming window with 0.0194 passband ripple and 53 dB stopband attenuation\n- Lower passband edge: 1.00\n- Lower transition bandwidth: 1.00 Hz (-6 dB cutoff frequency: 0.50 Hz)\n- Upper passband edge: 40.00 Hz\n- Upper transition bandwidth: 10.00 Hz (-6 dB cutoff frequency: 45.00 Hz)\n- Filter length: 529 samples (3.306 s)\n\n",
     "output_type": "stream"
    },
    {
     "name": "stderr",
     "text": "[Parallel(n_jobs=1)]: Done  17 tasks      | elapsed:    0.0s\n[Parallel(n_jobs=1)]: Done  64 out of  64 | elapsed:    0.1s finished\n[Parallel(n_jobs=1)]: Done  17 tasks      | elapsed:    0.0s\n[Parallel(n_jobs=1)]: Done  64 out of  64 | elapsed:    0.0s finished\n",
     "output_type": "stream"
    },
    {
     "name": "stdout",
     "text": "Used Annotations descriptions: ['T1', 'T2']\nFiltering raw data in 1 contiguous segment\nSetting up band-pass filter from 1 - 40 Hz\n\nFIR filter parameters\n---------------------\nDesigning a one-pass, zero-phase, non-causal bandpass filter:\n- Windowed time-domain design (firwin) method\n- Hamming window with 0.0194 passband ripple and 53 dB stopband attenuation\n- Lower passband edge: 1.00\n- Lower transition bandwidth: 1.00 Hz (-6 dB cutoff frequency: 0.50 Hz)\n- Upper passband edge: 40.00 Hz\n- Upper transition bandwidth: 10.00 Hz (-6 dB cutoff frequency: 45.00 Hz)\n- Filter length: 529 samples (3.306 s)\n\nUsed Annotations descriptions: ['T1', 'T2']\nFiltering raw data in 1 contiguous segment\nSetting up band-pass filter from 1 - 40 Hz\n\nFIR filter parameters\n---------------------\nDesigning a one-pass, zero-phase, non-causal bandpass filter:\n- Windowed time-domain design (firwin) method\n- Hamming window with 0.0194 passband ripple and 53 dB stopband attenuation\n- Lower passband edge: 1.00\n- Lower transition bandwidth: 1.00 Hz (-6 dB cutoff frequency: 0.50 Hz)\n- Upper passband edge: 40.00 Hz\n- Upper transition bandwidth: 10.00 Hz (-6 dB cutoff frequency: 45.00 Hz)\n- Filter length: 529 samples (3.306 s)\n\n",
     "output_type": "stream"
    },
    {
     "name": "stderr",
     "text": "[Parallel(n_jobs=1)]: Done  17 tasks      | elapsed:    0.0s\n[Parallel(n_jobs=1)]: Done  64 out of  64 | elapsed:    0.0s finished\n[Parallel(n_jobs=1)]: Done  17 tasks      | elapsed:    0.0s\n[Parallel(n_jobs=1)]: Done  64 out of  64 | elapsed:    0.0s finished\n",
     "output_type": "stream"
    },
    {
     "name": "stdout",
     "text": "Used Annotations descriptions: ['T1', 'T2']\nFiltering raw data in 1 contiguous segment\nSetting up band-pass filter from 1 - 40 Hz\n\nFIR filter parameters\n---------------------\nDesigning a one-pass, zero-phase, non-causal bandpass filter:\n- Windowed time-domain design (firwin) method\n- Hamming window with 0.0194 passband ripple and 53 dB stopband attenuation\n- Lower passband edge: 1.00\n- Lower transition bandwidth: 1.00 Hz (-6 dB cutoff frequency: 0.50 Hz)\n- Upper passband edge: 40.00 Hz\n- Upper transition bandwidth: 10.00 Hz (-6 dB cutoff frequency: 45.00 Hz)\n- Filter length: 529 samples (3.306 s)\n\nUsed Annotations descriptions: ['T1', 'T2']\nFiltering raw data in 1 contiguous segment\nSetting up band-pass filter from 1 - 40 Hz\n\nFIR filter parameters\n---------------------\nDesigning a one-pass, zero-phase, non-causal bandpass filter:\n- Windowed time-domain design (firwin) method\n- Hamming window with 0.0194 passband ripple and 53 dB stopband attenuation\n- Lower passband edge: 1.00\n- Lower transition bandwidth: 1.00 Hz (-6 dB cutoff frequency: 0.50 Hz)\n- Upper passband edge: 40.00 Hz\n- Upper transition bandwidth: 10.00 Hz (-6 dB cutoff frequency: 45.00 Hz)\n- Filter length: 529 samples (3.306 s)\n\n",
     "output_type": "stream"
    },
    {
     "name": "stderr",
     "text": "[Parallel(n_jobs=1)]: Done  17 tasks      | elapsed:    0.0s\n[Parallel(n_jobs=1)]: Done  64 out of  64 | elapsed:    0.1s finished\n[Parallel(n_jobs=1)]: Done  17 tasks      | elapsed:    0.0s\n[Parallel(n_jobs=1)]: Done  64 out of  64 | elapsed:    0.0s finished\n",
     "output_type": "stream"
    },
    {
     "name": "stdout",
     "text": "Used Annotations descriptions: ['T1', 'T2']\nFiltering raw data in 1 contiguous segment\nSetting up band-pass filter from 1 - 40 Hz\n\nFIR filter parameters\n---------------------\nDesigning a one-pass, zero-phase, non-causal bandpass filter:\n- Windowed time-domain design (firwin) method\n- Hamming window with 0.0194 passband ripple and 53 dB stopband attenuation\n- Lower passband edge: 1.00\n- Lower transition bandwidth: 1.00 Hz (-6 dB cutoff frequency: 0.50 Hz)\n- Upper passband edge: 40.00 Hz\n- Upper transition bandwidth: 10.00 Hz (-6 dB cutoff frequency: 45.00 Hz)\n- Filter length: 529 samples (3.306 s)\n\nUsed Annotations descriptions: ['T1', 'T2']\nFiltering raw data in 1 contiguous segment\nSetting up band-pass filter from 1 - 40 Hz\n\nFIR filter parameters\n---------------------\nDesigning a one-pass, zero-phase, non-causal bandpass filter:\n- Windowed time-domain design (firwin) method\n- Hamming window with 0.0194 passband ripple and 53 dB stopband attenuation\n- Lower passband edge: 1.00\n- Lower transition bandwidth: 1.00 Hz (-6 dB cutoff frequency: 0.50 Hz)\n- Upper passband edge: 40.00 Hz\n",
     "output_type": "stream"
    },
    {
     "name": "stderr",
     "text": "[Parallel(n_jobs=1)]: Done  17 tasks      | elapsed:    0.0s\n[Parallel(n_jobs=1)]: Done  64 out of  64 | elapsed:    0.1s finished\n[Parallel(n_jobs=1)]: Done  17 tasks      | elapsed:    0.0s\n[Parallel(n_jobs=1)]: Done  64 out of  64 | elapsed:    0.0s finished\n",
     "output_type": "stream"
    },
    {
     "name": "stdout",
     "text": "- Upper transition bandwidth: 10.00 Hz (-6 dB cutoff frequency: 45.00 Hz)\n- Filter length: 529 samples (3.306 s)\n\nUsed Annotations descriptions: ['T1', 'T2']\nFiltering raw data in 1 contiguous segment\nSetting up band-pass filter from 1 - 40 Hz\n\nFIR filter parameters\n---------------------\nDesigning a one-pass, zero-phase, non-causal bandpass filter:\n- Windowed time-domain design (firwin) method\n- Hamming window with 0.0194 passband ripple and 53 dB stopband attenuation\n- Lower passband edge: 1.00\n- Lower transition bandwidth: 1.00 Hz (-6 dB cutoff frequency: 0.50 Hz)\n- Upper passband edge: 40.00 Hz\n- Upper transition bandwidth: 10.00 Hz (-6 dB cutoff frequency: 45.00 Hz)\n- Filter length: 529 samples (3.306 s)\n\nUsed Annotations descriptions: ['T1', 'T2']\nFiltering raw data in 1 contiguous segment\nSetting up band-pass filter from 1 - 40 Hz\n\nFIR filter parameters\n---------------------\nDesigning a one-pass, zero-phase, non-causal bandpass filter:\n- Windowed time-domain design (firwin) method\n- Hamming window with 0.0194 passband ripple and 53 dB stopband attenuation\n- Lower passband edge: 1.00\n",
     "output_type": "stream"
    },
    {
     "name": "stderr",
     "text": "[Parallel(n_jobs=1)]: Done  17 tasks      | elapsed:    0.0s\n[Parallel(n_jobs=1)]: Done  64 out of  64 | elapsed:    0.0s finished\n[Parallel(n_jobs=1)]: Done  17 tasks      | elapsed:    0.0s\n[Parallel(n_jobs=1)]: Done  64 out of  64 | elapsed:    0.1s finished\n",
     "output_type": "stream"
    },
    {
     "name": "stdout",
     "text": "- Lower transition bandwidth: 1.00 Hz (-6 dB cutoff frequency: 0.50 Hz)\n- Upper passband edge: 40.00 Hz\n- Upper transition bandwidth: 10.00 Hz (-6 dB cutoff frequency: 45.00 Hz)\n- Filter length: 529 samples (3.306 s)\n\nUsed Annotations descriptions: ['T1', 'T2']\nFiltering raw data in 1 contiguous segment\nSetting up band-pass filter from 1 - 40 Hz\n\nFIR filter parameters\n---------------------\nDesigning a one-pass, zero-phase, non-causal bandpass filter:\n- Windowed time-domain design (firwin) method\n- Hamming window with 0.0194 passband ripple and 53 dB stopband attenuation\n- Lower passband edge: 1.00\n- Lower transition bandwidth: 1.00 Hz (-6 dB cutoff frequency: 0.50 Hz)\n- Upper passband edge: 40.00 Hz\n- Upper transition bandwidth: 10.00 Hz (-6 dB cutoff frequency: 45.00 Hz)\n- Filter length: 529 samples (3.306 s)\n\nUsed Annotations descriptions: ['T1', 'T2']\nFiltering raw data in 1 contiguous segment\nSetting up band-pass filter from 1 - 40 Hz\n\nFIR filter parameters\n---------------------\nDesigning a one-pass, zero-phase, non-causal bandpass filter:\n- Windowed time-domain design (firwin) method\n- Hamming window with 0.0194 passband ripple and 53 dB stopband attenuation\n- Lower passband edge: 1.00\n- Lower transition bandwidth: 1.00 Hz (-6 dB cutoff frequency: 0.50 Hz)\n- Upper passband edge: 40.00 Hz\n- Upper transition bandwidth: 10.00 Hz (-6 dB cutoff frequency: 45.00 Hz)\n- Filter length: 529 samples (3.306 s)\n\n",
     "output_type": "stream"
    },
    {
     "name": "stderr",
     "text": "[Parallel(n_jobs=1)]: Done  17 tasks      | elapsed:    0.0s\n[Parallel(n_jobs=1)]: Done  64 out of  64 | elapsed:    0.0s finished\n[Parallel(n_jobs=1)]: Done  17 tasks      | elapsed:    0.0s\n[Parallel(n_jobs=1)]: Done  64 out of  64 | elapsed:    0.1s finished\n",
     "output_type": "stream"
    },
    {
     "name": "stdout",
     "text": "Used Annotations descriptions: ['T1', 'T2']\nFiltering raw data in 1 contiguous segment\nSetting up band-pass filter from 1 - 40 Hz\n\nFIR filter parameters\n---------------------\nDesigning a one-pass, zero-phase, non-causal bandpass filter:\n- Windowed time-domain design (firwin) method\n- Hamming window with 0.0194 passband ripple and 53 dB stopband attenuation\n- Lower passband edge: 1.00\n- Lower transition bandwidth: 1.00 Hz (-6 dB cutoff frequency: 0.50 Hz)\n- Upper passband edge: 40.00 Hz\n- Upper transition bandwidth: 10.00 Hz (-6 dB cutoff frequency: 45.00 Hz)\n- Filter length: 529 samples (3.306 s)\n\nUsed Annotations descriptions: ['T1', 'T2']\nFiltering raw data in 1 contiguous segment\nSetting up band-pass filter from 1 - 40 Hz\n\nFIR filter parameters\n---------------------\nDesigning a one-pass, zero-phase, non-causal bandpass filter:\n- Windowed time-domain design (firwin) method\n- Hamming window with 0.0194 passband ripple and 53 dB stopband attenuation\n",
     "output_type": "stream"
    },
    {
     "name": "stderr",
     "text": "[Parallel(n_jobs=1)]: Done  17 tasks      | elapsed:    0.0s\n[Parallel(n_jobs=1)]: Done  64 out of  64 | elapsed:    0.1s finished\n[Parallel(n_jobs=1)]: Done  17 tasks      | elapsed:    0.0s\n[Parallel(n_jobs=1)]: Done  64 out of  64 | elapsed:    0.0s finished\n",
     "output_type": "stream"
    },
    {
     "name": "stdout",
     "text": "- Lower passband edge: 1.00\n- Lower transition bandwidth: 1.00 Hz (-6 dB cutoff frequency: 0.50 Hz)\n- Upper passband edge: 40.00 Hz\n- Upper transition bandwidth: 10.00 Hz (-6 dB cutoff frequency: 45.00 Hz)\n- Filter length: 529 samples (3.306 s)\n\nUsed Annotations descriptions: ['T1', 'T2']\nFiltering raw data in 1 contiguous segment\nSetting up band-pass filter from 1 - 40 Hz\n\nFIR filter parameters\n---------------------\nDesigning a one-pass, zero-phase, non-causal bandpass filter:\n- Windowed time-domain design (firwin) method\n- Hamming window with 0.0194 passband ripple and 53 dB stopband attenuation\n- Lower passband edge: 1.00\n- Lower transition bandwidth: 1.00 Hz (-6 dB cutoff frequency: 0.50 Hz)\n- Upper passband edge: 40.00 Hz\n- Upper transition bandwidth: 10.00 Hz (-6 dB cutoff frequency: 45.00 Hz)\n- Filter length: 529 samples (3.306 s)\n\nUsed Annotations descriptions: ['T1', 'T2']\nFiltering raw data in 1 contiguous segment\nSetting up band-pass filter from 1 - 40 Hz\n\nFIR filter parameters\n---------------------\nDesigning a one-pass, zero-phase, non-causal bandpass filter:\n- Windowed time-domain design (firwin) method\n- Hamming window with 0.0194 passband ripple and 53 dB stopband attenuation\n- Lower passband edge: 1.00\n- Lower transition bandwidth: 1.00 Hz (-6 dB cutoff frequency: 0.50 Hz)\n- Upper passband edge: 40.00 Hz\n- Upper transition bandwidth: 10.00 Hz (-6 dB cutoff frequency: 45.00 Hz)\n- Filter length: 529 samples (3.306 s)\n\n",
     "output_type": "stream"
    },
    {
     "name": "stderr",
     "text": "[Parallel(n_jobs=1)]: Done  17 tasks      | elapsed:    0.0s\n[Parallel(n_jobs=1)]: Done  64 out of  64 | elapsed:    0.1s finished\n[Parallel(n_jobs=1)]: Done  17 tasks      | elapsed:    0.0s\n[Parallel(n_jobs=1)]: Done  64 out of  64 | elapsed:    0.1s finished\n",
     "output_type": "stream"
    },
    {
     "name": "stdout",
     "text": "Used Annotations descriptions: ['T1', 'T2']\nFiltering raw data in 1 contiguous segment\nSetting up band-pass filter from 1 - 40 Hz\n\nFIR filter parameters\n---------------------\nDesigning a one-pass, zero-phase, non-causal bandpass filter:\n- Windowed time-domain design (firwin) method\n- Hamming window with 0.0194 passband ripple and 53 dB stopband attenuation\n- Lower passband edge: 1.00\n- Lower transition bandwidth: 1.00 Hz (-6 dB cutoff frequency: 0.50 Hz)\n- Upper passband edge: 40.00 Hz\n- Upper transition bandwidth: 10.00 Hz (-6 dB cutoff frequency: 45.00 Hz)\n- Filter length: 529 samples (3.306 s)\n\nUsed Annotations descriptions: ['T1', 'T2']\nFiltering raw data in 1 contiguous segment\nSetting up band-pass filter from 1 - 40 Hz\n\nFIR filter parameters\n---------------------\nDesigning a one-pass, zero-phase, non-causal bandpass filter:\n- Windowed time-domain design (firwin) method\n- Hamming window with 0.0194 passband ripple and 53 dB stopband attenuation\n- Lower passband edge: 1.00\n- Lower transition bandwidth: 1.00 Hz (-6 dB cutoff frequency: 0.50 Hz)\n- Upper passband edge: 40.00 Hz\n- Upper transition bandwidth: 10.00 Hz (-6 dB cutoff frequency: 45.00 Hz)\n- Filter length: 529 samples (3.306 s)\n\n",
     "output_type": "stream"
    },
    {
     "name": "stderr",
     "text": "[Parallel(n_jobs=1)]: Done  17 tasks      | elapsed:    0.0s\n[Parallel(n_jobs=1)]: Done  64 out of  64 | elapsed:    0.1s finished\n[Parallel(n_jobs=1)]: Done  17 tasks      | elapsed:    0.0s\n[Parallel(n_jobs=1)]: Done  64 out of  64 | elapsed:    0.0s finished\n",
     "output_type": "stream"
    },
    {
     "name": "stdout",
     "text": "Used Annotations descriptions: ['T1', 'T2']\nFiltering raw data in 1 contiguous segment\nSetting up band-pass filter from 1 - 40 Hz\n\nFIR filter parameters\n---------------------\nDesigning a one-pass, zero-phase, non-causal bandpass filter:\n- Windowed time-domain design (firwin) method\n- Hamming window with 0.0194 passband ripple and 53 dB stopband attenuation\n- Lower passband edge: 1.00\n- Lower transition bandwidth: 1.00 Hz (-6 dB cutoff frequency: 0.50 Hz)\n- Upper passband edge: 40.00 Hz\n- Upper transition bandwidth: 10.00 Hz (-6 dB cutoff frequency: 45.00 Hz)\n- Filter length: 529 samples (3.306 s)\n\nUsed Annotations descriptions: ['T1', 'T2']\nFiltering raw data in 1 contiguous segment\nSetting up band-pass filter from 1 - 40 Hz\n\nFIR filter parameters\n---------------------\nDesigning a one-pass, zero-phase, non-causal bandpass filter:\n- Windowed time-domain design (firwin) method\n- Hamming window with 0.0194 passband ripple and 53 dB stopband attenuation\n- Lower passband edge: 1.00\n- Lower transition bandwidth: 1.00 Hz (-6 dB cutoff frequency: 0.50 Hz)\n- Upper passband edge: 40.00 Hz\n- Upper transition bandwidth: 10.00 Hz (-6 dB cutoff frequency: 45.00 Hz)\n",
     "output_type": "stream"
    },
    {
     "name": "stderr",
     "text": "[Parallel(n_jobs=1)]: Done  17 tasks      | elapsed:    0.0s\n[Parallel(n_jobs=1)]: Done  64 out of  64 | elapsed:    0.1s finished\n[Parallel(n_jobs=1)]: Done  17 tasks      | elapsed:    0.0s\n[Parallel(n_jobs=1)]: Done  64 out of  64 | elapsed:    0.1s finished\n",
     "output_type": "stream"
    },
    {
     "name": "stdout",
     "text": "- Filter length: 529 samples (3.306 s)\n\nUsed Annotations descriptions: ['T1', 'T2']\nFiltering raw data in 1 contiguous segment\nSetting up band-pass filter from 1 - 40 Hz\n\nFIR filter parameters\n---------------------\nDesigning a one-pass, zero-phase, non-causal bandpass filter:\n- Windowed time-domain design (firwin) method\n- Hamming window with 0.0194 passband ripple and 53 dB stopband attenuation\n- Lower passband edge: 1.00\n- Lower transition bandwidth: 1.00 Hz (-6 dB cutoff frequency: 0.50 Hz)\n- Upper passband edge: 40.00 Hz\n- Upper transition bandwidth: 10.00 Hz (-6 dB cutoff frequency: 45.00 Hz)\n- Filter length: 529 samples (3.306 s)\n\nUsed Annotations descriptions: ['T1', 'T2']\nFiltering raw data in 1 contiguous segment\nSetting up band-pass filter from 1 - 40 Hz\n\nFIR filter parameters\n---------------------\nDesigning a one-pass, zero-phase, non-causal bandpass filter:\n- Windowed time-domain design (firwin) method\n- Hamming window with 0.0194 passband ripple and 53 dB stopband attenuation\n- Lower passband edge: 1.00\n- Lower transition bandwidth: 1.00 Hz (-6 dB cutoff frequency: 0.50 Hz)\n",
     "output_type": "stream"
    },
    {
     "name": "stderr",
     "text": "[Parallel(n_jobs=1)]: Done  17 tasks      | elapsed:    0.0s\n[Parallel(n_jobs=1)]: Done  64 out of  64 | elapsed:    0.1s finished\n[Parallel(n_jobs=1)]: Done  17 tasks      | elapsed:    0.0s\n[Parallel(n_jobs=1)]: Done  64 out of  64 | elapsed:    0.1s finished\n",
     "output_type": "stream"
    },
    {
     "name": "stdout",
     "text": "- Upper passband edge: 40.00 Hz\n- Upper transition bandwidth: 10.00 Hz (-6 dB cutoff frequency: 45.00 Hz)\n- Filter length: 529 samples (3.306 s)\n\nUsed Annotations descriptions: ['T1', 'T2']\nFiltering raw data in 1 contiguous segment\nSetting up band-pass filter from 1 - 40 Hz\n\nFIR filter parameters\n---------------------\nDesigning a one-pass, zero-phase, non-causal bandpass filter:\n- Windowed time-domain design (firwin) method\n- Hamming window with 0.0194 passband ripple and 53 dB stopband attenuation\n- Lower passband edge: 1.00\n- Lower transition bandwidth: 1.00 Hz (-6 dB cutoff frequency: 0.50 Hz)\n- Upper passband edge: 40.00 Hz\n- Upper transition bandwidth: 10.00 Hz (-6 dB cutoff frequency: 45.00 Hz)\n- Filter length: 529 samples (3.306 s)\n\nUsed Annotations descriptions: ['T1', 'T2']\nFiltering raw data in 1 contiguous segment\nSetting up band-pass filter from 1 - 40 Hz\n\nFIR filter parameters\n---------------------\nDesigning a one-pass, zero-phase, non-causal bandpass filter:\n- Windowed time-domain design (firwin) method\n- Hamming window with 0.0194 passband ripple and 53 dB stopband attenuation\n- Lower passband edge: 1.00\n- Lower transition bandwidth: 1.00 Hz (-6 dB cutoff frequency: 0.50 Hz)\n- Upper passband edge: 40.00 Hz\n- Upper transition bandwidth: 10.00 Hz (-6 dB cutoff frequency: 45.00 Hz)\n- Filter length: 529 samples (3.306 s)\n\n",
     "output_type": "stream"
    },
    {
     "name": "stderr",
     "text": "[Parallel(n_jobs=1)]: Done  17 tasks      | elapsed:    0.0s\n[Parallel(n_jobs=1)]: Done  64 out of  64 | elapsed:    0.1s finished\n[Parallel(n_jobs=1)]: Done  17 tasks      | elapsed:    0.0s\n[Parallel(n_jobs=1)]: Done  64 out of  64 | elapsed:    0.0s finished\n",
     "output_type": "stream"
    },
    {
     "name": "stdout",
     "text": "Used Annotations descriptions: ['T1', 'T2']\nFiltering raw data in 1 contiguous segment\nSetting up band-pass filter from 1 - 40 Hz\n\nFIR filter parameters\n---------------------\nDesigning a one-pass, zero-phase, non-causal bandpass filter:\n- Windowed time-domain design (firwin) method\n- Hamming window with 0.0194 passband ripple and 53 dB stopband attenuation\n- Lower passband edge: 1.00\n- Lower transition bandwidth: 1.00 Hz (-6 dB cutoff frequency: 0.50 Hz)\n- Upper passband edge: 40.00 Hz\n- Upper transition bandwidth: 10.00 Hz (-6 dB cutoff frequency: 45.00 Hz)\n- Filter length: 529 samples (3.306 s)\n\nUsed Annotations descriptions: ['T1', 'T2']\nFiltering raw data in 1 contiguous segment\nSetting up band-pass filter from 1 - 40 Hz\n\nFIR filter parameters\n---------------------\nDesigning a one-pass, zero-phase, non-causal bandpass filter:\n- Windowed time-domain design (firwin) method\n- Hamming window with 0.0194 passband ripple and 53 dB stopband attenuation\n- Lower passband edge: 1.00\n- Lower transition bandwidth: 1.00 Hz (-6 dB cutoff frequency: 0.50 Hz)\n- Upper passband edge: 40.00 Hz\n- Upper transition bandwidth: 10.00 Hz (-6 dB cutoff frequency: 45.00 Hz)\n- Filter length: 529 samples (3.306 s)\n\n",
     "output_type": "stream"
    },
    {
     "name": "stderr",
     "text": "[Parallel(n_jobs=1)]: Done  17 tasks      | elapsed:    0.0s\n[Parallel(n_jobs=1)]: Done  64 out of  64 | elapsed:    0.0s finished\n[Parallel(n_jobs=1)]: Done  17 tasks      | elapsed:    0.0s\n[Parallel(n_jobs=1)]: Done  64 out of  64 | elapsed:    0.0s finished\n",
     "output_type": "stream"
    },
    {
     "name": "stdout",
     "text": "Used Annotations descriptions: ['T1', 'T2']\nFiltering raw data in 1 contiguous segment\nSetting up band-pass filter from 1 - 40 Hz\n\nFIR filter parameters\n---------------------\nDesigning a one-pass, zero-phase, non-causal bandpass filter:\n- Windowed time-domain design (firwin) method\n- Hamming window with 0.0194 passband ripple and 53 dB stopband attenuation\n- Lower passband edge: 1.00\n- Lower transition bandwidth: 1.00 Hz (-6 dB cutoff frequency: 0.50 Hz)\n- Upper passband edge: 40.00 Hz\n- Upper transition bandwidth: 10.00 Hz (-6 dB cutoff frequency: 45.00 Hz)\n- Filter length: 529 samples (3.306 s)\n\nUsed Annotations descriptions: ['T1', 'T2']\nFiltering raw data in 1 contiguous segment\nSetting up band-pass filter from 1 - 40 Hz\n\nFIR filter parameters\n---------------------\nDesigning a one-pass, zero-phase, non-causal bandpass filter:\n- Windowed time-domain design (firwin) method\n- Hamming window with 0.0194 passband ripple and 53 dB stopband attenuation\n- Lower passband edge: 1.00\n- Lower transition bandwidth: 1.00 Hz (-6 dB cutoff frequency: 0.50 Hz)\n- Upper passband edge: 40.00 Hz\n- Upper transition bandwidth: 10.00 Hz (-6 dB cutoff frequency: 45.00 Hz)\n- Filter length: 529 samples (3.306 s)\n\n",
     "output_type": "stream"
    },
    {
     "name": "stderr",
     "text": "[Parallel(n_jobs=1)]: Done  17 tasks      | elapsed:    0.0s\n[Parallel(n_jobs=1)]: Done  64 out of  64 | elapsed:    0.1s finished\n[Parallel(n_jobs=1)]: Done  17 tasks      | elapsed:    0.0s\n[Parallel(n_jobs=1)]: Done  64 out of  64 | elapsed:    0.0s finished\n",
     "output_type": "stream"
    },
    {
     "name": "stdout",
     "text": "Used Annotations descriptions: ['T1', 'T2']\nFiltering raw data in 1 contiguous segment\nSetting up band-pass filter from 1 - 40 Hz\n\nFIR filter parameters\n---------------------\nDesigning a one-pass, zero-phase, non-causal bandpass filter:\n- Windowed time-domain design (firwin) method\n- Hamming window with 0.0194 passband ripple and 53 dB stopband attenuation\n- Lower passband edge: 1.00\n- Lower transition bandwidth: 1.00 Hz (-6 dB cutoff frequency: 0.50 Hz)\n- Upper passband edge: 40.00 Hz\n- Upper transition bandwidth: 10.00 Hz (-6 dB cutoff frequency: 45.00 Hz)\n- Filter length: 529 samples (3.306 s)\n\nUsed Annotations descriptions: ['T1', 'T2']\nFiltering raw data in 1 contiguous segment\nSetting up band-pass filter from 1 - 40 Hz\n\nFIR filter parameters\n---------------------\nDesigning a one-pass, zero-phase, non-causal bandpass filter:\n- Windowed time-domain design (firwin) method\n- Hamming window with 0.0194 passband ripple and 53 dB stopband attenuation\n- Lower passband edge: 1.00\n",
     "output_type": "stream"
    },
    {
     "name": "stderr",
     "text": "[Parallel(n_jobs=1)]: Done  17 tasks      | elapsed:    0.0s\n[Parallel(n_jobs=1)]: Done  64 out of  64 | elapsed:    0.1s finished\n[Parallel(n_jobs=1)]: Done  17 tasks      | elapsed:    0.0s\n[Parallel(n_jobs=1)]: Done  64 out of  64 | elapsed:    0.0s finished\n",
     "output_type": "stream"
    },
    {
     "name": "stdout",
     "text": "- Lower transition bandwidth: 1.00 Hz (-6 dB cutoff frequency: 0.50 Hz)\n- Upper passband edge: 40.00 Hz\n- Upper transition bandwidth: 10.00 Hz (-6 dB cutoff frequency: 45.00 Hz)\n- Filter length: 529 samples (3.306 s)\n\nUsed Annotations descriptions: ['T1', 'T2']\nFiltering raw data in 1 contiguous segment\nSetting up band-pass filter from 1 - 40 Hz\n\nFIR filter parameters\n---------------------\nDesigning a one-pass, zero-phase, non-causal bandpass filter:\n- Windowed time-domain design (firwin) method\n- Hamming window with 0.0194 passband ripple and 53 dB stopband attenuation\n- Lower passband edge: 1.00\n- Lower transition bandwidth: 1.00 Hz (-6 dB cutoff frequency: 0.50 Hz)\n- Upper passband edge: 40.00 Hz\n- Upper transition bandwidth: 10.00 Hz (-6 dB cutoff frequency: 45.00 Hz)\n- Filter length: 529 samples (3.306 s)\n\nUsed Annotations descriptions: ['T1', 'T2']\nFiltering raw data in 1 contiguous segment\nSetting up band-pass filter from 1 - 40 Hz\n\nFIR filter parameters\n---------------------\nDesigning a one-pass, zero-phase, non-causal bandpass filter:\n- Windowed time-domain design (firwin) method\n- Hamming window with 0.0194 passband ripple and 53 dB stopband attenuation\n- Lower passband edge: 1.00\n- Lower transition bandwidth: 1.00 Hz (-6 dB cutoff frequency: 0.50 Hz)\n- Upper passband edge: 40.00 Hz\n- Upper transition bandwidth: 10.00 Hz (-6 dB cutoff frequency: 45.00 Hz)\n- Filter length: 529 samples (3.306 s)\n\n",
     "output_type": "stream"
    },
    {
     "name": "stderr",
     "text": "[Parallel(n_jobs=1)]: Done  17 tasks      | elapsed:    0.0s\n[Parallel(n_jobs=1)]: Done  64 out of  64 | elapsed:    0.0s finished\n[Parallel(n_jobs=1)]: Done  17 tasks      | elapsed:    0.0s\n[Parallel(n_jobs=1)]: Done  64 out of  64 | elapsed:    0.0s finished\n",
     "output_type": "stream"
    },
    {
     "name": "stdout",
     "text": "Used Annotations descriptions: ['T1', 'T2']\nFiltering raw data in 1 contiguous segment\nSetting up band-pass filter from 1 - 40 Hz\n\nFIR filter parameters\n---------------------\nDesigning a one-pass, zero-phase, non-causal bandpass filter:\n- Windowed time-domain design (firwin) method\n- Hamming window with 0.0194 passband ripple and 53 dB stopband attenuation\n- Lower passband edge: 1.00\n- Lower transition bandwidth: 1.00 Hz (-6 dB cutoff frequency: 0.50 Hz)\n- Upper passband edge: 40.00 Hz\n- Upper transition bandwidth: 10.00 Hz (-6 dB cutoff frequency: 45.00 Hz)\n- Filter length: 529 samples (3.306 s)\n\nUsed Annotations descriptions: ['T1', 'T2']\nFiltering raw data in 1 contiguous segment\nSetting up band-pass filter from 1 - 40 Hz\n\nFIR filter parameters\n---------------------\nDesigning a one-pass, zero-phase, non-causal bandpass filter:\n- Windowed time-domain design (firwin) method\n- Hamming window with 0.0194 passband ripple and 53 dB stopband attenuation\n- Lower passband edge: 1.00\n- Lower transition bandwidth: 1.00 Hz (-6 dB cutoff frequency: 0.50 Hz)\n- Upper passband edge: 40.00 Hz\n- Upper transition bandwidth: 10.00 Hz (-6 dB cutoff frequency: 45.00 Hz)\n- Filter length: 529 samples (3.306 s)\n\n",
     "output_type": "stream"
    },
    {
     "name": "stderr",
     "text": "[Parallel(n_jobs=1)]: Done  17 tasks      | elapsed:    0.0s\n[Parallel(n_jobs=1)]: Done  64 out of  64 | elapsed:    0.1s finished\n[Parallel(n_jobs=1)]: Done  17 tasks      | elapsed:    0.0s\n[Parallel(n_jobs=1)]: Done  64 out of  64 | elapsed:    0.0s finished\n",
     "output_type": "stream"
    },
    {
     "name": "stdout",
     "text": "Used Annotations descriptions: ['T1', 'T2']\nFiltering raw data in 1 contiguous segment\nSetting up band-pass filter from 1 - 40 Hz\n\nFIR filter parameters\n---------------------\nDesigning a one-pass, zero-phase, non-causal bandpass filter:\n- Windowed time-domain design (firwin) method\n- Hamming window with 0.0194 passband ripple and 53 dB stopband attenuation\n- Lower passband edge: 1.00\n- Lower transition bandwidth: 1.00 Hz (-6 dB cutoff frequency: 0.50 Hz)\n- Upper passband edge: 40.00 Hz\n- Upper transition bandwidth: 10.00 Hz (-6 dB cutoff frequency: 45.00 Hz)\n- Filter length: 529 samples (3.306 s)\n\nUsed Annotations descriptions: ['T1', 'T2']\nFiltering raw data in 1 contiguous segment\nSetting up band-pass filter from 1 - 40 Hz\n\nFIR filter parameters\n---------------------\nDesigning a one-pass, zero-phase, non-causal bandpass filter:\n- Windowed time-domain design (firwin) method\n- Hamming window with 0.0194 passband ripple and 53 dB stopband attenuation\n- Lower passband edge: 1.00\n- Lower transition bandwidth: 1.00 Hz (-6 dB cutoff frequency: 0.50 Hz)\n- Upper passband edge: 40.00 Hz\n- Upper transition bandwidth: 10.00 Hz (-6 dB cutoff frequency: 45.00 Hz)\n- Filter length: 529 samples (3.306 s)\n\n",
     "output_type": "stream"
    },
    {
     "name": "stderr",
     "text": "[Parallel(n_jobs=1)]: Done  17 tasks      | elapsed:    0.0s\n[Parallel(n_jobs=1)]: Done  64 out of  64 | elapsed:    0.0s finished\n[Parallel(n_jobs=1)]: Done  17 tasks      | elapsed:    0.0s\n[Parallel(n_jobs=1)]: Done  64 out of  64 | elapsed:    0.1s finished\n",
     "output_type": "stream"
    },
    {
     "name": "stdout",
     "text": "Used Annotations descriptions: ['T1', 'T2']\nFiltering raw data in 1 contiguous segment\nSetting up band-pass filter from 1 - 40 Hz\n\nFIR filter parameters\n---------------------\nDesigning a one-pass, zero-phase, non-causal bandpass filter:\n- Windowed time-domain design (firwin) method\n- Hamming window with 0.0194 passband ripple and 53 dB stopband attenuation\n- Lower passband edge: 1.00\n- Lower transition bandwidth: 1.00 Hz (-6 dB cutoff frequency: 0.50 Hz)\n- Upper passband edge: 40.00 Hz\n- Upper transition bandwidth: 10.00 Hz (-6 dB cutoff frequency: 45.00 Hz)\n- Filter length: 529 samples (3.306 s)\n\nUsed Annotations descriptions: ['T1', 'T2']\nFiltering raw data in 1 contiguous segment\nSetting up band-pass filter from 1 - 40 Hz\n\nFIR filter parameters\n---------------------\nDesigning a one-pass, zero-phase, non-causal bandpass filter:\n- Windowed time-domain design (firwin) method\n- Hamming window with 0.0194 passband ripple and 53 dB stopband attenuation\n- Lower passband edge: 1.00\n- Lower transition bandwidth: 1.00 Hz (-6 dB cutoff frequency: 0.50 Hz)\n- Upper passband edge: 40.00 Hz\n- Upper transition bandwidth: 10.00 Hz (-6 dB cutoff frequency: 45.00 Hz)\n- Filter length: 529 samples (3.306 s)\n\n",
     "output_type": "stream"
    },
    {
     "name": "stderr",
     "text": "[Parallel(n_jobs=1)]: Done  17 tasks      | elapsed:    0.0s\n[Parallel(n_jobs=1)]: Done  64 out of  64 | elapsed:    0.1s finished\n[Parallel(n_jobs=1)]: Done  17 tasks      | elapsed:    0.0s\n[Parallel(n_jobs=1)]: Done  64 out of  64 | elapsed:    0.1s finished\n",
     "output_type": "stream"
    },
    {
     "name": "stdout",
     "text": "Used Annotations descriptions: ['T1', 'T2']\nFiltering raw data in 1 contiguous segment\nSetting up band-pass filter from 1 - 40 Hz\n\nFIR filter parameters\n---------------------\nDesigning a one-pass, zero-phase, non-causal bandpass filter:\n- Windowed time-domain design (firwin) method\n- Hamming window with 0.0194 passband ripple and 53 dB stopband attenuation\n- Lower passband edge: 1.00\n- Lower transition bandwidth: 1.00 Hz (-6 dB cutoff frequency: 0.50 Hz)\n- Upper passband edge: 40.00 Hz\n- Upper transition bandwidth: 10.00 Hz (-6 dB cutoff frequency: 45.00 Hz)\n- Filter length: 529 samples (3.306 s)\n\nUsed Annotations descriptions: ['T1', 'T2']\nFiltering raw data in 1 contiguous segment\nSetting up band-pass filter from 1 - 40 Hz\n\nFIR filter parameters\n---------------------\nDesigning a one-pass, zero-phase, non-causal bandpass filter:\n- Windowed time-domain design (firwin) method\n- Hamming window with 0.0194 passband ripple and 53 dB stopband attenuation\n- Lower passband edge: 1.00\n- Lower transition bandwidth: 1.00 Hz (-6 dB cutoff frequency: 0.50 Hz)\n- Upper passband edge: 40.00 Hz\n- Upper transition bandwidth: 10.00 Hz (-6 dB cutoff frequency: 45.00 Hz)\n- Filter length: 529 samples (3.306 s)\n\n",
     "output_type": "stream"
    },
    {
     "name": "stderr",
     "text": "[Parallel(n_jobs=1)]: Done  17 tasks      | elapsed:    0.0s\n[Parallel(n_jobs=1)]: Done  64 out of  64 | elapsed:    0.0s finished\n[Parallel(n_jobs=1)]: Done  17 tasks      | elapsed:    0.0s\n[Parallel(n_jobs=1)]: Done  64 out of  64 | elapsed:    0.0s finished\n",
     "output_type": "stream"
    },
    {
     "name": "stdout",
     "text": "Used Annotations descriptions: ['T1', 'T2']\nFiltering raw data in 1 contiguous segment\nSetting up band-pass filter from 1 - 40 Hz\n\nFIR filter parameters\n---------------------\nDesigning a one-pass, zero-phase, non-causal bandpass filter:\n- Windowed time-domain design (firwin) method\n- Hamming window with 0.0194 passband ripple and 53 dB stopband attenuation\n- Lower passband edge: 1.00\n- Lower transition bandwidth: 1.00 Hz (-6 dB cutoff frequency: 0.50 Hz)\n- Upper passband edge: 40.00 Hz\n- Upper transition bandwidth: 10.00 Hz (-6 dB cutoff frequency: 45.00 Hz)\n- Filter length: 529 samples (3.306 s)\n\nUsed Annotations descriptions: ['T1', 'T2']\nFiltering raw data in 1 contiguous segment\nSetting up band-pass filter from 1 - 40 Hz\n\nFIR filter parameters\n---------------------\nDesigning a one-pass, zero-phase, non-causal bandpass filter:\n- Windowed time-domain design (firwin) method\n- Hamming window with 0.0194 passband ripple and 53 dB stopband attenuation\n- Lower passband edge: 1.00\n- Lower transition bandwidth: 1.00 Hz (-6 dB cutoff frequency: 0.50 Hz)\n- Upper passband edge: 40.00 Hz\n- Upper transition bandwidth: 10.00 Hz (-6 dB cutoff frequency: 45.00 Hz)\n- Filter length: 529 samples (3.306 s)\n\n",
     "output_type": "stream"
    },
    {
     "name": "stderr",
     "text": "[Parallel(n_jobs=1)]: Done  17 tasks      | elapsed:    0.0s\n[Parallel(n_jobs=1)]: Done  64 out of  64 | elapsed:    0.0s finished\n[Parallel(n_jobs=1)]: Done  17 tasks      | elapsed:    0.0s\n[Parallel(n_jobs=1)]: Done  64 out of  64 | elapsed:    0.0s finished\n",
     "output_type": "stream"
    },
    {
     "name": "stdout",
     "text": "Used Annotations descriptions: ['T1', 'T2']\nFiltering raw data in 1 contiguous segment\nSetting up band-pass filter from 1 - 40 Hz\n\nFIR filter parameters\n---------------------\nDesigning a one-pass, zero-phase, non-causal bandpass filter:\n- Windowed time-domain design (firwin) method\n- Hamming window with 0.0194 passband ripple and 53 dB stopband attenuation\n- Lower passband edge: 1.00\n- Lower transition bandwidth: 1.00 Hz (-6 dB cutoff frequency: 0.50 Hz)\n- Upper passband edge: 40.00 Hz\n- Upper transition bandwidth: 10.00 Hz (-6 dB cutoff frequency: 45.00 Hz)\n- Filter length: 529 samples (3.306 s)\n\nUsed Annotations descriptions: ['T1', 'T2']\n",
     "output_type": "stream"
    },
    {
     "name": "stderr",
     "text": "[Parallel(n_jobs=1)]: Done  17 tasks      | elapsed:    0.0s\n[Parallel(n_jobs=1)]: Done  64 out of  64 | elapsed:    0.0s finished\n[Parallel(n_jobs=1)]: Done  17 tasks      | elapsed:    0.0s\n[Parallel(n_jobs=1)]: Done  64 out of  64 | elapsed:    0.0s finished\n",
     "output_type": "stream"
    }
   ],
   "execution_count": 51
  },
  {
   "cell_type": "code",
   "source": [
    "# Combine all subject-run data\n",
    "X_all = np.concatenate(all_X, axis=0)\n",
    "y_all = np.concatenate(all_y, axis=0)\n",
    "\n",
    "print(f\"Total samples: {X_all.shape[0]} | Features per sample: {X_all.shape[1] * X_all.shape[2]}\")\n"
   ],
   "metadata": {
    "trusted": true,
    "execution": {
     "iopub.status.busy": "2025-07-17T14:37:57.287471Z",
     "iopub.execute_input": "2025-07-17T14:37:57.287833Z",
     "iopub.status.idle": "2025-07-17T14:37:57.350429Z",
     "shell.execute_reply.started": "2025-07-17T14:37:57.287807Z",
     "shell.execute_reply": "2025-07-17T14:37:57.349771Z"
    }
   },
   "outputs": [
    {
     "name": "stdout",
     "text": "Total samples: 9545 | Features per sample: 2415\n",
     "output_type": "stream"
    }
   ],
   "execution_count": 52
  },
  {
   "cell_type": "markdown",
   "source": [
    "# RF"
   ],
   "metadata": {}
  },
  {
   "cell_type": "code",
   "source": [
    "from sklearn.ensemble import RandomForestClassifier\n",
    "from sklearn.model_selection import train_test_split\n",
    "from sklearn.metrics import classification_report, confusion_matrix, ConfusionMatrixDisplay\n",
    "import matplotlib.pyplot as plt\n",
    "\n",
    "# Flatten data for sklearn: (n_samples, n_features)\n",
    "X_flat = X_all.reshape(X_all.shape[0], -1)\n",
    "y_labels = y_all\n",
    "\n",
    "# Train/test split\n",
    "X_train, X_test, y_train, y_test = train_test_split(\n",
    "    X_flat, y_labels, test_size=0.3, random_state=42, stratify=y_labels\n",
    ")\n",
    "\n",
    "# Train Random Forest\n",
    "clf = RandomForestClassifier(n_estimators=100, random_state=42)\n",
    "clf.fit(X_train, y_train)\n",
    "\n",
    "# Predictions\n",
    "y_pred = clf.predict(X_test)\n",
    "\n",
    "# Evaluation report\n",
    "print(classification_report(\n",
    "    y_test, y_pred,\n",
    "    target_names=['Left Fist (T1)', 'Right Fist (T2)']\n",
    "))\n",
    "\n",
    "# Confusion matrix plot\n",
    "ConfusionMatrixDisplay.from_predictions(\n",
    "    y_test, y_pred,\n",
    "    display_labels=['Left Fist (T1)', 'Right Fist (T2)'],\n",
    "    cmap='Blues',\n",
    "    colorbar=False\n",
    ")\n",
    "plt.title(\"Confusion Matrix - Motor Imagery EEG\")\n",
    "plt.show()\n"
   ],
   "metadata": {
    "trusted": true,
    "execution": {
     "iopub.status.busy": "2025-07-17T14:38:37.848462Z",
     "iopub.execute_input": "2025-07-17T14:38:37.848706Z",
     "iopub.status.idle": "2025-07-17T14:39:01.812032Z",
     "shell.execute_reply.started": "2025-07-17T14:38:37.848690Z",
     "shell.execute_reply": "2025-07-17T14:39:01.811363Z"
    }
   },
   "outputs": [
    {
     "name": "stdout",
     "text": "                 precision    recall  f1-score   support\n\n Left Fist (T1)       0.67      0.66      0.67      1441\nRight Fist (T2)       0.66      0.67      0.66      1423\n\n       accuracy                           0.67      2864\n      macro avg       0.67      0.67      0.67      2864\n   weighted avg       0.67      0.67      0.67      2864\n\n",
     "output_type": "stream"
    },
    {
     "output_type": "display_data",
     "data": {
      "text/plain": "<Figure size 640x480 with 1 Axes>",
      "image/png": "[encoded data removed]"
     },
     "metadata": {}
    }
   ],
   "execution_count": 53
  },
  {
   "cell_type": "code",
   "source": [
    "# Plot top 20 most important features\n",
    "importances = clf.feature_importances_\n",
    "top_idx = np.argsort(importances)[-20:]\n",
    "\n",
    "plt.figure(figsize=(10, 4))\n",
    "plt.bar(range(20), importances[top_idx])\n",
    "plt.title(\"Top 20 Feature Importances (EEG ERP)\")\n",
    "plt.xlabel(\"Feature Index\")\n",
    "plt.ylabel(\"Importance\")\n",
    "plt.show()\n"
   ],
   "metadata": {
    "trusted": true,
    "execution": {
     "iopub.status.busy": "2025-07-17T14:39:01.813115Z",
     "iopub.execute_input": "2025-07-17T14:39:01.813334Z",
     "iopub.status.idle": "2025-07-17T14:39:01.991046Z",
     "shell.execute_reply.started": "2025-07-17T14:39:01.813317Z",
     "shell.execute_reply": "2025-07-17T14:39:01.990336Z"
    }
   },
   "outputs": [
    {
     "output_type": "display_data",
     "data": {
      "text/plain": "<Figure size 1000x400 with 1 Axes>",
      "image/png": "[encoded data removed]"
     },
     "metadata": {}
    }
   ],
   "execution_count": 54
  },
  {
   "cell_type": "markdown",
   "source": [
    "# Cross-Validation"
   ],
   "metadata": {}
  },
  {
   "cell_type": "code",
   "source": [
    "from sklearn.model_selection import StratifiedKFold, cross_val_score, cross_validate\n",
    "from sklearn.metrics import make_scorer, accuracy_score, f1_score\n",
    "\n",
    "# Flatten EEG features if not already\n",
    "X_flat = X_all.reshape(X_all.shape[0], -1)\n",
    "y_labels = y_all\n",
    "\n",
    "# Define classifier\n",
    "clf = RandomForestClassifier(n_estimators=100, random_state=42)\n",
    "\n",
    "# Define scorers\n",
    "scoring = {\n",
    "    'accuracy': make_scorer(accuracy_score),\n",
    "    'f1_macro': make_scorer(f1_score, average='macro'),\n",
    "    'f1_weighted': make_scorer(f1_score, average='weighted')\n",
    "}\n",
    "\n",
    "# Run 5-fold stratified cross-validation\n",
    "cv = StratifiedKFold(n_splits=5, shuffle=True, random_state=42)\n",
    "cv_results = cross_validate(clf, X_flat, y_labels, cv=cv, scoring=scoring)\n",
    "\n",
    "# Display results\n",
    "print(\"Cross-Validation Results (5 folds):\")\n",
    "for key in cv_results:\n",
    "    if \"test_\" in key:\n",
    "        scores = cv_results[key]\n",
    "        print(f\"{key[5:]}: {np.mean(scores):.3f} ± {np.std(scores):.3f}\")\n"
   ],
   "metadata": {
    "trusted": true,
    "execution": {
     "iopub.status.busy": "2025-07-17T14:39:29.945176Z",
     "iopub.execute_input": "2025-07-17T14:39:29.945466Z",
     "iopub.status.idle": "2025-07-17T14:41:50.093051Z",
     "shell.execute_reply.started": "2025-07-17T14:39:29.945445Z",
     "shell.execute_reply": "2025-07-17T14:41:50.092208Z"
    }
   },
   "outputs": [
    {
     "name": "stdout",
     "text": "Cross-Validation Results (5 folds):\naccuracy: 0.651 ± 0.005\nf1_macro: 0.651 ± 0.005\nf1_weighted: 0.651 ± 0.005\n",
     "output_type": "stream"
    }
   ],
   "execution_count": 55
  },
  {
   "cell_type": "markdown",
   "source": [
    "# LSTM"
   ],
   "metadata": {}
  },
  {
   "cell_type": "code",
   "source": [
    "import torch\n",
    "import torch.nn as nn\n",
    "from torch.utils.data import Dataset, DataLoader\n",
    "from sklearn.model_selection import train_test_split\n",
    "import numpy as np\n",
    "\n",
    "# Use GPU if available\n",
    "device = torch.device('cuda' if torch.cuda.is_available() else 'cpu')\n"
   ],
   "metadata": {
    "trusted": true,
    "execution": {
     "iopub.status.busy": "2025-07-17T14:59:42.710300Z",
     "iopub.execute_input": "2025-07-17T14:59:42.710585Z",
     "iopub.status.idle": "2025-07-17T14:59:42.715052Z",
     "shell.execute_reply.started": "2025-07-17T14:59:42.710564Z",
     "shell.execute_reply": "2025-07-17T14:59:42.714225Z"
    }
   },
   "outputs": [],
   "execution_count": 95
  },
  {
   "cell_type": "code",
   "source": [
    "\n",
    "# Normalize input to zero mean and unit variance per trial\n",
    "X_norm = (X_all - X_all.mean(axis=(1, 2), keepdims=True)) / X_all.std(axis=(1, 2), keepdims=True)\n",
    "X_lstm = np.transpose(X_norm, (0, 2, 1))  # shape: (samples, time, channels)\n",
    "y_lstm = y_all - 1  # labels: 0 or 1\n",
    "\n",
    "class EEGDataset(Dataset):\n",
    "    def __init__(self, X, y):\n",
    "        self.X = torch.tensor(X, dtype=torch.float32)\n",
    "        self.y = torch.tensor(y, dtype=torch.long)\n",
    "    def __len__(self):\n",
    "        return len(self.X)\n",
    "    def __getitem__(self, idx):\n",
    "        return self.X[idx], self.y[idx]\n",
    "\n",
    "\n",
    "# Train/test split\n",
    "X_train, X_test, y_train, y_test = train_test_split(X_lstm, y_lstm, test_size=0.3, stratify=y_lstm, random_state=42)\n",
    "\n",
    "# Dataset + Dataloader\n",
    "train_ds = EEGDataset(X_train, y_train)\n",
    "test_ds = EEGDataset(X_test, y_test)\n",
    "train_loader = DataLoader(train_ds, batch_size=64, shuffle=True)\n",
    "test_loader = DataLoader(test_ds, batch_size=64)\n",
    "\n"
   ],
   "metadata": {
    "trusted": true,
    "execution": {
     "iopub.status.busy": "2025-07-17T14:59:42.716039Z",
     "iopub.execute_input": "2025-07-17T14:59:42.716299Z",
     "iopub.status.idle": "2025-07-17T14:59:43.057281Z",
     "shell.execute_reply.started": "2025-07-17T14:59:42.716275Z",
     "shell.execute_reply": "2025-07-17T14:59:43.056499Z"
    }
   },
   "outputs": [],
   "execution_count": 96
  },
  {
   "cell_type": "code",
   "source": [
    "class EEG_LSTM(nn.Module):\n",
    "    def __init__(self, input_size, hidden_size=64, num_layers=2, dropout=0.3):\n",
    "        super(EEG_LSTM, self).__init__()\n",
    "        self.lstm = nn.LSTM(input_size=input_size,\n",
    "                            hidden_size=hidden_size,\n",
    "                            num_layers=num_layers,\n",
    "                            dropout=dropout,\n",
    "                            batch_first=True)\n",
    "        self.fc = nn.Linear(hidden_size, 2)\n",
    "\n",
    "    def forward(self, x):\n",
    "        out, _ = self.lstm(x)\n",
    "        out = self.fc(out[:, -1, :])  # last time step\n",
    "        return out\n",
    "\n"
   ],
   "metadata": {
    "trusted": true,
    "execution": {
     "iopub.status.busy": "2025-07-17T14:59:43.058634Z",
     "iopub.execute_input": "2025-07-17T14:59:43.058923Z",
     "iopub.status.idle": "2025-07-17T14:59:43.064025Z",
     "shell.execute_reply.started": "2025-07-17T14:59:43.058899Z",
     "shell.execute_reply": "2025-07-17T14:59:43.063310Z"
    }
   },
   "outputs": [],
   "execution_count": 97
  },
  {
   "cell_type": "code",
   "source": [
    "\n",
    "# Model\n",
    "model = EEG_LSTM(input_size=X_lstm.shape[2]).to(device)\n",
    "\n",
    "# Loss + Optimizer\n",
    "criterion = nn.CrossEntropyLoss()\n",
    "optimizer = torch.optim.Adam(model.parameters(), lr=0.0005)\n",
    "epochs = 31\n",
    "# Training\n",
    "for epoch in range(1, epochs):\n",
    "    model.train()\n",
    "    total_loss = 0\n",
    "    for Xb, yb in train_loader:\n",
    "        Xb, yb = Xb.to(device), yb.to(device)\n",
    "        optimizer.zero_grad()\n",
    "        output = model(Xb)\n",
    "        loss = criterion(output, yb)\n",
    "        loss.backward()\n",
    "        optimizer.step()\n",
    "        total_loss += loss.item()\n",
    "    print(f\"Epoch {epoch}/{epochs-1} - Loss: {total_loss / len(train_loader):.4f}\")\n"
   ],
   "metadata": {
    "trusted": true,
    "execution": {
     "iopub.status.busy": "2025-07-17T14:59:43.064695Z",
     "iopub.execute_input": "2025-07-17T14:59:43.064919Z",
     "iopub.status.idle": "2025-07-17T14:59:54.562424Z",
     "shell.execute_reply.started": "2025-07-17T14:59:43.064905Z",
     "shell.execute_reply": "2025-07-17T14:59:54.561769Z"
    }
   },
   "outputs": [
    {
     "name": "stdout",
     "text": "Epoch 1/30 - Loss: 0.6741\nEpoch 2/30 - Loss: 0.6336\nEpoch 3/30 - Loss: 0.6197\nEpoch 4/30 - Loss: 0.6089\nEpoch 5/30 - Loss: 0.6015\nEpoch 6/30 - Loss: 0.5951\nEpoch 7/30 - Loss: 0.5910\nEpoch 8/30 - Loss: 0.5860\nEpoch 9/30 - Loss: 0.5896\nEpoch 10/30 - Loss: 0.5831\nEpoch 11/30 - Loss: 0.5830\nEpoch 12/30 - Loss: 0.5724\nEpoch 13/30 - Loss: 0.5758\nEpoch 14/30 - Loss: 0.5722\nEpoch 15/30 - Loss: 0.5676\nEpoch 16/30 - Loss: 0.5654\nEpoch 17/30 - Loss: 0.5642\nEpoch 18/30 - Loss: 0.5609\nEpoch 19/30 - Loss: 0.5602\nEpoch 20/30 - Loss: 0.5582\nEpoch 21/30 - Loss: 0.5551\nEpoch 22/30 - Loss: 0.5549\nEpoch 23/30 - Loss: 0.5551\nEpoch 24/30 - Loss: 0.5539\nEpoch 25/30 - Loss: 0.5546\nEpoch 26/30 - Loss: 0.5432\nEpoch 27/30 - Loss: 0.5453\nEpoch 28/30 - Loss: 0.5402\nEpoch 29/30 - Loss: 0.5421\nEpoch 30/30 - Loss: 0.5380\n",
     "output_type": "stream"
    }
   ],
   "execution_count": 98
  },
  {
   "cell_type": "code",
   "source": [
    "model.eval()\n",
    "correct = 0\n",
    "with torch.no_grad():\n",
    "    for Xb, yb in test_loader:\n",
    "        Xb, yb = Xb.to(device), yb.to(device)\n",
    "        preds = model(Xb).argmax(1)\n",
    "        correct += (preds == yb).sum().item()\n",
    "\n",
    "accuracy = correct / len(test_ds)\n",
    "print(f\"\\n🧠 Improved LSTM Test Accuracy: {accuracy * 100:.2f}%\")\n"
   ],
   "metadata": {
    "trusted": true,
    "execution": {
     "iopub.status.busy": "2025-07-17T14:59:54.564162Z",
     "iopub.execute_input": "2025-07-17T14:59:54.564354Z",
     "iopub.status.idle": "2025-07-17T14:59:54.655388Z",
     "shell.execute_reply.started": "2025-07-17T14:59:54.564339Z",
     "shell.execute_reply": "2025-07-17T14:59:54.654748Z"
    }
   },
   "outputs": [
    {
     "name": "stdout",
     "text": "\n🧠 Improved LSTM Test Accuracy: 70.81%\n",
     "output_type": "stream"
    }
   ],
   "execution_count": 99
  },
  {
   "cell_type": "markdown",
   "source": [
    "# CNN"
   ],
   "metadata": {}
  },
  {
   "cell_type": "code",
   "source": [
    "# Normalize as before\n",
    "X_norm = (X_all - X_all.mean(axis=(1, 2), keepdims=True)) / X_all.std(axis=(1, 2), keepdims=True)\n",
    "\n",
    "# Shape: (samples, channels, time)\n",
    "X_cnn = X_norm  # already in (n_samples, n_channels, n_times)\n",
    "y_cnn = y_all - 1  # labels: 0 or 1\n"
   ],
   "metadata": {
    "trusted": true,
    "execution": {
     "iopub.status.busy": "2025-07-17T14:59:54.660511Z",
     "iopub.execute_input": "2025-07-17T14:59:54.660690Z",
     "iopub.status.idle": "2025-07-17T14:59:54.912802Z",
     "shell.execute_reply.started": "2025-07-17T14:59:54.660677Z",
     "shell.execute_reply": "2025-07-17T14:59:54.912011Z"
    }
   },
   "outputs": [],
   "execution_count": 101
  },
  {
   "cell_type": "code",
   "source": [
    "class EEGCNNDataset(Dataset):\n",
    "    def __init__(self, X, y):\n",
    "        # Add channel dimension for Conv2D: (n, 1, c, t)\n",
    "        self.X = torch.tensor(X[:, np.newaxis, :, :], dtype=torch.float32)\n",
    "        self.y = torch.tensor(y, dtype=torch.long)\n",
    "    def __len__(self): return len(self.X)\n",
    "    def __getitem__(self, idx): return self.X[idx], self.y[idx]\n"
   ],
   "metadata": {
    "trusted": true,
    "execution": {
     "iopub.status.busy": "2025-07-17T14:59:54.913680Z",
     "iopub.execute_input": "2025-07-17T14:59:54.913942Z",
     "iopub.status.idle": "2025-07-17T14:59:54.918621Z",
     "shell.execute_reply.started": "2025-07-17T14:59:54.913915Z",
     "shell.execute_reply": "2025-07-17T14:59:54.917946Z"
    }
   },
   "outputs": [],
   "execution_count": 102
  },
  {
   "cell_type": "code",
   "source": [
    "class EEGCNN(nn.Module):\n",
    "    def __init__(self):\n",
    "        super(EEGCNN, self).__init__()\n",
    "        self.conv1 = nn.Conv2d(1, 16, kernel_size=(3, 15), padding=(1, 0))\n",
    "        self.bn1 = nn.BatchNorm2d(16)\n",
    "        self.pool = nn.AdaptiveMaxPool2d((1, 10))\n",
    "        self.dropout = nn.Dropout(0.3)\n",
    "        self.fc = nn.Linear(16 * 1 * 10, 2)\n",
    "\n",
    "    def forward(self, x):\n",
    "        x = self.pool(torch.relu(self.bn1(self.conv1(x))))  # (batch, 16, 1, 10)\n",
    "        x = x.view(x.size(0), -1)  # flatten\n",
    "        x = self.dropout(x)\n",
    "        x = self.fc(x)\n",
    "        return x\n"
   ],
   "metadata": {
    "trusted": true,
    "execution": {
     "iopub.status.busy": "2025-07-17T14:59:54.919422Z",
     "iopub.execute_input": "2025-07-17T14:59:54.919663Z",
     "iopub.status.idle": "2025-07-17T14:59:54.934624Z",
     "shell.execute_reply.started": "2025-07-17T14:59:54.919642Z",
     "shell.execute_reply": "2025-07-17T14:59:54.934057Z"
    }
   },
   "outputs": [],
   "execution_count": 103
  },
  {
   "cell_type": "code",
   "source": [
    "# Split data\n",
    "X_train, X_test, y_train, y_test = train_test_split(X_cnn, y_cnn, test_size=0.3, stratify=y_cnn, random_state=42)\n",
    "\n",
    "# Dataloaders\n",
    "train_ds = EEGCNNDataset(X_train, y_train)\n",
    "test_ds = EEGCNNDataset(X_test, y_test)\n",
    "train_loader = DataLoader(train_ds, batch_size=64, shuffle=True)\n",
    "test_loader = DataLoader(test_ds, batch_size=64)\n",
    "\n",
    "# Model\n",
    "model = EEGCNN().to(device)\n",
    "criterion = nn.CrossEntropyLoss()\n",
    "optimizer = torch.optim.Adam(model.parameters(), lr=0.001)\n",
    "\n",
    "# Training\n",
    "for epoch in range(1, epochs):\n",
    "    model.train()\n",
    "    total_loss = 0\n",
    "    for Xb, yb in train_loader:\n",
    "        Xb, yb = Xb.to(device), yb.to(device)\n",
    "        optimizer.zero_grad()\n",
    "        out = model(Xb)\n",
    "        loss = criterion(out, yb)\n",
    "        loss.backward()\n",
    "        optimizer.step()\n",
    "        total_loss += loss.item()\n",
    "    print(f\"Epoch {epoch}/{epochs-1} - Loss: {total_loss / len(train_loader):.4f}\")\n"
   ],
   "metadata": {
    "trusted": true,
    "execution": {
     "iopub.status.busy": "2025-07-17T14:59:54.935453Z",
     "iopub.execute_input": "2025-07-17T14:59:54.935669Z",
     "iopub.status.idle": "2025-07-17T15:00:02.714168Z",
     "shell.execute_reply.started": "2025-07-17T14:59:54.935654Z",
     "shell.execute_reply": "2025-07-17T15:00:02.713488Z"
    }
   },
   "outputs": [
    {
     "name": "stdout",
     "text": "Epoch 1/30 - Loss: 0.7811\nEpoch 2/30 - Loss: 0.7129\nEpoch 3/30 - Loss: 0.6958\nEpoch 4/30 - Loss: 0.6909\nEpoch 5/30 - Loss: 0.6865\nEpoch 6/30 - Loss: 0.6870\nEpoch 7/30 - Loss: 0.6788\nEpoch 8/30 - Loss: 0.6810\nEpoch 9/30 - Loss: 0.6772\nEpoch 10/30 - Loss: 0.6767\nEpoch 11/30 - Loss: 0.6743\nEpoch 12/30 - Loss: 0.6739\nEpoch 13/30 - Loss: 0.6764\nEpoch 14/30 - Loss: 0.6730\nEpoch 15/30 - Loss: 0.6736\nEpoch 16/30 - Loss: 0.6727\nEpoch 17/30 - Loss: 0.6690\nEpoch 18/30 - Loss: 0.6707\nEpoch 19/30 - Loss: 0.6685\nEpoch 20/30 - Loss: 0.6712\nEpoch 21/30 - Loss: 0.6710\nEpoch 22/30 - Loss: 0.6654\nEpoch 23/30 - Loss: 0.6656\nEpoch 24/30 - Loss: 0.6695\nEpoch 25/30 - Loss: 0.6635\nEpoch 26/30 - Loss: 0.6642\nEpoch 27/30 - Loss: 0.6652\nEpoch 28/30 - Loss: 0.6638\nEpoch 29/30 - Loss: 0.6624\nEpoch 30/30 - Loss: 0.6637\n",
     "output_type": "stream"
    }
   ],
   "execution_count": 104
  },
  {
   "cell_type": "code",
   "source": [
    "model.eval()\n",
    "correct = 0\n",
    "with torch.no_grad():\n",
    "    for Xb, yb in test_loader:\n",
    "        Xb, yb = Xb.to(device), yb.to(device)\n",
    "        preds = model(Xb).argmax(1)\n",
    "        correct += (preds == yb).sum().item()\n",
    "\n",
    "acc = correct / len(test_ds)\n",
    "print(f\"\\n🧠 CNN Test Accuracy: {acc * 100:.2f}%\")\n"
   ],
   "metadata": {
    "trusted": true,
    "execution": {
     "iopub.status.busy": "2025-07-17T15:00:02.716230Z",
     "iopub.execute_input": "2025-07-17T15:00:02.716472Z",
     "iopub.status.idle": "2025-07-17T15:00:02.782938Z",
     "shell.execute_reply.started": "2025-07-17T15:00:02.716454Z",
     "shell.execute_reply": "2025-07-17T15:00:02.782261Z"
    }
   },
   "outputs": [
    {
     "name": "stdout",
     "text": "\n🧠 CNN Test Accuracy: 62.08%\n",
     "output_type": "stream"
    }
   ],
   "execution_count": 105
  },
  {
   "cell_type": "markdown",
   "source": [
    "# EEGNet"
   ],
   "metadata": {}
  },
  {
   "cell_type": "code",
   "source": [
    "class EEGNet(nn.Module):\n",
    "    def __init__(self, num_channels, num_timepoints, num_classes=2):\n",
    "        super(EEGNet, self).__init__()\n",
    "        \n",
    "        self.firstconv = nn.Sequential(\n",
    "            nn.Conv2d(1, 8, kernel_size=(1, 64), padding=(0, 32), bias=False),\n",
    "            nn.BatchNorm2d(8)\n",
    "        )\n",
    "\n",
    "        self.depthwiseConv = nn.Sequential(\n",
    "            nn.Conv2d(8, 16, kernel_size=(num_channels, 1), groups=8, bias=False),\n",
    "            nn.BatchNorm2d(16),\n",
    "            nn.ELU(),\n",
    "            nn.AvgPool2d(kernel_size=(1, 4)),\n",
    "            nn.Dropout(0.25)\n",
    "        )\n",
    "\n",
    "        self.separableConv = nn.Sequential(\n",
    "            nn.Conv2d(16, 16, kernel_size=(1, 16), padding=(0, 8), bias=False),\n",
    "            nn.BatchNorm2d(16),\n",
    "            nn.ELU(),\n",
    "            nn.AvgPool2d(kernel_size=(1, 8)),\n",
    "            nn.Dropout(0.25)\n",
    "        )\n",
    "\n",
    "        self.classify = nn.Linear(16 * ((num_timepoints // 32)), num_classes)\n",
    "\n",
    "    def forward(self, x):\n",
    "        x = self.firstconv(x)\n",
    "        x = self.depthwiseConv(x)\n",
    "        x = self.separableConv(x)\n",
    "        x = x.flatten(start_dim=1)\n",
    "        return self.classify(x)\n"
   ],
   "metadata": {
    "trusted": true,
    "execution": {
     "iopub.status.busy": "2025-07-17T15:02:36.012012Z",
     "iopub.execute_input": "2025-07-17T15:02:36.012320Z",
     "iopub.status.idle": "2025-07-17T15:02:36.019284Z",
     "shell.execute_reply.started": "2025-07-17T15:02:36.012298Z",
     "shell.execute_reply": "2025-07-17T15:02:36.018650Z"
    }
   },
   "outputs": [],
   "execution_count": 106
  },
  {
   "cell_type": "code",
   "source": [
    "model = EEGNet(num_channels=X_cnn.shape[1], num_timepoints=X_cnn.shape[2]).to(device)\n",
    "criterion = nn.CrossEntropyLoss()\n",
    "optimizer = torch.optim.Adam(model.parameters(), lr=0.001)"
   ],
   "metadata": {
    "trusted": true,
    "execution": {
     "iopub.status.busy": "2025-07-17T15:02:43.894860Z",
     "iopub.execute_input": "2025-07-17T15:02:43.895128Z",
     "iopub.status.idle": "2025-07-17T15:02:43.903121Z",
     "shell.execute_reply.started": "2025-07-17T15:02:43.895108Z",
     "shell.execute_reply": "2025-07-17T15:02:43.902368Z"
    }
   },
   "outputs": [],
   "execution_count": 107
  },
  {
   "cell_type": "code",
   "source": [
    "for epoch in range(1, epochs):\n",
    "    model.train()\n",
    "    total_loss = 0\n",
    "    for Xb, yb in train_loader:\n",
    "        Xb, yb = Xb.to(device), yb.to(device)\n",
    "        optimizer.zero_grad()\n",
    "        out = model(Xb)\n",
    "        loss = criterion(out, yb)\n",
    "        loss.backward()\n",
    "        optimizer.step()\n",
    "        total_loss += loss.item()\n",
    "    print(f\"Epoch {epoch}/{epochs-1} - Loss: {total_loss / len(train_loader):.4f}\")\n"
   ],
   "metadata": {
    "trusted": true,
    "execution": {
     "iopub.status.busy": "2025-07-17T15:03:04.983910Z",
     "iopub.execute_input": "2025-07-17T15:03:04.984628Z",
     "iopub.status.idle": "2025-07-17T15:03:16.307085Z",
     "shell.execute_reply.started": "2025-07-17T15:03:04.984601Z",
     "shell.execute_reply": "2025-07-17T15:03:16.306201Z"
    }
   },
   "outputs": [
    {
     "name": "stdout",
     "text": "Epoch 1/30 - Loss: 0.5793\nEpoch 2/30 - Loss: 0.5308\nEpoch 3/30 - Loss: 0.5209\nEpoch 4/30 - Loss: 0.5154\nEpoch 5/30 - Loss: 0.5153\nEpoch 6/30 - Loss: 0.5071\nEpoch 7/30 - Loss: 0.5083\nEpoch 8/30 - Loss: 0.5046\nEpoch 9/30 - Loss: 0.5025\nEpoch 10/30 - Loss: 0.4993\nEpoch 11/30 - Loss: 0.4992\nEpoch 12/30 - Loss: 0.4973\nEpoch 13/30 - Loss: 0.4955\nEpoch 14/30 - Loss: 0.4966\nEpoch 15/30 - Loss: 0.4962\nEpoch 16/30 - Loss: 0.4954\nEpoch 17/30 - Loss: 0.4910\nEpoch 18/30 - Loss: 0.4900\nEpoch 19/30 - Loss: 0.4912\nEpoch 20/30 - Loss: 0.4924\nEpoch 21/30 - Loss: 0.4858\nEpoch 22/30 - Loss: 0.4895\nEpoch 23/30 - Loss: 0.4837\nEpoch 24/30 - Loss: 0.4897\nEpoch 25/30 - Loss: 0.4836\nEpoch 26/30 - Loss: 0.4837\nEpoch 27/30 - Loss: 0.4876\nEpoch 28/30 - Loss: 0.4823\nEpoch 29/30 - Loss: 0.4800\nEpoch 30/30 - Loss: 0.4795\n",
     "output_type": "stream"
    }
   ],
   "execution_count": 108
  },
  {
   "cell_type": "code",
   "source": [
    "model.eval()\n",
    "correct = 0\n",
    "with torch.no_grad():\n",
    "    for Xb, yb in test_loader:\n",
    "        Xb, yb = Xb.to(device), yb.to(device)\n",
    "        preds = model(Xb).argmax(1)\n",
    "        correct += (preds == yb).sum().item()\n",
    "\n",
    "acc = correct / len(test_ds)\n",
    "print(f\"\\n🧠 EEGNet Test Accuracy: {acc * 100:.2f}%\")\n"
   ],
   "metadata": {
    "trusted": true,
    "execution": {
     "iopub.status.busy": "2025-07-17T15:03:18.339386Z",
     "iopub.execute_input": "2025-07-17T15:03:18.339651Z",
     "iopub.status.idle": "2025-07-17T15:03:18.424497Z",
     "shell.execute_reply.started": "2025-07-17T15:03:18.339631Z",
     "shell.execute_reply": "2025-07-17T15:03:18.423868Z"
    }
   },
   "outputs": [
    {
     "name": "stdout",
     "text": "\n🧠 EEGNet Test Accuracy: 74.34%\n",
     "output_type": "stream"
    }
   ],
   "execution_count": 109
  },
  {
   "cell_type": "code",
   "source": [],
   "metadata": {
    "trusted": true
   },
   "outputs": [],
   "execution_count": null
  }
 ]
}
